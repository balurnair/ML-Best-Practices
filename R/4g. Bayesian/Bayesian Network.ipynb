{
 "cells": [
  {
   "cell_type": "markdown",
   "metadata": {},
   "source": [
    "# Bayesian Network"
   ]
  },
  {
   "cell_type": "markdown",
   "metadata": {},
   "source": [
    "<div class=\"list-group\" id=\"list-tab\" role=\"tablist\">\n",
    "  <h3 class=\"list-group-item list-group-item-action active\" data-toggle=\"list\"  role=\"tab\" aria-controls=\"home\">Notebook Content</h3>\n",
    "  <a class=\"list-group-item list-group-item-action\" data-toggle=\"list\" href=\"#Introduction\" role=\"tab\" aria-controls=\"profile\">Introduction<span class=\"badge badge-primary badge-pill\"></span></a>\n",
    "  <a class=\"list-group-item list-group-item-action\" data-toggle=\"list\" href=\"#Bayesian-Structural-Time-Series(BSTS)-Model\" role=\"tab\" aria-controls=\"messages\">Bayesian Time Series<span class=\"badge badge-primary badge-pill\"></span></a>\n",
    "  <a class=\"list-group-item list-group-item-action\"  data-toggle=\"list\" href=\"#Bayesian-Belief-Network\" role=\"tab\" aria-controls=\"settings\">Bayesian Belief Network<span class=\"badge badge-primary badge-pill\"></span></a>\n",
    "    </div>"
   ]
  },
  {
   "cell_type": "markdown",
   "metadata": {},
   "source": [
    "# Introduction\n",
    "\n",
    "Bayesian networks are a type of probabilistic graphical model that uses Bayesian inference for probability computations. Bayesian networks aim to model conditional dependence, and therefore causation, by representing conditional dependence by edges in a directed graph. Through these relationships, one can efficiently conduct inference on the random variables in the graph through the use of factors."
   ]
  },
  {
   "attachments": {
    "image.png": {
     "image/png": "[encoded data removed]"
    }
   },
   "cell_type": "markdown",
   "metadata": {},
   "source": [
    "Before we jump right into it, lets take a moment to discuss the basics of Bayesian theory and how it applies to regression. Ordinarily, If someone wanted to estimate a linear regression of the form:\n",
    "![image.png](attachment:image.png)"
   ]
  },
  {
   "cell_type": "markdown",
   "metadata": {},
   "source": [
    "Let’s take a moment to think about why we would we even want to use Bayesian techniques in the first place. Well, there are a couple of advantages in doing so and these are particularly attractive for time series analysis. One issue when working with time series models is over-fitting particularly when estimating models with large numbers of parameters over relatively short time periods. This is not such a problem in this particular case but certainly can be when looking at multiple variables which is quite common in economic forecasting. One solution to the over-fitting problem, is to take a Bayesian approach which allows us to impose certain priors on our variables."
   ]
  },
  {
   "cell_type": "markdown",
   "metadata": {},
   "source": [
    "<a class=\"list-group-item list-group-item-action\" data-toggle=\"list\" href=\"#Bayesian-Network\" role=\"tab\" aria-controls=\"profile\">Go to top<span class=\"badge badge-primary badge-pill\"></span></a>"
   ]
  },
  {
   "cell_type": "markdown",
   "metadata": {},
   "source": [
    "# Install Packages"
   ]
  },
  {
   "cell_type": "code",
   "execution_count": 1,
   "metadata": {},
   "outputs": [
    {
     "name": "stdout",
     "output_type": "stream",
     "text": [
      "package 'lubridate' successfully unpacked and MD5 sums checked\n"
     ]
    },
    {
     "name": "stderr",
     "output_type": "stream",
     "text": [
      "Warning message:\n",
      "\"cannot remove prior installation of package 'lubridate'\"Warning message in file.copy(savedcopy, lib, recursive = TRUE):\n",
      "\"problem copying C:\\Users\\mohitkumar\\Anaconda3\\envs\\lets_code\\Lib\\R\\library\\00LOCK\\lubridate\\libs\\x64\\lubridate.dll to C:\\Users\\mohitkumar\\Anaconda3\\envs\\lets_code\\Lib\\R\\library\\lubridate\\libs\\x64\\lubridate.dll: Permission denied\"Warning message:\n",
      "\"restored 'lubridate'\""
     ]
    },
    {
     "name": "stdout",
     "output_type": "stream",
     "text": [
      "\n",
      "The downloaded binary packages are in\n",
      "\tC:\\Users\\mohitkumar\\AppData\\Local\\Temp\\RtmpcHHLdu\\downloaded_packages\n"
     ]
    },
    {
     "name": "stderr",
     "output_type": "stream",
     "text": [
      "also installing the dependencies 'BoomSpikeSlab', 'Boom'\n",
      "\n"
     ]
    },
    {
     "name": "stdout",
     "output_type": "stream",
     "text": [
      "package 'BoomSpikeSlab' successfully unpacked and MD5 sums checked\n",
      "package 'Boom' successfully unpacked and MD5 sums checked\n",
      "package 'bsts' successfully unpacked and MD5 sums checked\n",
      "\n",
      "The downloaded binary packages are in\n",
      "\tC:\\Users\\mohitkumar\\AppData\\Local\\Temp\\RtmpcHHLdu\\downloaded_packages\n",
      "package 'ggplot2' successfully unpacked and MD5 sums checked\n",
      "\n",
      "The downloaded binary packages are in\n",
      "\tC:\\Users\\mohitkumar\\AppData\\Local\\Temp\\RtmpcHHLdu\\downloaded_packages\n"
     ]
    },
    {
     "name": "stderr",
     "output_type": "stream",
     "text": [
      "also installing the dependencies 'quadprog', 'fracdiff', 'tseries', 'urca'\n",
      "\n"
     ]
    },
    {
     "name": "stdout",
     "output_type": "stream",
     "text": [
      "package 'quadprog' successfully unpacked and MD5 sums checked\n",
      "package 'fracdiff' successfully unpacked and MD5 sums checked\n",
      "package 'tseries' successfully unpacked and MD5 sums checked\n",
      "package 'urca' successfully unpacked and MD5 sums checked\n",
      "package 'forecast' successfully unpacked and MD5 sums checked\n",
      "\n",
      "The downloaded binary packages are in\n",
      "\tC:\\Users\\mohitkumar\\AppData\\Local\\Temp\\RtmpcHHLdu\\downloaded_packages\n"
     ]
    }
   ],
   "source": [
    "install.packages('lubridate')\n",
    "install.packages('bsts')\n",
    "#install.packages('dplyr')\n",
    "install.packages('ggplot2')\n",
    "install.packages('forecast')\n",
    "options(warn=-1)"
   ]
  },
  {
   "cell_type": "markdown",
   "metadata": {},
   "source": [
    "# Airline Passenger Data\n",
    "An ARIMA Model\n",
    "First, let’s start by fitting a classical ARIMA (autoregressive integrated moving average) model to the famous airline passenger dataset. The ARIMA model has the following characteristics:\n",
    "\n",
    "First order differencing (d=1) and a moving average term (q=1)\n",
    "Seasonal differencing and a seasonal MA term\n",
    "The year of 1960 was used as the holdout period for validation\n",
    "Using a log transformation to model the growth rate"
   ]
  },
  {
   "cell_type": "code",
   "execution_count": 2,
   "metadata": {
    "scrolled": false
   },
   "outputs": [
    {
     "name": "stderr",
     "output_type": "stream",
     "text": [
      "\n",
      "Attaching package: 'lubridate'\n",
      "\n",
      "The following objects are masked from 'package:base':\n",
      "\n",
      "    date, intersect, setdiff, union\n",
      "\n",
      "Loading required package: BoomSpikeSlab\n",
      "Loading required package: Boom\n",
      "Loading required package: MASS\n",
      "\n",
      "Attaching package: 'Boom'\n",
      "\n",
      "The following object is masked from 'package:stats':\n",
      "\n",
      "    rWishart\n",
      "\n",
      "\n",
      "Attaching package: 'BoomSpikeSlab'\n",
      "\n",
      "The following object is masked from 'package:stats':\n",
      "\n",
      "    knots\n",
      "\n",
      "Loading required package: zoo\n",
      "\n",
      "Attaching package: 'zoo'\n",
      "\n",
      "The following objects are masked from 'package:base':\n",
      "\n",
      "    as.Date, as.Date.numeric\n",
      "\n",
      "Loading required package: xts\n",
      "Registered S3 method overwritten by 'xts':\n",
      "  method     from\n",
      "  as.zoo.xts zoo \n",
      "\n",
      "Attaching package: 'bsts'\n",
      "\n",
      "The following object is masked from 'package:BoomSpikeSlab':\n",
      "\n",
      "    SuggestBurn\n",
      "\n",
      "\n",
      "Attaching package: 'dplyr'\n",
      "\n",
      "The following objects are masked from 'package:xts':\n",
      "\n",
      "    first, last\n",
      "\n",
      "The following object is masked from 'package:MASS':\n",
      "\n",
      "    select\n",
      "\n",
      "The following objects are masked from 'package:stats':\n",
      "\n",
      "    filter, lag\n",
      "\n",
      "The following objects are masked from 'package:base':\n",
      "\n",
      "    intersect, setdiff, setequal, union\n",
      "\n",
      "Registered S3 method overwritten by 'quantmod':\n",
      "  method            from\n",
      "  as.zoo.data.frame zoo \n"
     ]
    },
    {
     "data": {
      "image/png": "[encoded data removed]",
      "text/plain": [
       "plot without title"
      ]
     },
     "metadata": {},
     "output_type": "display_data"
    }
   ],
   "source": [
    "# https://multithreaded.stitchfix.com/blog/2016/04/21/forget-arima/\n",
    "library(lubridate)\n",
    "library(bsts)\n",
    "library(dplyr)\n",
    "library(ggplot2)\n",
    "library(forecast)\n",
    "options(warn=-1)\n",
    "\n",
    "### Load the data\n",
    "data(\"AirPassengers\")\n",
    "Y <- window(AirPassengers, start=c(1949, 1), end=c(1959,12))\n",
    "\n",
    "### Fit the ARIMA model\n",
    "arima <- arima(log10(Y), \n",
    "               order=c(0, 1, 1), \n",
    "               seasonal=list(order=c(0,1,1), period=12))\n",
    "\n",
    "### Actual versus predicted\n",
    "d1 <- data.frame(c(10^as.numeric(fitted(arima)), # fitted and predicted\n",
    "                   10^as.numeric(predict(arima, n.ahead = 12)$pred)),\n",
    "                   as.numeric(AirPassengers), #actual values\n",
    "                   as.Date(time(AirPassengers)))\n",
    "names(d1) <- c(\"Fitted\", \"Actual\", \"Date\")\n",
    "\n",
    "\n",
    "### MAPE (mean absolute percentage error)\n",
    "MAPE <- filter(d1, year(Date)>1959) %>% summarise(MAPE=mean(abs(Actual-Fitted)/Actual))\n",
    "\n",
    "### Plot actual versus predicted\n",
    "ggplot(data=d1, aes(x=Date)) +\n",
    "  geom_line(aes(y=Actual, colour = \"Actual\"), size=1.2) +\n",
    "  geom_line(aes(y=Fitted, colour = \"Fitted\"), size=1.2, linetype=2) +\n",
    "  theme_bw() + theme(legend.title = element_blank()) + \n",
    "  ylab(\"\") + xlab(\"\") +\n",
    "  geom_vline(xintercept=as.numeric(as.Date(\"1959-12-01\")), linetype=2) +\n",
    "  ggtitle(paste0(\"ARIMA -- Holdout MAPE = \", round(100*MAPE,2), \"%\")) + \n",
    "  theme(axis.text.x=element_text(angle = -90, hjust = 0))\n"
   ]
  },
  {
   "cell_type": "markdown",
   "metadata": {},
   "source": [
    "This model predicts the holdout period quite well as measured by the MAPE (mean absolute percentage error). However, the model does not tell us much about the time series itself. In other words, we cannot visualize the “story” of the model. All we know is that we can fit the data well using a combination of moving averages and lagged terms."
   ]
  },
  {
   "cell_type": "markdown",
   "metadata": {},
   "source": [
    "# Bayesian Structural Time Series(BSTS) Model\n",
    "A different approach would be to use a Bayesian structural time series model with unobserved components. This technique is more transparent than ARIMA models and deals with uncertainty in a more elegant manner. It is more transparent because its representation does not rely on differencing, lags and moving averages. You can visually inspect the underlying components of the model. It handles uncertainty in a better way because you can quantify the posterior uncertainty of the individual components, control the variance of the components, and impose prior beliefs on the model. Last, but not least, any ARIMA model can be recast as a structural model.\n",
    "\n",
    "Generally, we can write a Bayesian structural model like this:\n",
    "\n",
    "Yt=μt+xtβ+St+et,et∼N(0,σ2e)\n",
    "\n",
    "μt+1=μt+νt,νt∼N(0,σ2ν).\n",
    "\n",
    "Here xt denotes a set of regressors, St represents seasonality, and μt is the local level term. The local level term defines how the latent state evolves over time and is often referred to as the unobserved trend. This could, for example, represent an underlying growth in the brand value of a company or external factors that are hard to pinpoint, but it can also soak up short term fluctuations that should be controlled for with explicit terms. Note that the regressor coefficients, seasonality and trend are estimated simultaneously, which helps avoid strange coefficient estimates due to spurious relationships (similar in spirit to Granger causality, see 1). In addition, due to the Bayesian nature of the model, we can shrink the elements of β to promote sparsity or specify outside priors for the means in case we’re not able to get meaningful estimates from the historical data (more on this later).\n",
    "\n",
    "The airline passenger dataset does not have any regressors, and so we’ll fit a simple Bayesian structural model:\n",
    "\n",
    "* 500 MCMC draws\n",
    "* Use 1960 as the holdout period\n",
    "* Trend and seasonality\n",
    "* Forecast created by averaging across the MCMC draws\n",
    "* Credible interval generated from the distribution of the MCMC draws\n",
    "* Discarding the first MCMC iterations (burn-in)\n",
    "* Using a log transformation to make the model multiplicative"
   ]
  },
  {
   "cell_type": "markdown",
   "metadata": {},
   "source": [
    "### Components of BSTS"
   ]
  },
  {
   "cell_type": "markdown",
   "metadata": {},
   "source": [
    "**add.local.linear.trend:** Local linear trend state component\n",
    "\n",
    "Add a local linear trend model to a state specification. The local linear trend model assumes that both the mean and the slope of the trend follow random walks. The equation for the mean is\n",
    "\n",
    "mu[t+1] = mu[t] + delta[t] + rnorm(1, 0, sigma.level).\n",
    "\n",
    "The equation for the slope is\n",
    "\n",
    "delta[t+1] = delta[t] + rnorm(1, 0, sigma.slope).\n",
    "\n",
    "The prior distribution is on the level standard deviation sigma.level and the slope standard deviation sigma.slope.\n",
    "\n",
    "Reference:https://rdrr.io/cran/bsts/man/add.local.linear.trend.html"
   ]
  },
  {
   "cell_type": "markdown",
   "metadata": {},
   "source": [
    "**add.seasonal:** Seasonal State Component\n",
    "\n",
    "Add a seasonal model to a state specification.\n",
    "\n",
    "The seasonal model can be thought of as a regression on nseasons dummy variables with coefficients constrained to sum to 1 (in expectation). If there are S seasons then the state vector gamma is of dimension S-1. The first element of the state vector obeys\n",
    "\n",
    "gamma[t+1, 1] = -1 * sum(gamma[t, -1]) + rnorm(1, 0, sigma)\n",
    "\n",
    "Reference: https://rdrr.io/cran/bsts/man/add.seasonal.html"
   ]
  },
  {
   "cell_type": "code",
   "execution_count": 1,
   "metadata": {
    "scrolled": false
   },
   "outputs": [
    {
     "name": "stderr",
     "output_type": "stream",
     "text": [
      "\n",
      "Attaching package: 'lubridate'\n",
      "\n",
      "The following object is masked from 'package:base':\n",
      "\n",
      "    date\n",
      "\n",
      "Warning message:\n",
      "\"package 'bsts' was built under R version 3.6.3\"Loading required package: BoomSpikeSlab\n",
      "Warning message:\n",
      "\"package 'BoomSpikeSlab' was built under R version 3.6.3\"Loading required package: Boom\n",
      "Warning message:\n",
      "\"package 'Boom' was built under R version 3.6.3\"Loading required package: MASS\n",
      "\n",
      "Attaching package: 'Boom'\n",
      "\n",
      "The following object is masked from 'package:stats':\n",
      "\n",
      "    rWishart\n",
      "\n",
      "\n",
      "Attaching package: 'BoomSpikeSlab'\n",
      "\n",
      "The following object is masked from 'package:stats':\n",
      "\n",
      "    knots\n",
      "\n",
      "Loading required package: zoo\n",
      "\n",
      "Attaching package: 'zoo'\n",
      "\n",
      "The following objects are masked from 'package:base':\n",
      "\n",
      "    as.Date, as.Date.numeric\n",
      "\n",
      "Loading required package: xts\n",
      "Registered S3 method overwritten by 'xts':\n",
      "  method     from\n",
      "  as.zoo.xts zoo \n",
      "\n",
      "Attaching package: 'bsts'\n",
      "\n",
      "The following object is masked from 'package:BoomSpikeSlab':\n",
      "\n",
      "    SuggestBurn\n",
      "\n",
      "Warning message:\n",
      "\"package 'dplyr' was built under R version 3.6.2\"\n",
      "Attaching package: 'dplyr'\n",
      "\n",
      "The following objects are masked from 'package:xts':\n",
      "\n",
      "    first, last\n",
      "\n",
      "The following object is masked from 'package:MASS':\n",
      "\n",
      "    select\n",
      "\n",
      "The following objects are masked from 'package:lubridate':\n",
      "\n",
      "    intersect, setdiff, union\n",
      "\n",
      "The following objects are masked from 'package:stats':\n",
      "\n",
      "    filter, lag\n",
      "\n",
      "The following objects are masked from 'package:base':\n",
      "\n",
      "    intersect, setdiff, setequal, union\n",
      "\n",
      "Warning message:\n",
      "\"package 'ggplot2' was built under R version 3.6.3\""
     ]
    },
    {
     "data": {
      "image/png": "[encoded data removed]",
      "text/plain": [
       "plot without title"
      ]
     },
     "metadata": {},
     "output_type": "display_data"
    }
   ],
   "source": [
    "library(lubridate)\n",
    "library(bsts)\n",
    "library(dplyr)\n",
    "library(ggplot2)\n",
    "\n",
    "### Load the data\n",
    "data(\"AirPassengers\")\n",
    "Y <- window(AirPassengers, start=c(1949, 1), end=c(1959,12))\n",
    "y <- log10(Y)\n",
    "\n",
    "\n",
    "### Run the bsts model\n",
    "ss <- AddLocalLinearTrend(list(), y)\n",
    "ss <- AddSeasonal(ss, y, nseasons = 12)\n",
    "bsts.model <- bsts(y, state.specification = ss, niter = 500, ping=0, seed=2016)\n",
    "\n",
    "### Get a suggested number of burn-ins\n",
    "burn <- SuggestBurn(0.1, bsts.model)\n",
    "\n",
    "### Predict\n",
    "p <- predict.bsts(bsts.model, horizon = 12, burn = burn, quantiles = c(.025, .975))\n",
    "\n",
    "### Actual versus predicted\n",
    "d2 <- data.frame(\n",
    "    # fitted values and predictions\n",
    "    c(10^as.numeric(-colMeans(bsts.model$one.step.prediction.errors[-(1:burn),])+y),  \n",
    "    10^as.numeric(p$mean)),\n",
    "    # actual data and dates \n",
    "    as.numeric(AirPassengers),\n",
    "    as.Date(time(AirPassengers)))\n",
    "names(d2) <- c(\"Fitted\", \"Actual\", \"Date\")\n",
    "\n",
    "### MAPE (mean absolute percentage error)\n",
    "MAPE <- filter(d2, year(Date)>1959) %>% summarise(MAPE=mean(abs(Actual-Fitted)/Actual))\n",
    "\n",
    "### 95% forecast credible interval\n",
    "posterior.interval <- cbind.data.frame(\n",
    "  10^as.numeric(p$interval[1,]),\n",
    "  10^as.numeric(p$interval[2,]), \n",
    "  subset(d2, year(Date)>1959)$Date)\n",
    "names(posterior.interval) <- c(\"LL\", \"UL\", \"Date\")\n",
    "\n",
    "### Join intervals to the forecast\n",
    "d3 <- left_join(d2, posterior.interval, by=\"Date\")\n",
    "\n",
    "### Plot actual versus predicted with credible intervals for the holdout period\n",
    "ggplot(data=d3, aes(x=Date)) +\n",
    "  geom_line(aes(y=Actual, colour = \"Actual\"), size=1.2) +\n",
    "  geom_line(aes(y=Fitted, colour = \"Fitted\"), size=1.2, linetype=2) +\n",
    "  theme_bw() + theme(legend.title = element_blank()) + ylab(\"\") + xlab(\"\") +\n",
    "  geom_vline(xintercept=as.numeric(as.Date(\"1959-12-01\")), linetype=2) + \n",
    "  geom_ribbon(aes(ymin=LL, ymax=UL), fill=\"grey\", alpha=0.5) +\n",
    "  ggtitle(paste0(\"BSTS -- Holdout MAPE = \", round(100*MAPE,2), \"%\")) +\n",
    "  theme(axis.text.x=element_text(angle = -90, hjust = 0))"
   ]
  },
  {
   "cell_type": "markdown",
   "metadata": {},
   "source": [
    "## Side Notes on the bsts Examples in this Post\n",
    "* When building Bayesian models we get a distribution and not a single answer. Thus, the bsts package returns results (e.g., forecasts and components) as matrices or arrays where the first dimension holds the MCMC iterations.\n",
    "* Most of the plots in this post show point estimates from averaging (using the colMeans function). But it’s very easy to get distributions from the MCMC draws, and this is recommended in real life to better quantify uncertainty.\n",
    "* For visualization, I went with ggplot for this example in order to demonstrate how to retrieve the output for custom plotting. Alternatively, we can simply use the plot.bsts function that comes with the bsts package.\n",
    "\n",
    "Note that the predict.bsts function automatically supplies the upper and lower limits for a credible interval (95% in our case). We can also access the distribution for all MCMC draws by grabbing the distribution matrix (instead of interval). Each row in this matrix is one MCMC draw. Here’s an example of how to calculate percentiles from the posterior distribution:"
   ]
  },
  {
   "cell_type": "code",
   "execution_count": 4,
   "metadata": {},
   "outputs": [],
   "source": [
    "credible.interval <- cbind.data.frame(\n",
    "  10^as.numeric(apply(p$distribution, 2,function(f){quantile(f,0.75)})),\n",
    "  10^as.numeric(apply(p$distribution, 2,function(f){median(f)})),\n",
    "  10^as.numeric(apply(p$distribution, 2,function(f){quantile(f,0.25)})),\n",
    "  subset(d3, year(Date)>1959)$Date)\n",
    "names(credible.interval) <- c(\"p75\", \"Median\", \"p25\", \"Date\")"
   ]
  },
  {
   "cell_type": "markdown",
   "metadata": {},
   "source": [
    "Although the holdout MAPE (mean absolute percentage error) is larger than the ARIMA model for this specific dataset (and default settings), the bsts model does a great job of capturing the growth and seasonality of the air passengers time series. Moreover, one of the big advantages of the Bayesian structural model is that we can visualize the underlying components. In this example, we’re using ggplot to plot the average of the MCMC draws for the trend and the seasonal components:"
   ]
  },
  {
   "cell_type": "code",
   "execution_count": 5,
   "metadata": {},
   "outputs": [
    {
     "data": {
      "image/png": "[encoded data removed]",
      "text/plain": [
       "plot without title"
      ]
     },
     "metadata": {},
     "output_type": "display_data"
    }
   ],
   "source": [
    "library(lubridate)\n",
    "library(bsts)\n",
    "library(ggplot2)\n",
    "library(reshape2)\n",
    "\n",
    "### Set up the model\n",
    "data(\"AirPassengers\")\n",
    "Y <- window(AirPassengers, start=c(1949, 1), end=c(1959,12))\n",
    "y <- log10(Y)\n",
    "ss <- AddLocalLinearTrend(list(), y)\n",
    "ss <- AddSeasonal(ss, y, nseasons = 12)\n",
    "bsts.model <- bsts(y, state.specification = ss, niter = 500, ping=0, seed=2016)\n",
    "\n",
    "### Get a suggested number of burn-ins\n",
    "burn <- SuggestBurn(0.1, bsts.model)\n",
    "\n",
    "### Extract the components\n",
    "components <- cbind.data.frame(\n",
    "  colMeans(bsts.model$state.contributions[-(1:burn),\"trend\",]),                               \n",
    "  colMeans(bsts.model$state.contributions[-(1:burn),\"seasonal.12.1\",]),\n",
    "  as.Date(time(Y)))  \n",
    "names(components) <- c(\"Trend\", \"Seasonality\", \"Date\")\n",
    "components <- melt(components, id=\"Date\")\n",
    "names(components) <- c(\"Date\", \"Component\", \"Value\")\n",
    "\n",
    "### Plot\n",
    "ggplot(data=components, aes(x=Date, y=Value)) + geom_line() + \n",
    "  theme_bw() + theme(legend.title = element_blank()) + ylab(\"\") + xlab(\"\") + \n",
    "  facet_grid(Component ~ ., scales=\"free\") + guides(colour=FALSE) + \n",
    "  theme(axis.text.x=element_text(angle = -90, hjust = 0))"
   ]
  },
  {
   "cell_type": "markdown",
   "metadata": {},
   "source": [
    "Here we can clearly the seasonal pattern of airline passengers as well as how the airline industry grew during this period."
   ]
  },
  {
   "cell_type": "markdown",
   "metadata": {},
   "source": [
    "# Bayesian Variable Selection\n",
    "Another advantage of Bayesian structural models is the ability to use spike-and-slab priors. This provides a powerful way of reducing a large set of correlated variables into a parsimonious model, while also imposing prior beliefs on the model. Furthermore, by using priors on the regressor coefficients, the model incorporates uncertainties of the coefficient estimates when producing the credible interval for the forecasts.\n",
    "\n",
    "As the name suggests, spike and slab priors consist of two parts: the spike part and the slab part. The spike part governs the probability of a given variable being chosen for the model (i.e., having a non-zero coefficient). The slab part shrinks the non-zero coefficients toward prior expectations (often zero). To see how this works, let τ denote a vector of 1s and 0s where a value of 1 indicates that the variable is selected (non-zero coefficient). We can factorize the spike and slab prior as follows (see 1) :\n",
    "\n",
    "p(τ,β,1/σ2ϵ)=p(τ)p(σ2ϵ | τ)p(β | τ,σ2ϵ)\n",
    "\n",
    "The probability of choosing a given variable is typically assumed to follow a Bernoulli distribution where the parameter can be set according to the expected model size. For example, if the expected model size is 5 and we have 50 potential variables, we could set all spike parameters equal to 0.1. Alternatively, we can also set individual spike parameters to 0 or 1 to force certain variables in or out of the model.\n",
    "\n",
    "For the slab part, a normal prior is used for β which leads to an inverse Gamma prior for σ2ϵ. The mean is specified through the prior expectations for β (zero by default). The tightness of the priors can be expressed in terms of observations worth of weight (demonstrated later). For more technical information see 1 ."
   ]
  },
  {
   "cell_type": "markdown",
   "metadata": {},
   "source": [
    "# Using Spike and Slab Priors for the Initial Claims Data\n",
    "Here’s an example of fitting a model to the initial claims data, which is a weekly time series of US initial claims for unemployment (the first column is the dependent variable, which contains the initial claims numbers from FRED). The model has a trend component, a seasonal component, and a regression component.\n",
    "\n",
    "For model selection, we are essentially using the “spike” part of the algorithm to select variables and the “slab” part to shrink the coefficients towards zero (akin to ridge regression)."
   ]
  },
  {
   "cell_type": "code",
   "execution_count": 2,
   "metadata": {},
   "outputs": [
    {
     "name": "stderr",
     "output_type": "stream",
     "text": [
      "\n",
      "Attaching package: 'lubridate'\n",
      "\n",
      "The following object is masked from 'package:base':\n",
      "\n",
      "    date\n",
      "\n",
      "Loading required package: BoomSpikeSlab\n",
      "Loading required package: Boom\n",
      "Loading required package: MASS\n",
      "\n",
      "Attaching package: 'Boom'\n",
      "\n",
      "The following object is masked from 'package:stats':\n",
      "\n",
      "    rWishart\n",
      "\n",
      "\n",
      "Attaching package: 'BoomSpikeSlab'\n",
      "\n",
      "The following object is masked from 'package:stats':\n",
      "\n",
      "    knots\n",
      "\n",
      "Loading required package: zoo\n",
      "\n",
      "Attaching package: 'zoo'\n",
      "\n",
      "The following objects are masked from 'package:base':\n",
      "\n",
      "    as.Date, as.Date.numeric\n",
      "\n",
      "Loading required package: xts\n",
      "Registered S3 method overwritten by 'xts':\n",
      "  method     from\n",
      "  as.zoo.xts zoo \n",
      "\n",
      "Attaching package: 'bsts'\n",
      "\n",
      "The following object is masked from 'package:BoomSpikeSlab':\n",
      "\n",
      "    SuggestBurn\n",
      "\n"
     ]
    },
    {
     "data": {
      "image/png": "[encoded data removed]",
      "text/plain": [
       "plot without title"
      ]
     },
     "metadata": {},
     "output_type": "display_data"
    }
   ],
   "source": [
    "library(lubridate)\n",
    "library(bsts)\n",
    "library(ggplot2)\n",
    "library(reshape2)\n",
    "\n",
    "### Fit the model with regressors\n",
    "data(iclaims)\n",
    "## Description of data set can be accessed by using Shift + Tab\n",
    "ss <- AddLocalLinearTrend(list(), initial.claims$iclaimsNSA)\n",
    "ss <- AddSeasonal(ss, initial.claims$iclaimsNSA, nseasons = 52)\n",
    "bsts.reg <- bsts(iclaimsNSA ~ ., state.specification = ss, data =\n",
    "                initial.claims, niter = 500, ping=0, seed=2016)\n",
    "\n",
    "### Get the number of burn-ins to discard\n",
    "burn <- SuggestBurn(0.1, bsts.reg)\n",
    "\n",
    "### Helper function to get the positive mean of a vector\n",
    "PositiveMean <- function(b) {\n",
    "  b <- b[abs(b) > 0]\n",
    "  if (length(b) > 0) \n",
    "    return(mean(b))\n",
    "  return(0)\n",
    "}\n",
    "\n",
    "### Get the average coefficients when variables were selected (non-zero slopes)\n",
    "coeff <- data.frame(melt(apply(bsts.reg$coefficients[-(1:burn),], 2, PositiveMean)))\n",
    "coeff$Variable <- as.character(row.names(coeff))\n",
    "ggplot(data=coeff, aes(x=Variable, y=value)) + \n",
    "  geom_bar(stat=\"identity\", position=\"identity\") + \n",
    "  theme(axis.text.x=element_text(angle = -90, hjust = 0)) +\n",
    "  xlab(\"\") + ylab(\"\") + ggtitle(\"Average coefficients\")"
   ]
  },
  {
   "cell_type": "code",
   "execution_count": 7,
   "metadata": {},
   "outputs": [
    {
     "data": {
      "image/png": "[encoded data removed]",
      "text/plain": [
       "plot without title"
      ]
     },
     "metadata": {},
     "output_type": "display_data"
    }
   ],
   "source": [
    "### Inclusion probabilities -- i.e., how often were the variables selected \n",
    "inclusionprobs <- melt(colMeans(bsts.reg$coefficients[-(1:burn),] != 0))\n",
    "inclusionprobs$Variable <- as.character(row.names(inclusionprobs))\n",
    "ggplot(data=inclusionprobs, aes(x=Variable, y=value)) + \n",
    "  geom_bar(stat=\"identity\", position=\"identity\") + \n",
    "  theme(axis.text.x=element_text(angle = -90, hjust = 0)) + \n",
    "  xlab(\"\") + ylab(\"\") + ggtitle(\"Inclusion probabilities\")"
   ]
  },
  {
   "cell_type": "markdown",
   "metadata": {},
   "source": [
    "The output shows that the model is dominated by two variables: unemployment.office and idaho.unemployment. These variables have the largest average coefficients and were selected in 100% of models. Note that if we want to inspect the distributions of the coefficients, we can can simply calculate quantiles instead of the mean inside the helper function above:"
   ]
  },
  {
   "cell_type": "code",
   "execution_count": 8,
   "metadata": {},
   "outputs": [],
   "source": [
    "P75 <- function(b) {\n",
    "  b <- b[abs(b) > 0]\n",
    "  if (length(b) > 0) \n",
    "    return(quantile(b, 0.75))\n",
    "  return(0)\n",
    "}\n",
    "\n",
    "p75 <- data.frame(melt(apply(bsts.reg$coefficients[-(1:burn),], 2, P75)))"
   ]
  },
  {
   "cell_type": "markdown",
   "metadata": {},
   "source": [
    "And we can easily visualize the overall contribution of these variables to the model:"
   ]
  },
  {
   "cell_type": "code",
   "execution_count": 9,
   "metadata": {},
   "outputs": [
    {
     "data": {
      "image/png": "[encoded data removed]",
      "text/plain": [
       "plot without title"
      ]
     },
     "metadata": {},
     "output_type": "display_data"
    }
   ],
   "source": [
    "library(lubridate)\n",
    "library(bsts)\n",
    "library(ggplot2)\n",
    "library(reshape2)\n",
    "\n",
    "### Fit the model with regressors\n",
    "data(iclaims)\n",
    "## Description of data set can be accessed by using Shift + Tab\n",
    "ss <- AddLocalLinearTrend(list(), initial.claims$iclaimsNSA)\n",
    "ss <- AddSeasonal(ss, initial.claims$iclaimsNSA, nseasons = 52)\n",
    "bsts.reg <- bsts(iclaimsNSA ~ ., state.specification = ss, data =\n",
    "                initial.claims, niter = 500, ping=0, seed=2016)\n",
    "\n",
    "### Get the number of burn-ins to discard\n",
    "burn <- SuggestBurn(0.1, bsts.reg)\n",
    "\n",
    "### Get the components\n",
    "components.withreg <- cbind.data.frame(\n",
    "  colMeans(bsts.reg$state.contributions[-(1:burn),\"trend\",]),\n",
    "  colMeans(bsts.reg$state.contributions[-(1:burn),\"seasonal.52.1\",]),\n",
    "  colMeans(bsts.reg$state.contributions[-(1:burn),\"regression\",]),\n",
    "  as.Date(time(initial.claims)))  \n",
    "names(components.withreg) <- c(\"Trend\", \"Seasonality\", \"Regression\", \"Date\")\n",
    "components.withreg <- melt(components.withreg, id.vars=\"Date\")\n",
    "names(components.withreg) <- c(\"Date\", \"Component\", \"Value\")\n",
    "\n",
    "ggplot(data=components.withreg, aes(x=Date, y=Value)) + geom_line() + \n",
    "  theme_bw() + theme(legend.title = element_blank()) + ylab(\"\") + xlab(\"\") + \n",
    "  facet_grid(Component ~ ., scales=\"free\") + guides(colour=FALSE) + \n",
    "  theme(axis.text.x=element_text(angle = -90, hjust = 0))"
   ]
  },
  {
   "cell_type": "code",
   "execution_count": 1,
   "metadata": {},
   "outputs": [
    {
     "name": "stderr",
     "output_type": "stream",
     "text": [
      "starting httpd help server ... done\n"
     ]
    }
   ],
   "source": [
    "??AddSeasonal"
   ]
  },
  {
   "cell_type": "markdown",
   "metadata": {},
   "source": [
    "# Including Prior Expectations in the Model\n",
    "In the example above, we used the spike-and-slab prior as a way to select variables and promote sparsity. However, we can also use this framework to impose prior beliefs on the model. These prior beliefs could come from an outside study or a previous version of the model. This is a common use-case in time series regression; we cannot always rely on the data at hand to tell you how known business drivers affect the outcome.\n",
    "\n",
    "In the bsts package, this is done by passing a prior object as created by the SpikeSlabPrior function. In this example we are specifying a prior of 0.6 on the variable called unemployment.office and forcing this variable to be selected by setting its prior spike parameter to 1. We’re giving our priors a weight of 200 (measured in observation count), which is fairly large given that the dataset has 456 records. Hence we should expect the posterior to be very close to 0.6."
   ]
  },
  {
   "cell_type": "code",
   "execution_count": 10,
   "metadata": {},
   "outputs": [
    {
     "data": {
      "image/png": "[encoded data removed]",
      "text/plain": [
       "plot without title"
      ]
     },
     "metadata": {},
     "output_type": "display_data"
    }
   ],
   "source": [
    "library(lubridate)\n",
    "library(bsts)\n",
    "library(ggplot2)\n",
    "library(reshape2)\n",
    "\n",
    "data(iclaims)\n",
    "## Description of data set can be accessed by using Shift + Tab\n",
    "prior.spikes <- c(0.1,0.1,0.1,0.1,0.1,0.1,0.1,0.1,0.1,1,0.1)\n",
    "prior.mean <- c(0,0,0,0,0,0,0,0,0,0.6,0)\n",
    "\n",
    "### Helper function to get the positive mean of a vector\n",
    "PositiveMean <- function(b) {\n",
    "  b <- b[abs(b) > 0]\n",
    "  if (length(b) > 0) \n",
    "    return(mean(b))\n",
    "  return(0)\n",
    "}\n",
    "\n",
    "### Set up the priors\n",
    "prior <- SpikeSlabPrior(x=model.matrix(iclaimsNSA ~ ., data=initial.claims), \n",
    "                        y=initial.claims$iclaimsNSA, \n",
    "                        prior.information.weight = 200,\n",
    "                        prior.inclusion.probabilities = prior.spikes,\n",
    "                        optional.coefficient.estimate = prior.mean)\n",
    "                        \n",
    "### Run the bsts model with the specified priors\n",
    "data(iclaims)\n",
    "ss <- AddLocalLinearTrend(list(), initial.claims$iclaimsNSA)\n",
    "ss <- AddSeasonal(ss, initial.claims$iclaimsNSA, nseasons = 52)\n",
    "bsts.reg.priors <- bsts(iclaimsNSA ~ ., state.specification = ss, \n",
    "                        data = initial.claims, \n",
    "                        niter = 500, \n",
    "                        prior=prior, \n",
    "                        ping=0, seed=2016)\n",
    "\n",
    "\n",
    "### Get the average coefficients when variables were selected (non-zero slopes)\n",
    "coeff <- data.frame(melt(apply(bsts.reg.priors$coefficients[-(1:burn),], 2, PositiveMean)))\n",
    "coeff$Variable <- as.character(row.names(coeff))\n",
    "ggplot(data=coeff, aes(x=Variable, y=value)) + \n",
    "  geom_bar(stat=\"identity\", position=\"identity\") + \n",
    "  theme(axis.text.x=element_text(angle = -90, hjust = 0)) + \n",
    "  xlab(\"\") + ylab(\"\")"
   ]
  },
  {
   "cell_type": "markdown",
   "metadata": {},
   "source": [
    "As we can see, the posterior for unemployment.office is being forced towards 0.6 due to the strong prior belief that we imposed on the coefficient."
   ]
  },
  {
   "cell_type": "markdown",
   "metadata": {},
   "source": [
    "# Last Words\n",
    "Bayesian structural time series models possess three key features for modeling time series data:\n",
    "\n",
    "* Ability to incorporate uncertainty into our forecasts so we quantify future risk\n",
    "* Transparency, so we can truly understand how the model works\n",
    "* Ability to incorporate outside information for known business drivers when we cannot extract the relationships from the data at hand\n",
    "\n",
    "Having said that, there is no silver bullet when it comes to forecasting and scenario planning. No tool or method can remove the embedded uncertainty or extract clear signals from murky or limited data. Bayesian structural modeling merely maximizes your chances of success."
   ]
  },
  {
   "cell_type": "markdown",
   "metadata": {},
   "source": [
    "<a class=\"list-group-item list-group-item-action\" data-toggle=\"list\" href=\"#Bayesian-Network\" role=\"tab\" aria-controls=\"profile\">Go to top<span class=\"badge badge-primary badge-pill\"></span></a>"
   ]
  },
  {
   "attachments": {
    "image.png": {
     "image/png": "[encoded data removed]"
    }
   },
   "cell_type": "markdown",
   "metadata": {},
   "source": [
    "# Bayesian Belief Network\n",
    "\n",
    "#### Mathematical Definition of Belief Networks\n",
    "\n",
    "![image.png](attachment:image.png)"
   ]
  },
  {
   "cell_type": "markdown",
   "metadata": {},
   "source": [
    "Bayesian networks (BNs) are a type of graphical model that encode the conditional probability between different learning variables in a directed acyclic graph. There are benefits to using BNs compared to other unsupervised machine learning techniques. A few of these benefits are:\n",
    "1. It is easy to exploit expert knowledge in BN models. \n",
    "2. BN models have been found to be very robust in the sense of i) noisy data, ii) missing data and iii) sparse data. \n",
    "3. Unlike many machine learning models (including Artificial Neural Network), which usually appear as a “black box,” all the parameters in BNs have an understandable semantic interpretation. "
   ]
  },
  {
   "cell_type": "markdown",
   "metadata": {},
   "source": [
    "# Problem Statement\n",
    "\n",
    "To understand the interdependence relation of each of the factors in a dataset which keeps on changing on the value of evidences."
   ]
  },
  {
   "cell_type": "code",
   "execution_count": 1,
   "metadata": {},
   "outputs": [
    {
     "name": "stderr",
     "output_type": "stream",
     "text": [
      "Warning message:\n",
      "\"package 'bnlearn' was built under R version 3.6.3\""
     ]
    }
   ],
   "source": [
    "# importing the libraries\n",
    "library(bnlearn)"
   ]
  },
  {
   "cell_type": "code",
   "execution_count": 2,
   "metadata": {},
   "outputs": [],
   "source": [
    "# importing dataset\n",
    "data(coronary)"
   ]
  },
  {
   "cell_type": "markdown",
   "metadata": {},
   "source": [
    "This data contains the following information:\n",
    "\n",
    "**Smoking (smoking):** a two-level factor with levels no and yes.                                                        \n",
    "**M. Work (strenuous mental work):** a two-level factor with levels no and yes.                               \n",
    "**P. Work (strenuous physical work):** a two-level factor with levels no and yes.                                 \n",
    "**Pressure (systolic blood pressure):** a two-level factor with levels <140 and >140.                               \n",
    "**Proteins (ratio of beta and alpha lipoproteins):** a two-level factor with levels.                             \n",
    "**Family (family anamnesis of coronary heart disease):** a two-level factor with levels neg and pos."
   ]
  },
  {
   "cell_type": "code",
   "execution_count": 3,
   "metadata": {},
   "outputs": [
    {
     "data": {
      "text/html": [
       "<table>\n",
       "<thead><tr><th scope=col>Smoking</th><th scope=col>M. Work</th><th scope=col>P. Work</th><th scope=col>Pressure</th><th scope=col>Proteins</th><th scope=col>Family</th></tr></thead>\n",
       "<tbody>\n",
       "\t<tr><td>no     </td><td>no     </td><td>no     </td><td>&lt;140</td><td>&lt;3  </td><td>neg    </td></tr>\n",
       "\t<tr><td>no     </td><td>no     </td><td>no     </td><td>&lt;140</td><td>&lt;3  </td><td>neg    </td></tr>\n",
       "\t<tr><td>no     </td><td>no     </td><td>no     </td><td>&lt;140</td><td>&lt;3  </td><td>neg    </td></tr>\n",
       "\t<tr><td>no     </td><td>no     </td><td>no     </td><td>&lt;140</td><td>&lt;3  </td><td>neg    </td></tr>\n",
       "\t<tr><td>no     </td><td>no     </td><td>no     </td><td>&lt;140</td><td>&lt;3  </td><td>neg    </td></tr>\n",
       "\t<tr><td>no     </td><td>no     </td><td>no     </td><td>&lt;140</td><td>&lt;3  </td><td>neg    </td></tr>\n",
       "</tbody>\n",
       "</table>\n"
      ],
      "text/latex": [
       "\\begin{tabular}{r|llllll}\n",
       " Smoking & M. Work & P. Work & Pressure & Proteins & Family\\\\\n",
       "\\hline\n",
       "\t no   & no   & no   & <140 & <3   & neg \\\\\n",
       "\t no   & no   & no   & <140 & <3   & neg \\\\\n",
       "\t no   & no   & no   & <140 & <3   & neg \\\\\n",
       "\t no   & no   & no   & <140 & <3   & neg \\\\\n",
       "\t no   & no   & no   & <140 & <3   & neg \\\\\n",
       "\t no   & no   & no   & <140 & <3   & neg \\\\\n",
       "\\end{tabular}\n"
      ],
      "text/markdown": [
       "\n",
       "| Smoking | M. Work | P. Work | Pressure | Proteins | Family |\n",
       "|---|---|---|---|---|---|\n",
       "| no   | no   | no   | <140 | <3   | neg  |\n",
       "| no   | no   | no   | <140 | <3   | neg  |\n",
       "| no   | no   | no   | <140 | <3   | neg  |\n",
       "| no   | no   | no   | <140 | <3   | neg  |\n",
       "| no   | no   | no   | <140 | <3   | neg  |\n",
       "| no   | no   | no   | <140 | <3   | neg  |\n",
       "\n"
      ],
      "text/plain": [
       "  Smoking M. Work P. Work Pressure Proteins Family\n",
       "1 no      no      no      <140     <3       neg   \n",
       "2 no      no      no      <140     <3       neg   \n",
       "3 no      no      no      <140     <3       neg   \n",
       "4 no      no      no      <140     <3       neg   \n",
       "5 no      no      no      <140     <3       neg   \n",
       "6 no      no      no      <140     <3       neg   "
      ]
     },
     "metadata": {},
     "output_type": "display_data"
    }
   ],
   "source": [
    "head(coronary)"
   ]
  },
  {
   "cell_type": "markdown",
   "metadata": {},
   "source": [
    "The first step in a BN is to create the network. There are couples of algorithms in deriving an optimal BN structure and some of them exist in “bnlearn”.\n",
    "\n",
    "The above structure finding creates the following conditional dependency between different variables, and the plot function draws the BN as shown below:"
   ]
  },
  {
   "cell_type": "code",
   "execution_count": 4,
   "metadata": {},
   "outputs": [
    {
     "data": {
      "image/png": "[encoded data removed]",
      "text/plain": [
       "plot without title"
      ]
     },
     "metadata": {},
     "output_type": "display_data"
    }
   ],
   "source": [
    "bn_df <- data.frame(coronary)\n",
    "res <- hc(bn_df)\n",
    "plot(res)"
   ]
  },
  {
   "cell_type": "markdown",
   "metadata": {},
   "source": [
    "The causality between some nodes is intuitive; however, some relations extracted from data does not seem to be correct. For example, it does not make sense to have Family as a variable condition on M.Work. Therefore, we need to modify the derived structure. Let’s remove the link between M.Work and Family."
   ]
  },
  {
   "cell_type": "code",
   "execution_count": 5,
   "metadata": {},
   "outputs": [],
   "source": [
    "res$arcs <- res$arcs[-which((res$arcs[,'from'] == \"M..Work\" & res$arcs[,'to'] == \"Family\")),]"
   ]
  },
  {
   "cell_type": "markdown",
   "metadata": {},
   "source": [
    "After learning the structure, we need to find out the conditional probability tables (CPTs) at each node. The bn.fit function runs the EM algorithm to learn CPT for different nodes in the above graph."
   ]
  },
  {
   "cell_type": "code",
   "execution_count": 6,
   "metadata": {},
   "outputs": [],
   "source": [
    "fittedbn <- bn.fit(res, data = bn_df)"
   ]
  },
  {
   "cell_type": "markdown",
   "metadata": {},
   "source": [
    "For example, let look at what is inside the Protein node."
   ]
  },
  {
   "cell_type": "code",
   "execution_count": 7,
   "metadata": {},
   "outputs": [
    {
     "name": "stdout",
     "output_type": "stream",
     "text": [
      "\n",
      "  Parameters of node Proteins (multinomial distribution)\n",
      "\n",
      "Conditional probability table:\n",
      " \n",
      ", , M..Work = no\n",
      "\n",
      "        Smoking\n",
      "Proteins        no       yes\n",
      "      <3 0.6685824 0.6167763\n",
      "      >3 0.3314176 0.3832237\n",
      "\n",
      ", , M..Work = yes\n",
      "\n",
      "        Smoking\n",
      "Proteins        no       yes\n",
      "      <3 0.5671982 0.3235294\n",
      "      >3 0.4328018 0.6764706\n",
      "\n"
     ]
    }
   ],
   "source": [
    "print(fittedbn$Proteins)"
   ]
  },
  {
   "cell_type": "markdown",
   "metadata": {},
   "source": [
    "## Inference\n",
    "\n",
    "Now, the BN is ready and we can start inferring from the network."
   ]
  },
  {
   "cell_type": "code",
   "execution_count": 8,
   "metadata": {},
   "outputs": [
    {
     "data": {
      "text/html": [
       "0.627969348659004"
      ],
      "text/latex": [
       "0.627969348659004"
      ],
      "text/markdown": [
       "0.627969348659004"
      ],
      "text/plain": [
       "[1] 0.6279693"
      ]
     },
     "metadata": {},
     "output_type": "display_data"
    }
   ],
   "source": [
    "cpquery(fittedbn, event = (Proteins==\"<3\"), evidence = ( Smoking==\"no\"))"
   ]
  },
  {
   "cell_type": "markdown",
   "metadata": {},
   "source": [
    "which results in 0.61. Note that although the Proteins variable is conditioned on 2 variables, we did the query based on the available evidence on only one variables. But let make our evidence richer by asking the following: What is the chance that a non-smoker with pressure greater than 140 has a Proteins level less than 3?"
   ]
  },
  {
   "cell_type": "code",
   "execution_count": 11,
   "metadata": {},
   "outputs": [
    {
     "data": {
      "text/html": [
       "0.628276409849087"
      ],
      "text/latex": [
       "0.628276409849087"
      ],
      "text/markdown": [
       "0.628276409849087"
      ],
      "text/plain": [
       "[1] 0.6282764"
      ]
     },
     "metadata": {},
     "output_type": "display_data"
    }
   ],
   "source": [
    "cpquery(fittedbn, event = (Proteins==\"<3\"), evidence = ( Smoking==\"no\" & Pressure==\">140\" ))"
   ]
  },
  {
   "cell_type": "markdown",
   "metadata": {},
   "source": [
    "which results in probability 0.63. \n",
    "\n",
    "We can also move in the opposite direction of an arc between two nodes. Let’s see if a person’s Proteins level is greater than 3, then what is the chance that his or her Pressure level is greater than 140?\n"
   ]
  },
  {
   "cell_type": "code",
   "execution_count": 12,
   "metadata": {},
   "outputs": [
    {
     "data": {
      "text/html": [
       "0.421309192200557"
      ],
      "text/latex": [
       "0.421309192200557"
      ],
      "text/markdown": [
       "0.421309192200557"
      ],
      "text/plain": [
       "[1] 0.4213092"
      ]
     },
     "metadata": {},
     "output_type": "display_data"
    }
   ],
   "source": [
    "cpquery(fittedbn, event = (Pressure==\">140\"), evidence = ( Proteins==\"<3\" ))"
   ]
  },
  {
   "cell_type": "markdown",
   "metadata": {},
   "source": [
    "the answer would be Pressure is greater than 140 with probability 0.41"
   ]
  },
  {
   "cell_type": "markdown",
   "metadata": {},
   "source": [
    "https://www.bnlearn.com/about/teaching/slides-bnshort.pdf"
   ]
  },
  {
   "cell_type": "markdown",
   "metadata": {},
   "source": [
    "## Understanding the model architecture for Alarm-Burglar Problem"
   ]
  },
  {
   "cell_type": "markdown",
   "metadata": {},
   "source": [
    "Bnlearn provides two S3 classes for Bayesian networks:\n",
    "* \"bn\": the underlying DAG\n",
    "* \"bn.fit\": a fully specified network with parameters\n",
    "\n",
    "A compact way to specify a \"bn\" is the model string:"
   ]
  },
  {
   "cell_type": "code",
   "execution_count": 14,
   "metadata": {},
   "outputs": [
    {
     "data": {
      "image/png": "[encoded data removed]",
      "text/plain": [
       "plot without title"
      ]
     },
     "metadata": {},
     "output_type": "display_data"
    }
   ],
   "source": [
    "bl.alarm <- model2network('[Burglar][Earthquake][Alarm|Burglar:Earthquake][News|Earthquake][Watson|Alarm]')\n",
    "plot(bl.alarm)"
   ]
  },
  {
   "cell_type": "markdown",
   "metadata": {},
   "source": [
    "We can add, remove or reverse arcs, with the acyclic constraint enforced:"
   ]
  },
  {
   "cell_type": "code",
   "execution_count": 15,
   "metadata": {},
   "outputs": [
    {
     "data": {
      "image/png": "[encoded data removed]",
      "text/plain": [
       "plot without title"
      ]
     },
     "metadata": {},
     "output_type": "display_data"
    }
   ],
   "source": [
    "modified.alarm <- drop.arc(bl.alarm, \"Earthquake\", \"News\")\n",
    "modified.alarm <- reverse.arc(modified.alarm , \"Alarm\", \"Burglar\")\n",
    "modified.alarm <- set.arc(modified.alarm, \"Earthquake\", \"Burglar\")\n",
    "plot(modified.alarm)"
   ]
  },
  {
   "cell_type": "markdown",
   "metadata": {},
   "source": [
    "Printing the object to console provides basics information:"
   ]
  },
  {
   "cell_type": "code",
   "execution_count": 17,
   "metadata": {},
   "outputs": [
    {
     "data": {
      "text/plain": [
       "\n",
       "  Random/Generated Bayesian network\n",
       "\n",
       "  model:\n",
       "   [Burglar][Earthquake][Alarm|Burglar:Earthquake][News|Earthquake][Watson|Alarm] \n",
       "  nodes:                                 5 \n",
       "  arcs:                                  4 \n",
       "    undirected arcs:                     0 \n",
       "    directed arcs:                       4 \n",
       "  average markov blanket size:           2.00 \n",
       "  average neighbourhood size:            1.60 \n",
       "  average branching factor:              0.80 \n",
       "\n",
       "  generation algorithm:                  Empty \n"
      ]
     },
     "metadata": {},
     "output_type": "display_data"
    }
   ],
   "source": [
    "bl.alarm"
   ]
  },
  {
   "cell_type": "markdown",
   "metadata": {},
   "source": [
    "When the network is too large for plotting, the model string can be useful. We can also ask about the nodes\n",
    "close to a particular node:"
   ]
  },
  {
   "cell_type": "code",
   "execution_count": 20,
   "metadata": {},
   "outputs": [
    {
     "data": {
      "text/html": [
       "<ol class=list-inline>\n",
       "\t<li>'Burglar'</li>\n",
       "\t<li>'Earthquake'</li>\n",
       "\t<li>'Watson'</li>\n",
       "</ol>\n"
      ],
      "text/latex": [
       "\\begin{enumerate*}\n",
       "\\item 'Burglar'\n",
       "\\item 'Earthquake'\n",
       "\\item 'Watson'\n",
       "\\end{enumerate*}\n"
      ],
      "text/markdown": [
       "1. 'Burglar'\n",
       "2. 'Earthquake'\n",
       "3. 'Watson'\n",
       "\n",
       "\n"
      ],
      "text/plain": [
       "[1] \"Burglar\"    \"Earthquake\" \"Watson\"    "
      ]
     },
     "metadata": {},
     "output_type": "display_data"
    }
   ],
   "source": [
    "nbr(bl.alarm, node = 'Alarm')"
   ]
  },
  {
   "cell_type": "code",
   "execution_count": 21,
   "metadata": {},
   "outputs": [
    {
     "data": {
      "text/html": [
       "<ol class=list-inline>\n",
       "\t<li>'Burglar'</li>\n",
       "\t<li>'Earthquake'</li>\n",
       "</ol>\n"
      ],
      "text/latex": [
       "\\begin{enumerate*}\n",
       "\\item 'Burglar'\n",
       "\\item 'Earthquake'\n",
       "\\end{enumerate*}\n"
      ],
      "text/markdown": [
       "1. 'Burglar'\n",
       "2. 'Earthquake'\n",
       "\n",
       "\n"
      ],
      "text/plain": [
       "[1] \"Burglar\"    \"Earthquake\""
      ]
     },
     "metadata": {},
     "output_type": "display_data"
    }
   ],
   "source": [
    "parents(bl.alarm, node = 'Alarm')"
   ]
  },
  {
   "cell_type": "code",
   "execution_count": 22,
   "metadata": {},
   "outputs": [
    {
     "data": {
      "text/html": [
       "'Watson'"
      ],
      "text/latex": [
       "'Watson'"
      ],
      "text/markdown": [
       "'Watson'"
      ],
      "text/plain": [
       "[1] \"Watson\""
      ]
     },
     "metadata": {},
     "output_type": "display_data"
    }
   ],
   "source": [
    "children(bl.alarm, node = 'Alarm')"
   ]
  },
  {
   "cell_type": "code",
   "execution_count": 23,
   "metadata": {},
   "outputs": [
    {
     "data": {
      "text/html": [
       "<ol class=list-inline>\n",
       "\t<li>'Burglar'</li>\n",
       "\t<li>'Earthquake'</li>\n",
       "\t<li>'Watson'</li>\n",
       "</ol>\n"
      ],
      "text/latex": [
       "\\begin{enumerate*}\n",
       "\\item 'Burglar'\n",
       "\\item 'Earthquake'\n",
       "\\item 'Watson'\n",
       "\\end{enumerate*}\n"
      ],
      "text/markdown": [
       "1. 'Burglar'\n",
       "2. 'Earthquake'\n",
       "3. 'Watson'\n",
       "\n",
       "\n"
      ],
      "text/plain": [
       "[1] \"Burglar\"    \"Earthquake\" \"Watson\"    "
      ]
     },
     "metadata": {},
     "output_type": "display_data"
    }
   ],
   "source": [
    "mb(bl.alarm, node = 'Alarm')"
   ]
  },
  {
   "cell_type": "markdown",
   "metadata": {},
   "source": [
    "We can somewhat customize the network plot directly"
   ]
  },
  {
   "cell_type": "code",
   "execution_count": 24,
   "metadata": {},
   "outputs": [
    {
     "data": {
      "image/png": "[encoded data removed]",
      "text/plain": [
       "plot without title"
      ]
     },
     "metadata": {},
     "output_type": "display_data"
    }
   ],
   "source": [
    "plot(bl.alarm, highlight = list(nodes='Alarm'))"
   ]
  },
  {
   "cell_type": "markdown",
   "metadata": {},
   "source": [
    "We can list all arcs or ask for a path between a pair of nodes:"
   ]
  },
  {
   "cell_type": "code",
   "execution_count": 26,
   "metadata": {},
   "outputs": [
    {
     "data": {
      "text/html": [
       "<table>\n",
       "<thead><tr><th scope=col>from</th><th scope=col>to</th></tr></thead>\n",
       "<tbody>\n",
       "\t<tr><td>Burglar   </td><td>Alarm     </td></tr>\n",
       "\t<tr><td>Earthquake</td><td>Alarm     </td></tr>\n",
       "\t<tr><td>Earthquake</td><td>News      </td></tr>\n",
       "\t<tr><td>Alarm     </td><td>Watson    </td></tr>\n",
       "</tbody>\n",
       "</table>\n"
      ],
      "text/latex": [
       "\\begin{tabular}{ll}\n",
       " from & to\\\\\n",
       "\\hline\n",
       "\t Burglar    & Alarm     \\\\\n",
       "\t Earthquake & Alarm     \\\\\n",
       "\t Earthquake & News      \\\\\n",
       "\t Alarm      & Watson    \\\\\n",
       "\\end{tabular}\n"
      ],
      "text/markdown": [
       "\n",
       "| from | to |\n",
       "|---|---|\n",
       "| Burglar    | Alarm      |\n",
       "| Earthquake | Alarm      |\n",
       "| Earthquake | News       |\n",
       "| Alarm      | Watson     |\n",
       "\n"
      ],
      "text/plain": [
       "     from       to    \n",
       "[1,] Burglar    Alarm \n",
       "[2,] Earthquake Alarm \n",
       "[3,] Earthquake News  \n",
       "[4,] Alarm      Watson"
      ]
     },
     "metadata": {},
     "output_type": "display_data"
    }
   ],
   "source": [
    "arcs(bl.alarm)"
   ]
  },
  {
   "cell_type": "code",
   "execution_count": 27,
   "metadata": {},
   "outputs": [
    {
     "data": {
      "text/html": [
       "TRUE"
      ],
      "text/latex": [
       "TRUE"
      ],
      "text/markdown": [
       "TRUE"
      ],
      "text/plain": [
       "[1] TRUE"
      ]
     },
     "metadata": {},
     "output_type": "display_data"
    }
   ],
   "source": [
    "path(bl.alarm, from = \"Burglar\", to = \"Watson\")"
   ]
  },
  {
   "cell_type": "code",
   "execution_count": 28,
   "metadata": {},
   "outputs": [
    {
     "data": {
      "text/html": [
       "FALSE"
      ],
      "text/latex": [
       "FALSE"
      ],
      "text/markdown": [
       "FALSE"
      ],
      "text/plain": [
       "[1] FALSE"
      ]
     },
     "metadata": {},
     "output_type": "display_data"
    }
   ],
   "source": [
    "path(bl.alarm, from = \"Watson\", to = \"Burglar\")"
   ]
  },
  {
   "cell_type": "markdown",
   "metadata": {},
   "source": [
    "We can check for d-separation or obtain the CPDAG:"
   ]
  },
  {
   "cell_type": "code",
   "execution_count": 31,
   "metadata": {},
   "outputs": [
    {
     "data": {
      "text/html": [
       "FALSE"
      ],
      "text/latex": [
       "FALSE"
      ],
      "text/markdown": [
       "FALSE"
      ],
      "text/plain": [
       "[1] FALSE"
      ]
     },
     "metadata": {},
     "output_type": "display_data"
    }
   ],
   "source": [
    "dsep(bl.alarm, 'Watson', 'News')"
   ]
  },
  {
   "cell_type": "code",
   "execution_count": 32,
   "metadata": {},
   "outputs": [
    {
     "data": {
      "text/html": [
       "TRUE"
      ],
      "text/latex": [
       "TRUE"
      ],
      "text/markdown": [
       "TRUE"
      ],
      "text/plain": [
       "[1] TRUE"
      ]
     },
     "metadata": {},
     "output_type": "display_data"
    }
   ],
   "source": [
    "dsep(bl.alarm, 'Watson', 'News', 'Alarm')"
   ]
  },
  {
   "cell_type": "code",
   "execution_count": 33,
   "metadata": {},
   "outputs": [
    {
     "data": {
      "image/png": "[encoded data removed]",
      "text/plain": [
       "plot without title"
      ]
     },
     "metadata": {},
     "output_type": "display_data"
    }
   ],
   "source": [
    "plot(cpdag(bl.alarm))"
   ]
  },
  {
   "cell_type": "markdown",
   "metadata": {},
   "source": [
    "Passing a list of local distributions to custom.fit() produces a \"bn.fit\". With discrete variables, we can\n",
    "specify a CPT for each node:"
   ]
  },
  {
   "cell_type": "code",
   "execution_count": 34,
   "metadata": {},
   "outputs": [],
   "source": [
    "yn <- c(\"yes\",\"no\")\n",
    "B <- array(dimnames = list(Burglar = yn), dim = 2, c(0.30,0.70))\n",
    "E <- array(dimnames = list(Earthquake = yn), dim = 2, c(0.35,0.65))\n",
    "A <- array(dimnames = list(Alarm = yn, Earthquake = yn, Burglar = yn), dim = c(2, 2, 2),\n",
    "c(0.95,0.05,0.90,0.10,0.60,0.40,0.01,0.99))\n",
    "W <- array(dimnames = list(Watson = yn, Alarm = yn), dim = c(2, 2), c(0.80,0.20,0.40,0.60))\n",
    "N <- array(dimnames = list(News = yn, Earthquake = yn), dim = c(2, 2), c(0.60,0.40,0.01,0.99))\n",
    "cpts <- list(Burglar = B, Earthquake = E, Alarm = A, Watson = W, News = N)\n",
    "bl.alarm.fit = custom.fit(bl.alarm, cpts)"
   ]
  },
  {
   "cell_type": "code",
   "execution_count": 35,
   "metadata": {},
   "outputs": [
    {
     "data": {
      "text/plain": [
       "\n",
       "  Parameters of node Earthquake (multinomial distribution)\n",
       "\n",
       "Conditional probability table:\n",
       " Earthquake\n",
       " yes   no \n",
       "0.35 0.65 "
      ]
     },
     "metadata": {},
     "output_type": "display_data"
    }
   ],
   "source": [
    "bl.alarm.fit$Earthquake"
   ]
  },
  {
   "cell_type": "code",
   "execution_count": 36,
   "metadata": {},
   "outputs": [
    {
     "name": "stderr",
     "output_type": "stream",
     "text": [
      "Loading required namespace: lattice\n"
     ]
    },
    {
     "data": {
      "image/png": "[encoded data removed]",
      "text/plain": [
       "plot without title"
      ]
     },
     "metadata": {},
     "output_type": "display_data"
    }
   ],
   "source": [
    "bn.fit.barchart(bl.alarm.fit$Earthquake)"
   ]
  },
  {
   "cell_type": "code",
   "execution_count": 37,
   "metadata": {},
   "outputs": [
    {
     "data": {
      "image/png": "[encoded data removed]",
      "text/plain": [
       "plot without title"
      ]
     },
     "metadata": {},
     "output_type": "display_data"
    }
   ],
   "source": [
    "bn.fit.barchart(bl.alarm.fit$News)"
   ]
  },
  {
   "cell_type": "markdown",
   "metadata": {},
   "source": [
    "<a class=\"list-group-item list-group-item-action\" data-toggle=\"list\" href=\"#Bayesian-Network\" role=\"tab\" aria-controls=\"profile\">Go to top<span class=\"badge badge-primary badge-pill\"></span></a>"
   ]
  },
  {
   "cell_type": "markdown",
   "metadata": {},
   "source": [
    "# Conclusion\n",
    "\n",
    "Bayesian belief networks is a class of highly data efficient and interpretable models for domains with causal relationships between variables. The tradeoff is a dependency on good prior knowledge and often problem-specific adaptions and simplifications."
   ]
  },
  {
   "cell_type": "code",
   "execution_count": null,
   "metadata": {},
   "outputs": [],
   "source": []
  }
 ],
 "metadata": {
  "kernelspec": {
   "display_name": "R",
   "language": "R",
   "name": "ir"
  },
  "language_info": {
   "codemirror_mode": "r",
   "file_extension": ".r",
   "mimetype": "text/x-r-source",
   "name": "R",
   "pygments_lexer": "r",
   "version": "4.0.2"
  }
 },
 "nbformat": 4,
 "nbformat_minor": 4
}
