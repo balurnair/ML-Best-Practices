{
 "cells": [
  {
   "cell_type": "markdown",
   "metadata": {},
   "source": [
    "# Forecasting \n"
   ]
  },
  {
   "cell_type": "markdown",
   "metadata": {},
   "source": [
    "<div class=\"list-group\" id=\"list-tab\" role=\"tablist\">\n",
    " <h3 class=\"list-group-item list-group-item-action active\" data-toggle=\"list\"  role=\"tab\" aria-controls=\"home\">Notebook Content</h3>\n",
    "<a class=\"list-group-item list-group-item-action\" data-toggle=\"list\" href=\"#Library\" role=\"tab\" aria-controls=\"profile\">Library<span class=\"badge badge-primary badge-pill\"></span></a>\n",
    "<div class=\"list-group\" id=\"list-tab\" role=\"tablist\">\n",
    "<h3 class=\"list-group-item list-group-item-action active\" data-toggle=\"list\"  role=\"tab\" aria-controls=\"home\">Time Series forecasting</h3>\n",
    "<a class=\"list-group-item list-group-item-action\" data-toggle=\"list\" href=\"#Time-Series\" role=\"tab\" aria-controls=\"profile\">Time Series<span class=\"badge badge-primary badge-pill\"></span></a>\n",
    "<a class=\"list-group-item list-group-item-action\" data-toggle=\"list\" href=\"#Plotting-Data\" role=\"tab\" aria-controls=\"profile\">Time Serires Plot<span class=\"badge badge-primary badge-pill\"></span></a>\n",
    "<div class=\"list-group\" id=\"list-tab\" role=\"tablist\">\n",
    "<h3 class=\"list-group-item list-group-item-action active\" data-toggle=\"list\"  role=\"tab\" aria-controls=\"home\">Stationarity of a Time Series</h3>\n",
    "<a class=\"list-group-item list-group-item-action\" data-toggle=\"list\" href=\"#Test-for-Stationary\" role=\"tab\" aria-controls=\"profile\">Test for Stationary<span class=\"badge badge-primary badge-pill\"></span></a>\n",
    "<a class=\"list-group-item list-group-item-action\" data-toggle=\"list\" href=\"#Differencing\" role=\"tab\" aria-controls=\"profile\">Differencing<span class=\"badge badge-primary badge-pill\"></span></a>\n",
    "<a class=\"list-group-item list-group-item-action\" data-toggle=\"list\" href=\"#Decomposing\" role=\"tab\" aria-controls=\"profile\">Decomposing<span class=\"badge badge-primary badge-pill\"></span></a>\n",
    "<div class=\"list-group\" id=\"list-tab\" role=\"tablist\">\n",
    "<h3 class=\"list-group-item list-group-item-action active\" data-toggle=\"list\"  role=\"tab\" aria-controls=\"home\">Univariate Forecasting techniques </h3>\n",
    "<a class=\"list-group-item list-group-item-action\" data-toggle=\"list\" href=\"#Naive-Approach\" role=\"tab\" aria-controls=\"profile\">Naive Approach<span class=\"badge badge-primary badge-pill\"></span></a>\n",
    "<a class=\"list-group-item list-group-item-action\" data-toggle=\"list\" href=\"#Simple-Moving-Average\" role=\"tab\" aria-controls=\"profile\">Simple Moving Average<span class=\"badge badge-primary badge-pill\"></span></a>\n",
    "<a class=\"list-group-item list-group-item-action\" data-toggle=\"list\" href=\"#Exponential-Smoothing\" role=\"tab\" aria-controls=\"profile\">Exponential Smoothing<span class=\"badge badge-primary badge-pill\"></span></a>\n",
    "<a class=\"list-group-item list-group-item-action\" data-toggle=\"list\" href=\"#Holt’s-Method\" role=\"tab\" aria-controls=\"profile\">Holt’s Method<span class=\"badge badge-primary badge-pill\"></span></a>\n",
    "<a class=\"list-group-item list-group-item-action\" data-toggle=\"list\" href=\"#Holt-Winters’-Method\" role=\"tab\" aria-controls=\"profile\">Holt-Winters’ Method<span class=\"badge badge-primary badge-pill\"></span></a>\n",
    "    <a class=\"list-group-item list-group-item-action\" data-toggle=\"list\" href=\"#ACF-&-PACF\" role=\"tab\" aria-controls=\"profile\">ACF & PACF<span class=\"badge badge-primary badge-pill\"></span></a>\n",
    "<a class=\"list-group-item list-group-item-action\" data-toggle=\"list\" href=\"#ARIMA-Model\" role=\"tab\" aria-controls=\"profile\">ARIMA Model<span class=\"badge badge-primary badge-pill\"></span></a>\n",
    "<a class=\"list-group-item list-group-item-action\" data-toggle=\"list\" href=\"#Seasonal-ARIMA\" role=\"tab\" aria-controls=\"profile\">Seasonal ARIMA<span class=\"badge badge-primary badge-pill\"></span></a>\n",
    "<a class=\"list-group-item list-group-item-action\" data-toggle=\"list\" href=\"#Auto-ARIMA\" role=\"tab\" aria-controls=\"profile\">Auto ARIMA<span class=\"badge badge-primary badge-pill\"></span></a>\n",
    " <a class=\"list-group-item list-group-item-action\" data-toggle=\"list\" href=\"#TBATS-model\" role=\"tab\" aria-controls=\"profile\">TBATS model<span class=\"badge badge-primary badge-pill\"></span></a>\n",
    "<div class=\"list-group\" id=\"list-tab\" role=\"tablist\">\n",
    " <a class=\"list-group-item list-group-item-action\" data-toggle=\"list\" href=\"#Model-Selection\" role=\"tab\" aria-controls=\"profile\">Model Selection<span class=\"badge badge-primary badge-pill\"></span></a>\n",
    "    \n",
    "    \n",
    " <h3 class=\"list-group-item list-group-item-action active\" data-toggle=\"list\"  role=\"tab\" aria-controls=\"home\">Multivariate Time Series</h3>\n",
    " <a class=\"list-group-item list-group-item-action\" data-toggle=\"list\" href=\"#Multivariate-Time-Series-–-VAR\" role=\"tab\" aria-controls=\"profile\">Multivariate Time Series – VAR<span class=\"badge badge-primary badge-pill\"></span></a>\n",
    " <a class=\"list-group-item list-group-item-action\" data-toggle=\"list\" href=\"#Arimax/Sarimax\" role=\"tab\" aria-controls=\"profile\">Arimax/Sarimax<span class=\"badge badge-primary badge-pill\"></span></a>\n"
   ]
  },
  {
   "cell_type": "markdown",
   "metadata": {},
   "source": [
    "# Library"
   ]
  },
  {
   "cell_type": "code",
   "execution_count": 232,
   "metadata": {
    "ExecuteTime": {
     "end_time": "2020-10-15T11:09:42.675707Z",
     "start_time": "2020-10-15T11:09:42.297Z"
    }
   },
   "outputs": [],
   "source": [
    "# install.packages(\"forecast\")\n",
    "# install.packages(\"uroot\")\n",
    "# install.packages('tseries')\n",
    "# install.packages('vars')\n",
    "# install.packages('fpp2')\n",
    "# library(forecast)\n",
    "# library(fpp2)\n",
    "# library(TTR)\n",
    "# library(tseries)\n",
    "# library(uroot)\n",
    "# options(warn=-1) "
   ]
  },
  {
   "cell_type": "markdown",
   "metadata": {},
   "source": [
    "# Time Series forecasting"
   ]
  },
  {
   "cell_type": "markdown",
   "metadata": {},
   "source": [
    "### Time Series\n",
    "<br>A time series is usually modelled through a stochastic process Y(t), i.e. a sequence of random variables. In a forecasting setting we find ourselves at time t and we are interested in estimating Y(t+h), using only information available at time t."
   ]
  },
  {
   "cell_type": "code",
   "execution_count": 233,
   "metadata": {
    "ExecuteTime": {
     "end_time": "2020-10-15T11:09:43.435700Z",
     "start_time": "2020-10-15T11:09:43.120Z"
    },
    "scrolled": false
   },
   "outputs": [
    {
     "data": {
      "text/html": [
       "<table>\n",
       "<caption>A data.frame: 6 × 2</caption>\n",
       "<thead>\n",
       "\t<tr><th></th><th scope=col>Month</th><th scope=col>Passengers</th></tr>\n",
       "\t<tr><th></th><th scope=col>&lt;chr&gt;</th><th scope=col>&lt;int&gt;</th></tr>\n",
       "</thead>\n",
       "<tbody>\n",
       "\t<tr><th scope=row>1</th><td>1949-01</td><td>112</td></tr>\n",
       "\t<tr><th scope=row>2</th><td>1949-02</td><td>118</td></tr>\n",
       "\t<tr><th scope=row>3</th><td>1949-03</td><td>132</td></tr>\n",
       "\t<tr><th scope=row>4</th><td>1949-04</td><td>129</td></tr>\n",
       "\t<tr><th scope=row>5</th><td>1949-05</td><td>121</td></tr>\n",
       "\t<tr><th scope=row>6</th><td>1949-06</td><td>135</td></tr>\n",
       "</tbody>\n",
       "</table>\n"
      ],
      "text/latex": [
       "A data.frame: 6 × 2\n",
       "\\begin{tabular}{r|ll}\n",
       "  & Month & Passengers\\\\\n",
       "  & <chr> & <int>\\\\\n",
       "\\hline\n",
       "\t1 & 1949-01 & 112\\\\\n",
       "\t2 & 1949-02 & 118\\\\\n",
       "\t3 & 1949-03 & 132\\\\\n",
       "\t4 & 1949-04 & 129\\\\\n",
       "\t5 & 1949-05 & 121\\\\\n",
       "\t6 & 1949-06 & 135\\\\\n",
       "\\end{tabular}\n"
      ],
      "text/markdown": [
       "\n",
       "A data.frame: 6 × 2\n",
       "\n",
       "| <!--/--> | Month &lt;chr&gt; | Passengers &lt;int&gt; |\n",
       "|---|---|---|\n",
       "| 1 | 1949-01 | 112 |\n",
       "| 2 | 1949-02 | 118 |\n",
       "| 3 | 1949-03 | 132 |\n",
       "| 4 | 1949-04 | 129 |\n",
       "| 5 | 1949-05 | 121 |\n",
       "| 6 | 1949-06 | 135 |\n",
       "\n"
      ],
      "text/plain": [
       "  Month   Passengers\n",
       "1 1949-01 112       \n",
       "2 1949-02 118       \n",
       "3 1949-03 132       \n",
       "4 1949-04 129       \n",
       "5 1949-05 121       \n",
       "6 1949-06 135       "
      ]
     },
     "metadata": {},
     "output_type": "display_data"
    }
   ],
   "source": [
    "#Importing data\n",
    "data <- read.csv('dataset/AirPassengers.csv')\n",
    "#Printing head\n",
    "head(data)"
   ]
  },
  {
   "cell_type": "code",
   "execution_count": 234,
   "metadata": {
    "ExecuteTime": {
     "end_time": "2020-10-15T11:09:43.467668Z",
     "start_time": "2020-10-15T11:09:43.376Z"
    },
    "scrolled": false
   },
   "outputs": [
    {
     "data": {
      "text/html": [
       "144"
      ],
      "text/latex": [
       "144"
      ],
      "text/markdown": [
       "144"
      ],
      "text/plain": [
       "[1] 144"
      ]
     },
     "metadata": {},
     "output_type": "display_data"
    }
   ],
   "source": [
    "nrow(data)\n"
   ]
  },
  {
   "cell_type": "code",
   "execution_count": 235,
   "metadata": {
    "ExecuteTime": {
     "end_time": "2020-10-15T11:09:43.664045Z",
     "start_time": "2020-10-15T11:09:43.603Z"
    },
    "scrolled": false
   },
   "outputs": [
    {
     "data": {
      "text/html": [
       "<table>\n",
       "<caption>A data.frame: 12 × 2</caption>\n",
       "<thead>\n",
       "\t<tr><th></th><th scope=col>Month</th><th scope=col>Passengers</th></tr>\n",
       "\t<tr><th></th><th scope=col>&lt;chr&gt;</th><th scope=col>&lt;int&gt;</th></tr>\n",
       "</thead>\n",
       "<tbody>\n",
       "\t<tr><th scope=row>133</th><td>1960-01</td><td>417</td></tr>\n",
       "\t<tr><th scope=row>134</th><td>1960-02</td><td>391</td></tr>\n",
       "\t<tr><th scope=row>135</th><td>1960-03</td><td>419</td></tr>\n",
       "\t<tr><th scope=row>136</th><td>1960-04</td><td>461</td></tr>\n",
       "\t<tr><th scope=row>137</th><td>1960-05</td><td>472</td></tr>\n",
       "\t<tr><th scope=row>138</th><td>1960-06</td><td>535</td></tr>\n",
       "\t<tr><th scope=row>139</th><td>1960-07</td><td>622</td></tr>\n",
       "\t<tr><th scope=row>140</th><td>1960-08</td><td>606</td></tr>\n",
       "\t<tr><th scope=row>141</th><td>1960-09</td><td>508</td></tr>\n",
       "\t<tr><th scope=row>142</th><td>1960-10</td><td>461</td></tr>\n",
       "\t<tr><th scope=row>143</th><td>1960-11</td><td>390</td></tr>\n",
       "\t<tr><th scope=row>144</th><td>1960-12</td><td>432</td></tr>\n",
       "</tbody>\n",
       "</table>\n"
      ],
      "text/latex": [
       "A data.frame: 12 × 2\n",
       "\\begin{tabular}{r|ll}\n",
       "  & Month & Passengers\\\\\n",
       "  & <chr> & <int>\\\\\n",
       "\\hline\n",
       "\t133 & 1960-01 & 417\\\\\n",
       "\t134 & 1960-02 & 391\\\\\n",
       "\t135 & 1960-03 & 419\\\\\n",
       "\t136 & 1960-04 & 461\\\\\n",
       "\t137 & 1960-05 & 472\\\\\n",
       "\t138 & 1960-06 & 535\\\\\n",
       "\t139 & 1960-07 & 622\\\\\n",
       "\t140 & 1960-08 & 606\\\\\n",
       "\t141 & 1960-09 & 508\\\\\n",
       "\t142 & 1960-10 & 461\\\\\n",
       "\t143 & 1960-11 & 390\\\\\n",
       "\t144 & 1960-12 & 432\\\\\n",
       "\\end{tabular}\n"
      ],
      "text/markdown": [
       "\n",
       "A data.frame: 12 × 2\n",
       "\n",
       "| <!--/--> | Month &lt;chr&gt; | Passengers &lt;int&gt; |\n",
       "|---|---|---|\n",
       "| 133 | 1960-01 | 417 |\n",
       "| 134 | 1960-02 | 391 |\n",
       "| 135 | 1960-03 | 419 |\n",
       "| 136 | 1960-04 | 461 |\n",
       "| 137 | 1960-05 | 472 |\n",
       "| 138 | 1960-06 | 535 |\n",
       "| 139 | 1960-07 | 622 |\n",
       "| 140 | 1960-08 | 606 |\n",
       "| 141 | 1960-09 | 508 |\n",
       "| 142 | 1960-10 | 461 |\n",
       "| 143 | 1960-11 | 390 |\n",
       "| 144 | 1960-12 | 432 |\n",
       "\n"
      ],
      "text/plain": [
       "    Month   Passengers\n",
       "133 1960-01 417       \n",
       "134 1960-02 391       \n",
       "135 1960-03 419       \n",
       "136 1960-04 461       \n",
       "137 1960-05 472       \n",
       "138 1960-06 535       \n",
       "139 1960-07 622       \n",
       "140 1960-08 606       \n",
       "141 1960-09 508       \n",
       "142 1960-10 461       \n",
       "143 1960-11 390       \n",
       "144 1960-12 432       "
      ]
     },
     "metadata": {},
     "output_type": "display_data"
    }
   ],
   "source": [
    "# Number of rows to take in train and test\n",
    "N_all = nrow(data)\n",
    "N_train = 132\n",
    "N_test = 12\n",
    "\n",
    "# Dividing training set and testing set\n",
    "train <- data[1:132,]\n",
    "test <- data[133: 144,]\n",
    "test"
   ]
  },
  {
   "cell_type": "code",
   "execution_count": 236,
   "metadata": {
    "ExecuteTime": {
     "end_time": "2020-10-15T11:09:43.911879Z",
     "start_time": "2020-10-15T11:09:43.837Z"
    },
    "scrolled": false
   },
   "outputs": [
    {
     "data": {
      "text/html": [
       "<table>\n",
       "<caption>A Time Series: 12 × 12</caption>\n",
       "<thead>\n",
       "\t<tr><th></th><th scope=col>Jan</th><th scope=col>Feb</th><th scope=col>Mar</th><th scope=col>Apr</th><th scope=col>May</th><th scope=col>Jun</th><th scope=col>Jul</th><th scope=col>Aug</th><th scope=col>Sep</th><th scope=col>Oct</th><th scope=col>Nov</th><th scope=col>Dec</th></tr>\n",
       "</thead>\n",
       "<tbody>\n",
       "\t<tr><th scope=row>1949</th><td>112</td><td>118</td><td>132</td><td>129</td><td>121</td><td>135</td><td>148</td><td>148</td><td>136</td><td>119</td><td>104</td><td>118</td></tr>\n",
       "\t<tr><th scope=row>1950</th><td>115</td><td>126</td><td>141</td><td>135</td><td>125</td><td>149</td><td>170</td><td>170</td><td>158</td><td>133</td><td>114</td><td>140</td></tr>\n",
       "\t<tr><th scope=row>1951</th><td>145</td><td>150</td><td>178</td><td>163</td><td>172</td><td>178</td><td>199</td><td>199</td><td>184</td><td>162</td><td>146</td><td>166</td></tr>\n",
       "\t<tr><th scope=row>1952</th><td>171</td><td>180</td><td>193</td><td>181</td><td>183</td><td>218</td><td>230</td><td>242</td><td>209</td><td>191</td><td>172</td><td>194</td></tr>\n",
       "\t<tr><th scope=row>1953</th><td>196</td><td>196</td><td>236</td><td>235</td><td>229</td><td>243</td><td>264</td><td>272</td><td>237</td><td>211</td><td>180</td><td>201</td></tr>\n",
       "\t<tr><th scope=row>1954</th><td>204</td><td>188</td><td>235</td><td>227</td><td>234</td><td>264</td><td>302</td><td>293</td><td>259</td><td>229</td><td>203</td><td>229</td></tr>\n",
       "\t<tr><th scope=row>1955</th><td>242</td><td>233</td><td>267</td><td>269</td><td>270</td><td>315</td><td>364</td><td>347</td><td>312</td><td>274</td><td>237</td><td>278</td></tr>\n",
       "\t<tr><th scope=row>1956</th><td>284</td><td>277</td><td>317</td><td>313</td><td>318</td><td>374</td><td>413</td><td>405</td><td>355</td><td>306</td><td>271</td><td>306</td></tr>\n",
       "\t<tr><th scope=row>1957</th><td>315</td><td>301</td><td>356</td><td>348</td><td>355</td><td>422</td><td>465</td><td>467</td><td>404</td><td>347</td><td>305</td><td>336</td></tr>\n",
       "\t<tr><th scope=row>1958</th><td>340</td><td>318</td><td>362</td><td>348</td><td>363</td><td>435</td><td>491</td><td>505</td><td>404</td><td>359</td><td>310</td><td>337</td></tr>\n",
       "\t<tr><th scope=row>1959</th><td>360</td><td>342</td><td>406</td><td>396</td><td>420</td><td>472</td><td>548</td><td>559</td><td>463</td><td>407</td><td>362</td><td>405</td></tr>\n",
       "\t<tr><th scope=row>1960</th><td>417</td><td>391</td><td>419</td><td>461</td><td>472</td><td>535</td><td>622</td><td>606</td><td>508</td><td>461</td><td>390</td><td>432</td></tr>\n",
       "</tbody>\n",
       "</table>\n"
      ],
      "text/latex": [
       "A Time Series: 12 × 12\n",
       "\\begin{tabular}{r|llllllllllll}\n",
       "  & Jan & Feb & Mar & Apr & May & Jun & Jul & Aug & Sep & Oct & Nov & Dec\\\\\n",
       "\\hline\n",
       "\t1949 & 112 & 118 & 132 & 129 & 121 & 135 & 148 & 148 & 136 & 119 & 104 & 118\\\\\n",
       "\t1950 & 115 & 126 & 141 & 135 & 125 & 149 & 170 & 170 & 158 & 133 & 114 & 140\\\\\n",
       "\t1951 & 145 & 150 & 178 & 163 & 172 & 178 & 199 & 199 & 184 & 162 & 146 & 166\\\\\n",
       "\t1952 & 171 & 180 & 193 & 181 & 183 & 218 & 230 & 242 & 209 & 191 & 172 & 194\\\\\n",
       "\t1953 & 196 & 196 & 236 & 235 & 229 & 243 & 264 & 272 & 237 & 211 & 180 & 201\\\\\n",
       "\t1954 & 204 & 188 & 235 & 227 & 234 & 264 & 302 & 293 & 259 & 229 & 203 & 229\\\\\n",
       "\t1955 & 242 & 233 & 267 & 269 & 270 & 315 & 364 & 347 & 312 & 274 & 237 & 278\\\\\n",
       "\t1956 & 284 & 277 & 317 & 313 & 318 & 374 & 413 & 405 & 355 & 306 & 271 & 306\\\\\n",
       "\t1957 & 315 & 301 & 356 & 348 & 355 & 422 & 465 & 467 & 404 & 347 & 305 & 336\\\\\n",
       "\t1958 & 340 & 318 & 362 & 348 & 363 & 435 & 491 & 505 & 404 & 359 & 310 & 337\\\\\n",
       "\t1959 & 360 & 342 & 406 & 396 & 420 & 472 & 548 & 559 & 463 & 407 & 362 & 405\\\\\n",
       "\t1960 & 417 & 391 & 419 & 461 & 472 & 535 & 622 & 606 & 508 & 461 & 390 & 432\\\\\n",
       "\\end{tabular}\n"
      ],
      "text/markdown": [
       "\n",
       "A Time Series: 12 × 12\n",
       "\n",
       "| <!--/--> | Jan | Feb | Mar | Apr | May | Jun | Jul | Aug | Sep | Oct | Nov | Dec |\n",
       "|---|---|---|---|---|---|---|---|---|---|---|---|---|\n",
       "| 1949 | 112 | 118 | 132 | 129 | 121 | 135 | 148 | 148 | 136 | 119 | 104 | 118 |\n",
       "| 1950 | 115 | 126 | 141 | 135 | 125 | 149 | 170 | 170 | 158 | 133 | 114 | 140 |\n",
       "| 1951 | 145 | 150 | 178 | 163 | 172 | 178 | 199 | 199 | 184 | 162 | 146 | 166 |\n",
       "| 1952 | 171 | 180 | 193 | 181 | 183 | 218 | 230 | 242 | 209 | 191 | 172 | 194 |\n",
       "| 1953 | 196 | 196 | 236 | 235 | 229 | 243 | 264 | 272 | 237 | 211 | 180 | 201 |\n",
       "| 1954 | 204 | 188 | 235 | 227 | 234 | 264 | 302 | 293 | 259 | 229 | 203 | 229 |\n",
       "| 1955 | 242 | 233 | 267 | 269 | 270 | 315 | 364 | 347 | 312 | 274 | 237 | 278 |\n",
       "| 1956 | 284 | 277 | 317 | 313 | 318 | 374 | 413 | 405 | 355 | 306 | 271 | 306 |\n",
       "| 1957 | 315 | 301 | 356 | 348 | 355 | 422 | 465 | 467 | 404 | 347 | 305 | 336 |\n",
       "| 1958 | 340 | 318 | 362 | 348 | 363 | 435 | 491 | 505 | 404 | 359 | 310 | 337 |\n",
       "| 1959 | 360 | 342 | 406 | 396 | 420 | 472 | 548 | 559 | 463 | 407 | 362 | 405 |\n",
       "| 1960 | 417 | 391 | 419 | 461 | 472 | 535 | 622 | 606 | 508 | 461 | 390 | 432 |\n",
       "\n"
      ],
      "text/plain": [
       "     Jan Feb Mar Apr May Jun Jul Aug Sep Oct Nov Dec\n",
       "1949 112 118 132 129 121 135 148 148 136 119 104 118\n",
       "1950 115 126 141 135 125 149 170 170 158 133 114 140\n",
       "1951 145 150 178 163 172 178 199 199 184 162 146 166\n",
       "1952 171 180 193 181 183 218 230 242 209 191 172 194\n",
       "1953 196 196 236 235 229 243 264 272 237 211 180 201\n",
       "1954 204 188 235 227 234 264 302 293 259 229 203 229\n",
       "1955 242 233 267 269 270 315 364 347 312 274 237 278\n",
       "1956 284 277 317 313 318 374 413 405 355 306 271 306\n",
       "1957 315 301 356 348 355 422 465 467 404 347 305 336\n",
       "1958 340 318 362 348 363 435 491 505 404 359 310 337\n",
       "1959 360 342 406 396 420 472 548 559 463 407 362 405\n",
       "1960 417 391 419 461 472 535 622 606 508 461 390 432"
      ]
     },
     "metadata": {},
     "output_type": "display_data"
    }
   ],
   "source": [
    "data_ts <- ts(data[, 2], start = c(1949, 1), end = c(1960, 12), frequency = 12)\n",
    "data_ts"
   ]
  },
  {
   "cell_type": "markdown",
   "metadata": {},
   "source": [
    "<a class=\"list-group-item list-group-item-action\" data-toggle=\"list\" href=\"#Forecasting\" role=\"tab\" aria-controls=\"profile\">Go to top<span class=\"badge badge-primary badge-pill\"></span></a>\n"
   ]
  },
  {
   "cell_type": "markdown",
   "metadata": {},
   "source": [
    "# Plotting Data"
   ]
  },
  {
   "cell_type": "code",
   "execution_count": 237,
   "metadata": {
    "ExecuteTime": {
     "end_time": "2020-10-15T11:09:45.246938Z",
     "start_time": "2020-10-15T11:09:44.672Z"
    },
    "scrolled": false
   },
   "outputs": [
    {
     "data": {
      "image/png": "[encoded data removed]",
      "text/plain": [
       "plot without title"
      ]
     },
     "metadata": {
      "image/png": {
       "height": 420,
       "width": 420
      }
     },
     "output_type": "display_data"
    }
   ],
   "source": [
    "#Check the cycle of data and plot the raw data\n",
    "x = as.data.frame(data_ts)\n",
    "plot(x, ylab=\"Passengers (1000s)\", type=\"o\")"
   ]
  },
  {
   "cell_type": "markdown",
   "metadata": {},
   "source": [
    "### Preparing the Time Series Object\n",
    "To run the forecasting models in 'R', one must convert the data into a time series object which is done in the first line of code below. The 'start' and 'end' argument specifies the time of the first and the last observation, respectively. The argument 'frequency' specifies the number of observations per unit of time basically it defines how the data is distributed. For example if its a monthly data then we give frequency = 12\n",
    "\n",
    "Then create a utility function for calculating Mean Absolute Percentage Error (or MAPE), which will be used to evaluate the performance of the forecasting models. The lower the MAPE value, the better the forecasting model. This is done in the second to fourth lines of code."
   ]
  },
  {
   "cell_type": "code",
   "execution_count": 238,
   "metadata": {
    "ExecuteTime": {
     "end_time": "2020-10-15T11:09:45.411409Z",
     "start_time": "2020-10-15T11:09:45.355Z"
    },
    "scrolled": false
   },
   "outputs": [
    {
     "data": {
      "text/html": [
       "<table>\n",
       "<caption>A Time Series: 11 × 12</caption>\n",
       "<thead>\n",
       "\t<tr><th></th><th scope=col>Jan</th><th scope=col>Feb</th><th scope=col>Mar</th><th scope=col>Apr</th><th scope=col>May</th><th scope=col>Jun</th><th scope=col>Jul</th><th scope=col>Aug</th><th scope=col>Sep</th><th scope=col>Oct</th><th scope=col>Nov</th><th scope=col>Dec</th></tr>\n",
       "</thead>\n",
       "<tbody>\n",
       "\t<tr><th scope=row>1949</th><td>112</td><td>118</td><td>132</td><td>129</td><td>121</td><td>135</td><td>148</td><td>148</td><td>136</td><td>119</td><td>104</td><td>118</td></tr>\n",
       "\t<tr><th scope=row>1950</th><td>115</td><td>126</td><td>141</td><td>135</td><td>125</td><td>149</td><td>170</td><td>170</td><td>158</td><td>133</td><td>114</td><td>140</td></tr>\n",
       "\t<tr><th scope=row>1951</th><td>145</td><td>150</td><td>178</td><td>163</td><td>172</td><td>178</td><td>199</td><td>199</td><td>184</td><td>162</td><td>146</td><td>166</td></tr>\n",
       "\t<tr><th scope=row>1952</th><td>171</td><td>180</td><td>193</td><td>181</td><td>183</td><td>218</td><td>230</td><td>242</td><td>209</td><td>191</td><td>172</td><td>194</td></tr>\n",
       "\t<tr><th scope=row>1953</th><td>196</td><td>196</td><td>236</td><td>235</td><td>229</td><td>243</td><td>264</td><td>272</td><td>237</td><td>211</td><td>180</td><td>201</td></tr>\n",
       "\t<tr><th scope=row>1954</th><td>204</td><td>188</td><td>235</td><td>227</td><td>234</td><td>264</td><td>302</td><td>293</td><td>259</td><td>229</td><td>203</td><td>229</td></tr>\n",
       "\t<tr><th scope=row>1955</th><td>242</td><td>233</td><td>267</td><td>269</td><td>270</td><td>315</td><td>364</td><td>347</td><td>312</td><td>274</td><td>237</td><td>278</td></tr>\n",
       "\t<tr><th scope=row>1956</th><td>284</td><td>277</td><td>317</td><td>313</td><td>318</td><td>374</td><td>413</td><td>405</td><td>355</td><td>306</td><td>271</td><td>306</td></tr>\n",
       "\t<tr><th scope=row>1957</th><td>315</td><td>301</td><td>356</td><td>348</td><td>355</td><td>422</td><td>465</td><td>467</td><td>404</td><td>347</td><td>305</td><td>336</td></tr>\n",
       "\t<tr><th scope=row>1958</th><td>340</td><td>318</td><td>362</td><td>348</td><td>363</td><td>435</td><td>491</td><td>505</td><td>404</td><td>359</td><td>310</td><td>337</td></tr>\n",
       "\t<tr><th scope=row>1959</th><td>360</td><td>342</td><td>406</td><td>396</td><td>420</td><td>472</td><td>548</td><td>559</td><td>463</td><td>407</td><td>362</td><td>405</td></tr>\n",
       "</tbody>\n",
       "</table>\n"
      ],
      "text/latex": [
       "A Time Series: 11 × 12\n",
       "\\begin{tabular}{r|llllllllllll}\n",
       "  & Jan & Feb & Mar & Apr & May & Jun & Jul & Aug & Sep & Oct & Nov & Dec\\\\\n",
       "\\hline\n",
       "\t1949 & 112 & 118 & 132 & 129 & 121 & 135 & 148 & 148 & 136 & 119 & 104 & 118\\\\\n",
       "\t1950 & 115 & 126 & 141 & 135 & 125 & 149 & 170 & 170 & 158 & 133 & 114 & 140\\\\\n",
       "\t1951 & 145 & 150 & 178 & 163 & 172 & 178 & 199 & 199 & 184 & 162 & 146 & 166\\\\\n",
       "\t1952 & 171 & 180 & 193 & 181 & 183 & 218 & 230 & 242 & 209 & 191 & 172 & 194\\\\\n",
       "\t1953 & 196 & 196 & 236 & 235 & 229 & 243 & 264 & 272 & 237 & 211 & 180 & 201\\\\\n",
       "\t1954 & 204 & 188 & 235 & 227 & 234 & 264 & 302 & 293 & 259 & 229 & 203 & 229\\\\\n",
       "\t1955 & 242 & 233 & 267 & 269 & 270 & 315 & 364 & 347 & 312 & 274 & 237 & 278\\\\\n",
       "\t1956 & 284 & 277 & 317 & 313 & 318 & 374 & 413 & 405 & 355 & 306 & 271 & 306\\\\\n",
       "\t1957 & 315 & 301 & 356 & 348 & 355 & 422 & 465 & 467 & 404 & 347 & 305 & 336\\\\\n",
       "\t1958 & 340 & 318 & 362 & 348 & 363 & 435 & 491 & 505 & 404 & 359 & 310 & 337\\\\\n",
       "\t1959 & 360 & 342 & 406 & 396 & 420 & 472 & 548 & 559 & 463 & 407 & 362 & 405\\\\\n",
       "\\end{tabular}\n"
      ],
      "text/markdown": [
       "\n",
       "A Time Series: 11 × 12\n",
       "\n",
       "| <!--/--> | Jan | Feb | Mar | Apr | May | Jun | Jul | Aug | Sep | Oct | Nov | Dec |\n",
       "|---|---|---|---|---|---|---|---|---|---|---|---|---|\n",
       "| 1949 | 112 | 118 | 132 | 129 | 121 | 135 | 148 | 148 | 136 | 119 | 104 | 118 |\n",
       "| 1950 | 115 | 126 | 141 | 135 | 125 | 149 | 170 | 170 | 158 | 133 | 114 | 140 |\n",
       "| 1951 | 145 | 150 | 178 | 163 | 172 | 178 | 199 | 199 | 184 | 162 | 146 | 166 |\n",
       "| 1952 | 171 | 180 | 193 | 181 | 183 | 218 | 230 | 242 | 209 | 191 | 172 | 194 |\n",
       "| 1953 | 196 | 196 | 236 | 235 | 229 | 243 | 264 | 272 | 237 | 211 | 180 | 201 |\n",
       "| 1954 | 204 | 188 | 235 | 227 | 234 | 264 | 302 | 293 | 259 | 229 | 203 | 229 |\n",
       "| 1955 | 242 | 233 | 267 | 269 | 270 | 315 | 364 | 347 | 312 | 274 | 237 | 278 |\n",
       "| 1956 | 284 | 277 | 317 | 313 | 318 | 374 | 413 | 405 | 355 | 306 | 271 | 306 |\n",
       "| 1957 | 315 | 301 | 356 | 348 | 355 | 422 | 465 | 467 | 404 | 347 | 305 | 336 |\n",
       "| 1958 | 340 | 318 | 362 | 348 | 363 | 435 | 491 | 505 | 404 | 359 | 310 | 337 |\n",
       "| 1959 | 360 | 342 | 406 | 396 | 420 | 472 | 548 | 559 | 463 | 407 | 362 | 405 |\n",
       "\n"
      ],
      "text/plain": [
       "     Jan Feb Mar Apr May Jun Jul Aug Sep Oct Nov Dec\n",
       "1949 112 118 132 129 121 135 148 148 136 119 104 118\n",
       "1950 115 126 141 135 125 149 170 170 158 133 114 140\n",
       "1951 145 150 178 163 172 178 199 199 184 162 146 166\n",
       "1952 171 180 193 181 183 218 230 242 209 191 172 194\n",
       "1953 196 196 236 235 229 243 264 272 237 211 180 201\n",
       "1954 204 188 235 227 234 264 302 293 259 229 203 229\n",
       "1955 242 233 267 269 270 315 364 347 312 274 237 278\n",
       "1956 284 277 317 313 318 374 413 405 355 306 271 306\n",
       "1957 315 301 356 348 355 422 465 467 404 347 305 336\n",
       "1958 340 318 362 348 363 435 491 505 404 359 310 337\n",
       "1959 360 342 406 396 420 472 548 559 463 407 362 405"
      ]
     },
     "metadata": {},
     "output_type": "display_data"
    }
   ],
   "source": [
    "dat_ts <- ts(train[, 2], start = c(1949, 1), end = c(1959, 12), frequency = 12)\n",
    "dat_ts"
   ]
  },
  {
   "cell_type": "code",
   "execution_count": 239,
   "metadata": {
    "ExecuteTime": {
     "end_time": "2020-10-15T11:09:45.655823Z",
     "start_time": "2020-10-15T11:09:45.618Z"
    },
    "scrolled": false
   },
   "outputs": [],
   "source": [
    "# Mape\n",
    "mape <- function(actual,pred){\n",
    "  mape <- mean(abs((actual - pred)/actual))*100\n",
    "  return (mape)\n",
    "}"
   ]
  },
  {
   "cell_type": "markdown",
   "metadata": {},
   "source": [
    "<a class=\"list-group-item list-group-item-action\" data-toggle=\"list\" href=\"#Forecasting\" role=\"tab\" aria-controls=\"profile\">Go to top<span class=\"badge badge-primary badge-pill\"></span></a>\n"
   ]
  },
  {
   "cell_type": "markdown",
   "metadata": {},
   "source": [
    "# Stationarity of a Time Series\n",
    "A TS is said to be stationary if its statistical properties such as mean, variance remain constant over time.\n",
    "We can sat that if a TS has a particular behaviour over time, there is a very high probability that it will follow the same in the future. Also, the theories related to stationary series are more mature and easier to implement as compared to non-stationary series."
   ]
  },
  {
   "cell_type": "markdown",
   "metadata": {},
   "source": [
    "## Test for Stationary"
   ]
  },
  {
   "cell_type": "markdown",
   "metadata": {},
   "source": [
    "It is clearly evident that there is an overall increasing trend in the data along with some seasonal variations. However, it might not always be possible to make such visual inferences (we’ll see such cases later). So, more formally, we can check stationarity using the following:<br>\n",
    "**Dickey-Fuller Test:** This is one of the statistical tests for checking stationarity.\n",
    "Note: for further study click on link https://www.analyticsvidhya.com/blog/2015/12/complete-tutorial-time-series-modeling/ "
   ]
  },
  {
   "cell_type": "code",
   "execution_count": 240,
   "metadata": {
    "ExecuteTime": {
     "end_time": "2020-10-15T11:09:47.104279Z",
     "start_time": "2020-10-15T11:09:47.064Z"
    },
    "scrolled": false
   },
   "outputs": [],
   "source": [
    "# install.packages('tseries')\n",
    "# install.packages(\"uroot\")\n",
    "library(tseries)\n",
    "options(warn=-1)"
   ]
  },
  {
   "cell_type": "code",
   "execution_count": 241,
   "metadata": {
    "ExecuteTime": {
     "end_time": "2020-10-15T11:09:47.496707Z",
     "start_time": "2020-10-15T11:09:47.316Z"
    },
    "scrolled": true
   },
   "outputs": [
    {
     "data": {
      "text/plain": [
       "\n",
       "\tAugmented Dickey-Fuller Test\n",
       "\n",
       "data:  data_ts\n",
       "Dickey-Fuller = -7.3186, Lag order = 5, p-value = 0.01\n",
       "alternative hypothesis: stationary\n"
      ]
     },
     "metadata": {},
     "output_type": "display_data"
    }
   ],
   "source": [
    "#Testing the stationarity of the data\n",
    "#Augmented Dickey-Fuller Test\n",
    "adf.test(data_ts)"
   ]
  },
  {
   "cell_type": "markdown",
   "metadata": {},
   "source": [
    "the p-value is 0.01 which is <0.05, therefore, we reject the null hypothesis and hence time series is stationary.\n",
    "\n"
   ]
  },
  {
   "cell_type": "markdown",
   "metadata": {},
   "source": [
    "### How to make a Time Series Stationary?\n",
    "A time series can be broken down into 3 major components.<br>\n",
    "**Trend:** Upward & downward movement of the data with time over a large period of time (i.e. house appreciation)<br>\n",
    "**Seasonality:** Seasonal variance (i.e. an increase in demand for ice cream during summer)<br>\n",
    "**Noise:** Spikes & troughs at random intervals\n",
    "\n",
    "\n",
    "<br>**Eliminating Trend and Seasonality**\n",
    "The simple trend reduction techniques discussed before don’t work in all cases, particularly the ones with high seasonality. Lets discuss two ways of removing trend and seasonality:\n",
    "\n",
    "1. Differencing – taking the difference with a particular time lag\n",
    "2. Decomposition – modeling both trend and seasonality and removing them from the model."
   ]
  },
  {
   "cell_type": "markdown",
   "metadata": {},
   "source": [
    "<a class=\"list-group-item list-group-item-action\" data-toggle=\"list\" href=\"#Forecasting\" role=\"tab\" aria-controls=\"profile\">Go to top<span class=\"badge badge-primary badge-pill\"></span></a>\n"
   ]
  },
  {
   "cell_type": "markdown",
   "metadata": {},
   "source": [
    "## Differencing\n",
    "One of the most common methods of dealing with both trend and seasonality is differencing. In this technique, we take the difference of the observation at a particular instant with that at the previous instant. This mostly works well in improving stationarity. First order differencing can be done in Pandas as:"
   ]
  },
  {
   "cell_type": "code",
   "execution_count": 242,
   "metadata": {
    "ExecuteTime": {
     "end_time": "2020-10-15T11:10:16.199471Z",
     "start_time": "2020-10-15T11:10:16.075Z"
    },
    "scrolled": false
   },
   "outputs": [
    {
     "data": {
      "image/png": "[encoded data removed]",
      "text/plain": [
       "plot without title"
      ]
     },
     "metadata": {
      "image/png": {
       "height": 420,
       "width": 420
      }
     },
     "output_type": "display_data"
    }
   ],
   "source": [
    "## twice-difference the CO2 data\n",
    "co2.D2 <- diff(data_ts, differences = 2)   \n",
    "# differences -- means the data has diffrenced for two time to make it stationary\n",
    "## plot the differenced data\n",
    "plot(co2.D2)"
   ]
  },
  {
   "cell_type": "markdown",
   "metadata": {},
   "source": [
    "<a class=\"list-group-item list-group-item-action\" data-toggle=\"list\" href=\"#Forecasting\" role=\"tab\" aria-controls=\"profile\">Go to top<span class=\"badge badge-primary badge-pill\"></span></a>\n"
   ]
  },
  {
   "cell_type": "markdown",
   "metadata": {},
   "source": [
    "## Decomposing\n",
    "In this approach, both trend and seasonality are modeled separately and the remaining part of the series is returned."
   ]
  },
  {
   "cell_type": "code",
   "execution_count": 243,
   "metadata": {
    "ExecuteTime": {
     "end_time": "2020-10-15T11:10:17.776876Z",
     "start_time": "2020-10-15T11:10:17.648Z"
    },
    "scrolled": false
   },
   "outputs": [
    {
     "data": {
      "image/png": "[encoded data removed]",
      "text/plain": [
       "plot without title"
      ]
     },
     "metadata": {
      "image/png": {
       "height": 420,
       "width": 420
      }
     },
     "output_type": "display_data"
    }
   ],
   "source": [
    "#Decomposing the data into its trend, seasonal, and random error components\n",
    "# The multiplicative model is useful when the seasonal variation increases over time\n",
    "# The additive model is useful when the seasonal variation is relatively constant over time.\n",
    "# from multiplicative and additive can be used as per the TS \n",
    "tsdata_decom <- decompose(data_ts, type = \"multiplicative\")\n",
    "plot(tsdata_decom)"
   ]
  },
  {
   "cell_type": "markdown",
   "metadata": {},
   "source": [
    "<a class=\"list-group-item list-group-item-action\" data-toggle=\"list\" href=\"#Forecasting\" role=\"tab\" aria-controls=\"profile\">Go to top<span class=\"badge badge-primary badge-pill\"></span></a>\n"
   ]
  },
  {
   "cell_type": "markdown",
   "metadata": {},
   "source": [
    "# Univariate Forecasting techniques "
   ]
  },
  {
   "cell_type": "markdown",
   "metadata": {},
   "source": [
    "# Naive Approach"
   ]
  },
  {
   "cell_type": "markdown",
   "metadata": {},
   "source": [
    "In the Naïve model, the forecasts for every horizon correspond to the last observed value.\n",
    "<br>**Ŷ(t+h|t) = Y(t)**\n",
    "<br>This kind of forecast assumes that the stochastic model generating the time series is a random walk."
   ]
  },
  {
   "cell_type": "code",
   "execution_count": 244,
   "metadata": {
    "ExecuteTime": {
     "end_time": "2020-10-15T11:10:19.645707Z",
     "start_time": "2020-10-15T11:10:19.529Z"
    },
    "scrolled": false
   },
   "outputs": [
    {
     "name": "stdout",
     "output_type": "stream",
     "text": [
      "\n",
      "Forecast method: Naive method\n",
      "\n",
      "Model Information:\n",
      "Call: naive(y = dat_ts, h = 12) \n",
      "\n",
      "Residual sd: 31.3321 \n",
      "\n",
      "Error measures:\n",
      "                   ME     RMSE      MAE       MPE     MAPE     MASE      ACF1\n",
      "Training set 2.236641 31.33213 24.08397 0.4168179 8.979488 0.790935 0.2863378\n",
      "\n",
      "Forecasts:\n",
      "         Point Forecast    Lo 80    Hi 80    Lo 95    Hi 95\n",
      "Jan 1960            405 364.8463 445.1537 343.5902 466.4098\n",
      "Feb 1960            405 348.2140 461.7860 318.1534 491.8466\n",
      "Mar 1960            405 335.4517 474.5483 298.6350 511.3650\n",
      "Apr 1960            405 324.6925 485.3075 282.1803 527.8197\n",
      "May 1960            405 315.2135 494.7865 267.6834 542.3166\n",
      "Jun 1960            405 306.6438 503.3562 254.5772 555.4228\n",
      "Jul 1960            405 298.7632 511.2368 242.5248 567.4752\n",
      "Aug 1960            405 291.4281 518.5719 231.3067 578.6933\n",
      "Sep 1960            405 284.5388 525.4612 220.7705 589.2295\n",
      "Oct 1960            405 278.0227 531.9773 210.8050 599.1950\n",
      "Nov 1960            405 271.8251 538.1749 201.3266 608.6734\n",
      "Dec 1960            405 265.9034 544.0966 192.2701 617.7299\n"
     ]
    },
    {
     "data": {
      "image/png": "[encoded data removed]",
      "text/plain": [
       "Plot with title \"Forecasts from Naive method\""
      ]
     },
     "metadata": {
      "image/png": {
       "height": 420,
       "width": 420
      }
     },
     "output_type": "display_data"
    }
   ],
   "source": [
    "library(forecast)\n",
    "\n",
    "naive_mod <- naive(dat_ts, h=12)\n",
    "summary(naive_mod)\n",
    "plot(forecast(naive_mod), col=\"red\", xlab=\"Time\", ylab=\"Passengers\")"
   ]
  },
  {
   "cell_type": "markdown",
   "metadata": {},
   "source": [
    "The output above shows that the naive method predicts the same value for the entire forecasting horizon. compute the Forecasted value and evaluate the model performance on the test data."
   ]
  },
  {
   "cell_type": "code",
   "execution_count": 245,
   "metadata": {
    "ExecuteTime": {
     "end_time": "2020-10-15T11:10:21.309741Z",
     "start_time": "2020-10-15T11:10:21.250Z"
    },
    "scrolled": false
   },
   "outputs": [
    {
     "data": {
      "text/html": [
       "14.2513384867722"
      ],
      "text/latex": [
       "14.2513384867722"
      ],
      "text/markdown": [
       "14.2513384867722"
      ],
      "text/plain": [
       "[1] 14.25134"
      ]
     },
     "metadata": {},
     "output_type": "display_data"
    }
   ],
   "source": [
    "# MAPE \n",
    "test$naive = 405\n",
    "mape(test$Passengers, test$naive) "
   ]
  },
  {
   "cell_type": "markdown",
   "metadata": {},
   "source": [
    "<a class=\"list-group-item list-group-item-action\" data-toggle=\"list\" href=\"#Forecasting\" role=\"tab\" aria-controls=\"profile\">Go to top<span class=\"badge badge-primary badge-pill\"></span></a>\n"
   ]
  },
  {
   "cell_type": "markdown",
   "metadata": {},
   "source": [
    "# Simple Moving Average\n",
    "Simple Moving Average (SMA) takes the average over some set number of time periods. So a 10 period SMA would be over 10 periods (usually meaning 10 trading days).\n",
    "The Simple Moving Average formula is a very basic arithmetic mean over the number of periods."
   ]
  },
  {
   "attachments": {
    "Simple%20Moving%20average.PNG": {
     "image/png": "[encoded data removed]"
    }
   },
   "cell_type": "markdown",
   "metadata": {},
   "source": [
    "![Simple%20Moving%20average.PNG](attachment:Simple%20Moving%20average.PNG)"
   ]
  },
  {
   "cell_type": "code",
   "execution_count": 246,
   "metadata": {
    "ExecuteTime": {
     "end_time": "2020-10-15T11:10:23.089039Z",
     "start_time": "2020-10-15T11:10:23.056Z"
    },
    "scrolled": false
   },
   "outputs": [],
   "source": [
    "# install.packages('TTR')\n",
    "library(\"TTR\")"
   ]
  },
  {
   "cell_type": "code",
   "execution_count": 247,
   "metadata": {
    "ExecuteTime": {
     "end_time": "2020-10-15T11:10:24.934149Z",
     "start_time": "2020-10-15T11:10:23.902Z"
    },
    "scrolled": true
   },
   "outputs": [
    {
     "data": {
      "text/plain": [
       "         Point Forecast    Lo 80    Hi 80    Lo 95    Hi 95\n",
       "Jan 1960       441.2759 436.3153 446.2364 433.6893 448.8624\n",
       "Feb 1960       440.0994 432.8813 447.3175 429.0602 451.1386\n",
       "Mar 1960       445.5066 436.2860 454.7271 431.4050 459.6081\n",
       "Apr 1960       443.8833 432.9668 454.7999 427.1879 460.5787\n",
       "May 1960       436.9862 424.6360 449.3364 418.0982 455.8741\n",
       "Jun 1960       437.4568 423.5514 451.3621 416.1904 458.7232\n",
       "Jul 1960       448.5365 432.7417 464.3312 424.3805 472.6925\n",
       "Aug 1960       465.4364 447.4834 483.3894 437.9797 492.8931\n",
       "Sep 1960       479.3940 459.3168 499.4713 448.6885 510.0996\n",
       "Oct 1960       482.9280 461.1233 504.7327 449.5806 516.2754\n",
       "Nov 1960       477.1322 454.0424 500.2220 441.8195 512.4449\n",
       "Dec 1960       478.0376 453.3651 502.7101 440.3043 515.7709"
      ]
     },
     "metadata": {},
     "output_type": "display_data"
    }
   ],
   "source": [
    "sma =  SMA(dat_ts)\n",
    "pred = forecast(sma,h=12)\n",
    "pred"
   ]
  },
  {
   "cell_type": "code",
   "execution_count": 248,
   "metadata": {
    "ExecuteTime": {
     "end_time": "2020-10-15T11:10:33.805625Z",
     "start_time": "2020-10-15T11:10:33.751Z"
    },
    "scrolled": false
   },
   "outputs": [
    {
     "data": {
      "text/html": [
       "<style>\n",
       ".list-inline {list-style: none; margin:0; padding: 0}\n",
       ".list-inline>li {display: inline-block}\n",
       ".list-inline>li:not(:last-child)::after {content: \"\\00b7\"; padding: 0 .5ex}\n",
       "</style>\n",
       "<ol class=list-inline><li>417</li><li>391</li><li>419</li><li>461</li><li>472</li><li>535</li><li>622</li><li>606</li><li>508</li><li>461</li><li>390</li><li>432</li></ol>\n"
      ],
      "text/latex": [
       "\\begin{enumerate*}\n",
       "\\item 417\n",
       "\\item 391\n",
       "\\item 419\n",
       "\\item 461\n",
       "\\item 472\n",
       "\\item 535\n",
       "\\item 622\n",
       "\\item 606\n",
       "\\item 508\n",
       "\\item 461\n",
       "\\item 390\n",
       "\\item 432\n",
       "\\end{enumerate*}\n"
      ],
      "text/markdown": [
       "1. 417\n",
       "2. 391\n",
       "3. 419\n",
       "4. 461\n",
       "5. 472\n",
       "6. 535\n",
       "7. 622\n",
       "8. 606\n",
       "9. 508\n",
       "10. 461\n",
       "11. 390\n",
       "12. 432\n",
       "\n",
       "\n"
      ],
      "text/plain": [
       " [1] 417 391 419 461 472 535 622 606 508 461 390 432"
      ]
     },
     "metadata": {},
     "output_type": "display_data"
    }
   ],
   "source": [
    "# MAPE\n",
    "df_sma = as.data.frame(sma)\n",
    "df1_complete <- na.omit(df_sma)\n",
    "test$Passengers"
   ]
  },
  {
   "cell_type": "markdown",
   "metadata": {},
   "source": [
    "<a class=\"list-group-item list-group-item-action\" data-toggle=\"list\" href=\"#Forecasting\" role=\"tab\" aria-controls=\"profile\">Go to top<span class=\"badge badge-primary badge-pill\"></span></a>\n"
   ]
  },
  {
   "cell_type": "markdown",
   "metadata": {},
   "source": [
    "# Exponential Smoothing"
   ]
  },
  {
   "attachments": {
    "Simple%20ES.PNG": {
     "image/png": "[encoded data removed]"
    }
   },
   "cell_type": "markdown",
   "metadata": {},
   "source": [
    "Exponential Smoothing Methods are a family of forecasting models. **it uses weighted averages of past observations to forecast new values**. Here, the idea is to give more importance to recent values in the series. Thus, as observations get older (in time), the importance of these values get exponentially smaller.\n",
    "\n",
    "Simple exponential smoothing is a good choice for forecasting data with no clear trend or seasonal pattern. Forecasts are calculated using weighted averages, which means the largest weights are associated with most recent observations, while the smallest weights are associated with the oldest observations:\n",
    "<br>where 0≤ α ≤1 is the smoothing parameter.\n",
    "\n",
    "![Simple%20ES.PNG](attachment:Simple%20ES.PNG)"
   ]
  },
  {
   "cell_type": "code",
   "execution_count": 249,
   "metadata": {
    "ExecuteTime": {
     "end_time": "2020-10-15T11:10:35.687107Z",
     "start_time": "2020-10-15T11:10:35.128Z"
    },
    "scrolled": false
   },
   "outputs": [
    {
     "name": "stdout",
     "output_type": "stream",
     "text": [
      "\n",
      "Forecast method: Simple exponential smoothing\n",
      "\n",
      "Model Information:\n",
      "Simple exponential smoothing \n",
      "\n",
      "Call:\n",
      " ses(y = dat_ts, h = 12) \n",
      "\n",
      "  Smoothing parameters:\n",
      "    alpha = 0.9999 \n",
      "\n",
      "  Initial states:\n",
      "    l = 112.015 \n",
      "\n",
      "  sigma:  31.4533\n",
      "\n",
      "     AIC     AICc      BIC \n",
      "1558.920 1559.107 1567.568 \n",
      "\n",
      "Error measures:\n",
      "                   ME     RMSE      MAE       MPE     MAPE      MASE      ACF1\n",
      "Training set 2.219773 31.21412 23.90229 0.4135676 8.911792 0.7849683 0.2863262\n",
      "\n",
      "Forecasts:\n",
      "         Point Forecast    Lo 80    Hi 80    Lo 95    Hi 95\n",
      "Jan 1960       404.9957 364.6867 445.3047 343.3483 466.6431\n",
      "Feb 1960       404.9957 347.9930 461.9984 317.8175 492.1739\n",
      "Mar 1960       404.9957 335.1830 474.8084 298.2264 511.7649\n",
      "Apr 1960       404.9957 324.3837 485.6077 281.7102 528.2812\n",
      "May 1960       404.9957 314.8691 495.1223 267.1590 542.8324\n",
      "Jun 1960       404.9957 306.2673 503.7241 254.0037 555.9877\n",
      "Jul 1960       404.9957 298.3571 511.6343 241.9061 568.0853\n",
      "Aug 1960       404.9957 290.9945 518.9969 230.6459 579.3455\n",
      "Sep 1960       404.9957 284.0793 525.9121 220.0700 589.9214\n",
      "Oct 1960       404.9957 277.5388 532.4526 210.0672 599.9242\n",
      "Nov 1960       404.9957 271.3179 538.6735 200.5531 609.4383\n",
      "Dec 1960       404.9957 265.3739 544.6175 191.4625 618.5289\n"
     ]
    },
    {
     "data": {
      "image/png": "[encoded data removed]",
      "text/plain": [
       "Plot with title \"Forecasts from Simple exponential smoothing\""
      ]
     },
     "metadata": {
      "image/png": {
       "height": 420,
       "width": 420
      }
     },
     "output_type": "display_data"
    }
   ],
   "source": [
    "library(forecast)\n",
    "se_model <- ses(dat_ts, h = 12)\n",
    "summary(se_model)\n",
    "plot(forecast(se_model), col=\"red\", xlab=\"Time\", ylab=\"Passengers\")"
   ]
  },
  {
   "cell_type": "markdown",
   "metadata": {},
   "source": [
    "evaluation of model performance on the test data.\n",
    "\n",
    "The first line of code below stores the output of the model in a data frame. The second line adds a new variable, simplexp, in the test data which contains the forecasted value from the simple exponential model"
   ]
  },
  {
   "cell_type": "code",
   "execution_count": 250,
   "metadata": {
    "ExecuteTime": {
     "end_time": "2020-10-15T11:10:35.751061Z",
     "start_time": "2020-10-15T11:10:35.651Z"
    },
    "scrolled": false
   },
   "outputs": [
    {
     "data": {
      "text/html": [
       "14.2518951121403"
      ],
      "text/latex": [
       "14.2518951121403"
      ],
      "text/markdown": [
       "14.2518951121403"
      ],
      "text/plain": [
       "[1] 14.2519"
      ]
     },
     "metadata": {},
     "output_type": "display_data"
    }
   ],
   "source": [
    "# MAPE\n",
    "df_fc = as.data.frame(se_model)\n",
    "test$simplexp = df_fc$`Point Forecast`\n",
    "mape(test$Passengers, test$simplexp)"
   ]
  },
  {
   "cell_type": "markdown",
   "metadata": {},
   "source": [
    "<a class=\"list-group-item list-group-item-action\" data-toggle=\"list\" href=\"#Forecasting\" role=\"tab\" aria-controls=\"profile\">Go to top<span class=\"badge badge-primary badge-pill\"></span></a>\n"
   ]
  },
  {
   "cell_type": "markdown",
   "metadata": {},
   "source": [
    "# Holt’s Method\n",
    "Holt extended simple exponential smoothing (solution to data with no clear trend or seasonality) to **allow the forecasting of data with trends**. Holt’s method involves a forecast equation and two smoothing equations (one for the level and one for the trend)<bR>\n",
    "where 0≤ α ≤1 is the level smoothing parameter, and 0≤ β* ≤1 is the trend smoothing parameter."
   ]
  },
  {
   "cell_type": "code",
   "execution_count": 251,
   "metadata": {
    "ExecuteTime": {
     "end_time": "2020-10-15T11:10:36.752198Z",
     "start_time": "2020-10-15T11:10:36.598Z"
    }
   },
   "outputs": [
    {
     "name": "stdout",
     "output_type": "stream",
     "text": [
      "\n",
      "Forecast method: Holt's method\n",
      "\n",
      "Model Information:\n",
      "Holt's method \n",
      "\n",
      "Call:\n",
      " holt(y = dat_ts, h = 12) \n",
      "\n",
      "  Smoothing parameters:\n",
      "    alpha = 0.9996 \n",
      "    beta  = 1e-04 \n",
      "\n",
      "  Initial states:\n",
      "    l = 120.1255 \n",
      "    b = 2.0887 \n",
      "\n",
      "  sigma:  31.6347\n",
      "\n",
      "     AIC     AICc      BIC \n",
      "1562.391 1562.868 1576.805 \n",
      "\n",
      "Error measures:\n",
      "                     ME     RMSE     MAE        MPE     MAPE     MASE      ACF1\n",
      "Training set 0.06902756 31.15172 23.8295 -0.5842125 8.965372 0.782578 0.2860526\n",
      "\n",
      "Forecasts:\n",
      "         Point Forecast    Lo 80    Hi 80    Lo 95    Hi 95\n",
      "Jan 1960       407.0734 366.5319 447.6149 345.0705 469.0763\n",
      "Feb 1960       409.1630 351.8371 466.4888 321.4906 496.8353\n",
      "Mar 1960       411.2525 341.0441 481.4610 303.8780 518.6271\n",
      "Apr 1960       413.3421 332.2710 494.4132 289.3546 537.3297\n",
      "May 1960       415.4317 324.7887 506.0747 276.8052 554.0582\n",
      "Jun 1960       417.5213 318.2232 516.8194 265.6580 569.3846\n",
      "Jul 1960       419.6109 312.3524 526.8694 255.5731 583.6486\n",
      "Aug 1960       421.7005 307.0314 536.3696 246.3292 597.0717\n",
      "Sep 1960       423.7900 302.1597 545.4204 237.7724 609.8076\n",
      "Oct 1960       425.8796 297.6641 554.0951 229.7909 621.9683\n",
      "Nov 1960       427.9692 293.4894 562.4490 222.3001 633.6383\n",
      "Dec 1960       430.0588 289.5926 570.5250 215.2343 644.8833\n"
     ]
    },
    {
     "data": {
      "image/png": "[encoded data removed]",
      "text/plain": [
       "Plot with title \"Forecasts from Holt's method\""
      ]
     },
     "metadata": {
      "image/png": {
       "height": 420,
       "width": 420
      }
     },
     "output_type": "display_data"
    }
   ],
   "source": [
    "library(forecast) \n",
    "holt_model <- holt(dat_ts, h = 12)\n",
    "summary(holt_model)\n",
    "plot(forecast(holt_model), col=\"red\", xlab=\"Time\", ylab=\"Passengers\")"
   ]
  },
  {
   "cell_type": "code",
   "execution_count": 252,
   "metadata": {
    "ExecuteTime": {
     "end_time": "2020-10-15T11:10:36.976040Z",
     "start_time": "2020-10-15T11:10:36.921Z"
    },
    "scrolled": false
   },
   "outputs": [
    {
     "data": {
      "text/html": [
       "12.5405983033639"
      ],
      "text/latex": [
       "12.5405983033639"
      ],
      "text/markdown": [
       "12.5405983033639"
      ],
      "text/plain": [
       "[1] 12.5406"
      ]
     },
     "metadata": {},
     "output_type": "display_data"
    }
   ],
   "source": [
    "# MAPE\n",
    "df_holt = as.data.frame(holt_model)\n",
    "test$holt = df_holt$`Point Forecast`\n",
    "mape(test$Passengers, test$holt)"
   ]
  },
  {
   "cell_type": "markdown",
   "metadata": {},
   "source": [
    "<a class=\"list-group-item list-group-item-action\" data-toggle=\"list\" href=\"#Forecasting\" role=\"tab\" aria-controls=\"profile\">Go to top<span class=\"badge badge-primary badge-pill\"></span></a>\n"
   ]
  },
  {
   "cell_type": "markdown",
   "metadata": {},
   "source": [
    "# Holt-Winters’ Method\n",
    "Holt-Winters’ Method is suitable for data with trends and seasonalities which includes a seasonality smoothing parameter γ. There are two variations to this method:\n",
    "1. Additive method: the seasonal variations are roughly constant through the series.\n",
    "2. Multiplicative method: the seasonal variations are changing proportionally to the level of the series.\n",
    "<br>full Holt-Winters’ method including a trend component and a seasonal component. Statsmodels allows for all the combinations including as shown in the examples below:"
   ]
  },
  {
   "cell_type": "code",
   "execution_count": 253,
   "metadata": {
    "ExecuteTime": {
     "end_time": "2020-10-15T11:10:38.811366Z",
     "start_time": "2020-10-15T11:10:38.694Z"
    },
    "scrolled": false
   },
   "outputs": [
    {
     "data": {
      "text/plain": [
       "             Length Class  Mode     \n",
       "fitted       480    mts    numeric  \n",
       "x            132    ts     numeric  \n",
       "alpha          1    -none- numeric  \n",
       "beta           1    -none- numeric  \n",
       "gamma          1    -none- numeric  \n",
       "coefficients  14    -none- numeric  \n",
       "seasonal       1    -none- character\n",
       "SSE            1    -none- numeric  \n",
       "call           2    -none- call     "
      ]
     },
     "metadata": {},
     "output_type": "display_data"
    },
    {
     "data": {
      "image/png": "[encoded data removed]",
      "text/plain": [
       "Plot with title \"Forecasts from HoltWinters\""
      ]
     },
     "metadata": {
      "image/png": {
       "height": 420,
       "width": 420
      }
     },
     "output_type": "display_data"
    }
   ],
   "source": [
    "library(forecast)\n",
    "holtw <- HoltWinters(dat_ts)\n",
    "plot(forecast(holtw,12), col=\"red\", xlab=\"Time\", ylab=\"Passengers\")\n",
    "summary(holtw)"
   ]
  },
  {
   "cell_type": "code",
   "execution_count": 254,
   "metadata": {
    "ExecuteTime": {
     "end_time": "2020-10-15T11:10:40.594072Z",
     "start_time": "2020-10-15T11:10:40.517Z"
    }
   },
   "outputs": [
    {
     "data": {
      "text/html": [
       "5.64150258428401"
      ],
      "text/latex": [
       "5.64150258428401"
      ],
      "text/markdown": [
       "5.64150258428401"
      ],
      "text/plain": [
       "[1] 5.641503"
      ]
     },
     "metadata": {},
     "output_type": "display_data"
    }
   ],
   "source": [
    "# MAPE\n",
    "df_holt = as.data.frame(forecast(holtw))\n",
    "mape(test$Passengers, df_holt$'Point Forecast')"
   ]
  },
  {
   "cell_type": "markdown",
   "metadata": {},
   "source": [
    "<a class=\"list-group-item list-group-item-action\" data-toggle=\"list\" href=\"#Forecasting\" role=\"tab\" aria-controls=\"profile\">Go to top<span class=\"badge badge-primary badge-pill\"></span></a>\n"
   ]
  },
  {
   "cell_type": "markdown",
   "metadata": {},
   "source": [
    "# ACF & PACF\n",
    "\n",
    "**Autocorrelation function plot (ACF):**<br>\n",
    "Autocorrelation refers to how correlated a time series is with its past values whereas the ACF is the plot used to see the correlation between the points, up to and including the lag unit. In ACF, the correlation coefficient is in the x-axis whereas the number of lags is shown in the y-axis.\n",
    "\n",
    "**Partial Autocorrelation Function plots (PACF):** A partial autocorrelation is a summary of the relationship between an observation in a time series with observations at prior time steps with the relationships of intervening observations removed or the partial autocorrelation at lag k is the correlation that results after removing the effect of any correlations due to the terms at shorter lags."
   ]
  },
  {
   "cell_type": "code",
   "execution_count": 255,
   "metadata": {
    "ExecuteTime": {
     "end_time": "2020-10-15T11:10:42.591111Z",
     "start_time": "2020-10-15T11:10:41.935Z"
    },
    "scrolled": false
   },
   "outputs": [
    {
     "data": {
      "image/png": "[encoded data removed]",
      "text/plain": [
       "Plot with title \"Series  dat_ts\""
      ]
     },
     "metadata": {
      "image/png": {
       "height": 420,
       "width": 420
      }
     },
     "output_type": "display_data"
    }
   ],
   "source": [
    "library(forecast)\n",
    "Acf(dat_ts)"
   ]
  },
  {
   "cell_type": "code",
   "execution_count": 256,
   "metadata": {
    "ExecuteTime": {
     "end_time": "2020-10-15T11:10:42.687002Z",
     "start_time": "2020-10-15T11:10:42.614Z"
    },
    "scrolled": false
   },
   "outputs": [
    {
     "data": {
      "image/png": "[encoded data removed]",
      "text/plain": [
       "Plot with title \"Series  dat_ts\""
      ]
     },
     "metadata": {
      "image/png": {
       "height": 420,
       "width": 420
      }
     },
     "output_type": "display_data"
    }
   ],
   "source": [
    "# library(forecast)\n",
    "Pacf(dat_ts)"
   ]
  },
  {
   "cell_type": "markdown",
   "metadata": {},
   "source": [
    "<a class=\"list-group-item list-group-item-action\" data-toggle=\"list\" href=\"#Forecasting\" role=\"tab\" aria-controls=\"profile\">Go to top<span class=\"badge badge-primary badge-pill\"></span></a>\n"
   ]
  },
  {
   "cell_type": "markdown",
   "metadata": {},
   "source": [
    "# AR Model\n",
    "RIMA, short for ‘Auto Regressive Integrated Moving Average’ is actually a class of models that ‘explains’ a given time series based on its own past values, that is, its own lags and the lagged forecast errors, so that equation can be used to forecast future values.<br>\n",
    "There are seasonal and Non-seasonal ARIMA models that can be used for forecasting\n",
    "The predictors depend on the parameters (p,d,q) of the ARIMA model:\n",
    "\n",
    "**Number of AR (Auto-Regressive) terms (p):** Partial autocorrelation can be imagined as the correlation between the series and its lag, after excluding the contributions from the intermediate lags. So, PACF sort of conveys the pure correlation between a lag and the series. For instance if p is 5, the predictors for x(t) will be x(t-1)….x(t-5)<br>"
   ]
  },
  {
   "cell_type": "code",
   "execution_count": 257,
   "metadata": {
    "ExecuteTime": {
     "end_time": "2020-10-15T11:10:44.148576Z",
     "start_time": "2020-10-15T11:10:43.959Z"
    },
    "scrolled": false
   },
   "outputs": [
    {
     "data": {
      "text/plain": [
       "\n",
       "Call:\n",
       "arima(x = dat_ts, order = c(1, 0, 0))\n",
       "\n",
       "Coefficients:\n",
       "         ar1  intercept\n",
       "      0.9618   261.5006\n",
       "s.e.  0.0233    60.2964\n",
       "\n",
       "sigma^2 estimated as 965.5:  log likelihood = -642.19,  aic = 1290.38"
      ]
     },
     "metadata": {},
     "output_type": "display_data"
    }
   ],
   "source": [
    "library(forecast)\n",
    "ar_model<-arima(dat_ts,c(1,0,0))\n",
    "ar_model"
   ]
  },
  {
   "cell_type": "code",
   "execution_count": 258,
   "metadata": {
    "ExecuteTime": {
     "end_time": "2020-10-15T11:10:46.347573Z",
     "start_time": "2020-10-15T11:10:46.308Z"
    },
    "scrolled": false
   },
   "outputs": [],
   "source": [
    "# Predicting the test value using ar model\n",
    "ar_forecast <- as.data.frame(predict(ar_model, n.ahead=12))\n"
   ]
  },
  {
   "cell_type": "markdown",
   "metadata": {},
   "source": [
    "**Plot the Forecast**<br>\n",
    "plot.ts() function use to first plot the original data and then add points for the forecasted values using the points() function as shown below:"
   ]
  },
  {
   "cell_type": "code",
   "execution_count": 259,
   "metadata": {
    "ExecuteTime": {
     "end_time": "2020-10-15T11:10:48.446024Z",
     "start_time": "2020-10-15T11:10:48.359Z"
    },
    "scrolled": false
   },
   "outputs": [
    {
     "data": {
      "image/png": "[encoded data removed]",
      "text/plain": [
       "plot without title"
      ]
     },
     "metadata": {
      "image/png": {
       "height": 420,
       "width": 420
      }
     },
     "output_type": "display_data"
    }
   ],
   "source": [
    "plot.ts(data_ts)\n",
    "points(ar_forecast$pred , type = \"l\", col = 2)"
   ]
  },
  {
   "cell_type": "code",
   "execution_count": 260,
   "metadata": {
    "ExecuteTime": {
     "end_time": "2020-10-15T11:10:49.323871Z",
     "start_time": "2020-10-15T11:10:49.269Z"
    }
   },
   "outputs": [
    {
     "data": {
      "text/html": [
       "19.7095219916492"
      ],
      "text/latex": [
       "19.7095219916492"
      ],
      "text/markdown": [
       "19.7095219916492"
      ],
      "text/plain": [
       "[1] 19.70952"
      ]
     },
     "metadata": {},
     "output_type": "display_data"
    }
   ],
   "source": [
    "# MAPE\n",
    "mape(test$Passengers, ar_forecast$pred)"
   ]
  },
  {
   "cell_type": "markdown",
   "metadata": {},
   "source": [
    "<a class=\"list-group-item list-group-item-action\" data-toggle=\"list\" href=\"#Forecasting\" role=\"tab\" aria-controls=\"profile\">Go to top<span class=\"badge badge-primary badge-pill\"></span></a>\n"
   ]
  },
  {
   "cell_type": "markdown",
   "metadata": {},
   "source": [
    "# MA Model\n",
    "**Number of MA (Moving Average) terms (q):** MA terms are lagged forecast errors in prediction equation. For instance if q is 5, the predictors for x(t) will be e(t-1)….e(t-5) where e(i) is the difference between the moving average at ith instant and actual value<br>\n"
   ]
  },
  {
   "cell_type": "code",
   "execution_count": 284,
   "metadata": {
    "ExecuteTime": {
     "end_time": "2020-10-15T12:10:10.120478Z",
     "start_time": "2020-10-15T12:10:10.018Z"
    },
    "scrolled": false
   },
   "outputs": [
    {
     "data": {
      "text/plain": [
       "   Min. 1st Qu.  Median    Mean 3rd Qu.    Max.    NA's \n",
       "  126.8   182.4   239.1   260.5   345.1   425.5      12 "
      ]
     },
     "metadata": {},
     "output_type": "display_data"
    },
    {
     "data": {
      "image/png": "[encoded data removed]",
      "text/plain": [
       "plot without title"
      ]
     },
     "metadata": {
      "image/png": {
       "height": 420,
       "width": 420
      }
     },
     "output_type": "display_data"
    }
   ],
   "source": [
    "library(forecast)\n",
    "\n",
    "plot(dat_ts)\n",
    "ma_model <- ma(dat_ts,order = 12)\n",
    "lines(ma_model, col=\"red\")\n",
    "summary(ma_model)"
   ]
  },
  {
   "cell_type": "code",
   "execution_count": 285,
   "metadata": {
    "ExecuteTime": {
     "end_time": "2020-10-15T12:10:13.031185Z",
     "start_time": "2020-10-15T12:10:12.282Z"
    }
   },
   "outputs": [
    {
     "data": {
      "text/html": [
       "13.0586092814793"
      ],
      "text/latex": [
       "13.0586092814793"
      ],
      "text/markdown": [
       "13.0586092814793"
      ],
      "text/plain": [
       "[1] 13.05861"
      ]
     },
     "metadata": {},
     "output_type": "display_data"
    }
   ],
   "source": [
    "f_cast = forecast(ma_model,18) \n",
    "# MAPE\n",
    "mape(test$Passengers, f_cast$mean[7:18])"
   ]
  },
  {
   "cell_type": "markdown",
   "metadata": {},
   "source": [
    "<a class=\"list-group-item list-group-item-action\" data-toggle=\"list\" href=\"#Forecasting\" role=\"tab\" aria-controls=\"profile\">Go to top<span class=\"badge badge-primary badge-pill\"></span></a>\n"
   ]
  },
  {
   "cell_type": "markdown",
   "metadata": {},
   "source": [
    "# ARIMA Model\n",
    "\n",
    "ARIMA, short for ‘Auto Regressive Integrated Moving Average’ is actually a class of models that ‘explains’ a given time series based on its own past values, that is, its own lags and the lagged forecast errors, so that equation can be used to forecast future values.\n",
    "There are seasonal and Non-seasonal ARIMA models that can be used for forecasting"
   ]
  },
  {
   "cell_type": "code",
   "execution_count": 305,
   "metadata": {
    "ExecuteTime": {
     "end_time": "2020-10-15T12:53:33.954305Z",
     "start_time": "2020-10-15T12:53:33.426Z"
    },
    "scrolled": false
   },
   "outputs": [
    {
     "name": "stdout",
     "output_type": "stream",
     "text": [
      "\n",
      "Call:\n",
      "arima(x = dat_ts, order = c(4, 1, 4))\n",
      "\n",
      "Coefficients:\n",
      "        ar1     ar2      ar3      ar4      ma1      ma2     ma3     ma4\n",
      "      0.013  0.9893  -0.1402  -0.7799  -0.0095  -1.4628  0.0634  0.8804\n",
      "s.e.  0.080  0.0873   0.0718   0.0721   0.0862   0.0903  0.0724  0.0767\n",
      "\n",
      "sigma^2 estimated as 518.7:  log likelihood = -598.53,  aic = 1215.06\n",
      "\n",
      "Training set error measures:\n",
      "                   ME     RMSE      MAE      MPE     MAPE      MASE       ACF1\n",
      "Training set 5.109689 22.68943 16.96178 1.581097 6.483126 0.7042769 0.04521609\n"
     ]
    },
    {
     "data": {
      "image/png": "[encoded data removed]",
      "text/plain": [
       "Plot with title \"Inverse MA roots\""
      ]
     },
     "metadata": {
      "image/png": {
       "height": 420,
       "width": 420
      }
     },
     "output_type": "display_data"
    },
    {
     "data": {
      "image/png": "[encoded data removed]",
      "text/plain": [
       "plot without title"
      ]
     },
     "metadata": {
      "image/png": {
       "height": 420,
       "width": 420
      }
     },
     "output_type": "display_data"
    }
   ],
   "source": [
    "library(forecast)\n",
    "arima_model <- arima(dat_ts,order = c(4,1,4))\n",
    "summary(arima_model)\n",
    "plot(arima_model)\n",
    "autoplot(arima_model)"
   ]
  },
  {
   "cell_type": "code",
   "execution_count": 306,
   "metadata": {
    "ExecuteTime": {
     "end_time": "2020-10-15T12:53:33.991247Z",
     "start_time": "2020-10-15T12:53:33.682Z"
    },
    "scrolled": true
   },
   "outputs": [
    {
     "data": {
      "text/html": [
       "7.86737184419184"
      ],
      "text/latex": [
       "7.86737184419184"
      ],
      "text/markdown": [
       "7.86737184419184"
      ],
      "text/plain": [
       "[1] 7.867372"
      ]
     },
     "metadata": {},
     "output_type": "display_data"
    }
   ],
   "source": [
    "fore_arima = forecast::forecast(arima_model, h=12)\n",
    "df_arima = as.data.frame(fore_arima)\n",
    "test$arima = df_arima$`Point Forecast`\n",
    "# MAPE\n",
    "mape(test$Passengers, test$arima)"
   ]
  },
  {
   "cell_type": "code",
   "execution_count": 307,
   "metadata": {
    "ExecuteTime": {
     "end_time": "2020-10-15T12:53:34.919266Z",
     "start_time": "2020-10-15T12:53:34.843Z"
    },
    "scrolled": false
   },
   "outputs": [
    {
     "data": {
      "image/png": "[encoded data removed]",
      "text/plain": [
       "plot without title"
      ]
     },
     "metadata": {
      "image/png": {
       "height": 420,
       "width": 420
      }
     },
     "output_type": "display_data"
    }
   ],
   "source": [
    "plot.ts(data_ts)\n",
    "points(fore_arima$mean , type = \"l\", col = 2)"
   ]
  },
  {
   "cell_type": "markdown",
   "metadata": {},
   "source": [
    "Taking it back to original scale\n",
    "Since the combined model gave best result, lets scale it back to the original values and see how well it performs there. First step would be to store the predicted results as a separate series and observe it."
   ]
  },
  {
   "cell_type": "markdown",
   "metadata": {},
   "source": [
    "<a class=\"list-group-item list-group-item-action\" data-toggle=\"list\" href=\"#Forecasting\" role=\"tab\" aria-controls=\"profile\">Go to top<span class=\"badge badge-primary badge-pill\"></span></a>\n"
   ]
  },
  {
   "cell_type": "markdown",
   "metadata": {},
   "source": [
    "# Seasonal ARIMA "
   ]
  },
  {
   "cell_type": "markdown",
   "metadata": {},
   "source": [
    "An extension to ARIMA that supports the direct modeling of the seasonal component of the series is called SARIMA.\n",
    "1. The limitations of ARIMA when it comes to seasonal data.\n",
    "2. The SARIMA extension of ARIMA that explicitly models the seasonal element in univariate data.\n",
    "<br>It adds three new hyperparameters to specify the autoregression (AR), differencing (I) and moving average (MA) for the seasonal component of the series, as well as an additional parameter for the period of the seasonality\n",
    "<br> Here the Seasonal Component are added i.e. P, Q, D and m (seasonal period)"
   ]
  },
  {
   "cell_type": "code",
   "execution_count": 324,
   "metadata": {
    "ExecuteTime": {
     "end_time": "2020-10-16T04:47:56.782401Z",
     "start_time": "2020-10-16T04:47:56.723Z"
    },
    "scrolled": true
   },
   "outputs": [],
   "source": [
    "pdqParam = c(0, 1, 1)\n",
    "manualFit <- arima(dat_ts, pdqParam, seasonal = list(order = pdqParam, period = 12))\n"
   ]
  },
  {
   "cell_type": "code",
   "execution_count": 326,
   "metadata": {
    "ExecuteTime": {
     "end_time": "2020-10-16T04:48:08.734024Z",
     "start_time": "2020-10-16T04:48:08.697Z"
    },
    "scrolled": true
   },
   "outputs": [
    {
     "name": "stdout",
     "output_type": "stream",
     "text": [
      "\n",
      "Call:\n",
      "arima(x = dat_ts, order = pdqParam, seasonal = list(order = pdqParam, period = 12))\n",
      "\n",
      "Coefficients:\n",
      "          ma1     sma1\n",
      "      -0.2167  -0.0843\n",
      "s.e.   0.0913   0.0849\n",
      "\n",
      "sigma^2 estimated as 108.6:  log likelihood = -447.86,  aic = 901.72\n",
      "\n",
      "Training set error measures:\n",
      "                    ME     RMSE      MAE       MPE     MAPE      MASE      ACF1\n",
      "Training set 0.5901905 9.896706 7.502005 0.1194352 2.865133 0.3114937 -0.012993\n"
     ]
    }
   ],
   "source": [
    "summary(manualFit)"
   ]
  },
  {
   "cell_type": "code",
   "execution_count": 327,
   "metadata": {
    "ExecuteTime": {
     "end_time": "2020-10-16T04:48:25.003656Z",
     "start_time": "2020-10-16T04:48:24.963Z"
    }
   },
   "outputs": [
    {
     "data": {
      "text/html": [
       "<style>\n",
       ".dl-inline {width: auto; margin:0; padding: 0}\n",
       ".dl-inline>dt, .dl-inline>dd {float: none; width: auto; display: inline-block}\n",
       ".dl-inline>dt::after {content: \":\\0020\"; padding-right: .5ex}\n",
       ".dl-inline>dt:not(:first-of-type) {padding-left: .5ex}\n",
       "</style><dl class=dl-inline><dt>p</dt><dd>0</dd><dt>d</dt><dd>1</dd><dt>q</dt><dd>1</dd><dt>P</dt><dd>0</dd><dt>D</dt><dd>1</dd><dt>Q</dt><dd>1</dd><dt>Frequency</dt><dd>12</dd></dl>\n"
      ],
      "text/latex": [
       "\\begin{description*}\n",
       "\\item[p] 0\n",
       "\\item[d] 1\n",
       "\\item[q] 1\n",
       "\\item[P] 0\n",
       "\\item[D] 1\n",
       "\\item[Q] 1\n",
       "\\item[Frequency] 12\n",
       "\\end{description*}\n"
      ],
      "text/markdown": [
       "p\n",
       ":   0d\n",
       ":   1q\n",
       ":   1P\n",
       ":   0D\n",
       ":   1Q\n",
       ":   1Frequency\n",
       ":   12\n",
       "\n"
      ],
      "text/plain": [
       "        p         d         q         P         D         Q Frequency \n",
       "        0         1         1         0         1         1        12 "
      ]
     },
     "metadata": {},
     "output_type": "display_data"
    }
   ],
   "source": [
    "arimaorder(manualFit)"
   ]
  },
  {
   "cell_type": "code",
   "execution_count": 310,
   "metadata": {
    "ExecuteTime": {
     "end_time": "2020-10-15T12:53:37.380017Z",
     "start_time": "2020-10-15T12:53:37.343Z"
    },
    "scrolled": true
   },
   "outputs": [],
   "source": [
    "autoPred = forecast(manualFit, h = 12)\n"
   ]
  },
  {
   "cell_type": "code",
   "execution_count": 311,
   "metadata": {
    "ExecuteTime": {
     "end_time": "2020-10-15T12:53:37.819313Z",
     "start_time": "2020-10-15T12:53:37.785Z"
    }
   },
   "outputs": [
    {
     "data": {
      "text/plain": [
       "         Point Forecast    Lo 80    Hi 80    Lo 95    Hi 95\n",
       "Jan 1960       422.9845 409.6266 436.3423 402.5554 443.4135\n",
       "Feb 1960       404.7081 387.7403 421.6760 378.7580 430.6583\n",
       "Mar 1960       467.0908 447.1563 487.0254 436.6036 497.5781\n",
       "Apr 1960       456.7989 434.2853 479.3125 422.3673 491.2305\n",
       "May 1960       479.9818 455.1556 504.8080 442.0134 517.9502\n",
       "Jun 1960       533.6253 506.6844 560.5663 492.4227 574.8280\n",
       "Jul 1960       607.8447 578.9432 636.7461 563.6438 652.0456\n",
       "Aug 1960       619.0059 588.2688 649.7430 571.9976 666.0142\n",
       "Sep 1960       522.8630 490.3939 555.3322 473.2057 572.5203\n",
       "Oct 1960       467.7106 433.5972 501.8239 415.5387 519.8825\n",
       "Nov 1960       422.4272 386.7453 458.1091 367.8564 476.9980\n",
       "Dec 1960       464.1092 426.9249 501.2936 407.2407 520.9778"
      ]
     },
     "metadata": {},
     "output_type": "display_data"
    }
   ],
   "source": [
    "autoPred"
   ]
  },
  {
   "cell_type": "code",
   "execution_count": 312,
   "metadata": {
    "ExecuteTime": {
     "end_time": "2020-10-15T12:53:38.184830Z",
     "start_time": "2020-10-15T12:53:38.148Z"
    },
    "scrolled": true
   },
   "outputs": [
    {
     "data": {
      "text/html": [
       "3.65238733494184"
      ],
      "text/latex": [
       "3.65238733494184"
      ],
      "text/markdown": [
       "3.65238733494184"
      ],
      "text/plain": [
       "[1] 3.652387"
      ]
     },
     "metadata": {},
     "output_type": "display_data"
    }
   ],
   "source": [
    "df = as.data.frame(autoPred)\n",
    "test$simplexp = df$'Point Forecast'\n",
    "mape(test$Passengers, test$simplexp)\n"
   ]
  },
  {
   "cell_type": "code",
   "execution_count": 313,
   "metadata": {
    "ExecuteTime": {
     "end_time": "2020-10-15T12:53:38.700478Z",
     "start_time": "2020-10-15T12:53:38.631Z"
    },
    "scrolled": false
   },
   "outputs": [
    {
     "data": {
      "image/png": "[encoded data removed]",
      "text/plain": [
       "plot without title"
      ]
     },
     "metadata": {
      "image/png": {
       "height": 420,
       "width": 420
      }
     },
     "output_type": "display_data"
    }
   ],
   "source": [
    "plot.ts(data_ts)\n",
    "points(autoPred$mean , type = \"l\", col = 2)"
   ]
  },
  {
   "cell_type": "markdown",
   "metadata": {},
   "source": [
    " <a class=\"list-group-item list-group-item-action\" data-toggle=\"list\" href=\"#Forecasting\" role=\"tab\" aria-controls=\"profile\">Go to top<span class=\"badge badge-primary badge-pill\"></span></a>\n"
   ]
  },
  {
   "cell_type": "markdown",
   "metadata": {
    "ExecuteTime": {
     "end_time": "2020-10-12T12:41:54.827588Z",
     "start_time": "2020-10-12T12:41:54.751Z"
    }
   },
   "source": [
    "# Auto-ARIMA\n",
    "\n",
    "Auto ARIMA/SARIMA is a powerful function provided by R's forecast package. As discussed above we were required to build plots and charts to find p,d and q and then impute the values in arima() but lets say we had more then 1000 time series.In that case it would be very difficult to find p,d and q of individual time series and hence we use auto.arima() which automatically finds the best p,d and q values using Hyndman-Khandakar algorithm.For further understanding you can refer the following link:\n",
    "https://otexts.com/fpp2/arima-r.html"
   ]
  },
  {
   "cell_type": "code",
   "execution_count": null,
   "metadata": {
    "ExecuteTime": {
     "end_time": "2020-10-13T12:00:51.908394Z",
     "start_time": "2020-10-13T12:00:51.863Z"
    }
   },
   "outputs": [],
   "source": []
  },
  {
   "cell_type": "code",
   "execution_count": 314,
   "metadata": {
    "ExecuteTime": {
     "end_time": "2020-10-15T12:53:40.081320Z",
     "start_time": "2020-10-15T12:53:40.060Z"
    }
   },
   "outputs": [],
   "source": [
    "library(forecast)"
   ]
  },
  {
   "cell_type": "code",
   "execution_count": 315,
   "metadata": {
    "ExecuteTime": {
     "end_time": "2020-10-15T12:53:40.388773Z",
     "start_time": "2020-10-15T12:53:40.356Z"
    }
   },
   "outputs": [
    {
     "data": {
      "text/html": [
       "'ts'"
      ],
      "text/latex": [
       "'ts'"
      ],
      "text/markdown": [
       "'ts'"
      ],
      "text/plain": [
       "[1] \"ts\""
      ]
     },
     "metadata": {},
     "output_type": "display_data"
    }
   ],
   "source": [
    "class(dat_ts) "
   ]
  },
  {
   "cell_type": "code",
   "execution_count": 316,
   "metadata": {
    "ExecuteTime": {
     "end_time": "2020-10-15T12:53:41.581590Z",
     "start_time": "2020-10-15T12:53:40.635Z"
    }
   },
   "outputs": [],
   "source": [
    "model = auto.arima(dat_ts,seasonal = FALSE)"
   ]
  },
  {
   "cell_type": "code",
   "execution_count": 317,
   "metadata": {
    "ExecuteTime": {
     "end_time": "2020-10-15T12:53:41.606549Z",
     "start_time": "2020-10-15T12:53:40.964Z"
    }
   },
   "outputs": [],
   "source": [
    "autoPred_non_seasonal = forecast(model,h=12)"
   ]
  },
  {
   "cell_type": "markdown",
   "metadata": {},
   "source": [
    "## To find the ARIMA order we can use arima order function which returns p,d,q values"
   ]
  },
  {
   "cell_type": "code",
   "execution_count": 318,
   "metadata": {
    "ExecuteTime": {
     "end_time": "2020-10-15T12:53:41.690494Z",
     "start_time": "2020-10-15T12:53:41.656Z"
    }
   },
   "outputs": [
    {
     "data": {
      "text/html": [
       "<style>\n",
       ".dl-inline {width: auto; margin:0; padding: 0}\n",
       ".dl-inline>dt, .dl-inline>dd {float: none; width: auto; display: inline-block}\n",
       ".dl-inline>dt::after {content: \":\\0020\"; padding-right: .5ex}\n",
       ".dl-inline>dt:not(:first-of-type) {padding-left: .5ex}\n",
       "</style><dl class=dl-inline><dt>p</dt><dd>4</dd><dt>d</dt><dd>1</dd><dt>q</dt><dd>4</dd></dl>\n"
      ],
      "text/latex": [
       "\\begin{description*}\n",
       "\\item[p] 4\n",
       "\\item[d] 1\n",
       "\\item[q] 4\n",
       "\\end{description*}\n"
      ],
      "text/markdown": [
       "p\n",
       ":   4d\n",
       ":   1q\n",
       ":   4\n",
       "\n"
      ],
      "text/plain": [
       "p d q \n",
       "4 1 4 "
      ]
     },
     "metadata": {},
     "output_type": "display_data"
    }
   ],
   "source": [
    "arimaorder(model)"
   ]
  },
  {
   "cell_type": "code",
   "execution_count": 319,
   "metadata": {
    "ExecuteTime": {
     "end_time": "2020-10-15T12:53:42.260541Z",
     "start_time": "2020-10-15T12:53:42.237Z"
    }
   },
   "outputs": [
    {
     "data": {
      "text/html": [
       "9.64751057669067"
      ],
      "text/latex": [
       "9.64751057669067"
      ],
      "text/markdown": [
       "9.64751057669067"
      ],
      "text/plain": [
       "[1] 9.647511"
      ]
     },
     "metadata": {},
     "output_type": "display_data"
    }
   ],
   "source": [
    "mape(test$Passengers, autoPred_non_seasonal$mean)"
   ]
  },
  {
   "cell_type": "code",
   "execution_count": 320,
   "metadata": {
    "ExecuteTime": {
     "end_time": "2020-10-15T12:53:43.378638Z",
     "start_time": "2020-10-15T12:53:42.551Z"
    }
   },
   "outputs": [
    {
     "data": {
      "text/html": [
       "4.18239527895942"
      ],
      "text/latex": [
       "4.18239527895942"
      ],
      "text/markdown": [
       "4.18239527895942"
      ],
      "text/plain": [
       "[1] 4.182395"
      ]
     },
     "metadata": {},
     "output_type": "display_data"
    }
   ],
   "source": [
    "model = auto.arima(dat_ts,seasonal = TRUE)\n",
    "autoPred_seasonal = forecast(model,h=12)\n",
    "mape(test$Passengers, autoPred_seasonal$mean)"
   ]
  },
  {
   "cell_type": "code",
   "execution_count": 321,
   "metadata": {
    "ExecuteTime": {
     "end_time": "2020-10-15T12:53:43.405566Z",
     "start_time": "2020-10-15T12:53:42.949Z"
    }
   },
   "outputs": [
    {
     "data": {
      "text/html": [
       "<style>\n",
       ".dl-inline {width: auto; margin:0; padding: 0}\n",
       ".dl-inline>dt, .dl-inline>dd {float: none; width: auto; display: inline-block}\n",
       ".dl-inline>dt::after {content: \":\\0020\"; padding-right: .5ex}\n",
       ".dl-inline>dt:not(:first-of-type) {padding-left: .5ex}\n",
       "</style><dl class=dl-inline><dt>p</dt><dd>1</dd><dt>d</dt><dd>1</dd><dt>q</dt><dd>0</dd><dt>P</dt><dd>0</dd><dt>D</dt><dd>1</dd><dt>Q</dt><dd>0</dd><dt>Frequency</dt><dd>12</dd></dl>\n"
      ],
      "text/latex": [
       "\\begin{description*}\n",
       "\\item[p] 1\n",
       "\\item[d] 1\n",
       "\\item[q] 0\n",
       "\\item[P] 0\n",
       "\\item[D] 1\n",
       "\\item[Q] 0\n",
       "\\item[Frequency] 12\n",
       "\\end{description*}\n"
      ],
      "text/markdown": [
       "p\n",
       ":   1d\n",
       ":   1q\n",
       ":   0P\n",
       ":   0D\n",
       ":   1Q\n",
       ":   0Frequency\n",
       ":   12\n",
       "\n"
      ],
      "text/plain": [
       "        p         d         q         P         D         Q Frequency \n",
       "        1         1         0         0         1         0        12 "
      ]
     },
     "metadata": {},
     "output_type": "display_data"
    }
   ],
   "source": [
    "# When the seasonal parameter is given true the values of p,d,q and P,D,Q is also available now\n",
    "arimaorder(model)"
   ]
  },
  {
   "cell_type": "code",
   "execution_count": 322,
   "metadata": {
    "ExecuteTime": {
     "end_time": "2020-10-15T12:53:43.816875Z",
     "start_time": "2020-10-15T12:53:43.781Z"
    }
   },
   "outputs": [
    {
     "data": {
      "text/plain": [
       "         Point Forecast    Lo 80    Hi 80    Lo 95    Hi 95\n",
       "Jan 1960       425.5702 396.3473 454.7931 380.8777 470.2627\n",
       "Feb 1960       432.2525 391.8385 472.6665 370.4446 494.0604\n",
       "Mar 1960       489.0878 446.7324 531.4432 424.3108 553.8648\n",
       "Apr 1960       499.4493 456.1639 542.7347 433.2499 565.6486\n",
       "May 1960       539.9511 496.5550 583.3472 473.5825 606.3197\n",
       "Jun 1960       539.7919 496.2399 583.3438 473.1848 606.3989\n",
       "Jul 1960       536.0011 492.3466 579.6556 469.2373 602.7649\n",
       "Aug 1960       525.4080 481.7460 569.0699 458.6328 592.1831\n",
       "Sep 1960       492.9301 447.9391 537.9212 424.1222 561.7381\n",
       "Oct 1960       486.2330 438.8782 533.5877 413.8101 558.6558\n",
       "Nov 1960       461.6871 408.8568 514.5173 380.8901 542.4840\n",
       "Dec 1960       470.2665 412.6859 527.8470 382.2046 558.3283"
      ]
     },
     "metadata": {},
     "output_type": "display_data"
    }
   ],
   "source": [
    "autoPred_non_seasonal"
   ]
  },
  {
   "cell_type": "code",
   "execution_count": 323,
   "metadata": {
    "ExecuteTime": {
     "end_time": "2020-10-15T12:53:44.468153Z",
     "start_time": "2020-10-15T12:53:44.404Z"
    }
   },
   "outputs": [
    {
     "data": {
      "image/png": "[encoded data removed]",
      "text/plain": [
       "plot without title"
      ]
     },
     "metadata": {
      "image/png": {
       "height": 420,
       "width": 420
      }
     },
     "output_type": "display_data"
    }
   ],
   "source": [
    "# plot of both seasonal auto arima and non seasonal auto arima\n",
    "plot.ts(data_ts)\n",
    "points(autoPred_seasonal$mean , type = \"l\", col = 2)\n",
    "points(autoPred_non_seasonal$mean , type = \"l\", col = 3)"
   ]
  },
  {
   "cell_type": "markdown",
   "metadata": {},
   "source": [
    "<a class=\"list-group-item list-group-item-action\" data-toggle=\"list\" href=\"#Forecasting\" role=\"tab\" aria-controls=\"profile\">Go to top<span class=\"badge badge-primary badge-pill\"></span></a>\n"
   ]
  },
  {
   "cell_type": "markdown",
   "metadata": {
    "ExecuteTime": {
     "end_time": "2020-10-14T07:13:25.522710Z",
     "start_time": "2020-10-14T07:13:25.496Z"
    }
   },
   "source": [
    "The green color indicates non seasonal auto arima where as the red one denotes the seasonal auto arima "
   ]
  },
  {
   "cell_type": "markdown",
   "metadata": {},
   "source": [
    "# TBATS model"
   ]
  },
  {
   "cell_type": "markdown",
   "metadata": {},
   "source": [
    "Time-series forecasting refers to the use of a model to predict future values based on previously observed values. Many researchers are familiar with time-series forecasting yet they struggle with specific types of time-series data. One such type of data is data with seasonality. There can be many types of seasonalities present (e.g., time of day, daily, weekly, monthly, yearly).<BR>\n",
    "\n",
    "TBATS is a forecasting method to model time series data.The main aim of this is to forecast time series with complex seasonal patterns using exponential smoothing."
   ]
  },
  {
   "cell_type": "markdown",
   "metadata": {},
   "source": [
    "TBATS is an acronym for key features of the model:\n",
    "\n",
    "1. T: Trigonometric seasonality\n",
    "2. B: Box-Cox transformation\n",
    "3. A: ARIMA errors\n",
    "4. T: Trend\n",
    "5. S: Seasonal components\n",
    "<br>TBATS makes it easy for users to handle data with multiple seasonal patterns. This model is preferable when the seasonality changes over time."
   ]
  },
  {
   "cell_type": "code",
   "execution_count": 109,
   "metadata": {
    "ExecuteTime": {
     "end_time": "2020-10-14T09:48:54.830321Z",
     "start_time": "2020-10-14T09:48:50.375Z"
    },
    "scrolled": false
   },
   "outputs": [
    {
     "data": {
      "text/plain": [
       "                  Length Class  Mode     \n",
       "lambda               1   -none- numeric  \n",
       "alpha                1   -none- numeric  \n",
       "beta                 1   -none- numeric  \n",
       "damping.parameter    1   -none- numeric  \n",
       "gamma.one.values     1   -none- numeric  \n",
       "gamma.two.values     1   -none- numeric  \n",
       "ar.coefficients      0   -none- NULL     \n",
       "ma.coefficients      0   -none- NULL     \n",
       "likelihood           1   -none- numeric  \n",
       "optim.return.code    1   -none- numeric  \n",
       "variance             1   -none- numeric  \n",
       "AIC                  1   -none- numeric  \n",
       "parameters           2   -none- list     \n",
       "seed.states         12   -none- numeric  \n",
       "fitted.values      132   ts     numeric  \n",
       "errors             132   ts     numeric  \n",
       "x                 1584   -none- numeric  \n",
       "seasonal.periods     1   -none- numeric  \n",
       "k.vector             1   -none- numeric  \n",
       "y                  132   ts     numeric  \n",
       "p                    1   -none- numeric  \n",
       "q                    1   -none- numeric  \n",
       "call                 2   -none- call     \n",
       "series               1   -none- character\n",
       "method               1   -none- character"
      ]
     },
     "metadata": {},
     "output_type": "display_data"
    }
   ],
   "source": [
    "library(forecast)\n",
    "model_tbats <- tbats(dat_ts)\n",
    "summary(model_tbats)"
   ]
  },
  {
   "cell_type": "code",
   "execution_count": 110,
   "metadata": {
    "ExecuteTime": {
     "end_time": "2020-10-14T09:48:54.884495Z",
     "start_time": "2020-10-14T09:48:54.775Z"
    },
    "scrolled": false
   },
   "outputs": [
    {
     "data": {
      "text/html": [
       "3.35414104003087"
      ],
      "text/latex": [
       "3.35414104003087"
      ],
      "text/markdown": [
       "3.35414104003087"
      ],
      "text/plain": [
       "[1] 3.354141"
      ]
     },
     "metadata": {},
     "output_type": "display_data"
    }
   ],
   "source": [
    "for_tbats <- forecast::forecast(model_tbats, h = 12)\n",
    "df_tbats = as.data.frame(for_tbats)\n",
    "test$tbats = df_tbats$`Point Forecast`\n",
    "mape(test$Passengers, test$tbats) "
   ]
  },
  {
   "cell_type": "code",
   "execution_count": 113,
   "metadata": {
    "ExecuteTime": {
     "end_time": "2020-10-14T09:49:42.739081Z",
     "start_time": "2020-10-14T09:49:42.672Z"
    },
    "scrolled": false
   },
   "outputs": [
    {
     "data": {
      "image/png": "[encoded data removed]",
      "text/plain": [
       "plot without title"
      ]
     },
     "metadata": {
      "image/png": {
       "height": 420,
       "width": 420
      }
     },
     "output_type": "display_data"
    }
   ],
   "source": [
    "plot.ts(data_ts)\n",
    "points(for_tbats$mean , type = \"l\", col = 2)"
   ]
  },
  {
   "cell_type": "markdown",
   "metadata": {},
   "source": [
    "<a class=\"list-group-item list-group-item-action\" data-toggle=\"list\" href=\"#Forecasting\" role=\"tab\" aria-controls=\"profile\">Go to top<span class=\"badge badge-primary badge-pill\"></span></a>\n"
   ]
  },
  {
   "cell_type": "markdown",
   "metadata": {},
   "source": [
    "# Model-Selection"
   ]
  },
  {
   "attachments": {
    "aic.PNG": {
     "image/png": "[encoded data removed]"
    }
   },
   "cell_type": "markdown",
   "metadata": {},
   "source": [
    "Model-selection is used in cases where we are dealing with multiple time series models and is required to select any one from them. In cases like these we use the approach of model selection based on a value called AIC. \n",
    "\n",
    "The Akaike information criterion (AIC) is a mathematical method for evaluating how well a model fits the data it was generated from. In statistics, AIC is used to compare different possible models and determine which one is the best fit for the data. AIC is calculated from:<br>\n",
    "\n",
    "the number of independent variables used to build the model.\n",
    "<br>\n",
    "the maximum likelihood estimate of the model (how well the model reproduces the data).\n",
    "<br>\n",
    "\n",
    "The best-fit model according to AIC is the one that explains the greatest amount of variation using the fewest possible independent variables.\n",
    "\n",
    "AIC determines the relative information value of the model using the maximum likelihood estimate and the number of parameters (independent variables) in the model. The formula for AIC is:\n",
    "![aic.PNG](attachment:aic.PNG)\n",
    "\n",
    "K is the number of independent variables used and L is the log-likelihood estimate (a.k.a. the likelihood that the model could have produced your observed y-values). The default K is always 2, so if your model uses one independent variable your K will be 3, if it uses two independent variables your K will be 4, and so on.\n",
    "\n",
    "To compare models using AIC, you need to calculate the AIC of each model. If a model is more than 2 AIC units lower than another, then it is considered significantly better than that model.\n",
    "\n",
    "You can easily calculate AIC by hand if you have the log-likelihood of your model, but calculating log-likelihood is complicated! Most statistical software will include a function for calculating AIC."
   ]
  },
  {
   "cell_type": "code",
   "execution_count": 228,
   "metadata": {
    "ExecuteTime": {
     "end_time": "2020-10-14T11:10:16.267873Z",
     "start_time": "2020-10-14T11:10:16.239Z"
    }
   },
   "outputs": [],
   "source": [
    "# AIC is available in Model \n",
    "sarima = manualFit$aic\n",
    "model_auto_arima = model$aic"
   ]
  },
  {
   "cell_type": "code",
   "execution_count": 229,
   "metadata": {
    "ExecuteTime": {
     "end_time": "2020-10-14T11:10:21.737072Z",
     "start_time": "2020-10-14T11:10:21.708Z"
    }
   },
   "outputs": [
    {
     "data": {
      "text/html": [
       "901.721052361976"
      ],
      "text/latex": [
       "901.721052361976"
      ],
      "text/markdown": [
       "901.721052361976"
      ],
      "text/plain": [
       "[1] 901.7211"
      ]
     },
     "metadata": {},
     "output_type": "display_data"
    }
   ],
   "source": [
    "sarima"
   ]
  },
  {
   "cell_type": "code",
   "execution_count": 230,
   "metadata": {
    "ExecuteTime": {
     "end_time": "2020-10-14T11:10:30.272192Z",
     "start_time": "2020-10-14T11:10:30.227Z"
    }
   },
   "outputs": [
    {
     "data": {
      "text/html": [
       "899.902124377601"
      ],
      "text/latex": [
       "899.902124377601"
      ],
      "text/markdown": [
       "899.902124377601"
      ],
      "text/plain": [
       "[1] 899.9021"
      ]
     },
     "metadata": {},
     "output_type": "display_data"
    }
   ],
   "source": [
    "model_auto_arima"
   ]
  },
  {
   "cell_type": "markdown",
   "metadata": {},
   "source": [
    "#### As we see Model auto arima is having less AIC value and hence we should be going for Model auto arima "
   ]
  },
  {
   "cell_type": "markdown",
   "metadata": {
    "ExecuteTime": {
     "end_time": "2020-10-14T11:12:29.324042Z",
     "start_time": "2020-10-14T11:12:29.290Z"
    }
   },
   "source": [
    "<a class=\"list-group-item list-group-item-action\" data-toggle=\"list\" href=\"#Forecasting\" role=\"tab\" aria-controls=\"profile\">Go to top<span class=\"badge badge-primary badge-pill\"></span></a>\n"
   ]
  },
  {
   "attachments": {
    "example.PNG": {
     "image/png": "[encoded data removed]"
    }
   },
   "cell_type": "markdown",
   "metadata": {},
   "source": [
    "# Multivariate Time Series – VAR\n",
    "\n",
    "A Multivariate time series has more than one time-dependent variable. Each variable depends not only on its past values but also has some dependency on other variables.<br>\n",
    "Consider the above example. Now suppose our dataset includes perspiration percent, dew point, wind speed, cloud cover percentage, etc. along with the temperature value for the past two years. In this case, there are multiple variables to be considered to optimally predict temperature. A series like this would fall under the category of multivariate time series. Below is an illustration of this:\n",
    "![example.PNG](attachment:example.PNG)\n",
    "\n",
    "\n",
    "Now that we understand what a multivariate time series looks like, let us understand how can we use it to build a forecast."
   ]
  },
  {
   "cell_type": "markdown",
   "metadata": {},
   "source": [
    "**Dealing with a Multivariate Time Series – VAR**\n",
    "In this section, I will introduce you to one of the most commonly used methods for multivariate time series forecasting – Vector Auto Regression (VAR).\n",
    "\n",
    "In a VAR model, each variable is a linear function of the past values of itself and the past values of all the other variables.<br>\n",
    "for further unnderstanding for theory:https://www.analyticsvidhya.com/blog/2018/09/multivariate-time-series-guide-forecasting-modeling-python-codes/"
   ]
  },
  {
   "cell_type": "code",
   "execution_count": 114,
   "metadata": {
    "ExecuteTime": {
     "end_time": "2020-10-14T09:49:54.538888Z",
     "start_time": "2020-10-14T09:49:53.986Z"
    },
    "scrolled": false
   },
   "outputs": [
    {
     "name": "stderr",
     "output_type": "stream",
     "text": [
      "Loading required package: MASS\n",
      "\n",
      "Loading required package: strucchange\n",
      "\n",
      "Loading required package: zoo\n",
      "\n",
      "\n",
      "Attaching package: 'zoo'\n",
      "\n",
      "\n",
      "The following objects are masked from 'package:base':\n",
      "\n",
      "    as.Date, as.Date.numeric\n",
      "\n",
      "\n",
      "Loading required package: sandwich\n",
      "\n",
      "Loading required package: urca\n",
      "\n",
      "Loading required package: lmtest\n",
      "\n"
     ]
    }
   ],
   "source": [
    "# install.packages('vars')\n",
    "library(vars)\n",
    "options(warn=-1)"
   ]
  },
  {
   "cell_type": "markdown",
   "metadata": {
    "scrolled": true
   },
   "source": [
    "In order to estimate the VAR model I use the vars package by Pfaff (2008). The relevant function is VAR and its use is straightforward. You just have to load the package and specify the data (y), order (p) and the type of the model. The option type determines whether to include an intercept term, a trend or both in the model. Since the artificial sample does not contain any deterministic term, we neglect it in the estimation by setting type = \"none\"."
   ]
  },
  {
   "cell_type": "code",
   "execution_count": 115,
   "metadata": {
    "ExecuteTime": {
     "end_time": "2020-10-14T09:49:55.160870Z",
     "start_time": "2020-10-14T09:49:55.094Z"
    },
    "scrolled": true
   },
   "outputs": [],
   "source": [
    "data(EuStockMarkets)\n",
    "# EuStockMarkets data set for VAR modeling "
   ]
  },
  {
   "cell_type": "code",
   "execution_count": 116,
   "metadata": {
    "ExecuteTime": {
     "end_time": "2020-10-14T09:49:55.980398Z",
     "start_time": "2020-10-14T09:49:55.831Z"
    },
    "scrolled": false
   },
   "outputs": [
    {
     "data": {
      "image/png": "[encoded data removed]",
      "text/plain": [
       "plot without title"
      ]
     },
     "metadata": {
      "image/png": {
       "height": 420,
       "width": 420
      }
     },
     "output_type": "display_data"
    }
   ],
   "source": [
    "plot(EuStockMarkets)"
   ]
  },
  {
   "cell_type": "code",
   "execution_count": 117,
   "metadata": {
    "ExecuteTime": {
     "end_time": "2020-10-14T09:49:56.371920Z",
     "start_time": "2020-10-14T09:49:56.289Z"
    },
    "scrolled": false
   },
   "outputs": [
    {
     "data": {
      "text/plain": [
       "$DAX\n",
       "\n",
       "\tAugmented Dickey-Fuller Test\n",
       "\n",
       "data:  newX[, i]\n",
       "Dickey-Fuller = -9.9997, Lag order = 12, p-value = 0.01\n",
       "alternative hypothesis: stationary\n",
       "\n",
       "\n",
       "$SMI\n",
       "\n",
       "\tAugmented Dickey-Fuller Test\n",
       "\n",
       "data:  newX[, i]\n",
       "Dickey-Fuller = -10.769, Lag order = 12, p-value = 0.01\n",
       "alternative hypothesis: stationary\n",
       "\n",
       "\n",
       "$CAC\n",
       "\n",
       "\tAugmented Dickey-Fuller Test\n",
       "\n",
       "data:  newX[, i]\n",
       "Dickey-Fuller = -11.447, Lag order = 12, p-value = 0.01\n",
       "alternative hypothesis: stationary\n",
       "\n",
       "\n",
       "$FTSE\n",
       "\n",
       "\tAugmented Dickey-Fuller Test\n",
       "\n",
       "data:  newX[, i]\n",
       "Dickey-Fuller = -10.838, Lag order = 12, p-value = 0.01\n",
       "alternative hypothesis: stationary\n",
       "\n"
      ]
     },
     "metadata": {},
     "output_type": "display_data"
    },
    {
     "data": {
      "text/html": [
       "<dl>\n",
       "\t<dt>$selection</dt>\n",
       "\t\t<dd><style>\n",
       ".dl-inline {width: auto; margin:0; padding: 0}\n",
       ".dl-inline>dt, .dl-inline>dd {float: none; width: auto; display: inline-block}\n",
       ".dl-inline>dt::after {content: \":\\0020\"; padding-right: .5ex}\n",
       ".dl-inline>dt:not(:first-of-type) {padding-left: .5ex}\n",
       "</style><dl class=dl-inline><dt>AIC(n)</dt><dd>9</dd><dt>HQ(n)</dt><dd>1</dd><dt>SC(n)</dt><dd>1</dd><dt>FPE(n)</dt><dd>9</dd></dl>\n",
       "</dd>\n",
       "\t<dt>$criteria</dt>\n",
       "\t\t<dd><table>\n",
       "<caption>A matrix: 4 × 10 of type dbl</caption>\n",
       "<thead>\n",
       "\t<tr><th></th><th scope=col>1</th><th scope=col>2</th><th scope=col>3</th><th scope=col>4</th><th scope=col>5</th><th scope=col>6</th><th scope=col>7</th><th scope=col>8</th><th scope=col>9</th><th scope=col>10</th></tr>\n",
       "</thead>\n",
       "<tbody>\n",
       "\t<tr><th scope=row>AIC(n)</th><td>2.527062e+01</td><td>2.527564e+01</td><td>2.526566e+01</td><td>2.525844e+01</td><td>2.525725e+01</td><td>2.525408e+01</td><td>2.525692e+01</td><td>2.525696e+01</td><td>2.525073e+01</td><td>2.525455e+01</td></tr>\n",
       "\t<tr><th scope=row>HQ(n)</th><td>2.528823e+01</td><td>2.531088e+01</td><td>2.531850e+01</td><td>2.532891e+01</td><td>2.534534e+01</td><td>2.535978e+01</td><td>2.538023e+01</td><td>2.539789e+01</td><td>2.540927e+01</td><td>2.543071e+01</td></tr>\n",
       "\t<tr><th scope=row>SC(n)</th><td>2.531840e+01</td><td>2.537122e+01</td><td>2.540902e+01</td><td>2.544959e+01</td><td>2.549619e+01</td><td>2.554080e+01</td><td>2.559143e+01</td><td>2.563926e+01</td><td>2.568081e+01</td><td>2.573242e+01</td></tr>\n",
       "\t<tr><th scope=row>FPE(n)</th><td>9.438206e+10</td><td>9.485771e+10</td><td>9.391500e+10</td><td>9.324010e+10</td><td>9.312964e+10</td><td>9.283467e+10</td><td>9.309877e+10</td><td>9.310329e+10</td><td>9.252533e+10</td><td>9.288047e+10</td></tr>\n",
       "</tbody>\n",
       "</table>\n",
       "</dd>\n",
       "</dl>\n"
      ],
      "text/latex": [
       "\\begin{description}\n",
       "\\item[\\$selection] \\begin{description*}\n",
       "\\item[AIC(n)] 9\n",
       "\\item[HQ(n)] 1\n",
       "\\item[SC(n)] 1\n",
       "\\item[FPE(n)] 9\n",
       "\\end{description*}\n",
       "\n",
       "\\item[\\$criteria] A matrix: 4 × 10 of type dbl\n",
       "\\begin{tabular}{r|llllllllll}\n",
       "  & 1 & 2 & 3 & 4 & 5 & 6 & 7 & 8 & 9 & 10\\\\\n",
       "\\hline\n",
       "\tAIC(n) & 2.527062e+01 & 2.527564e+01 & 2.526566e+01 & 2.525844e+01 & 2.525725e+01 & 2.525408e+01 & 2.525692e+01 & 2.525696e+01 & 2.525073e+01 & 2.525455e+01\\\\\n",
       "\tHQ(n) & 2.528823e+01 & 2.531088e+01 & 2.531850e+01 & 2.532891e+01 & 2.534534e+01 & 2.535978e+01 & 2.538023e+01 & 2.539789e+01 & 2.540927e+01 & 2.543071e+01\\\\\n",
       "\tSC(n) & 2.531840e+01 & 2.537122e+01 & 2.540902e+01 & 2.544959e+01 & 2.549619e+01 & 2.554080e+01 & 2.559143e+01 & 2.563926e+01 & 2.568081e+01 & 2.573242e+01\\\\\n",
       "\tFPE(n) & 9.438206e+10 & 9.485771e+10 & 9.391500e+10 & 9.324010e+10 & 9.312964e+10 & 9.283467e+10 & 9.309877e+10 & 9.310329e+10 & 9.252533e+10 & 9.288047e+10\\\\\n",
       "\\end{tabular}\n",
       "\n",
       "\\end{description}\n"
      ],
      "text/markdown": [
       "$selection\n",
       ":   AIC(n)\n",
       ":   9HQ(n)\n",
       ":   1SC(n)\n",
       ":   1FPE(n)\n",
       ":   9\n",
       "\n",
       "\n",
       "$criteria\n",
       ":   \n",
       "A matrix: 4 × 10 of type dbl\n",
       "\n",
       "| <!--/--> | 1 | 2 | 3 | 4 | 5 | 6 | 7 | 8 | 9 | 10 |\n",
       "|---|---|---|---|---|---|---|---|---|---|---|\n",
       "| AIC(n) | 2.527062e+01 | 2.527564e+01 | 2.526566e+01 | 2.525844e+01 | 2.525725e+01 | 2.525408e+01 | 2.525692e+01 | 2.525696e+01 | 2.525073e+01 | 2.525455e+01 |\n",
       "| HQ(n) | 2.528823e+01 | 2.531088e+01 | 2.531850e+01 | 2.532891e+01 | 2.534534e+01 | 2.535978e+01 | 2.538023e+01 | 2.539789e+01 | 2.540927e+01 | 2.543071e+01 |\n",
       "| SC(n) | 2.531840e+01 | 2.537122e+01 | 2.540902e+01 | 2.544959e+01 | 2.549619e+01 | 2.554080e+01 | 2.559143e+01 | 2.563926e+01 | 2.568081e+01 | 2.573242e+01 |\n",
       "| FPE(n) | 9.438206e+10 | 9.485771e+10 | 9.391500e+10 | 9.324010e+10 | 9.312964e+10 | 9.283467e+10 | 9.309877e+10 | 9.310329e+10 | 9.252533e+10 | 9.288047e+10 |\n",
       "\n",
       "\n",
       "\n",
       "\n"
      ],
      "text/plain": [
       "$selection\n",
       "AIC(n)  HQ(n)  SC(n) FPE(n) \n",
       "     9      1      1      9 \n",
       "\n",
       "$criteria\n",
       "                  1            2            3            4            5\n",
       "AIC(n) 2.527062e+01 2.527564e+01 2.526566e+01 2.525844e+01 2.525725e+01\n",
       "HQ(n)  2.528823e+01 2.531088e+01 2.531850e+01 2.532891e+01 2.534534e+01\n",
       "SC(n)  2.531840e+01 2.537122e+01 2.540902e+01 2.544959e+01 2.549619e+01\n",
       "FPE(n) 9.438206e+10 9.485771e+10 9.391500e+10 9.324010e+10 9.312964e+10\n",
       "                  6            7            8            9           10\n",
       "AIC(n) 2.525408e+01 2.525692e+01 2.525696e+01 2.525073e+01 2.525455e+01\n",
       "HQ(n)  2.535978e+01 2.538023e+01 2.539789e+01 2.540927e+01 2.543071e+01\n",
       "SC(n)  2.554080e+01 2.559143e+01 2.563926e+01 2.568081e+01 2.573242e+01\n",
       "FPE(n) 9.283467e+10 9.309877e+10 9.310329e+10 9.252533e+10 9.288047e+10\n"
      ]
     },
     "metadata": {},
     "output_type": "display_data"
    }
   ],
   "source": [
    "# Main packages - problem: both have different functions VAR\n",
    "## Testing for stationarity\n",
    "### tseries - standard test adt.test\n",
    "# apply(EuStockMarkets, 2, adf.test)\n",
    "stnry = diff(EuStockMarkets) #difference operation on a vector of time series. Default order of differencing is 1.\n",
    "apply(stnry, 2, adf.test)\n",
    "\n",
    "\n",
    "# Lag order identification\n",
    "#We will use two different functions, from two different packages to identify the lag order for the VAR model. Both functions are quite similar to each other but differ in the output they produce. vars::VAR is a more powerful and convinient function to identify the correct lag order. \n",
    "VARselect(stnry, \n",
    "          type = \"none\", #type of deterministic regressors to include. We use none becasue the time series was made stationary using differencing above. \n",
    "          lag.max = 10) #highest lag order"
   ]
  },
  {
   "cell_type": "code",
   "execution_count": 118,
   "metadata": {
    "ExecuteTime": {
     "end_time": "2020-10-14T09:49:56.763167Z",
     "start_time": "2020-10-14T09:49:56.646Z"
    },
    "scrolled": false
   },
   "outputs": [
    {
     "data": {
      "text/plain": [
       "\n",
       "VAR Estimation Results:\n",
       "========================= \n",
       "Endogenous variables: DAX, SMI, CAC, FTSE \n",
       "Deterministic variables: none \n",
       "Sample size: 1850 \n",
       "Log Likelihood: -33712.408 \n",
       "Roots of the characteristic polynomial:\n",
       "0.817 0.817 0.8116 0.8116 0.7915 0.7915 0.7864 0.7864 0.7784 0.7784 0.7579 0.7579 0.7541 0.7541 0.7537 0.7537 0.7473 0.7421 0.7421 0.7295 0.7295 0.7285 0.7153 0.7153 0.6723 0.6723 0.6696 0.6696 0.6616 0.6616 0.6551 0.577 0.577 0.4544 0.289 0.1213\n",
       "Call:\n",
       "vars::VAR(y = stnry, type = \"none\", lag.max = 10, ic = \"AIC\")\n",
       "\n",
       "\n",
       "Estimation results for equation DAX: \n",
       "==================================== \n",
       "DAX = DAX.l1 + SMI.l1 + CAC.l1 + FTSE.l1 + DAX.l2 + SMI.l2 + CAC.l2 + FTSE.l2 + DAX.l3 + SMI.l3 + CAC.l3 + FTSE.l3 + DAX.l4 + SMI.l4 + CAC.l4 + FTSE.l4 + DAX.l5 + SMI.l5 + CAC.l5 + FTSE.l5 + DAX.l6 + SMI.l6 + CAC.l6 + FTSE.l6 + DAX.l7 + SMI.l7 + CAC.l7 + FTSE.l7 + DAX.l8 + SMI.l8 + CAC.l8 + FTSE.l8 + DAX.l9 + SMI.l9 + CAC.l9 + FTSE.l9 \n",
       "\n",
       "          Estimate Std. Error t value Pr(>|t|)    \n",
       "DAX.l1   0.0096570  0.0424492   0.227 0.820065    \n",
       "SMI.l1  -0.1008170  0.0297641  -3.387 0.000721 ***\n",
       "CAC.l1   0.0752689  0.0465795   1.616 0.106285    \n",
       "FTSE.l1  0.0730055  0.0366170   1.994 0.046328 *  \n",
       "DAX.l2   0.0190453  0.0423265   0.450 0.652792    \n",
       "SMI.l2  -0.0172409  0.0298939  -0.577 0.564188    \n",
       "CAC.l2   0.0687124  0.0465965   1.475 0.140487    \n",
       "FTSE.l2 -0.0804753  0.0369389  -2.179 0.029489 *  \n",
       "DAX.l3  -0.0676359  0.0423179  -1.598 0.110155    \n",
       "SMI.l3   0.0135412  0.0299928   0.451 0.651696    \n",
       "CAC.l3   0.0484694  0.0466586   1.039 0.299032    \n",
       "FTSE.l3  0.0409793  0.0369675   1.109 0.267783    \n",
       "DAX.l4  -0.0501669  0.0422723  -1.187 0.235480    \n",
       "SMI.l4   0.0162536  0.0300860   0.540 0.589099    \n",
       "CAC.l4   0.1001510  0.0469324   2.134 0.032981 *  \n",
       "FTSE.l4 -0.0451988  0.0369319  -1.224 0.221170    \n",
       "DAX.l5   0.0109497  0.0424940   0.258 0.796687    \n",
       "SMI.l5  -0.0978623  0.0303192  -3.228 0.001270 ** \n",
       "CAC.l5   0.0731622  0.0469140   1.559 0.119054    \n",
       "FTSE.l5 -0.0254787  0.0369942  -0.689 0.491086    \n",
       "DAX.l6  -0.0121897  0.0424062  -0.287 0.773800    \n",
       "SMI.l6   0.0246183  0.0303677   0.811 0.417660    \n",
       "CAC.l6   0.0871855  0.0468724   1.860 0.063039 .  \n",
       "FTSE.l6  0.0007736  0.0369967   0.021 0.983320    \n",
       "DAX.l7   0.0786601  0.0425103   1.850 0.064421 .  \n",
       "SMI.l7  -0.0050826  0.0302543  -0.168 0.866604    \n",
       "CAC.l7  -0.0691098  0.0466880  -1.480 0.138981    \n",
       "FTSE.l7 -0.0418380  0.0370855  -1.128 0.259406    \n",
       "DAX.l8  -0.0336346  0.0425857  -0.790 0.429743    \n",
       "SMI.l8   0.0963209  0.0304325   3.165 0.001576 ** \n",
       "CAC.l8  -0.1180253  0.0466645  -2.529 0.011515 *  \n",
       "FTSE.l8  0.0517022  0.0371047   1.393 0.163666    \n",
       "DAX.l9  -0.0262047  0.0423049  -0.619 0.535714    \n",
       "SMI.l9   0.0052002  0.0303603   0.171 0.864022    \n",
       "CAC.l9   0.1359369  0.0467408   2.908 0.003678 ** \n",
       "FTSE.l9 -0.0068091  0.0369929  -0.184 0.853983    \n",
       "---\n",
       "Signif. codes:  0 '***' 0.001 '**' 0.01 '*' 0.05 '.' 0.1 ' ' 1\n",
       "\n",
       "\n",
       "Residual standard error: 32.09 on 1814 degrees of freedom\n",
       "Multiple R-Squared: 0.05129,\tAdjusted R-squared: 0.03246 \n",
       "F-statistic: 2.724 on 36 and 1814 DF,  p-value: 2.04e-07 \n",
       "\n",
       "\n",
       "Estimation results for equation SMI: \n",
       "==================================== \n",
       "SMI = DAX.l1 + SMI.l1 + CAC.l1 + FTSE.l1 + DAX.l2 + SMI.l2 + CAC.l2 + FTSE.l2 + DAX.l3 + SMI.l3 + CAC.l3 + FTSE.l3 + DAX.l4 + SMI.l4 + CAC.l4 + FTSE.l4 + DAX.l5 + SMI.l5 + CAC.l5 + FTSE.l5 + DAX.l6 + SMI.l6 + CAC.l6 + FTSE.l6 + DAX.l7 + SMI.l7 + CAC.l7 + FTSE.l7 + DAX.l8 + SMI.l8 + CAC.l8 + FTSE.l8 + DAX.l9 + SMI.l9 + CAC.l9 + FTSE.l9 \n",
       "\n",
       "         Estimate Std. Error t value Pr(>|t|)    \n",
       "DAX.l1   0.035132   0.052025   0.675 0.499578    \n",
       "SMI.l1  -0.038299   0.036478  -1.050 0.293895    \n",
       "CAC.l1   0.046647   0.057087   0.817 0.413969    \n",
       "FTSE.l1  0.127516   0.044877   2.841 0.004541 ** \n",
       "DAX.l2   0.006278   0.051875   0.121 0.903691    \n",
       "SMI.l2   0.018350   0.036637   0.501 0.616532    \n",
       "CAC.l2   0.104672   0.057108   1.833 0.066983 .  \n",
       "FTSE.l2 -0.096675   0.045272  -2.135 0.032859 *  \n",
       "DAX.l3  -0.148622   0.051864  -2.866 0.004210 ** \n",
       "SMI.l3   0.004229   0.036759   0.115 0.908422    \n",
       "CAC.l3   0.094768   0.057184   1.657 0.097644 .  \n",
       "FTSE.l3  0.131679   0.045307   2.906 0.003701 ** \n",
       "DAX.l4  -0.175243   0.051808  -3.383 0.000733 ***\n",
       "SMI.l4   0.029175   0.036873   0.791 0.428904    \n",
       "CAC.l4   0.124249   0.057520   2.160 0.030895 *  \n",
       "FTSE.l4  0.011514   0.045263   0.254 0.799239    \n",
       "DAX.l5   0.007207   0.052080   0.138 0.889954    \n",
       "SMI.l5  -0.089506   0.037159  -2.409 0.016106 *  \n",
       "CAC.l5   0.070892   0.057497   1.233 0.217751    \n",
       "FTSE.l5 -0.037913   0.045339  -0.836 0.403156    \n",
       "DAX.l6  -0.072106   0.051972  -1.387 0.165490    \n",
       "SMI.l6   0.011650   0.037218   0.313 0.754308    \n",
       "CAC.l6   0.102452   0.057446   1.783 0.074681 .  \n",
       "FTSE.l6 -0.001026   0.045343  -0.023 0.981944    \n",
       "DAX.l7   0.147987   0.052100   2.840 0.004555 ** \n",
       "SMI.l7  -0.012999   0.037079  -0.351 0.725941    \n",
       "CAC.l7  -0.123208   0.057220  -2.153 0.031432 *  \n",
       "FTSE.l7 -0.049168   0.045451  -1.082 0.279502    \n",
       "DAX.l8   0.008599   0.052192   0.165 0.869153    \n",
       "SMI.l8   0.089777   0.037298   2.407 0.016182 *  \n",
       "CAC.l8  -0.099393   0.057191  -1.738 0.082397 .  \n",
       "FTSE.l8 -0.019262   0.045475  -0.424 0.671921    \n",
       "DAX.l9   0.072664   0.051848   1.401 0.161245    \n",
       "SMI.l9  -0.091853   0.037209  -2.469 0.013657 *  \n",
       "CAC.l9   0.081425   0.057285   1.421 0.155371    \n",
       "FTSE.l9  0.068442   0.045338   1.510 0.131322    \n",
       "---\n",
       "Signif. codes:  0 '***' 0.001 '**' 0.01 '*' 0.05 '.' 0.1 ' ' 1\n",
       "\n",
       "\n",
       "Residual standard error: 39.33 on 1814 degrees of freedom\n",
       "Multiple R-Squared: 0.05981,\tAdjusted R-squared: 0.04115 \n",
       "F-statistic: 3.206 on 36 and 1814 DF,  p-value: 7.227e-10 \n",
       "\n",
       "\n",
       "Estimation results for equation CAC: \n",
       "==================================== \n",
       "CAC = DAX.l1 + SMI.l1 + CAC.l1 + FTSE.l1 + DAX.l2 + SMI.l2 + CAC.l2 + FTSE.l2 + DAX.l3 + SMI.l3 + CAC.l3 + FTSE.l3 + DAX.l4 + SMI.l4 + CAC.l4 + FTSE.l4 + DAX.l5 + SMI.l5 + CAC.l5 + FTSE.l5 + DAX.l6 + SMI.l6 + CAC.l6 + FTSE.l6 + DAX.l7 + SMI.l7 + CAC.l7 + FTSE.l7 + DAX.l8 + SMI.l8 + CAC.l8 + FTSE.l8 + DAX.l9 + SMI.l9 + CAC.l9 + FTSE.l9 \n",
       "\n",
       "         Estimate Std. Error t value Pr(>|t|)   \n",
       "DAX.l1  -0.001041   0.034340  -0.030  0.97582   \n",
       "SMI.l1  -0.071184   0.024078  -2.956  0.00315 **\n",
       "CAC.l1   0.043492   0.037681   1.154  0.24857   \n",
       "FTSE.l1  0.082268   0.029622   2.777  0.00554 **\n",
       "DAX.l2   0.014488   0.034241   0.423  0.67225   \n",
       "SMI.l2  -0.027912   0.024183  -1.154  0.24857   \n",
       "CAC.l2   0.083842   0.037695   2.224  0.02626 * \n",
       "FTSE.l2 -0.063578   0.029882  -2.128  0.03350 * \n",
       "DAX.l3  -0.032437   0.034234  -0.948  0.34350   \n",
       "SMI.l3   0.031449   0.024263   1.296  0.19508   \n",
       "CAC.l3  -0.059480   0.037745  -1.576  0.11524   \n",
       "FTSE.l3  0.023769   0.029905   0.795  0.42683   \n",
       "DAX.l4  -0.112680   0.034197  -3.295  0.00100 **\n",
       "SMI.l4   0.045902   0.024338   1.886  0.05946 . \n",
       "CAC.l4   0.071056   0.037967   1.872  0.06143 . \n",
       "FTSE.l4 -0.020521   0.029877  -0.687  0.49225   \n",
       "DAX.l5  -0.040047   0.034376  -1.165  0.24418   \n",
       "SMI.l5  -0.040002   0.024527  -1.631  0.10308   \n",
       "CAC.l5   0.044130   0.037952   1.163  0.24507   \n",
       "FTSE.l5 -0.011466   0.029927  -0.383  0.70166   \n",
       "DAX.l6  -0.010487   0.034305  -0.306  0.75987   \n",
       "SMI.l6   0.017464   0.024566   0.711  0.47724   \n",
       "CAC.l6   0.046108   0.037918   1.216  0.22415   \n",
       "FTSE.l6 -0.002253   0.029929  -0.075  0.94000   \n",
       "DAX.l7   0.093443   0.034389   2.717  0.00665 **\n",
       "SMI.l7  -0.011696   0.024475  -0.478  0.63280   \n",
       "CAC.l7  -0.058576   0.037769  -1.551  0.12110   \n",
       "FTSE.l7 -0.059667   0.030001  -1.989  0.04687 * \n",
       "DAX.l8   0.012292   0.034450   0.357  0.72128   \n",
       "SMI.l8   0.026246   0.024619   1.066  0.28653   \n",
       "CAC.l8  -0.102523   0.037750  -2.716  0.00667 **\n",
       "FTSE.l8  0.048842   0.030016   1.627  0.10387   \n",
       "DAX.l9   0.019936   0.034223   0.583  0.56028   \n",
       "SMI.l9  -0.025465   0.024560  -1.037  0.29995   \n",
       "CAC.l9   0.048093   0.037812   1.272  0.20357   \n",
       "FTSE.l9 -0.003901   0.029926  -0.130  0.89630   \n",
       "---\n",
       "Signif. codes:  0 '***' 0.001 '**' 0.01 '*' 0.05 '.' 0.1 ' ' 1\n",
       "\n",
       "\n",
       "Residual standard error: 25.96 on 1814 degrees of freedom\n",
       "Multiple R-Squared: 0.04515,\tAdjusted R-squared: 0.0262 \n",
       "F-statistic: 2.382 on 36 and 1814 DF,  p-value: 8.732e-06 \n",
       "\n",
       "\n",
       "Estimation results for equation FTSE: \n",
       "===================================== \n",
       "FTSE = DAX.l1 + SMI.l1 + CAC.l1 + FTSE.l1 + DAX.l2 + SMI.l2 + CAC.l2 + FTSE.l2 + DAX.l3 + SMI.l3 + CAC.l3 + FTSE.l3 + DAX.l4 + SMI.l4 + CAC.l4 + FTSE.l4 + DAX.l5 + SMI.l5 + CAC.l5 + FTSE.l5 + DAX.l6 + SMI.l6 + CAC.l6 + FTSE.l6 + DAX.l7 + SMI.l7 + CAC.l7 + FTSE.l7 + DAX.l8 + SMI.l8 + CAC.l8 + FTSE.l8 + DAX.l9 + SMI.l9 + CAC.l9 + FTSE.l9 \n",
       "\n",
       "         Estimate Std. Error t value Pr(>|t|)    \n",
       "DAX.l1   0.025600   0.039796   0.643  0.52012    \n",
       "SMI.l1  -0.085874   0.027904  -3.078  0.00212 ** \n",
       "CAC.l1  -0.003879   0.043668  -0.089  0.92923    \n",
       "FTSE.l1  0.165616   0.034328   4.824 1.52e-06 ***\n",
       "DAX.l2   0.023464   0.039681   0.591  0.55438    \n",
       "SMI.l2  -0.023240   0.028025  -0.829  0.40708    \n",
       "CAC.l2   0.028324   0.043684   0.648  0.51683    \n",
       "FTSE.l2 -0.031301   0.034630  -0.904  0.36619    \n",
       "DAX.l3  -0.052914   0.039673  -1.334  0.18245    \n",
       "SMI.l3   0.012312   0.028118   0.438  0.66154    \n",
       "CAC.l3   0.057729   0.043742   1.320  0.18709    \n",
       "FTSE.l3  0.007780   0.034657   0.224  0.82240    \n",
       "DAX.l4  -0.054187   0.039630  -1.367  0.17170    \n",
       "SMI.l4   0.043084   0.028206   1.527  0.12681    \n",
       "CAC.l4   0.078160   0.043999   1.776  0.07583 .  \n",
       "FTSE.l4 -0.083589   0.034624  -2.414  0.01587 *  \n",
       "DAX.l5   0.001615   0.039838   0.041  0.96767    \n",
       "SMI.l5  -0.042176   0.028424  -1.484  0.13803    \n",
       "CAC.l5   0.102931   0.043982   2.340  0.01938 *  \n",
       "FTSE.l5 -0.069017   0.034682  -1.990  0.04674 *  \n",
       "DAX.l6  -0.027039   0.039756  -0.680  0.49651    \n",
       "SMI.l6   0.058310   0.028470   2.048  0.04069 *  \n",
       "CAC.l6   0.094202   0.043943   2.144  0.03219 *  \n",
       "FTSE.l6 -0.088315   0.034684  -2.546  0.01097 *  \n",
       "DAX.l7   0.054056   0.039853   1.356  0.17514    \n",
       "SMI.l7   0.052084   0.028363   1.836  0.06648 .  \n",
       "CAC.l7  -0.065521   0.043770  -1.497  0.13458    \n",
       "FTSE.l7 -0.055592   0.034768  -1.599  0.11000    \n",
       "DAX.l8  -0.004926   0.039924  -0.123  0.90181    \n",
       "SMI.l8   0.057267   0.028530   2.007  0.04488 *  \n",
       "CAC.l8  -0.080907   0.043748  -1.849  0.06456 .  \n",
       "FTSE.l8  0.017291   0.034786   0.497  0.61919    \n",
       "DAX.l9   0.003630   0.039661   0.092  0.92709    \n",
       "SMI.l9  -0.017471   0.028463  -0.614  0.53942    \n",
       "CAC.l9   0.069078   0.043819   1.576  0.11510    \n",
       "FTSE.l9  0.012475   0.034681   0.360  0.71911    \n",
       "---\n",
       "Signif. codes:  0 '***' 0.001 '**' 0.01 '*' 0.05 '.' 0.1 ' ' 1\n",
       "\n",
       "\n",
       "Residual standard error: 30.08 on 1814 degrees of freedom\n",
       "Multiple R-Squared: 0.05941,\tAdjusted R-squared: 0.04075 \n",
       "F-statistic: 3.183 on 36 and 1814 DF,  p-value: 9.501e-10 \n",
       "\n",
       "\n",
       "\n",
       "Covariance matrix of residuals:\n",
       "        DAX    SMI   CAC  FTSE\n",
       "DAX  1025.7  940.4 616.8 647.6\n",
       "SMI   940.4 1537.5 650.9 722.0\n",
       "CAC   616.8  650.9 672.0 522.2\n",
       "FTSE  647.6  722.0 522.2 903.2\n",
       "\n",
       "Correlation matrix of residuals:\n",
       "        DAX    SMI    CAC   FTSE\n",
       "DAX  1.0000 0.7488 0.7430 0.6729\n",
       "SMI  0.7488 1.0000 0.6403 0.6127\n",
       "CAC  0.7430 0.6403 1.0000 0.6703\n",
       "FTSE 0.6729 0.6127 0.6703 1.0000\n",
       "\n"
      ]
     },
     "metadata": {},
     "output_type": "display_data"
    }
   ],
   "source": [
    "# Creating a VAR model with vars\n",
    "# install.packages('vars')\n",
    "library(vars)\n",
    "var.a <- vars::VAR(stnry,\n",
    "                   lag.max = 10, #highest lag order for lag length selection according to the choosen ic\n",
    "                   ic = \"AIC\", #information criterion\n",
    "                   type = \"none\") #type of deterministic regressors to include\n",
    "summary(var.a)"
   ]
  },
  {
   "cell_type": "code",
   "execution_count": 119,
   "metadata": {
    "ExecuteTime": {
     "end_time": "2020-10-14T09:49:57.139578Z",
     "start_time": "2020-10-14T09:49:57.051Z"
    },
    "scrolled": false
   },
   "outputs": [
    {
     "data": {
      "text/plain": [
       "\n",
       "\tPortmanteau Test (asymptotic)\n",
       "\n",
       "data:  Residuals of VAR object var.a\n",
       "Chi-squared = 183.36, df = 112, p-value = 2.444e-05\n",
       "\n",
       "$serial\n",
       "\n",
       "\tPortmanteau Test (asymptotic)\n",
       "\n",
       "data:  Residuals of VAR object var.a\n",
       "Chi-squared = 183.36, df = 112, p-value = 2.444e-05\n",
       "\n"
      ]
     },
     "metadata": {},
     "output_type": "display_data"
    },
    {
     "data": {
      "text/plain": [
       "$Granger\n",
       "\n",
       "\tGranger causality H0: DAX do not Granger-cause SMI CAC FTSE\n",
       "\n",
       "data:  VAR object var.a\n",
       "F-Test = 1.7314, df1 = 27, df2 = 7256, p-value = 0.01074\n",
       "\n",
       "\n",
       "$Instant\n",
       "\n",
       "\tH0: No instantaneous causality between: DAX and SMI CAC FTSE\n",
       "\n",
       "data:  VAR object var.a\n",
       "Chi-squared = 759.19, df = 3, p-value < 2.2e-16\n",
       "\n"
      ]
     },
     "metadata": {},
     "output_type": "display_data"
    }
   ],
   "source": [
    "# Residual diagnostics\n",
    "#serial.test function takes the VAR model as the input.  \n",
    "serial.test(var.a)\n",
    "\n",
    "#selecting the variables\n",
    "# Granger test for causality\n",
    "#for causality function to give reliable results we need all the variables of the multivariate time series to be stationary. \n",
    "causality(var.a, #VAR model\n",
    "          cause = c(\"DAX\")) #cause variable. If not specified then first column of x is used. Multiple variables can be used. \n"
   ]
  },
  {
   "cell_type": "code",
   "execution_count": 120,
   "metadata": {
    "ExecuteTime": {
     "end_time": "2020-10-14T09:49:58.218356Z",
     "start_time": "2020-10-14T09:49:57.986Z"
    },
    "scrolled": false
   },
   "outputs": [
    {
     "data": {
      "image/png": "[encoded data removed]",
      "text/plain": [
       "Plot with title \"Forecast of series FTSE\""
      ]
     },
     "metadata": {
      "image/png": {
       "height": 420,
       "width": 420
      }
     },
     "output_type": "display_data"
    }
   ],
   "source": [
    "## Forecasting VAR models\n",
    "fcast = predict(var.a, n.ahead = 25) # we forecast over a short horizon because beyond short horizon prediction becomes unreliable or uniform\n",
    "par(mar = c(2.5,2.5,2.5,2.5))\n",
    "plot(fcast)"
   ]
  },
  {
   "cell_type": "code",
   "execution_count": 121,
   "metadata": {
    "ExecuteTime": {
     "end_time": "2020-10-14T09:49:58.712812Z",
     "start_time": "2020-10-14T09:49:58.632Z"
    },
    "scrolled": false
   },
   "outputs": [
    {
     "data": {
      "text/html": [
       "<strong>$DAX</strong> = <table>\n",
       "<caption>A matrix: 25 × 4 of type dbl</caption>\n",
       "<thead>\n",
       "\t<tr><th scope=col>fcst</th><th scope=col>lower</th><th scope=col>upper</th><th scope=col>CI</th></tr>\n",
       "</thead>\n",
       "<tbody>\n",
       "\t<tr><td>  5.60084304</td><td>-57.29384</td><td>68.49552</td><td>62.89468</td></tr>\n",
       "\t<tr><td> -5.91965377</td><td>-69.10567</td><td>57.26636</td><td>63.18601</td></tr>\n",
       "\t<tr><td>-13.00325572</td><td>-76.29843</td><td>50.29191</td><td>63.29517</td></tr>\n",
       "\t<tr><td> 13.72698427</td><td>-49.63068</td><td>77.08465</td><td>63.35767</td></tr>\n",
       "\t<tr><td>-36.35436670</td><td>-99.79645</td><td>27.08772</td><td>63.44208</td></tr>\n",
       "\t<tr><td> -0.64933493</td><td>-64.37759</td><td>63.07892</td><td>63.72826</td></tr>\n",
       "\t<tr><td>  5.96623225</td><td>-57.93847</td><td>69.87093</td><td>63.90470</td></tr>\n",
       "\t<tr><td>  8.82501176</td><td>-55.17502</td><td>72.82505</td><td>64.00004</td></tr>\n",
       "\t<tr><td>  2.15548901</td><td>-62.14270</td><td>66.45368</td><td>64.29819</td></tr>\n",
       "\t<tr><td>  2.12089142</td><td>-62.42840</td><td>66.67018</td><td>64.54929</td></tr>\n",
       "\t<tr><td> -0.80619025</td><td>-65.36242</td><td>63.75003</td><td>64.55622</td></tr>\n",
       "\t<tr><td> -4.24776524</td><td>-68.81260</td><td>60.31707</td><td>64.56484</td></tr>\n",
       "\t<tr><td>  0.31282719</td><td>-64.25708</td><td>64.88274</td><td>64.56991</td></tr>\n",
       "\t<tr><td> -2.10767272</td><td>-66.68072</td><td>62.46537</td><td>64.57304</td></tr>\n",
       "\t<tr><td>  1.30500015</td><td>-63.28275</td><td>65.89275</td><td>64.58775</td></tr>\n",
       "\t<tr><td>  0.23742105</td><td>-64.35338</td><td>64.82822</td><td>64.59080</td></tr>\n",
       "\t<tr><td>  1.78179652</td><td>-62.81456</td><td>66.37815</td><td>64.59635</td></tr>\n",
       "\t<tr><td> -0.36003725</td><td>-64.96020</td><td>64.24012</td><td>64.60016</td></tr>\n",
       "\t<tr><td>  0.72242303</td><td>-63.87835</td><td>65.32319</td><td>64.60077</td></tr>\n",
       "\t<tr><td> -0.69067282</td><td>-65.29176</td><td>63.91041</td><td>64.60109</td></tr>\n",
       "\t<tr><td> -0.43392018</td><td>-65.03547</td><td>64.16762</td><td>64.60155</td></tr>\n",
       "\t<tr><td> -0.39358579</td><td>-64.99520</td><td>64.20802</td><td>64.60161</td></tr>\n",
       "\t<tr><td> -0.08492216</td><td>-64.68679</td><td>64.51694</td><td>64.60186</td></tr>\n",
       "\t<tr><td>  0.19373467</td><td>-64.40828</td><td>64.79575</td><td>64.60202</td></tr>\n",
       "\t<tr><td>  0.22812144</td><td>-64.37395</td><td>64.83020</td><td>64.60207</td></tr>\n",
       "</tbody>\n",
       "</table>\n"
      ],
      "text/latex": [
       "\\textbf{\\$DAX} = A matrix: 25 × 4 of type dbl\n",
       "\\begin{tabular}{llll}\n",
       " fcst & lower & upper & CI\\\\\n",
       "\\hline\n",
       "\t   5.60084304 & -57.29384 & 68.49552 & 62.89468\\\\\n",
       "\t  -5.91965377 & -69.10567 & 57.26636 & 63.18601\\\\\n",
       "\t -13.00325572 & -76.29843 & 50.29191 & 63.29517\\\\\n",
       "\t  13.72698427 & -49.63068 & 77.08465 & 63.35767\\\\\n",
       "\t -36.35436670 & -99.79645 & 27.08772 & 63.44208\\\\\n",
       "\t  -0.64933493 & -64.37759 & 63.07892 & 63.72826\\\\\n",
       "\t   5.96623225 & -57.93847 & 69.87093 & 63.90470\\\\\n",
       "\t   8.82501176 & -55.17502 & 72.82505 & 64.00004\\\\\n",
       "\t   2.15548901 & -62.14270 & 66.45368 & 64.29819\\\\\n",
       "\t   2.12089142 & -62.42840 & 66.67018 & 64.54929\\\\\n",
       "\t  -0.80619025 & -65.36242 & 63.75003 & 64.55622\\\\\n",
       "\t  -4.24776524 & -68.81260 & 60.31707 & 64.56484\\\\\n",
       "\t   0.31282719 & -64.25708 & 64.88274 & 64.56991\\\\\n",
       "\t  -2.10767272 & -66.68072 & 62.46537 & 64.57304\\\\\n",
       "\t   1.30500015 & -63.28275 & 65.89275 & 64.58775\\\\\n",
       "\t   0.23742105 & -64.35338 & 64.82822 & 64.59080\\\\\n",
       "\t   1.78179652 & -62.81456 & 66.37815 & 64.59635\\\\\n",
       "\t  -0.36003725 & -64.96020 & 64.24012 & 64.60016\\\\\n",
       "\t   0.72242303 & -63.87835 & 65.32319 & 64.60077\\\\\n",
       "\t  -0.69067282 & -65.29176 & 63.91041 & 64.60109\\\\\n",
       "\t  -0.43392018 & -65.03547 & 64.16762 & 64.60155\\\\\n",
       "\t  -0.39358579 & -64.99520 & 64.20802 & 64.60161\\\\\n",
       "\t  -0.08492216 & -64.68679 & 64.51694 & 64.60186\\\\\n",
       "\t   0.19373467 & -64.40828 & 64.79575 & 64.60202\\\\\n",
       "\t   0.22812144 & -64.37395 & 64.83020 & 64.60207\\\\\n",
       "\\end{tabular}\n"
      ],
      "text/markdown": [
       "**$DAX** = \n",
       "A matrix: 25 × 4 of type dbl\n",
       "\n",
       "| fcst | lower | upper | CI |\n",
       "|---|---|---|---|\n",
       "|   5.60084304 | -57.29384 | 68.49552 | 62.89468 |\n",
       "|  -5.91965377 | -69.10567 | 57.26636 | 63.18601 |\n",
       "| -13.00325572 | -76.29843 | 50.29191 | 63.29517 |\n",
       "|  13.72698427 | -49.63068 | 77.08465 | 63.35767 |\n",
       "| -36.35436670 | -99.79645 | 27.08772 | 63.44208 |\n",
       "|  -0.64933493 | -64.37759 | 63.07892 | 63.72826 |\n",
       "|   5.96623225 | -57.93847 | 69.87093 | 63.90470 |\n",
       "|   8.82501176 | -55.17502 | 72.82505 | 64.00004 |\n",
       "|   2.15548901 | -62.14270 | 66.45368 | 64.29819 |\n",
       "|   2.12089142 | -62.42840 | 66.67018 | 64.54929 |\n",
       "|  -0.80619025 | -65.36242 | 63.75003 | 64.55622 |\n",
       "|  -4.24776524 | -68.81260 | 60.31707 | 64.56484 |\n",
       "|   0.31282719 | -64.25708 | 64.88274 | 64.56991 |\n",
       "|  -2.10767272 | -66.68072 | 62.46537 | 64.57304 |\n",
       "|   1.30500015 | -63.28275 | 65.89275 | 64.58775 |\n",
       "|   0.23742105 | -64.35338 | 64.82822 | 64.59080 |\n",
       "|   1.78179652 | -62.81456 | 66.37815 | 64.59635 |\n",
       "|  -0.36003725 | -64.96020 | 64.24012 | 64.60016 |\n",
       "|   0.72242303 | -63.87835 | 65.32319 | 64.60077 |\n",
       "|  -0.69067282 | -65.29176 | 63.91041 | 64.60109 |\n",
       "|  -0.43392018 | -65.03547 | 64.16762 | 64.60155 |\n",
       "|  -0.39358579 | -64.99520 | 64.20802 | 64.60161 |\n",
       "|  -0.08492216 | -64.68679 | 64.51694 | 64.60186 |\n",
       "|   0.19373467 | -64.40828 | 64.79575 | 64.60202 |\n",
       "|   0.22812144 | -64.37395 | 64.83020 | 64.60207 |\n",
       "\n"
      ],
      "text/plain": [
       "$DAX\n",
       "              fcst     lower    upper       CI\n",
       " [1,]   5.60084304 -57.29384 68.49552 62.89468\n",
       " [2,]  -5.91965377 -69.10567 57.26636 63.18601\n",
       " [3,] -13.00325572 -76.29843 50.29191 63.29517\n",
       " [4,]  13.72698427 -49.63068 77.08465 63.35767\n",
       " [5,] -36.35436670 -99.79645 27.08772 63.44208\n",
       " [6,]  -0.64933493 -64.37759 63.07892 63.72826\n",
       " [7,]   5.96623225 -57.93847 69.87093 63.90470\n",
       " [8,]   8.82501176 -55.17502 72.82505 64.00004\n",
       " [9,]   2.15548901 -62.14270 66.45368 64.29819\n",
       "[10,]   2.12089142 -62.42840 66.67018 64.54929\n",
       "[11,]  -0.80619025 -65.36242 63.75003 64.55622\n",
       "[12,]  -4.24776524 -68.81260 60.31707 64.56484\n",
       "[13,]   0.31282719 -64.25708 64.88274 64.56991\n",
       "[14,]  -2.10767272 -66.68072 62.46537 64.57304\n",
       "[15,]   1.30500015 -63.28275 65.89275 64.58775\n",
       "[16,]   0.23742105 -64.35338 64.82822 64.59080\n",
       "[17,]   1.78179652 -62.81456 66.37815 64.59635\n",
       "[18,]  -0.36003725 -64.96020 64.24012 64.60016\n",
       "[19,]   0.72242303 -63.87835 65.32319 64.60077\n",
       "[20,]  -0.69067282 -65.29176 63.91041 64.60109\n",
       "[21,]  -0.43392018 -65.03547 64.16762 64.60155\n",
       "[22,]  -0.39358579 -64.99520 64.20802 64.60161\n",
       "[23,]  -0.08492216 -64.68679 64.51694 64.60186\n",
       "[24,]   0.19373467 -64.40828 64.79575 64.60202\n",
       "[25,]   0.22812144 -64.37395 64.83020 64.60207\n"
      ]
     },
     "metadata": {},
     "output_type": "display_data"
    },
    {
     "data": {
      "text/html": [
       "<style>\n",
       ".list-inline {list-style: none; margin:0; padding: 0}\n",
       ".list-inline>li {display: inline-block}\n",
       ".list-inline>li:not(:last-child)::after {content: \"\\00b7\"; padding: 0 .5ex}\n",
       "</style>\n",
       "<ol class=list-inline><li>5.60084303897527</li><li>-5.91965376521413</li><li>-13.0032557241428</li><li>13.7269842717171</li><li>-36.3543667033214</li><li>-0.649334929627913</li><li>5.96623225099533</li><li>8.82501175697222</li><li>2.15548900858749</li><li>2.12089142411205</li><li>-0.806190247248811</li><li>-4.24776523827309</li><li>0.312827190104973</li><li>-2.10767272423435</li><li>1.30500014822655</li><li>0.237421048159101</li><li>1.78179652381606</li><li>-0.360037247830662</li><li>0.722423028321822</li><li>-0.690672822500132</li><li>-0.433920180409265</li><li>-0.393585786698533</li><li>-0.0849221629418965</li><li>0.193734671217351</li><li>0.228121437536343</li></ol>\n"
      ],
      "text/latex": [
       "\\begin{enumerate*}\n",
       "\\item 5.60084303897527\n",
       "\\item -5.91965376521413\n",
       "\\item -13.0032557241428\n",
       "\\item 13.7269842717171\n",
       "\\item -36.3543667033214\n",
       "\\item -0.649334929627913\n",
       "\\item 5.96623225099533\n",
       "\\item 8.82501175697222\n",
       "\\item 2.15548900858749\n",
       "\\item 2.12089142411205\n",
       "\\item -0.806190247248811\n",
       "\\item -4.24776523827309\n",
       "\\item 0.312827190104973\n",
       "\\item -2.10767272423435\n",
       "\\item 1.30500014822655\n",
       "\\item 0.237421048159101\n",
       "\\item 1.78179652381606\n",
       "\\item -0.360037247830662\n",
       "\\item 0.722423028321822\n",
       "\\item -0.690672822500132\n",
       "\\item -0.433920180409265\n",
       "\\item -0.393585786698533\n",
       "\\item -0.0849221629418965\n",
       "\\item 0.193734671217351\n",
       "\\item 0.228121437536343\n",
       "\\end{enumerate*}\n"
      ],
      "text/markdown": [
       "1. 5.60084303897527\n",
       "2. -5.91965376521413\n",
       "3. -13.0032557241428\n",
       "4. 13.7269842717171\n",
       "5. -36.3543667033214\n",
       "6. -0.649334929627913\n",
       "7. 5.96623225099533\n",
       "8. 8.82501175697222\n",
       "9. 2.15548900858749\n",
       "10. 2.12089142411205\n",
       "11. -0.806190247248811\n",
       "12. -4.24776523827309\n",
       "13. 0.312827190104973\n",
       "14. -2.10767272423435\n",
       "15. 1.30500014822655\n",
       "16. 0.237421048159101\n",
       "17. 1.78179652381606\n",
       "18. -0.360037247830662\n",
       "19. 0.722423028321822\n",
       "20. -0.690672822500132\n",
       "21. -0.433920180409265\n",
       "22. -0.393585786698533\n",
       "23. -0.0849221629418965\n",
       "24. 0.193734671217351\n",
       "25. 0.228121437536343\n",
       "\n",
       "\n"
      ],
      "text/plain": [
       " [1]   5.60084304  -5.91965377 -13.00325572  13.72698427 -36.35436670\n",
       " [6]  -0.64933493   5.96623225   8.82501176   2.15548901   2.12089142\n",
       "[11]  -0.80619025  -4.24776524   0.31282719  -2.10767272   1.30500015\n",
       "[16]   0.23742105   1.78179652  -0.36003725   0.72242303  -0.69067282\n",
       "[21]  -0.43392018  -0.39358579  -0.08492216   0.19373467   0.22812144"
      ]
     },
     "metadata": {},
     "output_type": "display_data"
    }
   ],
   "source": [
    "# Forecasting the DAX index\n",
    "DAX = fcast$fcst[1]; DAX # type list\n",
    "\n",
    "\n",
    "# Extracting the forecast column\n",
    "x = DAX$DAX[,1]; x"
   ]
  },
  {
   "cell_type": "code",
   "execution_count": 122,
   "metadata": {
    "ExecuteTime": {
     "end_time": "2020-10-14T09:49:59.259310Z",
     "start_time": "2020-10-14T09:49:59.196Z"
    },
    "scrolled": false
   },
   "outputs": [
    {
     "data": {
      "image/png": "[encoded data removed]",
      "text/plain": [
       "plot without title"
      ]
     },
     "metadata": {
      "image/png": {
       "height": 420,
       "width": 420
      }
     },
     "output_type": "display_data"
    }
   ],
   "source": [
    "# Inverting the differencing\n",
    "#To get the data to the original scale we invert the time series\n",
    "#since the values are just difference from the previous value, to get the values on the original scale we add the last value from the DAX time series to the predicted values.\n",
    "#the plot of the predicted values will also show that over longer horizon the predicted values are not reliable\n",
    "x = cumsum(x) + 5473.72\n",
    "par(mar = c(2.5,2.5,1,2.5)) #bottom, left, top, and right\n",
    "plot.ts(x)"
   ]
  },
  {
   "cell_type": "code",
   "execution_count": 123,
   "metadata": {
    "ExecuteTime": {
     "end_time": "2020-10-14T09:49:59.915231Z",
     "start_time": "2020-10-14T09:49:59.832Z"
    },
    "scrolled": false
   },
   "outputs": [
    {
     "data": {
      "image/png": "[encoded data removed]",
      "text/plain": [
       "plot without title"
      ]
     },
     "metadata": {
      "image/png": {
       "height": 420,
       "width": 420
      }
     },
     "output_type": "display_data"
    }
   ],
   "source": [
    "# Adding data and forecast to one time series\n",
    "DAXinv =ts(c(EuStockMarkets[,1], x),\n",
    "           start = c(1991,130), \n",
    "           frequency = 260)\n",
    "plot(DAXinv)"
   ]
  },
  {
   "cell_type": "code",
   "execution_count": 124,
   "metadata": {
    "ExecuteTime": {
     "end_time": "2020-10-14T09:50:00.664486Z",
     "start_time": "2020-10-14T09:50:00.335Z"
    },
    "scrolled": false
   },
   "outputs": [
    {
     "data": {
      "text/html": [
       "<table>\n",
       "<caption>A data.frame: 6 × 1</caption>\n",
       "<thead>\n",
       "\t<tr><th></th><th scope=col>x</th></tr>\n",
       "\t<tr><th></th><th scope=col>&lt;dbl&gt;</th></tr>\n",
       "</thead>\n",
       "<tbody>\n",
       "\t<tr><th scope=row>1</th><td>5337.75</td></tr>\n",
       "\t<tr><th scope=row>2</th><td>5226.20</td></tr>\n",
       "\t<tr><th scope=row>3</th><td>5264.62</td></tr>\n",
       "\t<tr><th scope=row>4</th><td>5164.89</td></tr>\n",
       "\t<tr><th scope=row>5</th><td>5270.61</td></tr>\n",
       "\t<tr><th scope=row>6</th><td>5348.75</td></tr>\n",
       "</tbody>\n",
       "</table>\n"
      ],
      "text/latex": [
       "A data.frame: 6 × 1\n",
       "\\begin{tabular}{r|l}\n",
       "  & x\\\\\n",
       "  & <dbl>\\\\\n",
       "\\hline\n",
       "\t1 & 5337.75\\\\\n",
       "\t2 & 5226.20\\\\\n",
       "\t3 & 5264.62\\\\\n",
       "\t4 & 5164.89\\\\\n",
       "\t5 & 5270.61\\\\\n",
       "\t6 & 5348.75\\\\\n",
       "\\end{tabular}\n"
      ],
      "text/markdown": [
       "\n",
       "A data.frame: 6 × 1\n",
       "\n",
       "| <!--/--> | x &lt;dbl&gt; |\n",
       "|---|---|\n",
       "| 1 | 5337.75 |\n",
       "| 2 | 5226.20 |\n",
       "| 3 | 5264.62 |\n",
       "| 4 | 5164.89 |\n",
       "| 5 | 5270.61 |\n",
       "| 6 | 5348.75 |\n",
       "\n"
      ],
      "text/plain": [
       "  x      \n",
       "1 5337.75\n",
       "2 5226.20\n",
       "3 5264.62\n",
       "4 5164.89\n",
       "5 5270.61\n",
       "6 5348.75"
      ]
     },
     "metadata": {},
     "output_type": "display_data"
    },
    {
     "data": {
      "image/png": "[encoded data removed]",
      "text/plain": [
       "plot without title"
      ]
     },
     "metadata": {
      "image/png": {
       "height": 420,
       "width": 420
      }
     },
     "output_type": "display_data"
    }
   ],
   "source": [
    "library(ggplot2)\n",
    "DAXinv_datframe <- as.data.frame(DAXinv[1786:1885]) \n",
    "colnames(DAXinv_datframe) <- c(\"x\")\n",
    "head(DAXinv_datframe)\n",
    "ggplot() + \n",
    "  geom_line(data = as.data.frame(DAXinv_datframe[1:75,]), aes(y = get(\"DAXinv_datframe[1:75, ]\"), x = seq(1, 75)), color = \"green\") +\n",
    "  geom_line(data = as.data.frame(DAXinv_datframe[76:100,]), aes(y = get(\"DAXinv_datframe[76:100, ]\"), x = seq(76, 100)), color = \"red\") +\n",
    "  ggtitle(\"Plot of forecast of the VAR model on `EuStockMarkets''s DAX time series\") +\n",
    "  theme(plot.title = element_text(hjust = 0.5)) +\n",
    "  xlab(\"Time\") + ylab(\"Value\")"
   ]
  },
  {
   "cell_type": "markdown",
   "metadata": {},
   "source": [
    "<a class=\"list-group-item list-group-item-action\" data-toggle=\"list\" href=\"#Forecasting\" role=\"tab\" aria-controls=\"profile\">Go to top<span class=\"badge badge-primary badge-pill\"></span></a>\n"
   ]
  },
  {
   "cell_type": "markdown",
   "metadata": {},
   "source": [
    "# Arimax/Sarimax"
   ]
  },
  {
   "cell_type": "markdown",
   "metadata": {},
   "source": [
    "An Autoregressive Integrated Moving Average with Explanatory Variable (ARIMAX) model can be viewed as a multiple regression model with one or more autoregressive (AR) terms and/or one or more moving average (MA) terms. This method is suitable for forecasting when data is stationary/non stationary, and multivariate with any type of data pattern"
   ]
  },
  {
   "cell_type": "code",
   "execution_count": 136,
   "metadata": {
    "ExecuteTime": {
     "end_time": "2020-10-14T10:06:00.120042Z",
     "start_time": "2020-10-14T10:06:00.058Z"
    }
   },
   "outputs": [
    {
     "name": "stderr",
     "output_type": "stream",
     "text": [
      "\n",
      "Attaching package: 'dplyr'\n",
      "\n",
      "\n",
      "The following object is masked from 'package:MASS':\n",
      "\n",
      "    select\n",
      "\n",
      "\n",
      "The following objects are masked from 'package:stats':\n",
      "\n",
      "    filter, lag\n",
      "\n",
      "\n",
      "The following objects are masked from 'package:base':\n",
      "\n",
      "    intersect, setdiff, setequal, union\n",
      "\n",
      "\n"
     ]
    }
   ],
   "source": [
    "library(dplyr)"
   ]
  },
  {
   "cell_type": "code",
   "execution_count": 204,
   "metadata": {
    "ExecuteTime": {
     "end_time": "2020-10-14T10:41:26.812611Z",
     "start_time": "2020-10-14T10:41:26.748Z"
    }
   },
   "outputs": [],
   "source": [
    "data(EuStockMarkets)"
   ]
  },
  {
   "cell_type": "code",
   "execution_count": 205,
   "metadata": {
    "ExecuteTime": {
     "end_time": "2020-10-14T10:41:27.053147Z",
     "start_time": "2020-10-14T10:41:27.009Z"
    }
   },
   "outputs": [],
   "source": [
    "df = as.data.frame(EuStockMarkets)"
   ]
  },
  {
   "cell_type": "markdown",
   "metadata": {},
   "source": [
    "## About the data \n",
    "The EuStockMarkets data set contains the daily closing prices (except for weekends/holidays) of four European stock exchanges: the DAX (Germany), the SMI (Switzerland), the CAC (France), and the FTSE (UK). An important characteristic of these data is that they represent stock market points, which have different interpretations depending on the exchange"
   ]
  },
  {
   "cell_type": "code",
   "execution_count": 206,
   "metadata": {
    "ExecuteTime": {
     "end_time": "2020-10-14T10:41:27.538101Z",
     "start_time": "2020-10-14T10:41:27.490Z"
    }
   },
   "outputs": [],
   "source": [
    "X = df %>% select(SMI,CAC,FTSE)\n",
    "y = df$DAX"
   ]
  },
  {
   "cell_type": "code",
   "execution_count": 207,
   "metadata": {
    "ExecuteTime": {
     "end_time": "2020-10-14T10:41:27.985831Z",
     "start_time": "2020-10-14T10:41:27.955Z"
    }
   },
   "outputs": [
    {
     "data": {
      "text/html": [
       "<style>\n",
       ".list-inline {list-style: none; margin:0; padding: 0}\n",
       ".list-inline>li {display: inline-block}\n",
       ".list-inline>li:not(:last-child)::after {content: \"\\00b7\"; padding: 0 .5ex}\n",
       "</style>\n",
       "<ol class=list-inline><li>1860</li><li>4</li></ol>\n"
      ],
      "text/latex": [
       "\\begin{enumerate*}\n",
       "\\item 1860\n",
       "\\item 4\n",
       "\\end{enumerate*}\n"
      ],
      "text/markdown": [
       "1. 1860\n",
       "2. 4\n",
       "\n",
       "\n"
      ],
      "text/plain": [
       "[1] 1860    4"
      ]
     },
     "metadata": {},
     "output_type": "display_data"
    }
   ],
   "source": [
    "dim(df)"
   ]
  },
  {
   "cell_type": "code",
   "execution_count": 208,
   "metadata": {
    "ExecuteTime": {
     "end_time": "2020-10-14T10:41:28.214077Z",
     "start_time": "2020-10-14T10:41:28.184Z"
    }
   },
   "outputs": [],
   "source": [
    "x_train = X[1:1600,]\n",
    "x_test = X[1601:nrow(df),]\n",
    "y_train = y[1:1600]\n",
    "y_test = y[1601:nrow(df)]"
   ]
  },
  {
   "cell_type": "code",
   "execution_count": 209,
   "metadata": {
    "ExecuteTime": {
     "end_time": "2020-10-14T10:41:29.030741Z",
     "start_time": "2020-10-14T10:41:28.440Z"
    }
   },
   "outputs": [],
   "source": [
    "# Toggle the seasonal parameter from TRUE to FALSE to build ARIMAX / SARIMAX models\n",
    "\n",
    "arimax = auto.arima(y_train,xreg = as.matrix(x_train))\n",
    "arima_mod = auto.arima(y_train,seasonal = TRUE)"
   ]
  },
  {
   "cell_type": "code",
   "execution_count": 210,
   "metadata": {
    "ExecuteTime": {
     "end_time": "2020-10-14T10:41:29.059398Z",
     "start_time": "2020-10-14T10:41:28.729Z"
    }
   },
   "outputs": [],
   "source": [
    "f_cast = forecast(arimax , xreg = as.matrix(x_test),h=260)\n",
    "f_cast_arima = forecast(arima_mod,h=260)"
   ]
  },
  {
   "cell_type": "code",
   "execution_count": 212,
   "metadata": {
    "ExecuteTime": {
     "end_time": "2020-10-14T10:41:29.635072Z",
     "start_time": "2020-10-14T10:41:29.605Z"
    }
   },
   "outputs": [
    {
     "data": {
      "text/html": [
       "3.49926065519492"
      ],
      "text/latex": [
       "3.49926065519492"
      ],
      "text/markdown": [
       "3.49926065519492"
      ],
      "text/plain": [
       "[1] 3.499261"
      ]
     },
     "metadata": {},
     "output_type": "display_data"
    },
    {
     "data": {
      "text/html": [
       "252.57480258955"
      ],
      "text/latex": [
       "252.57480258955"
      ],
      "text/markdown": [
       "252.57480258955"
      ],
      "text/plain": [
       "[1] 252.5748"
      ]
     },
     "metadata": {},
     "output_type": "display_data"
    }
   ],
   "source": [
    "mape(y_test, f_cast$mean)\n",
    "mape(y_test,f_cast_arima$mean)"
   ]
  },
  {
   "cell_type": "code",
   "execution_count": 213,
   "metadata": {
    "ExecuteTime": {
     "end_time": "2020-10-14T10:41:30.439394Z",
     "start_time": "2020-10-14T10:41:30.102Z"
    }
   },
   "outputs": [
    {
     "data": {
      "image/png": "[encoded data removed]",
      "text/plain": [
       "plot without title"
      ]
     },
     "metadata": {
      "image/png": {
       "height": 420,
       "width": 420
      }
     },
     "output_type": "display_data"
    }
   ],
   "source": [
    "plot.ts(df$DAX)\n",
    "points(f_cast$mean , type = \"l\", col = 2)\n",
    "points(f_cast_arima$mean , type = \"l\", col = 3)"
   ]
  },
  {
   "cell_type": "markdown",
   "metadata": {
    "ExecuteTime": {
     "end_time": "2020-10-14T10:43:32.282498Z",
     "start_time": "2020-10-14T10:43:32.251Z"
    }
   },
   "source": [
    "Arimax is denoted in Red and Green one is simple Arima"
   ]
  },
  {
   "cell_type": "markdown",
   "metadata": {},
   "source": [
    "Arima  model detects a dip in that particular point keeps on giving a downward trend, as the model does not know or finds any relationship in its past data"
   ]
  },
  {
   "cell_type": "markdown",
   "metadata": {},
   "source": [
    "## Using Arimax model we are able to predict quite accurately the DAX (Germany) Market hence it is quite clear that if you have a dateset which have dependency on other series those can be used in xreg parameter for better and high accuracy."
   ]
  },
  {
   "cell_type": "markdown",
   "metadata": {},
   "source": [
    "<a class=\"list-group-item list-group-item-action\" data-toggle=\"list\" href=\"#Forecasting\" role=\"tab\" aria-controls=\"profile\">Go to top<span class=\"badge badge-primary badge-pill\"></span></a>\n"
   ]
  }
 ],
 "metadata": {
  "kernelspec": {
   "display_name": "R",
   "language": "R",
   "name": "ir"
  },
  "language_info": {
   "codemirror_mode": "r",
   "file_extension": ".r",
   "mimetype": "text/x-r-source",
   "name": "R",
   "pygments_lexer": "r",
   "version": "3.6.1"
  },
  "varInspector": {
   "cols": {
    "lenName": 16,
    "lenType": 16,
    "lenVar": 40
   },
   "kernels_config": {
    "python": {
     "delete_cmd_postfix": "",
     "delete_cmd_prefix": "del ",
     "library": "var_list.py",
     "varRefreshCmd": "print(var_dic_list())"
    },
    "r": {
     "delete_cmd_postfix": ") ",
     "delete_cmd_prefix": "rm(",
     "library": "var_list.r",
     "varRefreshCmd": "cat(var_dic_list()) "
    }
   },
   "types_to_exclude": [
    "module",
    "function",
    "builtin_function_or_method",
    "instance",
    "_Feature"
   ],
   "window_display": false
  }
 },
 "nbformat": 4,
 "nbformat_minor": 4
}
