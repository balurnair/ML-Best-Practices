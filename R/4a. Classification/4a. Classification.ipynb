{
 "cells": [
  {
   "cell_type": "markdown",
   "metadata": {},
   "source": [
    "# Classification"
   ]
  },
  {
   "cell_type": "markdown",
   "metadata": {},
   "source": [
    "# Notebook Content\n",
    "## Classification\n",
    "[Overview](#Overview)<br>\n",
    "[Logistic Regression Classifier](#Logistic-Regression-Classifier)<br>\n",
    "[Support Vector Classifier](#Support-Vector-Classifier)<br>\n",
    "[Naive Bayes Classifier](#Naive-Bayes-Classifier)<br>\n",
    "[Multinomial Naive Bayes Classifier](#Multinomial-Naive-Bayes-Classifier)<br>\n",
    "[Gradient Boosting Classifier](#Gradient-Boosting-Classifier)<br>\n",
    "[XGBoost Classifier](#XGBoost-Classifier)<br>\n",
    "[Gradient Descent](#Gradient-Descent)<br>\n",
    "[Stochastic Gradient Descent](#Stochastic-Gradient-Descent)<br>\n",
    "[Decision Tree](#Decision-Tree)<br>\n",
    "[Random Forest Classifier](#Random-Forest-Classifier)<br>\n",
    "[KNN Classifier](#KNN-Classifier)<br>\n",
    "[Classifiers Report](#Classifiers-Report)<br>\n",
    "## Multiclass Classification\n",
    "[Multiclass Logistic Regression](#Multiclass-Logistic-Regression)<br>\n",
    "[Support Vector Classifier](#Support-Vector-Classifier-for-Multiclass-classification)<br>\n",
    "[Multinomial Naive Bayes Classifier](#Multinomial-Naive-Bayes-Classifier-for-multiclass-classification)<br>\n",
    "[Bernoulli Naive Bayes Classifier](#Bernoulli-Naive-Bayes-Classifier-for-multiclass-classification)<br>\n",
    "[Decision Tree Classifier](#Decision-Tree-Classifier-for-multiclass-classfication)<br>\n",
    "[Random Forest](#Random-Forest-Classifier-for-multiple-classes)<br>\n",
    "[Gradient Boosting](#Gradient-Boosting-Classifier-for-multiclass-classificaton)<br>\n",
    "[XGBoost Classifier](#XGBoost-Classifier-for-multiclass-classificaton)<br>\n",
    "[KNN Classifier](#KNN-Classifier-for-multiclass-classification)<br>\n",
    "## Multi-label Classification\n",
    "[Binary Relevance](#Binary-Relevance)<br>\n",
    "[Label Powerset](#Label-Powerset)<br>\n",
    "[Classifier Chains](#Classifier-Chains)<br>\n",
    "## Hyperparameter Tuning\n",
    "[Grid-Search](#1)<br>\n",
    "[Random-Search](#2)<br>"
   ]
  },
  {
   "cell_type": "markdown",
   "metadata": {},
   "source": [
    "# Overview"
   ]
  },
  {
   "cell_type": "markdown",
   "metadata": {},
   "source": [
    "**Classification** is a process of categorizing a given set of data into classes. It can be performed on both structured or unstructured data. The process starts with predicting the class of given data points.The classes are often referred to as target, label or categories. The classification predictive modelling is the task of approximating the mapping function from input variables to discrete output variables. \n",
    "\n",
    "The main goal is to identify which class/category the new data will fall into."
   ]
  },
  {
   "cell_type": "markdown",
   "metadata": {},
   "source": [
    "### Required libraries\n",
    "The libraries that have been used in the notebook are given below. in case of any unisntalled libraries in the system please remove the specific comment and execute the code:"
   ]
  },
  {
   "cell_type": "code",
   "execution_count": null,
   "metadata": {
    "scrolled": true
   },
   "outputs": [],
   "source": [
    "install.packages('caTools')\n",
    "install.packages(\"ROCR\")\n",
    "install.packages('glmnet')\n",
    "install.packages('rpart')\n",
    "install.packages('caret')\n",
    "install.packages('rpart.plot')\n",
    "install.packages('rattle')\n",
    "install.packages('tidyverse')\n",
    "install.packages('nnet')\n",
    "install.packages('caret')\n",
    "install.packages('e1071')\n",
    "install.packages('naivebayes')\n",
    "install.packages('xgboost')\n",
    "install.packages('class')\n",
    "install.packages('gmodels')\n",
    "install.packages('fastNaiveBayes')\n",
    "install.packages('utiml')\n",
    "install.packages(c(\"mlr\", \"OpenML\"))\n",
    "install.packages(\"farff\")"
   ]
  },
  {
   "cell_type": "code",
   "execution_count": 2,
   "metadata": {},
   "outputs": [
    {
     "data": {
      "text/html": [
       "<table>\n",
       "<caption>A data.frame: 6 × 9</caption>\n",
       "<thead>\n",
       "\t<tr><th></th><th scope=col>Number.of.times.pregnant</th><th scope=col>Plasma.glucose.concentration.a.2.hours.in.an.oral.glucose.tolerance.test</th><th scope=col>Diastolic.blood.pressure..mm.Hg.</th><th scope=col>Triceps.skin.fold.thickness..mm.</th><th scope=col>X2.Hour.serum.insulin..mu.U.ml.</th><th scope=col>Body.mass.index..weight.in.kg..height.in.m..2.</th><th scope=col>Diabetes.pedigree.function</th><th scope=col>Age..years.</th><th scope=col>Class.variable..0.or.1.</th></tr>\n",
       "\t<tr><th></th><th scope=col>&lt;int&gt;</th><th scope=col>&lt;int&gt;</th><th scope=col>&lt;int&gt;</th><th scope=col>&lt;int&gt;</th><th scope=col>&lt;int&gt;</th><th scope=col>&lt;dbl&gt;</th><th scope=col>&lt;dbl&gt;</th><th scope=col>&lt;int&gt;</th><th scope=col>&lt;int&gt;</th></tr>\n",
       "</thead>\n",
       "<tbody>\n",
       "\t<tr><th scope=row>1</th><td>6</td><td>148</td><td>72</td><td>35</td><td>  0</td><td>33.6</td><td>0.627</td><td>50</td><td>1</td></tr>\n",
       "\t<tr><th scope=row>2</th><td>1</td><td> 85</td><td>66</td><td>29</td><td>  0</td><td>26.6</td><td>0.351</td><td>31</td><td>0</td></tr>\n",
       "\t<tr><th scope=row>3</th><td>8</td><td>183</td><td>64</td><td> 0</td><td>  0</td><td>23.3</td><td>0.672</td><td>32</td><td>1</td></tr>\n",
       "\t<tr><th scope=row>4</th><td>1</td><td> 89</td><td>66</td><td>23</td><td> 94</td><td>28.1</td><td>0.167</td><td>21</td><td>0</td></tr>\n",
       "\t<tr><th scope=row>5</th><td>0</td><td>137</td><td>40</td><td>35</td><td>168</td><td>43.1</td><td>2.288</td><td>33</td><td>1</td></tr>\n",
       "\t<tr><th scope=row>6</th><td>5</td><td>116</td><td>74</td><td> 0</td><td>  0</td><td>25.6</td><td>0.201</td><td>30</td><td>0</td></tr>\n",
       "</tbody>\n",
       "</table>\n"
      ],
      "text/latex": [
       "A data.frame: 6 × 9\n",
       "\\begin{tabular}{r|lllllllll}\n",
       "  & Number.of.times.pregnant & Plasma.glucose.concentration.a.2.hours.in.an.oral.glucose.tolerance.test & Diastolic.blood.pressure..mm.Hg. & Triceps.skin.fold.thickness..mm. & X2.Hour.serum.insulin..mu.U.ml. & Body.mass.index..weight.in.kg..height.in.m..2. & Diabetes.pedigree.function & Age..years. & Class.variable..0.or.1.\\\\\n",
       "  & <int> & <int> & <int> & <int> & <int> & <dbl> & <dbl> & <int> & <int>\\\\\n",
       "\\hline\n",
       "\t1 & 6 & 148 & 72 & 35 &   0 & 33.6 & 0.627 & 50 & 1\\\\\n",
       "\t2 & 1 &  85 & 66 & 29 &   0 & 26.6 & 0.351 & 31 & 0\\\\\n",
       "\t3 & 8 & 183 & 64 &  0 &   0 & 23.3 & 0.672 & 32 & 1\\\\\n",
       "\t4 & 1 &  89 & 66 & 23 &  94 & 28.1 & 0.167 & 21 & 0\\\\\n",
       "\t5 & 0 & 137 & 40 & 35 & 168 & 43.1 & 2.288 & 33 & 1\\\\\n",
       "\t6 & 5 & 116 & 74 &  0 &   0 & 25.6 & 0.201 & 30 & 0\\\\\n",
       "\\end{tabular}\n"
      ],
      "text/markdown": [
       "\n",
       "A data.frame: 6 × 9\n",
       "\n",
       "| <!--/--> | Number.of.times.pregnant &lt;int&gt; | Plasma.glucose.concentration.a.2.hours.in.an.oral.glucose.tolerance.test &lt;int&gt; | Diastolic.blood.pressure..mm.Hg. &lt;int&gt; | Triceps.skin.fold.thickness..mm. &lt;int&gt; | X2.Hour.serum.insulin..mu.U.ml. &lt;int&gt; | Body.mass.index..weight.in.kg..height.in.m..2. &lt;dbl&gt; | Diabetes.pedigree.function &lt;dbl&gt; | Age..years. &lt;int&gt; | Class.variable..0.or.1. &lt;int&gt; |\n",
       "|---|---|---|---|---|---|---|---|---|---|\n",
       "| 1 | 6 | 148 | 72 | 35 |   0 | 33.6 | 0.627 | 50 | 1 |\n",
       "| 2 | 1 |  85 | 66 | 29 |   0 | 26.6 | 0.351 | 31 | 0 |\n",
       "| 3 | 8 | 183 | 64 |  0 |   0 | 23.3 | 0.672 | 32 | 1 |\n",
       "| 4 | 1 |  89 | 66 | 23 |  94 | 28.1 | 0.167 | 21 | 0 |\n",
       "| 5 | 0 | 137 | 40 | 35 | 168 | 43.1 | 2.288 | 33 | 1 |\n",
       "| 6 | 5 | 116 | 74 |  0 |   0 | 25.6 | 0.201 | 30 | 0 |\n",
       "\n"
      ],
      "text/plain": [
       "  Number.of.times.pregnant\n",
       "1 6                       \n",
       "2 1                       \n",
       "3 8                       \n",
       "4 1                       \n",
       "5 0                       \n",
       "6 5                       \n",
       "  Plasma.glucose.concentration.a.2.hours.in.an.oral.glucose.tolerance.test\n",
       "1 148                                                                     \n",
       "2  85                                                                     \n",
       "3 183                                                                     \n",
       "4  89                                                                     \n",
       "5 137                                                                     \n",
       "6 116                                                                     \n",
       "  Diastolic.blood.pressure..mm.Hg. Triceps.skin.fold.thickness..mm.\n",
       "1 72                               35                              \n",
       "2 66                               29                              \n",
       "3 64                                0                              \n",
       "4 66                               23                              \n",
       "5 40                               35                              \n",
       "6 74                                0                              \n",
       "  X2.Hour.serum.insulin..mu.U.ml.\n",
       "1   0                            \n",
       "2   0                            \n",
       "3   0                            \n",
       "4  94                            \n",
       "5 168                            \n",
       "6   0                            \n",
       "  Body.mass.index..weight.in.kg..height.in.m..2. Diabetes.pedigree.function\n",
       "1 33.6                                           0.627                     \n",
       "2 26.6                                           0.351                     \n",
       "3 23.3                                           0.672                     \n",
       "4 28.1                                           0.167                     \n",
       "5 43.1                                           2.288                     \n",
       "6 25.6                                           0.201                     \n",
       "  Age..years. Class.variable..0.or.1.\n",
       "1 50          1                      \n",
       "2 31          0                      \n",
       "3 32          1                      \n",
       "4 21          0                      \n",
       "5 33          1                      \n",
       "6 30          0                      "
      ]
     },
     "metadata": {},
     "output_type": "display_data"
    }
   ],
   "source": [
    "# Reading data\n",
    "data = read.csv(\"dataset/pima-indians-diabetes.csv\")\n",
    "head(data)"
   ]
  },
  {
   "cell_type": "code",
   "execution_count": 3,
   "metadata": {},
   "outputs": [
    {
     "data": {
      "text/html": [
       "0"
      ],
      "text/latex": [
       "0"
      ],
      "text/markdown": [
       "0"
      ],
      "text/plain": [
       "[1] 0"
      ]
     },
     "metadata": {},
     "output_type": "display_data"
    }
   ],
   "source": [
    "# Checking null values\n",
    "sum(is.na(data))"
   ]
  },
  {
   "cell_type": "code",
   "execution_count": 4,
   "metadata": {},
   "outputs": [],
   "source": [
    "# Train Test Split\n",
    "N_all = nrow(data)\n",
    "N_train = round(0.75*(N_all))\n",
    "N_test = N_all-N_train\n",
    "data$Class.variable = as.factor(data$Class.variable)\n",
    "data_train <- data[1:N_train,]\n",
    "data_test <- data[(N_train+1): N_all,]\n",
    "x <- data[,1:8]\n",
    "y <- data[,9]\n",
    "\n",
    "# Set labels\n",
    "data_train_labels <- data[1:N_train, 1:8]\n",
    "data_test_labels <- data[(N_train+1):N_all, 9]"
   ]
  },
  {
   "cell_type": "markdown",
   "metadata": {},
   "source": [
    "<a class=\"list-group-item list-group-item-action\" data-toggle=\"list\" href=\"#Classification\" role=\"tab\" aria-controls=\"profile\">Go to top<span class=\"badge badge-primary badge-pill\"></span></a>"
   ]
  },
  {
   "cell_type": "markdown",
   "metadata": {},
   "source": [
    "## Logistic Regression Classifier"
   ]
  },
  {
   "cell_type": "markdown",
   "metadata": {},
   "source": [
    "In this algorithm, the probabilities describing the possible outcomes of a single trial are modelled using a logistic function.\n",
    "It is used to model the probability of a certain class or event existing \n",
    "such as pass/fail, win/lose, alive/dead or healthy/sick."
   ]
  },
  {
   "cell_type": "code",
   "execution_count": 5,
   "metadata": {},
   "outputs": [
    {
     "name": "stderr",
     "output_type": "stream",
     "text": [
      "Warning message:\n",
      "\"package 'caTools' was built under R version 3.6.3\"\n"
     ]
    },
    {
     "data": {
      "text/plain": [
       "\n",
       "Call:\n",
       "glm(formula = Class.variable ~ ., family = \"binomial\", data = data_train)\n",
       "\n",
       "Deviance Residuals: \n",
       "       Min          1Q      Median          3Q         Max  \n",
       "-2.409e-06  -2.409e-06  -2.409e-06   2.409e-06   2.409e-06  \n",
       "\n",
       "Coefficients:\n",
       "                                                                           Estimate\n",
       "(Intercept)                                                              -2.657e+01\n",
       "Number.of.times.pregnant                                                  2.522e-12\n",
       "Plasma.glucose.concentration.a.2.hours.in.an.oral.glucose.tolerance.test  2.053e-13\n",
       "Diastolic.blood.pressure..mm.Hg.                                          1.447e-13\n",
       "Triceps.skin.fold.thickness..mm.                                          2.899e-13\n",
       "X2.Hour.serum.insulin..mu.U.ml.                                          -1.459e-13\n",
       "Body.mass.index..weight.in.kg..height.in.m..2.                            4.121e-14\n",
       "Diabetes.pedigree.function                                                3.989e-11\n",
       "Age..years.                                                              -7.723e-13\n",
       "Class.variable..0.or.1.                                                   5.313e+01\n",
       "                                                                         Std. Error\n",
       "(Intercept)                                                               9.254e+04\n",
       "Number.of.times.pregnant                                                  5.345e+03\n",
       "Plasma.glucose.concentration.a.2.hours.in.an.oral.glucose.tolerance.test  5.604e+02\n",
       "Diastolic.blood.pressure..mm.Hg.                                          8.315e+02\n",
       "Triceps.skin.fold.thickness..mm.                                          1.187e+03\n",
       "X2.Hour.serum.insulin..mu.U.ml.                                           1.567e+02\n",
       "Body.mass.index..weight.in.kg..height.in.m..2.                            2.164e+03\n",
       "Diabetes.pedigree.function                                                4.630e+04\n",
       "Age..years.                                                               1.586e+03\n",
       "Class.variable..0.or.1.                                                   3.692e+04\n",
       "                                                                         z value\n",
       "(Intercept)                                                                0.000\n",
       "Number.of.times.pregnant                                                   0.000\n",
       "Plasma.glucose.concentration.a.2.hours.in.an.oral.glucose.tolerance.test   0.000\n",
       "Diastolic.blood.pressure..mm.Hg.                                           0.000\n",
       "Triceps.skin.fold.thickness..mm.                                           0.000\n",
       "X2.Hour.serum.insulin..mu.U.ml.                                            0.000\n",
       "Body.mass.index..weight.in.kg..height.in.m..2.                             0.000\n",
       "Diabetes.pedigree.function                                                 0.000\n",
       "Age..years.                                                                0.000\n",
       "Class.variable..0.or.1.                                                    0.001\n",
       "                                                                         Pr(>|z|)\n",
       "(Intercept)                                                                 1.000\n",
       "Number.of.times.pregnant                                                    1.000\n",
       "Plasma.glucose.concentration.a.2.hours.in.an.oral.glucose.tolerance.test    1.000\n",
       "Diastolic.blood.pressure..mm.Hg.                                            1.000\n",
       "Triceps.skin.fold.thickness..mm.                                            1.000\n",
       "X2.Hour.serum.insulin..mu.U.ml.                                             1.000\n",
       "Body.mass.index..weight.in.kg..height.in.m..2.                              1.000\n",
       "Diabetes.pedigree.function                                                  1.000\n",
       "Age..years.                                                                 1.000\n",
       "Class.variable..0.or.1.                                                     0.999\n",
       "\n",
       "(Dispersion parameter for binomial family taken to be 1)\n",
       "\n",
       "    Null deviance: 7.4130e+02  on 575  degrees of freedom\n",
       "Residual deviance: 3.3417e-09  on 566  degrees of freedom\n",
       "AIC: 20\n",
       "\n",
       "Number of Fisher Scoring iterations: 25\n"
      ]
     },
     "metadata": {},
     "output_type": "display_data"
    }
   ],
   "source": [
    "# Loading required libraries\n",
    "library(caTools)\n",
    "options(warn=-1) #To supress warnings\n",
    "\n",
    "#logistic regression model\n",
    "model_logi <- glm (Class.variable ~ ., data = data_train, family = \"binomial\")\n",
    "summary(model_logi)"
   ]
  },
  {
   "cell_type": "code",
   "execution_count": 6,
   "metadata": {},
   "outputs": [
    {
     "data": {
      "text/plain": [
       "   \n",
       "     0  1\n",
       "  0 80 43\n",
       "  1 42 27"
      ]
     },
     "metadata": {},
     "output_type": "display_data"
    }
   ],
   "source": [
    "# Predict using the model(The predictions are probabilities and have to be convered to 0 and 1)\n",
    "predictions <- predict(model_logi, data = data_test, type = 'response')\n",
    "predictions = ifelse(predictions >.5, 1, 0)\n",
    "table(predictions[1:192], data_test$Class.variable[1:192])\n",
    "\n"
   ]
  },
  {
   "cell_type": "code",
   "execution_count": 7,
   "metadata": {},
   "outputs": [
    {
     "name": "stderr",
     "output_type": "stream",
     "text": [
      "Loading required package: lattice\n",
      "\n",
      "Loading required package: ggplot2\n",
      "\n"
     ]
    },
    {
     "data": {
      "text/plain": [
       "Confusion Matrix and Statistics\n",
       "\n",
       "          Reference\n",
       "Prediction  0  1\n",
       "         0 80 43\n",
       "         1 42 27\n",
       "                                         \n",
       "               Accuracy : 0.5573         \n",
       "                 95% CI : (0.484, 0.6288)\n",
       "    No Information Rate : 0.6354         \n",
       "    P-Value [Acc > NIR] : 0.9893         \n",
       "                                         \n",
       "                  Kappa : 0.0416         \n",
       "                                         \n",
       " Mcnemar's Test P-Value : 1.0000         \n",
       "                                         \n",
       "            Sensitivity : 0.6557         \n",
       "            Specificity : 0.3857         \n",
       "         Pos Pred Value : 0.6504         \n",
       "         Neg Pred Value : 0.3913         \n",
       "             Prevalence : 0.6354         \n",
       "         Detection Rate : 0.4167         \n",
       "   Detection Prevalence : 0.6406         \n",
       "      Balanced Accuracy : 0.5207         \n",
       "                                         \n",
       "       'Positive' Class : 0              \n",
       "                                         "
      ]
     },
     "metadata": {},
     "output_type": "display_data"
    }
   ],
   "source": [
    "#confusion matrix\n",
    "library(e1071)\n",
    "library(caret)\n",
    "options(warn=-1) #To supress warnings\n",
    "\n",
    "confusionMatrix(as.factor(predictions[1:192]), data_test$Class.variable[1:192])"
   ]
  },
  {
   "cell_type": "code",
   "execution_count": 8,
   "metadata": {},
   "outputs": [
    {
     "data": {
      "image/png": "[encoded data removed]",
      "text/plain": [
       "plot without title"
      ]
     },
     "metadata": {
      "image/png": {
       "height": 420,
       "width": 420
      },
      "text/plain": {
       "height": 420,
       "width": 420
      }
     },
     "output_type": "display_data"
    }
   ],
   "source": [
    "#ROCR Curve\n",
    "library(ROCR)\n",
    "options(warn=-1) #To supress warnings\n",
    "\n",
    "ROCRpred <- prediction(predictions, data_train$Class.variable)\n",
    "ROCRperf <- performance(ROCRpred, 'tpr','fpr')\n",
    "plot(ROCRperf, colorize = TRUE, text.adj = c(-0.2,1.7))"
   ]
  },
  {
   "cell_type": "code",
   "execution_count": 9,
   "metadata": {},
   "outputs": [
    {
     "data": {
      "text/html": [
       "<strong>Accuracy:</strong> 0.557291666666667"
      ],
      "text/latex": [
       "\\textbf{Accuracy:} 0.557291666666667"
      ],
      "text/markdown": [
       "**Accuracy:** 0.557291666666667"
      ],
      "text/plain": [
       " Accuracy \n",
       "0.5572917 "
      ]
     },
     "metadata": {},
     "output_type": "display_data"
    }
   ],
   "source": [
    "#confusion matrix\n",
    "library(e1071)\n",
    "library(caret)\n",
    "cm <- confusionMatrix(as.factor(predictions[1:192]), data_test$Class.variable[1:192])\n",
    "\n",
    "# Accuracy\n",
    "acc_LR <- cm$overall['Accuracy']\n",
    "acc_LR"
   ]
  },
  {
   "cell_type": "markdown",
   "metadata": {},
   "source": [
    "<a class=\"list-group-item list-group-item-action\" data-toggle=\"list\" href=\"#Classification\" role=\"tab\" aria-controls=\"profile\">Go to top<span class=\"badge badge-primary badge-pill\"></span></a>"
   ]
  },
  {
   "cell_type": "markdown",
   "metadata": {},
   "source": [
    "# Support Vector Classifier\n",
    "The support vector machine is a classifier that represents the training data as points in space separated into categories by a gap as wide as possible. New points are then added to space by predicting which category they fall into and which space they will belong to."
   ]
  },
  {
   "cell_type": "code",
   "execution_count": 10,
   "metadata": {},
   "outputs": [],
   "source": [
    "#Load Library\n",
    "library(e1071)\n",
    "\n",
    "# Fitting the model\n",
    "model_svm = svm(Class.variable~.,data)\n",
    "\n",
    "# Making \n",
    "predictions = predict(model_svm, data_test, method=\"C-classification\", kernal=\"radial\", \n",
    "          gamma=0.1, cost=10)"
   ]
  },
  {
   "cell_type": "code",
   "execution_count": 11,
   "metadata": {},
   "outputs": [
    {
     "data": {
      "text/plain": [
       "           \n",
       "predictions   0   1\n",
       "          0 122   0\n",
       "          1   0  70"
      ]
     },
     "metadata": {},
     "output_type": "display_data"
    }
   ],
   "source": [
    "table(predictions, data_test$Class.variable)"
   ]
  },
  {
   "cell_type": "code",
   "execution_count": 12,
   "metadata": {},
   "outputs": [
    {
     "data": {
      "text/plain": [
       "Confusion Matrix and Statistics\n",
       "\n",
       "          Reference\n",
       "Prediction   0   1\n",
       "         0 122   0\n",
       "         1   0  70\n",
       "                                    \n",
       "               Accuracy : 1         \n",
       "                 95% CI : (0.981, 1)\n",
       "    No Information Rate : 0.6354    \n",
       "    P-Value [Acc > NIR] : < 2.2e-16 \n",
       "                                    \n",
       "                  Kappa : 1         \n",
       "                                    \n",
       " Mcnemar's Test P-Value : NA        \n",
       "                                    \n",
       "            Sensitivity : 1.0000    \n",
       "            Specificity : 1.0000    \n",
       "         Pos Pred Value : 1.0000    \n",
       "         Neg Pred Value : 1.0000    \n",
       "             Prevalence : 0.6354    \n",
       "         Detection Rate : 0.6354    \n",
       "   Detection Prevalence : 0.6354    \n",
       "      Balanced Accuracy : 1.0000    \n",
       "                                    \n",
       "       'Positive' Class : 0         \n",
       "                                    "
      ]
     },
     "metadata": {},
     "output_type": "display_data"
    }
   ],
   "source": [
    "#confusion matrix\n",
    "library(e1071)\n",
    "library(caret)\n",
    "cm <- confusionMatrix(as.factor(predictions), data_test$Class.variable)\n",
    "cm"
   ]
  },
  {
   "cell_type": "code",
   "execution_count": 13,
   "metadata": {},
   "outputs": [
    {
     "data": {
      "text/html": [
       "<strong>Accuracy:</strong> 1"
      ],
      "text/latex": [
       "\\textbf{Accuracy:} 1"
      ],
      "text/markdown": [
       "**Accuracy:** 1"
      ],
      "text/plain": [
       "Accuracy \n",
       "       1 "
      ]
     },
     "metadata": {},
     "output_type": "display_data"
    }
   ],
   "source": [
    "# Accuracy\n",
    "acc_SVC <- cm$overall['Accuracy']\n",
    "acc_SVC"
   ]
  },
  {
   "cell_type": "markdown",
   "metadata": {},
   "source": [
    "<a class=\"list-group-item list-group-item-action\" data-toggle=\"list\" href=\"#Classification\" role=\"tab\" aria-controls=\"profile\">Go to top<span class=\"badge badge-primary badge-pill\"></span></a>"
   ]
  },
  {
   "cell_type": "markdown",
   "metadata": {},
   "source": [
    "## Naive Bayes Classifier\n",
    "It is based on Bayes’s theorem which gives an assumption of independence among predictors. A Naive Bayes classifier assumes that the presence of a particular feature in a class is unrelated to the presence of any other feature. "
   ]
  },
  {
   "cell_type": "code",
   "execution_count": 14,
   "metadata": {},
   "outputs": [
    {
     "name": "stdout",
     "output_type": "stream",
     "text": [
      "\n",
      "Naive Bayes Classifier for Discrete Predictors\n",
      "\n",
      "Call:\n",
      "naiveBayes.default(x = x, y = as.factor(y))\n",
      "\n",
      "A-priori probabilities:\n",
      "as.factor(y)\n",
      "        0         1 \n",
      "0.6510417 0.3489583 \n",
      "\n",
      "Conditional probabilities:\n",
      "            Number.of.times.pregnant\n",
      "as.factor(y)     [,1]     [,2]\n",
      "           0 3.298000 3.017185\n",
      "           1 4.865672 3.741239\n",
      "\n",
      "            Plasma.glucose.concentration.a.2.hours.in.an.oral.glucose.tolerance.test\n",
      "as.factor(y)     [,1]     [,2]\n",
      "           0 109.9800 26.14120\n",
      "           1 141.2575 31.93962\n",
      "\n",
      "            Diastolic.blood.pressure..mm.Hg.\n",
      "as.factor(y)     [,1]     [,2]\n",
      "           0 68.18400 18.06308\n",
      "           1 70.82463 21.49181\n",
      "\n",
      "            Triceps.skin.fold.thickness..mm.\n",
      "as.factor(y)     [,1]     [,2]\n",
      "           0 19.66400 14.88995\n",
      "           1 22.16418 17.67971\n",
      "\n",
      "            X2.Hour.serum.insulin..mu.U.ml.\n",
      "as.factor(y)     [,1]      [,2]\n",
      "           0  68.7920  98.86529\n",
      "           1 100.3358 138.68912\n",
      "\n",
      "            Body.mass.index..weight.in.kg..height.in.m..2.\n",
      "as.factor(y)     [,1]     [,2]\n",
      "           0 30.30420 7.689855\n",
      "           1 35.14254 7.262967\n",
      "\n",
      "            Diabetes.pedigree.function\n",
      "as.factor(y)     [,1]      [,2]\n",
      "           0 0.429734 0.2990853\n",
      "           1 0.550500 0.3723545\n",
      "\n",
      "            Age..years.\n",
      "as.factor(y)     [,1]     [,2]\n",
      "           0 31.19000 11.66765\n",
      "           1 37.06716 10.96825\n",
      "\n"
     ]
    }
   ],
   "source": [
    "# Fit NB model\n",
    "model_NBC=naiveBayes(x, as.factor(y))\n",
    "print(model_NBC)"
   ]
  },
  {
   "cell_type": "code",
   "execution_count": 15,
   "metadata": {},
   "outputs": [],
   "source": [
    "# Predict using the model\n",
    "predictions <- predict(model_NBC, data_test)"
   ]
  },
  {
   "cell_type": "code",
   "execution_count": 16,
   "metadata": {},
   "outputs": [
    {
     "data": {
      "text/plain": [
       "Confusion Matrix and Statistics\n",
       "\n",
       "          Reference\n",
       "Prediction   0   1\n",
       "         0 103  25\n",
       "         1  19  45\n",
       "                                          \n",
       "               Accuracy : 0.7708          \n",
       "                 95% CI : (0.7048, 0.8283)\n",
       "    No Information Rate : 0.6354          \n",
       "    P-Value [Acc > NIR] : 3.901e-05       \n",
       "                                          \n",
       "                  Kappa : 0.4962          \n",
       "                                          \n",
       " Mcnemar's Test P-Value : 0.451           \n",
       "                                          \n",
       "            Sensitivity : 0.8443          \n",
       "            Specificity : 0.6429          \n",
       "         Pos Pred Value : 0.8047          \n",
       "         Neg Pred Value : 0.7031          \n",
       "             Prevalence : 0.6354          \n",
       "         Detection Rate : 0.5365          \n",
       "   Detection Prevalence : 0.6667          \n",
       "      Balanced Accuracy : 0.7436          \n",
       "                                          \n",
       "       'Positive' Class : 0               \n",
       "                                          "
      ]
     },
     "metadata": {},
     "output_type": "display_data"
    }
   ],
   "source": [
    "#confusion matrix\n",
    "library(e1071)\n",
    "library(caret)\n",
    "cm <- confusionMatrix(as.factor(predictions), data_test$Class.variable)\n",
    "cm"
   ]
  },
  {
   "cell_type": "code",
   "execution_count": 17,
   "metadata": {},
   "outputs": [
    {
     "data": {
      "text/html": [
       "<strong>Accuracy:</strong> 0.770833333333333"
      ],
      "text/latex": [
       "\\textbf{Accuracy:} 0.770833333333333"
      ],
      "text/markdown": [
       "**Accuracy:** 0.770833333333333"
      ],
      "text/plain": [
       " Accuracy \n",
       "0.7708333 "
      ]
     },
     "metadata": {},
     "output_type": "display_data"
    }
   ],
   "source": [
    "# Accuracy\n",
    "acc_NBC <- cm$overall['Accuracy']\n",
    "acc_NBC"
   ]
  },
  {
   "cell_type": "markdown",
   "metadata": {},
   "source": [
    "<a class=\"list-group-item list-group-item-action\" data-toggle=\"list\" href=\"#Classification\" role=\"tab\" aria-controls=\"profile\">Go to top<span class=\"badge badge-primary badge-pill\"></span></a>"
   ]
  },
  {
   "cell_type": "markdown",
   "metadata": {},
   "source": [
    "## Multinomial Naive Bayes Classifier"
   ]
  },
  {
   "cell_type": "code",
   "execution_count": 18,
   "metadata": {},
   "outputs": [
    {
     "name": "stderr",
     "output_type": "stream",
     "text": [
      "naivebayes 0.9.7 loaded\n",
      "\n"
     ]
    }
   ],
   "source": [
    "# Multinomial Naive Bayes Classifier\n",
    "\n",
    "# Load required libraries\n",
    "library(naivebayes)\n",
    "options(warn=-1) #To supress warnings\n",
    "\n",
    "# Fit the model\n",
    "model_MNBC <- multinomial_naive_bayes(x, as.factor(y))"
   ]
  },
  {
   "cell_type": "code",
   "execution_count": 19,
   "metadata": {},
   "outputs": [],
   "source": [
    "# Predict using the model\n",
    "predictions <- predict(model_MNBC, newdata = data.matrix(data_test), type = \"class\") \n",
    "options(warn=-1) #To supress warnings\n"
   ]
  },
  {
   "cell_type": "code",
   "execution_count": 20,
   "metadata": {},
   "outputs": [
    {
     "data": {
      "text/plain": [
       "Confusion Matrix and Statistics\n",
       "\n",
       "          Reference\n",
       "Prediction  0  1\n",
       "         0 76 41\n",
       "         1 46 29\n",
       "                                          \n",
       "               Accuracy : 0.5469          \n",
       "                 95% CI : (0.4736, 0.6187)\n",
       "    No Information Rate : 0.6354          \n",
       "    P-Value [Acc > NIR] : 0.9952          \n",
       "                                          \n",
       "                  Kappa : 0.0367          \n",
       "                                          \n",
       " Mcnemar's Test P-Value : 0.6680          \n",
       "                                          \n",
       "            Sensitivity : 0.6230          \n",
       "            Specificity : 0.4143          \n",
       "         Pos Pred Value : 0.6496          \n",
       "         Neg Pred Value : 0.3867          \n",
       "             Prevalence : 0.6354          \n",
       "         Detection Rate : 0.3958          \n",
       "   Detection Prevalence : 0.6094          \n",
       "      Balanced Accuracy : 0.5186          \n",
       "                                          \n",
       "       'Positive' Class : 0               \n",
       "                                          "
      ]
     },
     "metadata": {},
     "output_type": "display_data"
    }
   ],
   "source": [
    "#confusion matrix\n",
    "library(e1071)\n",
    "library(caret)\n",
    "cm <- confusionMatrix(as.factor(predictions), data_test$Class.variable)\n",
    "cm"
   ]
  },
  {
   "cell_type": "code",
   "execution_count": 21,
   "metadata": {
    "scrolled": true
   },
   "outputs": [
    {
     "data": {
      "text/html": [
       "<strong>Accuracy:</strong> 0.546875"
      ],
      "text/latex": [
       "\\textbf{Accuracy:} 0.546875"
      ],
      "text/markdown": [
       "**Accuracy:** 0.546875"
      ],
      "text/plain": [
       "Accuracy \n",
       "0.546875 "
      ]
     },
     "metadata": {},
     "output_type": "display_data"
    }
   ],
   "source": [
    "acc_MNB <- cm$overall['Accuracy']\n",
    "acc_MNB"
   ]
  },
  {
   "cell_type": "markdown",
   "metadata": {},
   "source": [
    "<a class=\"list-group-item list-group-item-action\" data-toggle=\"list\" href=\"#Classification\" role=\"tab\" aria-controls=\"profile\">Go to top<span class=\"badge badge-primary badge-pill\"></span></a>"
   ]
  },
  {
   "cell_type": "markdown",
   "metadata": {},
   "source": [
    "## Gradient Boosting Classifier\n",
    "Gradient Boost builds an additive model in a forward stage-wise fashion. It allows for the optimization of arbitrary differentiable loss functions. \n",
    "\n",
    "Binary classification is a special case where only a single regression tree is induced."
   ]
  },
  {
   "cell_type": "code",
   "execution_count": 22,
   "metadata": {},
   "outputs": [
    {
     "name": "stderr",
     "output_type": "stream",
     "text": [
      "Loaded gbm 2.1.5\n",
      "\n"
     ]
    },
    {
     "data": {
      "text/html": [
       "<table>\n",
       "<caption>A data.frame: 9 × 2</caption>\n",
       "<thead>\n",
       "\t<tr><th></th><th scope=col>var</th><th scope=col>rel.inf</th></tr>\n",
       "\t<tr><th></th><th scope=col>&lt;fct&gt;</th><th scope=col>&lt;dbl&gt;</th></tr>\n",
       "</thead>\n",
       "<tbody>\n",
       "\t<tr><th scope=row>Class.variable..0.or.1.</th><td>Class.variable..0.or.1.                                                 </td><td>1.000000e+02</td></tr>\n",
       "\t<tr><th scope=row>Plasma.glucose.concentration.a.2.hours.in.an.oral.glucose.tolerance.test</th><td>Plasma.glucose.concentration.a.2.hours.in.an.oral.glucose.tolerance.test</td><td>2.071850e-27</td></tr>\n",
       "\t<tr><th scope=row>Body.mass.index..weight.in.kg..height.in.m..2.</th><td>Body.mass.index..weight.in.kg..height.in.m..2.                          </td><td>1.581103e-27</td></tr>\n",
       "\t<tr><th scope=row>Triceps.skin.fold.thickness..mm.</th><td>Triceps.skin.fold.thickness..mm.                                        </td><td>1.064799e-27</td></tr>\n",
       "\t<tr><th scope=row>Diastolic.blood.pressure..mm.Hg.</th><td>Diastolic.blood.pressure..mm.Hg.                                        </td><td>1.051920e-27</td></tr>\n",
       "\t<tr><th scope=row>Diabetes.pedigree.function</th><td>Diabetes.pedigree.function                                              </td><td>1.005697e-27</td></tr>\n",
       "\t<tr><th scope=row>X2.Hour.serum.insulin..mu.U.ml.</th><td>X2.Hour.serum.insulin..mu.U.ml.                                         </td><td>6.559359e-28</td></tr>\n",
       "\t<tr><th scope=row>Age..years.</th><td>Age..years.                                                             </td><td>5.991943e-28</td></tr>\n",
       "\t<tr><th scope=row>Number.of.times.pregnant</th><td>Number.of.times.pregnant                                                </td><td>2.303111e-28</td></tr>\n",
       "</tbody>\n",
       "</table>\n"
      ],
      "text/latex": [
       "A data.frame: 9 × 2\n",
       "\\begin{tabular}{r|ll}\n",
       "  & var & rel.inf\\\\\n",
       "  & <fct> & <dbl>\\\\\n",
       "\\hline\n",
       "\tClass.variable..0.or.1. & Class.variable..0.or.1.                                                  & 1.000000e+02\\\\\n",
       "\tPlasma.glucose.concentration.a.2.hours.in.an.oral.glucose.tolerance.test & Plasma.glucose.concentration.a.2.hours.in.an.oral.glucose.tolerance.test & 2.071850e-27\\\\\n",
       "\tBody.mass.index..weight.in.kg..height.in.m..2. & Body.mass.index..weight.in.kg..height.in.m..2.                           & 1.581103e-27\\\\\n",
       "\tTriceps.skin.fold.thickness..mm. & Triceps.skin.fold.thickness..mm.                                         & 1.064799e-27\\\\\n",
       "\tDiastolic.blood.pressure..mm.Hg. & Diastolic.blood.pressure..mm.Hg.                                         & 1.051920e-27\\\\\n",
       "\tDiabetes.pedigree.function & Diabetes.pedigree.function                                               & 1.005697e-27\\\\\n",
       "\tX2.Hour.serum.insulin..mu.U.ml. & X2.Hour.serum.insulin..mu.U.ml.                                          & 6.559359e-28\\\\\n",
       "\tAge..years. & Age..years.                                                              & 5.991943e-28\\\\\n",
       "\tNumber.of.times.pregnant & Number.of.times.pregnant                                                 & 2.303111e-28\\\\\n",
       "\\end{tabular}\n"
      ],
      "text/markdown": [
       "\n",
       "A data.frame: 9 × 2\n",
       "\n",
       "| <!--/--> | var &lt;fct&gt; | rel.inf &lt;dbl&gt; |\n",
       "|---|---|---|\n",
       "| Class.variable..0.or.1. | Class.variable..0.or.1.                                                  | 1.000000e+02 |\n",
       "| Plasma.glucose.concentration.a.2.hours.in.an.oral.glucose.tolerance.test | Plasma.glucose.concentration.a.2.hours.in.an.oral.glucose.tolerance.test | 2.071850e-27 |\n",
       "| Body.mass.index..weight.in.kg..height.in.m..2. | Body.mass.index..weight.in.kg..height.in.m..2.                           | 1.581103e-27 |\n",
       "| Triceps.skin.fold.thickness..mm. | Triceps.skin.fold.thickness..mm.                                         | 1.064799e-27 |\n",
       "| Diastolic.blood.pressure..mm.Hg. | Diastolic.blood.pressure..mm.Hg.                                         | 1.051920e-27 |\n",
       "| Diabetes.pedigree.function | Diabetes.pedigree.function                                               | 1.005697e-27 |\n",
       "| X2.Hour.serum.insulin..mu.U.ml. | X2.Hour.serum.insulin..mu.U.ml.                                          | 6.559359e-28 |\n",
       "| Age..years. | Age..years.                                                              | 5.991943e-28 |\n",
       "| Number.of.times.pregnant | Number.of.times.pregnant                                                 | 2.303111e-28 |\n",
       "\n"
      ],
      "text/plain": [
       "                                                                         var                                                                     \n",
       "Class.variable..0.or.1.                                                  Class.variable..0.or.1.                                                 \n",
       "Plasma.glucose.concentration.a.2.hours.in.an.oral.glucose.tolerance.test Plasma.glucose.concentration.a.2.hours.in.an.oral.glucose.tolerance.test\n",
       "Body.mass.index..weight.in.kg..height.in.m..2.                           Body.mass.index..weight.in.kg..height.in.m..2.                          \n",
       "Triceps.skin.fold.thickness..mm.                                         Triceps.skin.fold.thickness..mm.                                        \n",
       "Diastolic.blood.pressure..mm.Hg.                                         Diastolic.blood.pressure..mm.Hg.                                        \n",
       "Diabetes.pedigree.function                                               Diabetes.pedigree.function                                              \n",
       "X2.Hour.serum.insulin..mu.U.ml.                                          X2.Hour.serum.insulin..mu.U.ml.                                         \n",
       "Age..years.                                                              Age..years.                                                             \n",
       "Number.of.times.pregnant                                                 Number.of.times.pregnant                                                \n",
       "                                                                         rel.inf     \n",
       "Class.variable..0.or.1.                                                  1.000000e+02\n",
       "Plasma.glucose.concentration.a.2.hours.in.an.oral.glucose.tolerance.test 2.071850e-27\n",
       "Body.mass.index..weight.in.kg..height.in.m..2.                           1.581103e-27\n",
       "Triceps.skin.fold.thickness..mm.                                         1.064799e-27\n",
       "Diastolic.blood.pressure..mm.Hg.                                         1.051920e-27\n",
       "Diabetes.pedigree.function                                               1.005697e-27\n",
       "X2.Hour.serum.insulin..mu.U.ml.                                          6.559359e-28\n",
       "Age..years.                                                              5.991943e-28\n",
       "Number.of.times.pregnant                                                 2.303111e-28"
      ]
     },
     "metadata": {},
     "output_type": "display_data"
    },
    {
     "data": {
      "image/png": "[encoded data removed]",
      "text/plain": [
       "plot without title"
      ]
     },
     "metadata": {
      "image/png": {
       "height": 420,
       "width": 420
      },
      "text/plain": {
       "height": 420,
       "width": 420
      }
     },
     "output_type": "display_data"
    }
   ],
   "source": [
    "# Load the required libraries\n",
    "library(gbm)\n",
    "options(warn=-1) #To supress warnings \n",
    "\n",
    "# Fit the model\n",
    "model_gbm = gbm(Class.variable ~ . ,data = data_train,  distribution = \"gaussian\",n.trees = 50,\n",
    "                  shrinkage = 0.01, interaction.depth = 4)\n",
    "\n",
    "#variance importance plt\n",
    "summary(model_gbm) "
   ]
  },
  {
   "cell_type": "code",
   "execution_count": 23,
   "metadata": {},
   "outputs": [],
   "source": [
    "#Generating a Prediction matrix for each Tree\n",
    "predictions <- predict(model_gbm, data_test, n.trees = 50)"
   ]
  },
  {
   "cell_type": "code",
   "execution_count": 24,
   "metadata": {},
   "outputs": [
    {
     "data": {
      "text/plain": [
       "   predictions\n",
       "      0   1\n",
       "  0 122   0\n",
       "  1   0  70"
      ]
     },
     "metadata": {},
     "output_type": "display_data"
    }
   ],
   "source": [
    "# Predict using the model(The predictions are probabilities and have to be convered to 0 and 1)\n",
    "predictions = ifelse(predictions >1.5, 1, 0)\n",
    "table(data_test$Class.variable, predictions)"
   ]
  },
  {
   "cell_type": "code",
   "execution_count": 25,
   "metadata": {},
   "outputs": [
    {
     "data": {
      "text/plain": [
       "Confusion Matrix and Statistics\n",
       "\n",
       "          Reference\n",
       "Prediction   0   1\n",
       "         0 122   0\n",
       "         1   0  70\n",
       "                                    \n",
       "               Accuracy : 1         \n",
       "                 95% CI : (0.981, 1)\n",
       "    No Information Rate : 0.6354    \n",
       "    P-Value [Acc > NIR] : < 2.2e-16 \n",
       "                                    \n",
       "                  Kappa : 1         \n",
       "                                    \n",
       " Mcnemar's Test P-Value : NA        \n",
       "                                    \n",
       "            Sensitivity : 1.0000    \n",
       "            Specificity : 1.0000    \n",
       "         Pos Pred Value : 1.0000    \n",
       "         Neg Pred Value : 1.0000    \n",
       "             Prevalence : 0.6354    \n",
       "         Detection Rate : 0.6354    \n",
       "   Detection Prevalence : 0.6354    \n",
       "      Balanced Accuracy : 1.0000    \n",
       "                                    \n",
       "       'Positive' Class : 0         \n",
       "                                    "
      ]
     },
     "metadata": {},
     "output_type": "display_data"
    }
   ],
   "source": [
    "#confusion matrix\n",
    "library(e1071)\n",
    "library(caret)\n",
    "cm <- confusionMatrix(as.factor(predictions), data_test$Class.variable)\n",
    "cm"
   ]
  },
  {
   "cell_type": "code",
   "execution_count": 26,
   "metadata": {},
   "outputs": [
    {
     "data": {
      "text/html": [
       "<strong>Accuracy:</strong> 1"
      ],
      "text/latex": [
       "\\textbf{Accuracy:} 1"
      ],
      "text/markdown": [
       "**Accuracy:** 1"
      ],
      "text/plain": [
       "Accuracy \n",
       "       1 "
      ]
     },
     "metadata": {},
     "output_type": "display_data"
    }
   ],
   "source": [
    "# Accuracy\n",
    "acc_GBC <- cm$overall['Accuracy']\n",
    "acc_GBC"
   ]
  },
  {
   "cell_type": "markdown",
   "metadata": {},
   "source": [
    "<a class=\"list-group-item list-group-item-action\" data-toggle=\"list\" href=\"#Classification\" role=\"tab\" aria-controls=\"profile\">Go to top<span class=\"badge badge-primary badge-pill\"></span></a>"
   ]
  },
  {
   "cell_type": "markdown",
   "metadata": {},
   "source": [
    "## XGBoost Classifier\n",
    "XGBoost is a decision-tree-based ensemble Machine Learning algorithm that uses a gradient boosting framework. \n",
    "Rather than training all the models in isolation of one another, boosting trains models in succession\n",
    "with each new model being trained to correct the errors made by the previous ones\n",
    "\n",
    "In a standard ensemble method where models are trained in isolation, all of the models might simply end up making the same mistakes.\n",
    "We should use this algorithm when we require fast and accurate predictions after the model is deployed"
   ]
  },
  {
   "cell_type": "code",
   "execution_count": 27,
   "metadata": {},
   "outputs": [],
   "source": [
    "diabetes = read.csv(\"dataset/pima-indians-diabetes.csv\")"
   ]
  },
  {
   "cell_type": "code",
   "execution_count": 28,
   "metadata": {},
   "outputs": [],
   "source": [
    "indexes = createDataPartition(diabetes$Class.variable, p=.9, list=F)\n",
    "train = diabetes[indexes, ]\n",
    "test = diabetes[-indexes, ]"
   ]
  },
  {
   "cell_type": "code",
   "execution_count": 29,
   "metadata": {},
   "outputs": [],
   "source": [
    "train_x = data.matrix(train[,-9])\n",
    "train_y = train[,9]\n",
    " \n",
    "test_x = data.matrix(test[,-9])\n",
    "test_y = test[,9]"
   ]
  },
  {
   "cell_type": "code",
   "execution_count": 30,
   "metadata": {},
   "outputs": [],
   "source": [
    "library(xgboost)\n",
    "\n",
    "xgb_train = xgb.DMatrix(data=train_x, label=train_y)\n",
    "xgb_test = xgb.DMatrix(data=test_x, label=test_y)"
   ]
  },
  {
   "cell_type": "code",
   "execution_count": 31,
   "metadata": {},
   "outputs": [
    {
     "name": "stdout",
     "output_type": "stream",
     "text": [
      "[1]\ttrain-error:0.225434 \n",
      "[2]\ttrain-error:0.210983 \n",
      "[3]\ttrain-error:0.197977 \n",
      "[4]\ttrain-error:0.200867 \n",
      "[5]\ttrain-error:0.189306 \n",
      "[6]\ttrain-error:0.192197 \n",
      "[7]\ttrain-error:0.189306 \n",
      "[8]\ttrain-error:0.196532 \n",
      "[9]\ttrain-error:0.189306 \n",
      "[10]\ttrain-error:0.187861 \n"
     ]
    }
   ],
   "source": [
    "xgbc = xgboost(data=xgb_train, max.depth=3, nrounds=10, objective=\"binary:logistic\")"
   ]
  },
  {
   "cell_type": "code",
   "execution_count": 33,
   "metadata": {},
   "outputs": [],
   "source": [
    "pred = predict(xgbc, xgb_test)"
   ]
  },
  {
   "cell_type": "code",
   "execution_count": 34,
   "metadata": {},
   "outputs": [],
   "source": [
    "# Predict using the model(The predictions are probabilities and have to be convered to 0 and 1)\n",
    "prediction <- as.numeric(pred > 0.5)"
   ]
  },
  {
   "cell_type": "code",
   "execution_count": 35,
   "metadata": {},
   "outputs": [
    {
     "data": {
      "text/plain": [
       "Confusion Matrix and Statistics\n",
       "\n",
       "          Reference\n",
       "Prediction  0  1\n",
       "         0 48  6\n",
       "         1  8 14\n",
       "                                          \n",
       "               Accuracy : 0.8158          \n",
       "                 95% CI : (0.7103, 0.8955)\n",
       "    No Information Rate : 0.7368          \n",
       "    P-Value [Acc > NIR] : 0.07227         \n",
       "                                          \n",
       "                  Kappa : 0.5398          \n",
       "                                          \n",
       " Mcnemar's Test P-Value : 0.78927         \n",
       "                                          \n",
       "            Sensitivity : 0.8571          \n",
       "            Specificity : 0.7000          \n",
       "         Pos Pred Value : 0.8889          \n",
       "         Neg Pred Value : 0.6364          \n",
       "             Prevalence : 0.7368          \n",
       "         Detection Rate : 0.6316          \n",
       "   Detection Prevalence : 0.7105          \n",
       "      Balanced Accuracy : 0.7786          \n",
       "                                          \n",
       "       'Positive' Class : 0               \n",
       "                                          "
      ]
     },
     "metadata": {},
     "output_type": "display_data"
    }
   ],
   "source": [
    "# Confusion Matrix\n",
    "cm = confusionMatrix(as.factor(test_y), as.factor(prediction))\n",
    "cm"
   ]
  },
  {
   "cell_type": "code",
   "execution_count": 36,
   "metadata": {
    "scrolled": true
   },
   "outputs": [
    {
     "data": {
      "text/html": [
       "<strong>Accuracy:</strong> 0.815789473684211"
      ],
      "text/latex": [
       "\\textbf{Accuracy:} 0.815789473684211"
      ],
      "text/markdown": [
       "**Accuracy:** 0.815789473684211"
      ],
      "text/plain": [
       " Accuracy \n",
       "0.8157895 "
      ]
     },
     "metadata": {},
     "output_type": "display_data"
    }
   ],
   "source": [
    "# Accuracy\n",
    "acc_xgb <- cm$overall['Accuracy']\n",
    "acc_xgb"
   ]
  },
  {
   "cell_type": "markdown",
   "metadata": {},
   "source": [
    "<a class=\"list-group-item list-group-item-action\" data-toggle=\"list\" href=\"#Classification\" role=\"tab\" aria-controls=\"profile\">Go to top<span class=\"badge badge-primary badge-pill\"></span></a>"
   ]
  },
  {
   "cell_type": "markdown",
   "metadata": {},
   "source": [
    "## Gradient Descent\n",
    "\n",
    "Gradient descent is a first-order iterative optimization algorithm for finding a local minimum of a differentiable function. Gradient descent is an optimization algorithm used to minimize some function by iteratively moving in the direction of steepest descent as defined by the negative of the gradient. In machine learning, we use gradient descent to update the parameters of our model."
   ]
  },
  {
   "cell_type": "code",
   "execution_count": 110,
   "metadata": {},
   "outputs": [],
   "source": [
    "# Loading required libraries\n",
    "library(gradDescent)\n",
    "options(warn=-1)\n",
    "\n",
    "data = read.csv(\"dataset/pima-indians-diabetes.csv\")\n",
    "#winedata is scaled and then split\n",
    "featureScalingResult <- varianceScaling(data)\n",
    "splitedDataset <- splitData(data)\n",
    "\n",
    "# # Fit the train from splitted dataset data to GD model\n",
    "model <- GD(splitedDataset$dataTrain)"
   ]
  },
  {
   "cell_type": "code",
   "execution_count": 38,
   "metadata": {},
   "outputs": [
    {
     "name": "stdout",
     "output_type": "stream",
     "text": [
      "             [,1]         [,2]         [,3]         [,4]         [,5]\n",
      "[1,] 6.087171e+32 2.419577e+33 7.775144e+34 4.345856e+34 1.423202e+34\n",
      "             [,6]         [,7]         [,8]         [,9]\n",
      "[1,] 7.367903e+34 1.982659e+34 3.012465e+32 2.060119e+34\n"
     ]
    }
   ],
   "source": [
    "print(model)"
   ]
  },
  {
   "cell_type": "code",
   "execution_count": 39,
   "metadata": {},
   "outputs": [],
   "source": [
    "# Test data input\n",
    "dataTestInput <- (splitedDataset$dataTest)[,1:ncol(splitedDataset$dataTest)-1]\n",
    "\n",
    "# Predict using linear model\n",
    "predictions <- prediction(model, dataTestInput)\n",
    "# predictions"
   ]
  },
  {
   "cell_type": "markdown",
   "metadata": {},
   "source": [
    "<a class=\"list-group-item list-group-item-action\" data-toggle=\"list\" href=\"#Classification\" role=\"tab\" aria-controls=\"profile\">Go to top<span class=\"badge badge-primary badge-pill\"></span></a>"
   ]
  },
  {
   "cell_type": "markdown",
   "metadata": {},
   "source": [
    "## Stochastic Gradient Descent\n",
    "SGD has been successfully applied to large-scale and sparse machine learning problems often encountered in text classification and natural language processing. \n",
    "Given that the data is sparse, the classifiers in this module easily scale to problems with more than 10^5 training examples and more than 10^5 features.\n"
   ]
  },
  {
   "cell_type": "code",
   "execution_count": 40,
   "metadata": {},
   "outputs": [
    {
     "name": "stdout",
     "output_type": "stream",
     "text": [
      "             [,1]         [,2]         [,3]         [,4]         [,5]\n",
      "[1,] 2.042017e+30 1.430119e+31 1.653377e+32 1.592854e+32 8.172105e+31\n",
      "             [,6]         [,7]         [,8]         [,9]\n",
      "[1,] 9.806526e+31 9.537106e+31 5.328926e+29 8.577883e+31\n"
     ]
    }
   ],
   "source": [
    "# Fitting the model\n",
    "SGDmodel <- SGD(splitedDataset$dataTrain)\n",
    "\n",
    "#show result\n",
    "print(SGDmodel)"
   ]
  },
  {
   "cell_type": "code",
   "execution_count": 41,
   "metadata": {},
   "outputs": [],
   "source": [
    "# Test data input\n",
    "dataTestInput <- (splitedDataset$dataTest)[,1:ncol(splitedDataset$dataTest)-1]\n",
    "\n",
    "# Predict using model\n",
    "predictions <- prediction(model, dataTestInput)"
   ]
  },
  {
   "cell_type": "markdown",
   "metadata": {},
   "source": [
    "<a class=\"list-group-item list-group-item-action\" data-toggle=\"list\" href=\"#Classification\" role=\"tab\" aria-controls=\"profile\">Go to top<span class=\"badge badge-primary badge-pill\"></span></a>"
   ]
  },
  {
   "cell_type": "markdown",
   "metadata": {},
   "source": [
    "## Decision Tree\n",
    "The decision tree algorithm builds the classification model in the form of a tree structure. \n",
    "It utilizes the if-then rules which are equally exhaustive and mutually exclusive in classification.\n",
    "\n",
    "We can use decision tree when there are missing values in the data and when pre processing time is to be reduced as it does not require pre processing"
   ]
  },
  {
   "cell_type": "code",
   "execution_count": 108,
   "metadata": {},
   "outputs": [],
   "source": [
    "#Loading libraries\n",
    "library(rpart,quietly = TRUE)\n",
    "#library(caret,quietly = TRUE)\n",
    "library(rpart.plot,quietly = TRUE)\n",
    "library(rattle)\n",
    "\n",
    "#building the classification tree with rpart\n",
    "library(rpart)\n",
    "options(warn=-1)\n",
    "\n",
    "model_dt <- rpart(Class.variable~.,\n",
    "                data=data_train,\n",
    "                method = \"class\")"
   ]
  },
  {
   "cell_type": "code",
   "execution_count": 109,
   "metadata": {},
   "outputs": [
    {
     "data": {
      "image/png": "[encoded data removed]",
      "text/plain": [
       "plot without title"
      ]
     },
     "metadata": {
      "image/png": {
       "height": 300,
       "width": 600
      },
      "text/plain": {
       "height": 300,
       "width": 600
      }
     },
     "output_type": "display_data"
    }
   ],
   "source": [
    "# Visualize the decision tree with rpart.plot\n",
    "library(rpart.plot)\n",
    "rpart.plot(model_dt, nn=TRUE)"
   ]
  },
  {
   "cell_type": "code",
   "execution_count": 44,
   "metadata": {},
   "outputs": [],
   "source": [
    "#Testing the model\n",
    "predictions <- predict(model_dt, data_test, type=\"class\")"
   ]
  },
  {
   "cell_type": "code",
   "execution_count": 45,
   "metadata": {},
   "outputs": [
    {
     "data": {
      "text/plain": [
       "Confusion Matrix and Statistics\n",
       "\n",
       "          Reference\n",
       "Prediction   0   1\n",
       "         0 122   0\n",
       "         1   0  70\n",
       "                                    \n",
       "               Accuracy : 1         \n",
       "                 95% CI : (0.981, 1)\n",
       "    No Information Rate : 0.6354    \n",
       "    P-Value [Acc > NIR] : < 2.2e-16 \n",
       "                                    \n",
       "                  Kappa : 1         \n",
       "                                    \n",
       " Mcnemar's Test P-Value : NA        \n",
       "                                    \n",
       "            Sensitivity : 1.0000    \n",
       "            Specificity : 1.0000    \n",
       "         Pos Pred Value : 1.0000    \n",
       "         Neg Pred Value : 1.0000    \n",
       "             Prevalence : 0.6354    \n",
       "         Detection Rate : 0.6354    \n",
       "   Detection Prevalence : 0.6354    \n",
       "      Balanced Accuracy : 1.0000    \n",
       "                                    \n",
       "       'Positive' Class : 0         \n",
       "                                    "
      ]
     },
     "metadata": {},
     "output_type": "display_data"
    }
   ],
   "source": [
    "#confusion matrix\n",
    "library(e1071)\n",
    "library(caret)\n",
    "cm <- confusionMatrix(as.factor(predictions), data_test$Class.variable)\n",
    "cm"
   ]
  },
  {
   "cell_type": "code",
   "execution_count": 46,
   "metadata": {},
   "outputs": [
    {
     "data": {
      "text/html": [
       "<strong>Accuracy:</strong> 1"
      ],
      "text/latex": [
       "\\textbf{Accuracy:} 1"
      ],
      "text/markdown": [
       "**Accuracy:** 1"
      ],
      "text/plain": [
       "Accuracy \n",
       "       1 "
      ]
     },
     "metadata": {},
     "output_type": "display_data"
    }
   ],
   "source": [
    "acc_dt <- cm$overall['Accuracy']\n",
    "acc_dt"
   ]
  },
  {
   "cell_type": "markdown",
   "metadata": {},
   "source": [
    "<a class=\"list-group-item list-group-item-action\" data-toggle=\"list\" href=\"#Classification\" role=\"tab\" aria-controls=\"profile\">Go to top<span class=\"badge badge-primary badge-pill\"></span></a>"
   ]
  },
  {
   "cell_type": "markdown",
   "metadata": {},
   "source": [
    "## Random Forest Classifier\n",
    "Random forest are an ensemble learning method.\n",
    "It operates by constructing a multitude of decision trees at training time and outputs the class that is the mode of the classes of the individual trees.\n",
    "A random forest is a meta-estimator that fits a number of trees on various subsamples of data sets and then uses an average to improve the accuracy in the model’s predictive nature.\n",
    "The sub-sample size is always the same as that of the original input size but the samples are often drawn with replacements.\n",
    "\n",
    "We should use this algorithm when we need high accuracy while working with large datasets with higher dimensions. We can also use it if there are missing values in the dataset. We should not use it if we have less time for modeling or if large computational costs and memory space are a constrain."
   ]
  },
  {
   "cell_type": "code",
   "execution_count": 47,
   "metadata": {},
   "outputs": [
    {
     "name": "stderr",
     "output_type": "stream",
     "text": [
      "randomForest 4.6-14\n",
      "\n",
      "Type rfNews() to see new features/changes/bug fixes.\n",
      "\n",
      "\n",
      "Attaching package: 'randomForest'\n",
      "\n",
      "\n",
      "The following object is masked from 'package:rattle':\n",
      "\n",
      "    importance\n",
      "\n",
      "\n",
      "The following object is masked from 'package:ggplot2':\n",
      "\n",
      "    margin\n",
      "\n",
      "\n"
     ]
    },
    {
     "data": {
      "image/png": "[encoded data removed]",
      "text/plain": [
       "Plot with title \"model_rf\""
      ]
     },
     "metadata": {
      "image/png": {
       "height": 420,
       "width": 420
      },
      "text/plain": {
       "height": 420,
       "width": 420
      }
     },
     "output_type": "display_data"
    }
   ],
   "source": [
    "# Loading required libraries\n",
    "library(randomForest)\n",
    "options(warn=-1) #To supress warnings\n",
    "\n",
    "# Fitting the model\n",
    "model_rf = randomForest(x, y, ntree = 20, method=\"class\")\n",
    "\n",
    "# Plotting rf\n",
    "plot(model_rf)"
   ]
  },
  {
   "cell_type": "code",
   "execution_count": 60,
   "metadata": {},
   "outputs": [],
   "source": [
    "# Predict using the model\n",
    "predictions <- predict(model_rf, data_test)"
   ]
  },
  {
   "cell_type": "code",
   "execution_count": 58,
   "metadata": {},
   "outputs": [
    {
     "data": {
      "text/html": [
       "<strong>Accuracy:</strong> 1"
      ],
      "text/latex": [
       "\\textbf{Accuracy:} 1"
      ],
      "text/markdown": [
       "**Accuracy:** 1"
      ],
      "text/plain": [
       "Accuracy \n",
       "       1 "
      ]
     },
     "metadata": {},
     "output_type": "display_data"
    }
   ],
   "source": [
    "# Accuracy\n",
    "acc_rf <- cm$overall['Accuracy']\n",
    "acc_rf"
   ]
  },
  {
   "cell_type": "markdown",
   "metadata": {},
   "source": [
    "<a class=\"list-group-item list-group-item-action\" data-toggle=\"list\" href=\"#Classification\" role=\"tab\" aria-controls=\"profile\">Go to top<span class=\"badge badge-primary badge-pill\"></span></a>"
   ]
  },
  {
   "cell_type": "markdown",
   "metadata": {},
   "source": [
    "## KNN Classifier\n",
    "It is a lazy learning algorithm that stores all instances corresponding to training data in n-dimensional space\n",
    "To label a new point, it looks at the labeled points closest to that new point also known as its nearest neighbors\n",
    "\n",
    "We should use KNN when the dataset is small and speed is a priority (real-time)"
   ]
  },
  {
   "cell_type": "code",
   "execution_count": 62,
   "metadata": {},
   "outputs": [],
   "source": [
    "library(class)\n",
    "predictions <- knn(train = data_train, test = data_test, cl = data_train$Class.variable, k=10)"
   ]
  },
  {
   "cell_type": "code",
   "execution_count": 63,
   "metadata": {},
   "outputs": [
    {
     "name": "stdout",
     "output_type": "stream",
     "text": [
      "\n",
      " \n",
      "   Cell Contents\n",
      "|-------------------------|\n",
      "|                       N |\n",
      "|           N / Row Total |\n",
      "|           N / Col Total |\n",
      "|         N / Table Total |\n",
      "|-------------------------|\n",
      "\n",
      " \n",
      "Total Observations in Table:  192 \n",
      "\n",
      " \n",
      "                         | predictions \n",
      "data_test$Class.variable |         0 |         1 | Row Total | \n",
      "-------------------------|-----------|-----------|-----------|\n",
      "                       0 |       103 |        19 |       122 | \n",
      "                         |     0.844 |     0.156 |     0.635 | \n",
      "                         |     0.780 |     0.317 |           | \n",
      "                         |     0.536 |     0.099 |           | \n",
      "-------------------------|-----------|-----------|-----------|\n",
      "                       1 |        29 |        41 |        70 | \n",
      "                         |     0.414 |     0.586 |     0.365 | \n",
      "                         |     0.220 |     0.683 |           | \n",
      "                         |     0.151 |     0.214 |           | \n",
      "-------------------------|-----------|-----------|-----------|\n",
      "            Column Total |       132 |        60 |       192 | \n",
      "                         |     0.688 |     0.312 |           | \n",
      "-------------------------|-----------|-----------|-----------|\n",
      "\n",
      " \n"
     ]
    }
   ],
   "source": [
    "library(gmodels)\n",
    "CrossTable(x = data_test$Class.variable, y = predictions, prop.chisq=FALSE )"
   ]
  },
  {
   "cell_type": "code",
   "execution_count": 64,
   "metadata": {},
   "outputs": [
    {
     "data": {
      "text/plain": [
       "Confusion Matrix and Statistics\n",
       "\n",
       "          Reference\n",
       "Prediction   0   1\n",
       "         0 103  19\n",
       "         1  29  41\n",
       "                                          \n",
       "               Accuracy : 0.75            \n",
       "                 95% CI : (0.6826, 0.8096)\n",
       "    No Information Rate : 0.6875          \n",
       "    P-Value [Acc > NIR] : 0.03474         \n",
       "                                          \n",
       "                  Kappa : 0.4435          \n",
       "                                          \n",
       " Mcnemar's Test P-Value : 0.19393         \n",
       "                                          \n",
       "            Sensitivity : 0.7803          \n",
       "            Specificity : 0.6833          \n",
       "         Pos Pred Value : 0.8443          \n",
       "         Neg Pred Value : 0.5857          \n",
       "             Prevalence : 0.6875          \n",
       "         Detection Rate : 0.5365          \n",
       "   Detection Prevalence : 0.6354          \n",
       "      Balanced Accuracy : 0.7318          \n",
       "                                          \n",
       "       'Positive' Class : 0               \n",
       "                                          "
      ]
     },
     "metadata": {},
     "output_type": "display_data"
    }
   ],
   "source": [
    "# Confusion Matrix\n",
    "cm <- confusionMatrix(data_test$Class.variable, as.factor(predictions))\n",
    "cm"
   ]
  },
  {
   "cell_type": "code",
   "execution_count": 65,
   "metadata": {},
   "outputs": [
    {
     "data": {
      "text/html": [
       "<strong>Accuracy:</strong> 0.75"
      ],
      "text/latex": [
       "\\textbf{Accuracy:} 0.75"
      ],
      "text/markdown": [
       "**Accuracy:** 0.75"
      ],
      "text/plain": [
       "Accuracy \n",
       "    0.75 "
      ]
     },
     "metadata": {},
     "output_type": "display_data"
    }
   ],
   "source": [
    "# Accuracy\n",
    "acc_knn <- cm$overall['Accuracy']\n",
    "acc_knn"
   ]
  },
  {
   "cell_type": "markdown",
   "metadata": {},
   "source": [
    "<a class=\"list-group-item list-group-item-action\" data-toggle=\"list\" href=\"#Classification\" role=\"tab\" aria-controls=\"profile\">Go to top<span class=\"badge badge-primary badge-pill\"></span></a>"
   ]
  },
  {
   "cell_type": "markdown",
   "metadata": {},
   "source": [
    "## Classifiers Report"
   ]
  },
  {
   "cell_type": "code",
   "execution_count": 66,
   "metadata": {},
   "outputs": [
    {
     "data": {
      "text/html": [
       "<table>\n",
       "<caption>A data.frame: 9 × 2</caption>\n",
       "<thead>\n",
       "\t<tr><th scope=col>Algorithm</th><th scope=col>Accuracy_Score</th></tr>\n",
       "\t<tr><th scope=col>&lt;fct&gt;</th><th scope=col>&lt;dbl&gt;</th></tr>\n",
       "</thead>\n",
       "<tbody>\n",
       "\t<tr><td>Logistic Regression    </td><td>0.5572917</td></tr>\n",
       "\t<tr><td>SVM                    </td><td>1.0000000</td></tr>\n",
       "\t<tr><td>Naive Bayes            </td><td>0.7708333</td></tr>\n",
       "\t<tr><td>multinomial Naive Bayes</td><td>0.5468750</td></tr>\n",
       "\t<tr><td>Gradient Boost         </td><td>1.0000000</td></tr>\n",
       "\t<tr><td>XGBoost                </td><td>0.8157895</td></tr>\n",
       "\t<tr><td>Decision Tree          </td><td>1.0000000</td></tr>\n",
       "\t<tr><td>Random Forest          </td><td>1.0000000</td></tr>\n",
       "\t<tr><td>KNN                    </td><td>0.7500000</td></tr>\n",
       "</tbody>\n",
       "</table>\n"
      ],
      "text/latex": [
       "A data.frame: 9 × 2\n",
       "\\begin{tabular}{ll}\n",
       " Algorithm & Accuracy\\_Score\\\\\n",
       " <fct> & <dbl>\\\\\n",
       "\\hline\n",
       "\t Logistic Regression     & 0.5572917\\\\\n",
       "\t SVM                     & 1.0000000\\\\\n",
       "\t Naive Bayes             & 0.7708333\\\\\n",
       "\t multinomial Naive Bayes & 0.5468750\\\\\n",
       "\t Gradient Boost          & 1.0000000\\\\\n",
       "\t XGBoost                 & 0.8157895\\\\\n",
       "\t Decision Tree           & 1.0000000\\\\\n",
       "\t Random Forest           & 1.0000000\\\\\n",
       "\t KNN                     & 0.7500000\\\\\n",
       "\\end{tabular}\n"
      ],
      "text/markdown": [
       "\n",
       "A data.frame: 9 × 2\n",
       "\n",
       "| Algorithm &lt;fct&gt; | Accuracy_Score &lt;dbl&gt; |\n",
       "|---|---|\n",
       "| Logistic Regression     | 0.5572917 |\n",
       "| SVM                     | 1.0000000 |\n",
       "| Naive Bayes             | 0.7708333 |\n",
       "| multinomial Naive Bayes | 0.5468750 |\n",
       "| Gradient Boost          | 1.0000000 |\n",
       "| XGBoost                 | 0.8157895 |\n",
       "| Decision Tree           | 1.0000000 |\n",
       "| Random Forest           | 1.0000000 |\n",
       "| KNN                     | 0.7500000 |\n",
       "\n"
      ],
      "text/plain": [
       "  Algorithm               Accuracy_Score\n",
       "1 Logistic Regression     0.5572917     \n",
       "2 SVM                     1.0000000     \n",
       "3 Naive Bayes             0.7708333     \n",
       "4 multinomial Naive Bayes 0.5468750     \n",
       "5 Gradient Boost          1.0000000     \n",
       "6 XGBoost                 0.8157895     \n",
       "7 Decision Tree           1.0000000     \n",
       "8 Random Forest           1.0000000     \n",
       "9 KNN                     0.7500000     "
      ]
     },
     "metadata": {},
     "output_type": "display_data"
    }
   ],
   "source": [
    "Accuracy_Score = c(acc_LR, acc_SVC, acc_NBC, acc_MNB, acc_GBC, acc_xgb, acc_dt, acc_rf, acc_knn)\n",
    "Algorithm = c('Logistic Regression','SVM','Naive Bayes',\n",
    "              'multinomial Naive Bayes','Gradient Boost', 'XGBoost','Decision Tree', 'Random Forest', 'KNN')\n",
    "report = data.frame(Algorithm,Accuracy_Score)\n",
    "report"
   ]
  },
  {
   "cell_type": "code",
   "execution_count": 107,
   "metadata": {
    "scrolled": true
   },
   "outputs": [
    {
     "data": {
      "image/png": "[encoded data removed]",
      "text/plain": [
       "plot without title"
      ]
     },
     "metadata": {
      "image/png": {
       "height": 300,
       "width": 600
      },
      "text/plain": {
       "height": 300,
       "width": 600
      }
     },
     "output_type": "display_data"
    }
   ],
   "source": [
    "library(ggplot2)\n",
    "options(repr.plot.width=10, repr.plot.height=5)\n",
    "ggplot(data=report, aes(x=Algorithm, y=Accuracy_Score))+geom_bar(position=\"dodge\",stat=\"identity\",width=0.7,color=\"yellowgreen\",fill=\"yellowgreen\") +\n",
    "  coord_flip() +theme(axis.text.x = element_text(face=\"bold\", color=\"black\",\n",
    "                                                 size=12, angle=0),\n",
    "                      axis.text.y = element_text(face=\"bold\", color=\"black\",\n",
    "                                                 size=12, angle=0))"
   ]
  },
  {
   "cell_type": "markdown",
   "metadata": {},
   "source": [
    "<a class=\"list-group-item list-group-item-action\" data-toggle=\"list\" href=\"#Classification\" role=\"tab\" aria-controls=\"profile\">Go to top<span class=\"badge badge-primary badge-pill\"></span></a>"
   ]
  },
  {
   "cell_type": "markdown",
   "metadata": {},
   "source": [
    "# Multiclass classification using the different algorithms"
   ]
  },
  {
   "cell_type": "markdown",
   "metadata": {},
   "source": [
    "We first import the dataset for multiclass classification. We will be using the fruit dataset for classification of fruits on the basis of the features such as mass, height, etc that can be seen in the dataframe below.<br><br>\n",
    "Dataser Link: https://github.com/susanli2016/Machine-Learning-with-Python/blob/master/fruit_data_with_colors.txt"
   ]
  },
  {
   "cell_type": "code",
   "execution_count": 68,
   "metadata": {},
   "outputs": [
    {
     "data": {
      "text/html": [
       "'factor'"
      ],
      "text/latex": [
       "'factor'"
      ],
      "text/markdown": [
       "'factor'"
      ],
      "text/plain": [
       "[1] \"factor\""
      ]
     },
     "metadata": {},
     "output_type": "display_data"
    }
   ],
   "source": [
    "# Read the dataset\n",
    "fruit = read.csv('dataset/classification_fruit.csv')\n",
    "\n",
    "# Splitting the data to train and test\n",
    "fruit =  subset(fruit, select = -(fruit_subtype))\n",
    "fruit =  subset(fruit, select = -(fruit_name))\n",
    "fruit$fruit_label = as.factor(fruit$fruit_label)\n",
    "class(fruit$fruit_label)\n",
    "alpha=0.8\n",
    "d = sort(sample(nrow(fruit), nrow(fruit)*alpha))\n",
    "train = fruit[d,]\n",
    "test = fruit[-d,]"
   ]
  },
  {
   "cell_type": "markdown",
   "metadata": {},
   "source": [
    "## Multiclass Logistic Regression"
   ]
  },
  {
   "cell_type": "markdown",
   "metadata": {},
   "source": [
    "Multinomial logistic regression is used when the dependent variable in question is nominal (equivalently categorical, meaning that it falls into any one of a set of categories that cannot be ordered in any meaningful way) and for which there are more than two categories.\n",
    "\n",
    "Multinomial logistic regression is known by a variety of other names, including polytomous LR,[2][3] multiclass LR, softmax regression, multinomial logit (mlogit), the maximum entropy (MaxEnt) classifier"
   ]
  },
  {
   "cell_type": "code",
   "execution_count": 69,
   "metadata": {},
   "outputs": [
    {
     "name": "stdout",
     "output_type": "stream",
     "text": [
      "# weights:  24 (15 variable)\n",
      "initial  value 65.155835 \n",
      "iter  10 value 26.226668\n",
      "iter  20 value 16.660371\n",
      "iter  30 value 16.243773\n",
      "iter  40 value 16.140047\n",
      "iter  50 value 16.129797\n",
      "iter  60 value 16.126427\n",
      "iter  70 value 16.124328\n",
      "iter  80 value 16.123981\n",
      "iter  90 value 16.123631\n",
      "final  value 16.123483 \n",
      "converged\n"
     ]
    },
    {
     "data": {
      "text/plain": [
       "Call:\n",
       "nnet::multinom(formula = fruit_label ~ ., data = train)\n",
       "\n",
       "Coefficients:\n",
       "  (Intercept)        mass      width      height color_score\n",
       "2  10.7392651 -0.53124450   6.319967 -0.06074396    9.254836\n",
       "3   6.4114106  0.02092958  -3.800922  3.26454808   -8.448130\n",
       "4   0.7842907 -0.38955765 -19.703025 24.57676129   -3.615640\n",
       "\n",
       "Std. Errors:\n",
       "   (Intercept)       mass      width     height color_score\n",
       "2  0.010421441 1.17367350 0.07085384 0.06421066 0.008028951\n",
       "3 14.873963757 0.02540327 1.86710491 1.62918433 5.791412676\n",
       "4  0.005496292 0.19608025 0.03444060 0.01665178 0.004448112\n",
       "\n",
       "Residual Deviance: 32.24697 \n",
       "AIC: 62.24697 "
      ]
     },
     "metadata": {},
     "output_type": "display_data"
    }
   ],
   "source": [
    "# Loading required libraries\n",
    "library(caTools)\n",
    "library(nnet)\n",
    "options(warn=-1) #To supress warnings\n",
    "\n",
    "# Fitting the data to LR model\n",
    "glm.fit=nnet::multinom(fruit_label~., data=train,)\n",
    "summary(glm.fit)"
   ]
  },
  {
   "cell_type": "code",
   "execution_count": 70,
   "metadata": {},
   "outputs": [],
   "source": [
    "# Predict using the model\n",
    "predictions = predict(glm.fit,test)"
   ]
  },
  {
   "cell_type": "code",
   "execution_count": 71,
   "metadata": {},
   "outputs": [
    {
     "data": {
      "text/plain": [
       "Confusion Matrix and Statistics\n",
       "\n",
       "          Reference\n",
       "Prediction 1 2 3 4\n",
       "         1 2 0 0 0\n",
       "         2 0 1 0 0\n",
       "         3 0 0 4 0\n",
       "         4 0 0 0 5\n",
       "\n",
       "Overall Statistics\n",
       "                                     \n",
       "               Accuracy : 1          \n",
       "                 95% CI : (0.7354, 1)\n",
       "    No Information Rate : 0.4167     \n",
       "    P-Value [Acc > NIR] : 2.738e-05  \n",
       "                                     \n",
       "                  Kappa : 1          \n",
       "                                     \n",
       " Mcnemar's Test P-Value : NA         \n",
       "\n",
       "Statistics by Class:\n",
       "\n",
       "                     Class: 1 Class: 2 Class: 3 Class: 4\n",
       "Sensitivity            1.0000  1.00000   1.0000   1.0000\n",
       "Specificity            1.0000  1.00000   1.0000   1.0000\n",
       "Pos Pred Value         1.0000  1.00000   1.0000   1.0000\n",
       "Neg Pred Value         1.0000  1.00000   1.0000   1.0000\n",
       "Prevalence             0.1667  0.08333   0.3333   0.4167\n",
       "Detection Rate         0.1667  0.08333   0.3333   0.4167\n",
       "Detection Prevalence   0.1667  0.08333   0.3333   0.4167\n",
       "Balanced Accuracy      1.0000  1.00000   1.0000   1.0000"
      ]
     },
     "metadata": {},
     "output_type": "display_data"
    }
   ],
   "source": [
    "# Confusion Matrix\n",
    "cm <- confusionMatrix(predictions,test$fruit_label)\n",
    "cm"
   ]
  },
  {
   "cell_type": "code",
   "execution_count": 72,
   "metadata": {
    "scrolled": true
   },
   "outputs": [
    {
     "data": {
      "text/html": [
       "<strong>Accuracy:</strong> 1"
      ],
      "text/latex": [
       "\\textbf{Accuracy:} 1"
      ],
      "text/markdown": [
       "**Accuracy:** 1"
      ],
      "text/plain": [
       "Accuracy \n",
       "       1 "
      ]
     },
     "metadata": {},
     "output_type": "display_data"
    }
   ],
   "source": [
    "# Accuracy\n",
    "mc_acc_LR <- cm$overall['Accuracy']\n",
    "mc_acc_LR"
   ]
  },
  {
   "cell_type": "markdown",
   "metadata": {},
   "source": [
    "<a class=\"list-group-item list-group-item-action\" data-toggle=\"list\" href=\"#Classification\" role=\"tab\" aria-controls=\"profile\">Go to top<span class=\"badge badge-primary badge-pill\"></span></a>"
   ]
  },
  {
   "cell_type": "markdown",
   "metadata": {},
   "source": [
    "## Support Vector Classifier for Multiclass classification\n",
    "LinearSVC implement the “one-versus-one” approach for multi-class classification.\n",
    "In total, n_classes * (n_classes - 1) / 2 classifiers are constructed and each one trains data from two classes."
   ]
  },
  {
   "cell_type": "code",
   "execution_count": 73,
   "metadata": {},
   "outputs": [],
   "source": [
    "#Load Library\n",
    "library(e1071)\n",
    "options(warn=-1) #To supress warnings\n",
    "\n",
    "# Fit the data to SVC\n",
    "svm <- svm(fruit_label~., data=train, \n",
    "          method=\"C-classification\", kernal=\"radial\", \n",
    "          gamma=0.1, cost=10)"
   ]
  },
  {
   "cell_type": "code",
   "execution_count": 74,
   "metadata": {},
   "outputs": [
    {
     "data": {
      "text/plain": [
       "Confusion Matrix and Statistics\n",
       "\n",
       "          Reference\n",
       "Prediction 1 2 3 4\n",
       "         1 2 0 0 0\n",
       "         2 0 1 0 0\n",
       "         3 0 0 4 0\n",
       "         4 0 0 0 5\n",
       "\n",
       "Overall Statistics\n",
       "                                     \n",
       "               Accuracy : 1          \n",
       "                 95% CI : (0.7354, 1)\n",
       "    No Information Rate : 0.4167     \n",
       "    P-Value [Acc > NIR] : 2.738e-05  \n",
       "                                     \n",
       "                  Kappa : 1          \n",
       "                                     \n",
       " Mcnemar's Test P-Value : NA         \n",
       "\n",
       "Statistics by Class:\n",
       "\n",
       "                     Class: 1 Class: 2 Class: 3 Class: 4\n",
       "Sensitivity            1.0000  1.00000   1.0000   1.0000\n",
       "Specificity            1.0000  1.00000   1.0000   1.0000\n",
       "Pos Pred Value         1.0000  1.00000   1.0000   1.0000\n",
       "Neg Pred Value         1.0000  1.00000   1.0000   1.0000\n",
       "Prevalence             0.1667  0.08333   0.3333   0.4167\n",
       "Detection Rate         0.1667  0.08333   0.3333   0.4167\n",
       "Detection Prevalence   0.1667  0.08333   0.3333   0.4167\n",
       "Balanced Accuracy      1.0000  1.00000   1.0000   1.0000"
      ]
     },
     "metadata": {},
     "output_type": "display_data"
    }
   ],
   "source": [
    "# Predict using the model\n",
    "predictions <- predict(svm, test)\n",
    "\n",
    "# Accuracy and other metrics\n",
    "cm <- confusionMatrix(predictions, test$fruit_label)\n",
    "cm"
   ]
  },
  {
   "cell_type": "code",
   "execution_count": 75,
   "metadata": {},
   "outputs": [
    {
     "data": {
      "text/html": [
       "<strong>Accuracy:</strong> 1"
      ],
      "text/latex": [
       "\\textbf{Accuracy:} 1"
      ],
      "text/markdown": [
       "**Accuracy:** 1"
      ],
      "text/plain": [
       "Accuracy \n",
       "       1 "
      ]
     },
     "metadata": {},
     "output_type": "display_data"
    }
   ],
   "source": [
    "# Accuracy\n",
    "mc_acc_SVC <- cm$overall['Accuracy']\n",
    "mc_acc_SVC"
   ]
  },
  {
   "cell_type": "markdown",
   "metadata": {},
   "source": [
    "<a class=\"list-group-item list-group-item-action\" data-toggle=\"list\" href=\"#Classification\" role=\"tab\" aria-controls=\"profile\">Go to top<span class=\"badge badge-primary badge-pill\"></span></a>"
   ]
  },
  {
   "cell_type": "markdown",
   "metadata": {},
   "source": [
    "## Multinomial Naive Bayes Classifier for multiclass classification\n",
    "It is based on Bayes’s theorem which gives an assumption of independence among predictors. \n",
    "A Naive Bayes classifier assumes that the presence of a particular feature in a class is unrelated to the presence of any other feature. "
   ]
  },
  {
   "cell_type": "code",
   "execution_count": 76,
   "metadata": {},
   "outputs": [
    {
     "data": {
      "text/plain": [
       "\n",
       "Naive Bayes Classifier for Discrete Predictors\n",
       "\n",
       "Call:\n",
       "naiveBayes.default(x = X, y = Y, laplace = laplace)\n",
       "\n",
       "A-priori probabilities:\n",
       "Y\n",
       "         1          2          3          4 \n",
       "0.36170213 0.08510638 0.31914894 0.23404255 \n",
       "\n",
       "Conditional probabilities:\n",
       "   mass\n",
       "Y       [,1]     [,2]\n",
       "  1 166.8235 10.81801\n",
       "  2  82.5000  3.00000\n",
       "  3 176.6667 55.51662\n",
       "  4 157.4545 39.44709\n",
       "\n",
       "   width\n",
       "Y       [,1]      [,2]\n",
       "  1 7.464706 0.3639045\n",
       "  2 5.975000 0.1707825\n",
       "  3 7.380000 0.6794956\n",
       "  4 6.618182 0.6569904\n",
       "\n",
       "   height\n",
       "Y       [,1]      [,2]\n",
       "  1 7.347059 0.3002450\n",
       "  2 4.475000 0.2061553\n",
       "  3 7.766667 0.6672616\n",
       "  4 9.100000 1.0779610\n",
       "\n",
       "   color_score\n",
       "Y        [,1]        [,2]\n",
       "  1 0.7741176 0.128162925\n",
       "  2 0.7925000 0.017078251\n",
       "  3 0.7720000 0.031441556\n",
       "  4 0.7154545 0.009341987\n"
      ]
     },
     "metadata": {},
     "output_type": "display_data"
    }
   ],
   "source": [
    "# required library\n",
    "library(naivebayes)\n",
    "options(warn=-1) #To supress warnings\n",
    "\n",
    "# Fitting the data to Navie Bayes Classifier\n",
    "Naive_Bayes_Model=naiveBayes(fruit_label~., data=train)\n",
    "Naive_Bayes_Model"
   ]
  },
  {
   "cell_type": "code",
   "execution_count": 77,
   "metadata": {},
   "outputs": [],
   "source": [
    "# Predict using the model\n",
    "predictions = predict(Naive_Bayes_Model, test)"
   ]
  },
  {
   "cell_type": "code",
   "execution_count": 78,
   "metadata": {},
   "outputs": [
    {
     "data": {
      "text/plain": [
       "Confusion Matrix and Statistics\n",
       "\n",
       "          Reference\n",
       "Prediction 1 2 3 4\n",
       "         1 2 0 1 0\n",
       "         2 0 1 0 0\n",
       "         3 0 0 3 1\n",
       "         4 0 0 0 4\n",
       "\n",
       "Overall Statistics\n",
       "                                          \n",
       "               Accuracy : 0.8333          \n",
       "                 95% CI : (0.5159, 0.9791)\n",
       "    No Information Rate : 0.4167          \n",
       "    P-Value [Acc > NIR] : 0.00403         \n",
       "                                          \n",
       "                  Kappa : 0.7624          \n",
       "                                          \n",
       " Mcnemar's Test P-Value : NA              \n",
       "\n",
       "Statistics by Class:\n",
       "\n",
       "                     Class: 1 Class: 2 Class: 3 Class: 4\n",
       "Sensitivity            1.0000  1.00000   0.7500   0.8000\n",
       "Specificity            0.9000  1.00000   0.8750   1.0000\n",
       "Pos Pred Value         0.6667  1.00000   0.7500   1.0000\n",
       "Neg Pred Value         1.0000  1.00000   0.8750   0.8750\n",
       "Prevalence             0.1667  0.08333   0.3333   0.4167\n",
       "Detection Rate         0.1667  0.08333   0.2500   0.3333\n",
       "Detection Prevalence   0.2500  0.08333   0.3333   0.3333\n",
       "Balanced Accuracy      0.9500  1.00000   0.8125   0.9000"
      ]
     },
     "metadata": {},
     "output_type": "display_data"
    }
   ],
   "source": [
    "# Accuracy and other metrics\n",
    "cm <- confusionMatrix(predictions, test$fruit_label)\n",
    "cm"
   ]
  },
  {
   "cell_type": "code",
   "execution_count": 79,
   "metadata": {},
   "outputs": [
    {
     "data": {
      "text/html": [
       "<strong>Accuracy:</strong> 0.833333333333333"
      ],
      "text/latex": [
       "\\textbf{Accuracy:} 0.833333333333333"
      ],
      "text/markdown": [
       "**Accuracy:** 0.833333333333333"
      ],
      "text/plain": [
       " Accuracy \n",
       "0.8333333 "
      ]
     },
     "metadata": {},
     "output_type": "display_data"
    }
   ],
   "source": [
    "mc_acc_NB <- cm$overall['Accuracy']\n",
    "mc_acc_NB"
   ]
  },
  {
   "cell_type": "markdown",
   "metadata": {},
   "source": [
    "<a class=\"list-group-item list-group-item-action\" data-toggle=\"list\" href=\"#Classification\" role=\"tab\" aria-controls=\"profile\">Go to top<span class=\"badge badge-primary badge-pill\"></span></a>"
   ]
  },
  {
   "cell_type": "markdown",
   "metadata": {},
   "source": [
    "## Bernoulli Naive Bayes Classifier for multiclass classification\n",
    "BernoulliNB implements the naive Bayes training and classification algorithms for data that is distributed according to multivariate Bernoulli distributions; i.e., there may be multiple features but each one is assumed to be a binary-valued (Bernoulli, boolean) variable. Therefore, this class requires samples to be represented as binary-valued feature vectors; if handed any other kind of data, a BernoulliNB instance may binarize its input"
   ]
  },
  {
   "cell_type": "code",
   "execution_count": 80,
   "metadata": {},
   "outputs": [
    {
     "data": {
      "text/html": [
       "'factor'"
      ],
      "text/latex": [
       "'factor'"
      ],
      "text/markdown": [
       "'factor'"
      ],
      "text/plain": [
       "[1] \"factor\""
      ]
     },
     "metadata": {},
     "output_type": "display_data"
    },
    {
     "data": {
      "text/html": [
       "'matrix'"
      ],
      "text/latex": [
       "'matrix'"
      ],
      "text/markdown": [
       "'matrix'"
      ],
      "text/plain": [
       "[1] \"matrix\""
      ]
     },
     "metadata": {},
     "output_type": "display_data"
    }
   ],
   "source": [
    "# Define X_train as matrix\n",
    "X_train_mat = as.matrix(train[-1])\n",
    "X_test = test[-1]\n",
    "y_train = train$fruit_label\n",
    "y_test = test$fruit_label\n",
    "class(y_train)\n",
    "class(X_train_mat)"
   ]
  },
  {
   "cell_type": "code",
   "execution_count": 81,
   "metadata": {},
   "outputs": [
    {
     "data": {
      "text/plain": [
       "             Length Class  Mode     \n",
       "models         2    -none- list     \n",
       "n              4    -none- numeric  \n",
       "obs            1    -none- numeric  \n",
       "priors         0    -none- NULL     \n",
       "names          4    -none- character\n",
       "distribution   2    -none- list     \n",
       "levels         4    -none- character\n",
       "laplace        1    -none- numeric  \n",
       "x            188    -none- numeric  \n",
       "y             47    factor numeric  "
      ]
     },
     "metadata": {},
     "output_type": "display_data"
    }
   ],
   "source": [
    "# requied library\n",
    "library(fastNaiveBayes)\n",
    "options(warn=-1) #To supress warnings\n",
    "\n",
    "# Train the Bernoulli Naive Bayes\n",
    "bnb <- fastNaiveBayes(x = X_train_mat, y = y_train, laplace = 1)\n",
    "summary(bnb)"
   ]
  },
  {
   "cell_type": "code",
   "execution_count": 82,
   "metadata": {},
   "outputs": [],
   "source": [
    "# Predict using the model\n",
    "predictions = predict(bnb, as.matrix(X_test))"
   ]
  },
  {
   "cell_type": "code",
   "execution_count": 83,
   "metadata": {},
   "outputs": [
    {
     "data": {
      "text/plain": [
       "Confusion Matrix and Statistics\n",
       "\n",
       "          Reference\n",
       "Prediction 1 2 3 4\n",
       "         1 2 0 0 0\n",
       "         2 0 1 0 0\n",
       "         3 0 0 4 1\n",
       "         4 0 0 0 4\n",
       "\n",
       "Overall Statistics\n",
       "                                          \n",
       "               Accuracy : 0.9167          \n",
       "                 95% CI : (0.6152, 0.9979)\n",
       "    No Information Rate : 0.4167          \n",
       "    P-Value [Acc > NIR] : 0.0004874       \n",
       "                                          \n",
       "                  Kappa : 0.8788          \n",
       "                                          \n",
       " Mcnemar's Test P-Value : NA              \n",
       "\n",
       "Statistics by Class:\n",
       "\n",
       "                     Class: 1 Class: 2 Class: 3 Class: 4\n",
       "Sensitivity            1.0000  1.00000   1.0000   0.8000\n",
       "Specificity            1.0000  1.00000   0.8750   1.0000\n",
       "Pos Pred Value         1.0000  1.00000   0.8000   1.0000\n",
       "Neg Pred Value         1.0000  1.00000   1.0000   0.8750\n",
       "Prevalence             0.1667  0.08333   0.3333   0.4167\n",
       "Detection Rate         0.1667  0.08333   0.3333   0.3333\n",
       "Detection Prevalence   0.1667  0.08333   0.4167   0.3333\n",
       "Balanced Accuracy      1.0000  1.00000   0.9375   0.9000"
      ]
     },
     "metadata": {},
     "output_type": "display_data"
    }
   ],
   "source": [
    "# Confusion Matrix\n",
    "cm <- confusionMatrix(predictions, y_test)\n",
    "cm"
   ]
  },
  {
   "cell_type": "code",
   "execution_count": 84,
   "metadata": {},
   "outputs": [
    {
     "data": {
      "text/html": [
       "<strong>Accuracy:</strong> 0.916666666666667"
      ],
      "text/latex": [
       "\\textbf{Accuracy:} 0.916666666666667"
      ],
      "text/markdown": [
       "**Accuracy:** 0.916666666666667"
      ],
      "text/plain": [
       " Accuracy \n",
       "0.9166667 "
      ]
     },
     "metadata": {},
     "output_type": "display_data"
    }
   ],
   "source": [
    "# Accuracy\n",
    "mc_acc_BNB <- cm$overall['Accuracy']\n",
    "mc_acc_BNB"
   ]
  },
  {
   "cell_type": "markdown",
   "metadata": {},
   "source": [
    "<a class=\"list-group-item list-group-item-action\" data-toggle=\"list\" href=\"#Classification\" role=\"tab\" aria-controls=\"profile\">Go to top<span class=\"badge badge-primary badge-pill\"></span></a>"
   ]
  },
  {
   "cell_type": "markdown",
   "metadata": {},
   "source": [
    "## Decision Tree Classifier for multiclass classfication\n",
    "Decision tree classifier is a systematic approach for multiclass classification. It poses a set of questions to the dataset (related to its attributes/features). The decision tree classification algorithm can be visualized on a binary tree. On the root and each of the internal nodes, a question is posed and the data on that node is further split into separate records that have different characteristics. The leaves of the tree refer to the classes in which the dataset is split."
   ]
  },
  {
   "cell_type": "code",
   "execution_count": 85,
   "metadata": {},
   "outputs": [],
   "source": [
    "# Loading required libraries\n",
    "library('rpart')\n",
    "options(warn=-1) #To supress warnings\n",
    "\n",
    "# Fit the data to the model\n",
    "modfit.rpart <- rpart(fruit_label ~ ., data=train, method=\"class\")"
   ]
  },
  {
   "cell_type": "code",
   "execution_count": 86,
   "metadata": {},
   "outputs": [],
   "source": [
    "# Predict the testing set with the trained model \n",
    "pred_decision <- predict(modfit.rpart, test, type = \"class\")"
   ]
  },
  {
   "cell_type": "code",
   "execution_count": 87,
   "metadata": {},
   "outputs": [
    {
     "data": {
      "text/plain": [
       "Confusion Matrix and Statistics\n",
       "\n",
       "          Reference\n",
       "Prediction 1 2 3 4\n",
       "         1 0 0 0 0\n",
       "         2 1 1 0 0\n",
       "         3 1 0 1 1\n",
       "         4 0 0 3 4\n",
       "\n",
       "Overall Statistics\n",
       "                                          \n",
       "               Accuracy : 0.5             \n",
       "                 95% CI : (0.2109, 0.7891)\n",
       "    No Information Rate : 0.4167          \n",
       "    P-Value [Acc > NIR] : 0.3798          \n",
       "                                          \n",
       "                  Kappa : 0.2421          \n",
       "                                          \n",
       " Mcnemar's Test P-Value : NA              \n",
       "\n",
       "Statistics by Class:\n",
       "\n",
       "                     Class: 1 Class: 2 Class: 3 Class: 4\n",
       "Sensitivity            0.0000  1.00000  0.25000   0.8000\n",
       "Specificity            1.0000  0.90909  0.75000   0.5714\n",
       "Pos Pred Value            NaN  0.50000  0.33333   0.5714\n",
       "Neg Pred Value         0.8333  1.00000  0.66667   0.8000\n",
       "Prevalence             0.1667  0.08333  0.33333   0.4167\n",
       "Detection Rate         0.0000  0.08333  0.08333   0.3333\n",
       "Detection Prevalence   0.0000  0.16667  0.25000   0.5833\n",
       "Balanced Accuracy      0.5000  0.95455  0.50000   0.6857"
      ]
     },
     "metadata": {},
     "output_type": "display_data"
    }
   ],
   "source": [
    "# Confusion Matrix\n",
    "cm <- confusionMatrix(pred_decision, test$fruit_label)\n",
    "cm"
   ]
  },
  {
   "cell_type": "code",
   "execution_count": 88,
   "metadata": {},
   "outputs": [
    {
     "data": {
      "text/html": [
       "<strong>Accuracy:</strong> 0.5"
      ],
      "text/latex": [
       "\\textbf{Accuracy:} 0.5"
      ],
      "text/markdown": [
       "**Accuracy:** 0.5"
      ],
      "text/plain": [
       "Accuracy \n",
       "     0.5 "
      ]
     },
     "metadata": {},
     "output_type": "display_data"
    }
   ],
   "source": [
    "# Accuracy\n",
    "mc_acc_dt <- cm$overall['Accuracy']\n",
    "mc_acc_dt"
   ]
  },
  {
   "cell_type": "markdown",
   "metadata": {},
   "source": [
    "<a class=\"list-group-item list-group-item-action\" data-toggle=\"list\" href=\"#Classification\" role=\"tab\" aria-controls=\"profile\">Go to top<span class=\"badge badge-primary badge-pill\"></span></a>"
   ]
  },
  {
   "cell_type": "markdown",
   "metadata": {},
   "source": [
    "## Random Forest Classifier for multiple classes\n",
    "Random forest are an ensemble learning method. It operates by constructing a multitude of decision trees at training time and outputs the class that is the mode of the classes of the individual trees. A random forest is a meta-estimator that fits a number of trees on various subsamples of data sets and then uses an average to improve the accuracy in the model’s predictive nature. The sub-sample size is always the same as that of the original input size but the samples are often drawn with replacements.\n",
    "\n",
    "We should use this algorithm when we need high accuracy while working with large datasets with higher dimensions. We can also use it if there are missing values in the dataset. We should not use it if we have less time for modeling or if large computational costs and memory space are a constrain"
   ]
  },
  {
   "cell_type": "code",
   "execution_count": 89,
   "metadata": {},
   "outputs": [],
   "source": [
    "# Loading required libraries\n",
    "library('randomForest')\n",
    "options(warn=-1) #To supress warnings\n",
    "\n",
    "# Training with Random forest model\n",
    "modfit.rf <- randomForest(fruit_label ~., data=train)"
   ]
  },
  {
   "cell_type": "code",
   "execution_count": 90,
   "metadata": {},
   "outputs": [],
   "source": [
    "# Predict the testing set with the trained model\n",
    "predictions <- predict(modfit.rf, test, type = \"class\")"
   ]
  },
  {
   "cell_type": "code",
   "execution_count": 91,
   "metadata": {},
   "outputs": [
    {
     "data": {
      "text/plain": [
       "Confusion Matrix and Statistics\n",
       "\n",
       "          Reference\n",
       "Prediction 1 2 3 4\n",
       "         1 2 0 0 0\n",
       "         2 0 1 0 0\n",
       "         3 0 0 4 0\n",
       "         4 0 0 0 5\n",
       "\n",
       "Overall Statistics\n",
       "                                     \n",
       "               Accuracy : 1          \n",
       "                 95% CI : (0.7354, 1)\n",
       "    No Information Rate : 0.4167     \n",
       "    P-Value [Acc > NIR] : 2.738e-05  \n",
       "                                     \n",
       "                  Kappa : 1          \n",
       "                                     \n",
       " Mcnemar's Test P-Value : NA         \n",
       "\n",
       "Statistics by Class:\n",
       "\n",
       "                     Class: 1 Class: 2 Class: 3 Class: 4\n",
       "Sensitivity            1.0000  1.00000   1.0000   1.0000\n",
       "Specificity            1.0000  1.00000   1.0000   1.0000\n",
       "Pos Pred Value         1.0000  1.00000   1.0000   1.0000\n",
       "Neg Pred Value         1.0000  1.00000   1.0000   1.0000\n",
       "Prevalence             0.1667  0.08333   0.3333   0.4167\n",
       "Detection Rate         0.1667  0.08333   0.3333   0.4167\n",
       "Detection Prevalence   0.1667  0.08333   0.3333   0.4167\n",
       "Balanced Accuracy      1.0000  1.00000   1.0000   1.0000"
      ]
     },
     "metadata": {},
     "output_type": "display_data"
    }
   ],
   "source": [
    "# Confusion Matrix\n",
    "cm <- confusionMatrix(predictions, test$fruit_label)\n",
    "cm"
   ]
  },
  {
   "cell_type": "code",
   "execution_count": 92,
   "metadata": {},
   "outputs": [
    {
     "data": {
      "text/html": [
       "<strong>Accuracy:</strong> 1"
      ],
      "text/latex": [
       "\\textbf{Accuracy:} 1"
      ],
      "text/markdown": [
       "**Accuracy:** 1"
      ],
      "text/plain": [
       "Accuracy \n",
       "       1 "
      ]
     },
     "metadata": {},
     "output_type": "display_data"
    }
   ],
   "source": [
    "# Accuracy\n",
    "mc_acc_rf <- cm$overall['Accuracy']\n",
    "mc_acc_rf"
   ]
  },
  {
   "cell_type": "markdown",
   "metadata": {},
   "source": [
    "<a class=\"list-group-item list-group-item-action\" data-toggle=\"list\" href=\"#Classification\" role=\"tab\" aria-controls=\"profile\">Go to top<span class=\"badge badge-primary badge-pill\"></span></a>"
   ]
  },
  {
   "cell_type": "markdown",
   "metadata": {},
   "source": [
    "## Gradient Boosting Classifier for multiclass classificaton\n",
    "GB builds an additive model in a forward stage-wise fashion It allows for the optimization of arbitrary differentiable loss functions. Binary classification is a special case where only a single regression tree is induced."
   ]
  },
  {
   "cell_type": "code",
   "execution_count": 93,
   "metadata": {},
   "outputs": [
    {
     "data": {
      "text/plain": [
       "  Sepal.Length    Sepal.Width     Petal.Length    Petal.Width   \n",
       " Min.   :4.300   Min.   :2.000   Min.   :1.000   Min.   :0.100  \n",
       " 1st Qu.:5.100   1st Qu.:2.800   1st Qu.:1.600   1st Qu.:0.300  \n",
       " Median :5.800   Median :3.000   Median :4.350   Median :1.300  \n",
       " Mean   :5.843   Mean   :3.057   Mean   :3.758   Mean   :1.199  \n",
       " 3rd Qu.:6.400   3rd Qu.:3.300   3rd Qu.:5.100   3rd Qu.:1.800  \n",
       " Max.   :7.900   Max.   :4.400   Max.   :6.900   Max.   :2.500  \n",
       "       Species  \n",
       " setosa    :50  \n",
       " versicolor:50  \n",
       " virginica :50  \n",
       "                \n",
       "                \n",
       "                "
      ]
     },
     "metadata": {},
     "output_type": "display_data"
    }
   ],
   "source": [
    "# Let us import the iris dataset\n",
    "library(datasets)\n",
    "data(iris)\n",
    "summary(iris)\n",
    "options(warn=-1) #To supress warnings\n"
   ]
  },
  {
   "cell_type": "code",
   "execution_count": 94,
   "metadata": {},
   "outputs": [],
   "source": [
    "#  Splitting the dataset\n",
    "indexes = createDataPartition(iris$Species, p = .90, list = F)\n",
    "train = iris[indexes, ]\n",
    "test = iris[-indexes, ]"
   ]
  },
  {
   "cell_type": "code",
   "execution_count": 95,
   "metadata": {},
   "outputs": [
    {
     "name": "stdout",
     "output_type": "stream",
     "text": [
      "gbm(formula = Species ~ ., distribution = \"multinomial\", data = train, \n",
      "    n.trees = 200, n.minobsinnode = 10, shrinkage = 0.01, cv.folds = 10)\n",
      "A gradient boosted model with multinomial loss function.\n",
      "200 iterations were performed.\n",
      "The best cross-validation iteration was 200.\n",
      "There were 4 predictors of which 4 had non-zero influence.\n"
     ]
    }
   ],
   "source": [
    "# Import the required libraries\n",
    "library(gbm)\n",
    "library(caret)\n",
    "options(warn=-1) #To supress warnings\n",
    "\n",
    "# Fitting the gbm model\n",
    "mod_gbm = gbm(Species ~.,\n",
    "              data = train,\n",
    "              distribution = \"multinomial\",\n",
    "              cv.folds = 10,\n",
    "              shrinkage = .01,\n",
    "              n.minobsinnode = 10,\n",
    "              n.trees = 200)\n",
    "\n",
    "# print the model\n",
    "print(mod_gbm)"
   ]
  },
  {
   "cell_type": "code",
   "execution_count": 96,
   "metadata": {},
   "outputs": [],
   "source": [
    "# Predict using the model(The predictions are probabilities and have to be convered to 0 and 1)\n",
    "pred = predict.gbm(object = mod_gbm,\n",
    "                    newdata = test,\n",
    "                    n.trees = 200,\n",
    "                    type = \"response\")"
   ]
  },
  {
   "cell_type": "code",
   "execution_count": 97,
   "metadata": {
    "scrolled": true
   },
   "outputs": [
    {
     "name": "stdout",
     "output_type": "stream",
     "text": [
      "   test.Species     labels\n",
      "1        setosa     setosa\n",
      "2        setosa     setosa\n",
      "3        setosa     setosa\n",
      "4        setosa     setosa\n",
      "5        setosa     setosa\n",
      "6    versicolor versicolor\n",
      "7    versicolor versicolor\n",
      "8    versicolor versicolor\n",
      "9    versicolor versicolor\n",
      "10   versicolor versicolor\n",
      "11    virginica  virginica\n",
      "12    virginica  virginica\n",
      "13    virginica versicolor\n",
      "14    virginica versicolor\n",
      "15    virginica  virginica\n"
     ]
    }
   ],
   "source": [
    "labels = colnames(pred)[apply(pred, 1, which.max)]\n",
    "result = data.frame(test$Species, labels)\n",
    "print(result)"
   ]
  },
  {
   "cell_type": "code",
   "execution_count": 98,
   "metadata": {},
   "outputs": [
    {
     "name": "stdout",
     "output_type": "stream",
     "text": [
      "Confusion Matrix and Statistics\n",
      "\n",
      "            Reference\n",
      "Prediction   setosa versicolor virginica\n",
      "  setosa          5          0         0\n",
      "  versicolor      0          5         0\n",
      "  virginica       0          2         3\n",
      "\n",
      "Overall Statistics\n",
      "                                          \n",
      "               Accuracy : 0.8667          \n",
      "                 95% CI : (0.5954, 0.9834)\n",
      "    No Information Rate : 0.4667          \n",
      "    P-Value [Acc > NIR] : 0.001684        \n",
      "                                          \n",
      "                  Kappa : 0.8             \n",
      "                                          \n",
      " Mcnemar's Test P-Value : NA              \n",
      "\n",
      "Statistics by Class:\n",
      "\n",
      "                     Class: setosa Class: versicolor Class: virginica\n",
      "Sensitivity                 1.0000            0.7143           1.0000\n",
      "Specificity                 1.0000            1.0000           0.8333\n",
      "Pos Pred Value              1.0000            1.0000           0.6000\n",
      "Neg Pred Value              1.0000            0.8000           1.0000\n",
      "Prevalence                  0.3333            0.4667           0.2000\n",
      "Detection Rate              0.3333            0.3333           0.2000\n",
      "Detection Prevalence        0.3333            0.3333           0.3333\n",
      "Balanced Accuracy           1.0000            0.8571           0.9167\n"
     ]
    }
   ],
   "source": [
    "cm = confusionMatrix(test$Species, as.factor(labels))\n",
    "print(cm)"
   ]
  },
  {
   "cell_type": "markdown",
   "metadata": {},
   "source": [
    "<a class=\"list-group-item list-group-item-action\" data-toggle=\"list\" href=\"#Classification\" role=\"tab\" aria-controls=\"profile\">Go to top<span class=\"badge badge-primary badge-pill\"></span></a>"
   ]
  },
  {
   "cell_type": "markdown",
   "metadata": {},
   "source": [
    "## XGBoost Classifier for multiclass classificaton\n",
    "XGBoost is a decision-tree-based ensemble Machine Learning algorithm that uses a gradient boosting framework. Rather than training all the models in isolation of one another, boosting trains models in succession with each new model being trained to correct the errors made by the previous ones\n",
    "\n",
    "In a standard ensemble method where models are trained in isolation, all of the models might simply end up making the same mistakes. We should use this algorithm when we require fast and accurate predictions after the model is deployed"
   ]
  },
  {
   "cell_type": "code",
   "execution_count": 99,
   "metadata": {},
   "outputs": [
    {
     "data": {
      "text/plain": [
       "  Sepal.Length    Sepal.Width     Petal.Length    Petal.Width   \n",
       " Min.   :4.300   Min.   :2.000   Min.   :1.000   Min.   :0.100  \n",
       " 1st Qu.:5.100   1st Qu.:2.800   1st Qu.:1.600   1st Qu.:0.300  \n",
       " Median :5.800   Median :3.000   Median :4.350   Median :1.300  \n",
       " Mean   :5.843   Mean   :3.057   Mean   :3.758   Mean   :1.199  \n",
       " 3rd Qu.:6.400   3rd Qu.:3.300   3rd Qu.:5.100   3rd Qu.:1.800  \n",
       " Max.   :7.900   Max.   :4.400   Max.   :6.900   Max.   :2.500  \n",
       "       Species  \n",
       " setosa    :50  \n",
       " versicolor:50  \n",
       " virginica :50  \n",
       "                \n",
       "                \n",
       "                "
      ]
     },
     "metadata": {},
     "output_type": "display_data"
    }
   ],
   "source": [
    "# Loading the data\n",
    "library(datasets)\n",
    "data(iris)\n",
    "summary(iris)"
   ]
  },
  {
   "cell_type": "code",
   "execution_count": null,
   "metadata": {},
   "outputs": [],
   "source": [
    "# Loading required libraries\n",
    "# install.packages('xgboost')\n",
    "# install.packages('caret')\n",
    "library(xgboost)\n",
    "library(caret)\n",
    "\n",
    "# Splitting the data\n",
    "indexes = createDataPartition(iris$Species, p=.9, list=F)\n",
    "train = iris[indexes, ]\n",
    "test = iris[-indexes, ]"
   ]
  },
  {
   "cell_type": "code",
   "execution_count": 3,
   "metadata": {},
   "outputs": [],
   "source": [
    "train_x = data.matrix(train[,-5])\n",
    "train_y = train[,5]\n",
    "\n",
    "test_x = data.matrix(test[,-5])\n",
    "test_y = test[,5]"
   ]
  },
  {
   "cell_type": "code",
   "execution_count": 4,
   "metadata": {},
   "outputs": [],
   "source": [
    "# Loading required libraries\n",
    "library(xgboost)\n",
    "library(caret)\n",
    "\n",
    "# data preprocessing\n",
    "xgb_train = xgb.DMatrix(data=train_x, label=train_y)\n",
    "xgb_test = xgb.DMatrix(data=test_x, label=test_y)"
   ]
  },
  {
   "cell_type": "code",
   "execution_count": 5,
   "metadata": {
    "scrolled": true
   },
   "outputs": [
    {
     "name": "stdout",
     "output_type": "stream",
     "text": [
      "[1]\ttrain-rmse:1.215335 \n",
      "[2]\ttrain-rmse:0.868185 \n",
      "[3]\ttrain-rmse:0.625645 \n",
      "[4]\ttrain-rmse:0.457628 \n",
      "[5]\ttrain-rmse:0.340769 \n",
      "[6]\ttrain-rmse:0.262093 \n",
      "[7]\ttrain-rmse:0.209959 \n",
      "[8]\ttrain-rmse:0.176306 \n",
      "[9]\ttrain-rmse:0.156460 \n",
      "[10]\ttrain-rmse:0.140004 \n",
      "[11]\ttrain-rmse:0.129321 \n",
      "[12]\ttrain-rmse:0.118828 \n",
      "[13]\ttrain-rmse:0.109476 \n",
      "[14]\ttrain-rmse:0.104731 \n",
      "[15]\ttrain-rmse:0.102346 \n",
      "[16]\ttrain-rmse:0.099210 \n",
      "[17]\ttrain-rmse:0.095674 \n",
      "[18]\ttrain-rmse:0.092293 \n",
      "[19]\ttrain-rmse:0.090301 \n",
      "[20]\ttrain-rmse:0.086300 \n",
      "[21]\ttrain-rmse:0.082567 \n",
      "[22]\ttrain-rmse:0.080295 \n",
      "[23]\ttrain-rmse:0.076845 \n",
      "[24]\ttrain-rmse:0.074031 \n",
      "[25]\ttrain-rmse:0.072018 \n",
      "[26]\ttrain-rmse:0.068298 \n",
      "[27]\ttrain-rmse:0.065932 \n",
      "[28]\ttrain-rmse:0.064616 \n",
      "[29]\ttrain-rmse:0.063834 \n",
      "[30]\ttrain-rmse:0.057930 \n",
      "[31]\ttrain-rmse:0.055978 \n",
      "[32]\ttrain-rmse:0.052130 \n",
      "[33]\ttrain-rmse:0.051672 \n",
      "[34]\ttrain-rmse:0.050395 \n",
      "[35]\ttrain-rmse:0.049168 \n",
      "[36]\ttrain-rmse:0.044133 \n",
      "[37]\ttrain-rmse:0.041661 \n",
      "[38]\ttrain-rmse:0.040920 \n",
      "[39]\ttrain-rmse:0.040141 \n",
      "[40]\ttrain-rmse:0.039621 \n",
      "[41]\ttrain-rmse:0.036082 \n",
      "[42]\ttrain-rmse:0.033350 \n",
      "[43]\ttrain-rmse:0.030999 \n",
      "[44]\ttrain-rmse:0.028888 \n",
      "[45]\ttrain-rmse:0.027658 \n",
      "[46]\ttrain-rmse:0.026971 \n",
      "[47]\ttrain-rmse:0.026018 \n",
      "[48]\ttrain-rmse:0.025844 \n",
      "[49]\ttrain-rmse:0.024906 \n",
      "[50]\ttrain-rmse:0.024425 \n"
     ]
    }
   ],
   "source": [
    "# Fitting the xgb model\n",
    "library(xgboost)\n",
    "xgbc = xgboost(data=xgb_train, max.depth=3, nrounds=50)"
   ]
  },
  {
   "cell_type": "code",
   "execution_count": 6,
   "metadata": {},
   "outputs": [
    {
     "name": "stdout",
     "output_type": "stream",
     "text": [
      " [1] 0.9984463 0.9984463 1.0030792 0.9984463 0.9984463 2.0612917 1.9963410\n",
      " [8] 2.0345306 1.8698958 1.9836907 3.0030909 3.0171735 3.0054576 3.0057549\n",
      "[15] 2.7159510\n",
      " [1] setosa     setosa     setosa     setosa     setosa     versicolor\n",
      " [7] versicolor versicolor versicolor versicolor virginica  virginica \n",
      "[13] virginica  virginica  virginica \n",
      "Levels: setosa versicolor virginica\n",
      "Confusion Matrix and Statistics\n",
      "\n",
      "            Reference\n",
      "Prediction   setosa versicolor virginica\n",
      "  setosa          5          0         0\n",
      "  versicolor      0          5         0\n",
      "  virginica       0          0         5\n",
      "\n",
      "Overall Statistics\n",
      "                                    \n",
      "               Accuracy : 1         \n",
      "                 95% CI : (0.782, 1)\n",
      "    No Information Rate : 0.3333    \n",
      "    P-Value [Acc > NIR] : 6.969e-08 \n",
      "                                    \n",
      "                  Kappa : 1         \n",
      "                                    \n",
      " Mcnemar's Test P-Value : NA        \n",
      "\n",
      "Statistics by Class:\n",
      "\n",
      "                     Class: setosa Class: versicolor Class: virginica\n",
      "Sensitivity                 1.0000            1.0000           1.0000\n",
      "Specificity                 1.0000            1.0000           1.0000\n",
      "Pos Pred Value              1.0000            1.0000           1.0000\n",
      "Neg Pred Value              1.0000            1.0000           1.0000\n",
      "Prevalence                  0.3333            0.3333           0.3333\n",
      "Detection Rate              0.3333            0.3333           0.3333\n",
      "Detection Prevalence        0.3333            0.3333           0.3333\n",
      "Balanced Accuracy           1.0000            1.0000           1.0000\n",
      "         orig factor             pred rounded     pred.1\n",
      "1      setosa      1 0.99844628572464       1     setosa\n",
      "2      setosa      1 0.99844628572464       1     setosa\n",
      "3      setosa      1  1.0030791759491       1     setosa\n",
      "4      setosa      1 0.99844628572464       1     setosa\n",
      "5      setosa      1 0.99844628572464       1     setosa\n",
      "6  versicolor      2 2.06129169464111       2 versicolor\n",
      "7  versicolor      2 1.99634099006653       2 versicolor\n",
      "8  versicolor      2 2.03453063964844       2 versicolor\n",
      "9  versicolor      2  1.8698958158493       2 versicolor\n",
      "10 versicolor      2 1.98369073867798       2 versicolor\n",
      "11  virginica      3                3       3  virginica\n",
      "12  virginica      3                3       3  virginica\n",
      "13  virginica      3                3       3  virginica\n",
      "14  virginica      3                3       3  virginica\n",
      "15  virginica      3 2.71595096588135       3  virginica\n"
     ]
    }
   ],
   "source": [
    "# Predict using the model(The predictions are probabilities and have to be convered categories)\n",
    "pred = predict(xgbc, xgb_test)\n",
    "print(pred)\n",
    "\n",
    "pred[(pred>3)]=3\n",
    "pred_y = as.factor((levels(test_y))[round(pred)])\n",
    "print(pred_y)\n",
    "\n",
    "cm = confusionMatrix(test_y, pred_y)\n",
    "print(cm)\n",
    "\n",
    "result = cbind(orig=as.character(test_y),\n",
    "                factor=as.factor(test_y),\n",
    "                pred=pred,\n",
    "                rounded=round(pred),\n",
    "                pred=as.character(levels(test_y))[round(pred)])\n",
    "print(data.frame(result))"
   ]
  },
  {
   "cell_type": "markdown",
   "metadata": {},
   "source": [
    "<a class=\"list-group-item list-group-item-action\" data-toggle=\"list\" href=\"#Classification\" role=\"tab\" aria-controls=\"profile\">Go to top<span class=\"badge badge-primary badge-pill\"></span></a>"
   ]
  },
  {
   "cell_type": "markdown",
   "metadata": {},
   "source": [
    "## KNN Classifier for multiclass classification\n",
    "It is a lazy learning algorithm that stores all instances corresponding to training data in n-dimensional space To label a new point, it looks at the labeled points closest to that new point also known as its nearest neighbors\n",
    "\n",
    "We should use KNN when the dataset is small and speed is a priority (real-time)"
   ]
  },
  {
   "cell_type": "code",
   "execution_count": 8,
   "metadata": {},
   "outputs": [
    {
     "data": {
      "text/html": [
       "'factor'"
      ],
      "text/latex": [
       "'factor'"
      ],
      "text/markdown": [
       "'factor'"
      ],
      "text/plain": [
       "[1] \"factor\""
      ]
     },
     "metadata": {},
     "output_type": "display_data"
    },
    {
     "data": {
      "text/html": [
       "'matrix'"
      ],
      "text/latex": [
       "'matrix'"
      ],
      "text/markdown": [
       "'matrix'"
      ],
      "text/plain": [
       "[1] \"matrix\""
      ]
     },
     "metadata": {},
     "output_type": "display_data"
    }
   ],
   "source": [
    "alpha=0.8\n",
    "d = sort(sample(nrow(fruit), nrow(fruit)*alpha))\n",
    "train = fruit[d,]\n",
    "test = fruit[-d,]\n",
    "X_train = as.matrix(train[-1])\n",
    "X_test = test[-1]\n",
    "y_train = train$fruit_label\n",
    "y_test = test$fruit_label\n",
    "class(y_train)\n",
    "class(X_train)"
   ]
  },
  {
   "cell_type": "code",
   "execution_count": null,
   "metadata": {},
   "outputs": [],
   "source": [
    "# Loading required libraries\n",
    "library(class)\n",
    "\n",
    "# Fitting the knn model\n",
    "knn_ <- knn(train = X_train, test = X_test, cl= y_train,k = 3) "
   ]
  },
  {
   "cell_type": "code",
   "execution_count": 10,
   "metadata": {},
   "outputs": [
    {
     "data": {
      "text/plain": [
       "Confusion Matrix and Statistics\n",
       "\n",
       "          Reference\n",
       "Prediction 1 2 3 4\n",
       "         1 2 0 0 0\n",
       "         2 0 0 0 0\n",
       "         3 3 0 2 0\n",
       "         4 1 0 1 3\n",
       "\n",
       "Overall Statistics\n",
       "                                          \n",
       "               Accuracy : 0.5833          \n",
       "                 95% CI : (0.2767, 0.8483)\n",
       "    No Information Rate : 0.5             \n",
       "    P-Value [Acc > NIR] : 0.3872          \n",
       "                                          \n",
       "                  Kappa : 0.4118          \n",
       "                                          \n",
       " Mcnemar's Test P-Value : NA              \n",
       "\n",
       "Statistics by Class:\n",
       "\n",
       "                     Class: 1 Class: 2 Class: 3 Class: 4\n",
       "Sensitivity            0.3333       NA   0.6667   1.0000\n",
       "Specificity            1.0000        1   0.6667   0.7778\n",
       "Pos Pred Value         1.0000       NA   0.4000   0.6000\n",
       "Neg Pred Value         0.6000       NA   0.8571   1.0000\n",
       "Prevalence             0.5000        0   0.2500   0.2500\n",
       "Detection Rate         0.1667        0   0.1667   0.2500\n",
       "Detection Prevalence   0.1667        0   0.4167   0.4167\n",
       "Balanced Accuracy      0.6667       NA   0.6667   0.8889"
      ]
     },
     "metadata": {},
     "output_type": "display_data"
    }
   ],
   "source": [
    "confusionMatrix(knn_, y_test)"
   ]
  },
  {
   "cell_type": "markdown",
   "metadata": {},
   "source": [
    "<a class=\"list-group-item list-group-item-action\" data-toggle=\"list\" href=\"#Classification\" role=\"tab\" aria-controls=\"profile\">Go to top<span class=\"badge badge-primary badge-pill\"></span></a>"
   ]
  },
  {
   "cell_type": "markdown",
   "metadata": {},
   "source": [
    "## Binary Relevance\n",
    "In this case **an ensemble of single-label binary classifiers is trained, one for each class**. Each classifier predicts either the membership or the non-membership of one class. The **union of all classes that were predicted is taken as the multi-label output**. This approach is popular because it is easy to implement, however it also ignores the possible correlations between class labels.<br><br>\n",
    "In other words, if there’s q labels, the binary relevance method create q new data sets from the images, one for each label and train single-label classifiers on each new data set. One classifier may answer yes/no to the question “does it contain trees?”, thus the “binary” in “binary relevance”. This is a simple approach but does not work well when there’s dependencies between the labels.<br><br>\n",
    "OneVsRest & Binary Relevance seem very much alike. If multiple classifiers in OneVsRest answer “yes” then you are back to the binary relevance scenario."
   ]
  },
  {
   "cell_type": "code",
   "execution_count": 63,
   "metadata": {
    "scrolled": true
   },
   "outputs": [
    {
     "data": {
      "text/html": [
       "<table>\n",
       "<thead><tr><th></th><th scope=col>y1</th><th scope=col>y2</th><th scope=col>y3</th><th scope=col>y4</th><th scope=col>y5</th></tr></thead>\n",
       "<tbody>\n",
       "\t<tr><th scope=row>30</th><td>0</td><td>1</td><td>0</td><td>1</td><td>0</td></tr>\n",
       "\t<tr><th scope=row>76</th><td>0</td><td>1</td><td>0</td><td>1</td><td>0</td></tr>\n",
       "\t<tr><th scope=row>40</th><td>0</td><td>1</td><td>0</td><td>1</td><td>0</td></tr>\n",
       "\t<tr><th scope=row>83</th><td>0</td><td>1</td><td>0</td><td>1</td><td>0</td></tr>\n",
       "\t<tr><th scope=row>47</th><td>0</td><td>1</td><td>1</td><td>1</td><td>0</td></tr>\n",
       "\t<tr><th scope=row>77</th><td>0</td><td>1</td><td>0</td><td>1</td><td>0</td></tr>\n",
       "</tbody>\n",
       "</table>\n"
      ],
      "text/latex": [
       "\\begin{tabular}{r|lllll}\n",
       "  & y1 & y2 & y3 & y4 & y5\\\\\n",
       "\\hline\n",
       "\t30 & 0 & 1 & 0 & 1 & 0\\\\\n",
       "\t76 & 0 & 1 & 0 & 1 & 0\\\\\n",
       "\t40 & 0 & 1 & 0 & 1 & 0\\\\\n",
       "\t83 & 0 & 1 & 0 & 1 & 0\\\\\n",
       "\t47 & 0 & 1 & 1 & 1 & 0\\\\\n",
       "\t77 & 0 & 1 & 0 & 1 & 0\\\\\n",
       "\\end{tabular}\n"
      ],
      "text/markdown": [
       "\n",
       "| <!--/--> | y1 | y2 | y3 | y4 | y5 |\n",
       "|---|---|---|---|---|---|\n",
       "| 30 | 0 | 1 | 0 | 1 | 0 |\n",
       "| 76 | 0 | 1 | 0 | 1 | 0 |\n",
       "| 40 | 0 | 1 | 0 | 1 | 0 |\n",
       "| 83 | 0 | 1 | 0 | 1 | 0 |\n",
       "| 47 | 0 | 1 | 1 | 1 | 0 |\n",
       "| 77 | 0 | 1 | 0 | 1 | 0 |\n",
       "\n"
      ],
      "text/plain": [
       "   y1 y2 y3 y4 y5\n",
       "30 0  1  0  1  0 \n",
       "76 0  1  0  1  0 \n",
       "40 0  1  0  1  0 \n",
       "83 0  1  0  1  0 \n",
       "47 0  1  1  1  0 \n",
       "77 0  1  0  1  0 "
      ]
     },
     "metadata": {},
     "output_type": "display_data"
    },
    {
     "data": {
      "text/html": [
       "<table>\n",
       "<thead><tr><th></th><th scope=col>y1</th><th scope=col>y2</th><th scope=col>y3</th><th scope=col>y4</th><th scope=col>y5</th></tr></thead>\n",
       "<tbody>\n",
       "\t<tr><th scope=row>30</th><td>3</td><td>1</td><td>5</td><td>2</td><td>4</td></tr>\n",
       "\t<tr><th scope=row>76</th><td>4</td><td>1</td><td>5</td><td>2</td><td>3</td></tr>\n",
       "\t<tr><th scope=row>40</th><td>4</td><td>1</td><td>5</td><td>2</td><td>3</td></tr>\n",
       "\t<tr><th scope=row>83</th><td>3</td><td>1</td><td>4</td><td>2</td><td>5</td></tr>\n",
       "\t<tr><th scope=row>47</th><td>4</td><td>1</td><td>3</td><td>2</td><td>5</td></tr>\n",
       "\t<tr><th scope=row>77</th><td>5</td><td>1</td><td>3</td><td>2</td><td>4</td></tr>\n",
       "</tbody>\n",
       "</table>\n"
      ],
      "text/latex": [
       "\\begin{tabular}{r|lllll}\n",
       "  & y1 & y2 & y3 & y4 & y5\\\\\n",
       "\\hline\n",
       "\t30 & 3 & 1 & 5 & 2 & 4\\\\\n",
       "\t76 & 4 & 1 & 5 & 2 & 3\\\\\n",
       "\t40 & 4 & 1 & 5 & 2 & 3\\\\\n",
       "\t83 & 3 & 1 & 4 & 2 & 5\\\\\n",
       "\t47 & 4 & 1 & 3 & 2 & 5\\\\\n",
       "\t77 & 5 & 1 & 3 & 2 & 4\\\\\n",
       "\\end{tabular}\n"
      ],
      "text/markdown": [
       "\n",
       "| <!--/--> | y1 | y2 | y3 | y4 | y5 |\n",
       "|---|---|---|---|---|---|\n",
       "| 30 | 3 | 1 | 5 | 2 | 4 |\n",
       "| 76 | 4 | 1 | 5 | 2 | 3 |\n",
       "| 40 | 4 | 1 | 5 | 2 | 3 |\n",
       "| 83 | 3 | 1 | 4 | 2 | 5 |\n",
       "| 47 | 4 | 1 | 3 | 2 | 5 |\n",
       "| 77 | 5 | 1 | 3 | 2 | 4 |\n",
       "\n"
      ],
      "text/plain": [
       "   y1 y2 y3 y4 y5\n",
       "30 3  1  5  2  4 \n",
       "76 4  1  5  2  3 \n",
       "40 4  1  5  2  3 \n",
       "83 3  1  4  2  5 \n",
       "47 4  1  3  2  5 \n",
       "77 5  1  3  2  4 "
      ]
     },
     "metadata": {},
     "output_type": "display_data"
    },
    {
     "name": "stdout",
     "output_type": "stream",
     "text": [
      "                Default  RCUT\n",
      "accuracy          0.657 0.648\n",
      "F1                0.759 0.753\n",
      "hamming-loss      0.177 0.183\n",
      "macro-AUC         0.566 0.566\n",
      "macro-F1          0.389 0.345\n",
      "macro-precision   0.503 0.303\n",
      "macro-recall      0.425 0.400\n",
      "micro-AUC         0.818 0.818\n",
      "micro-F1          0.777 0.768\n",
      "micro-precision   0.761 0.757\n",
      "micro-recall      0.794 0.779\n",
      "precision         0.757 0.757\n",
      "recall            0.824 0.814\n",
      "subset-accuracy   0.314 0.286\n"
     ]
    }
   ],
   "source": [
    "library(utiml)\n",
    "\n",
    "# Create two partitions (train and test) of toyml multi-label dataset\n",
    "ds <- create_holdout_partition(toyml, c(train=0.65, test=0.35))\n",
    "# Create a Binary Relevance Model using e1071::svm method\n",
    "brmodel <- br(ds$train, \"SVM\", seed=123)\n",
    "\n",
    "# Predict\n",
    "prediction <- predict(brmodel, ds$test)\n",
    "\n",
    "# Show the predictions\n",
    "head(as.bipartition(prediction))\n",
    "head(as.ranking(prediction))\n",
    "\n",
    "# Apply a threshold\n",
    "newpred <- rcut_threshold(prediction, 2)\n",
    "\n",
    "# Evaluate the models\n",
    "result <- multilabel_evaluate(ds$test, prediction, \"bipartition\")\n",
    "thresres <- multilabel_evaluate(ds$test, newpred, \"bipartition\")\n",
    "\n",
    "# Print the result\n",
    "print(round(cbind(Default=result, RCUT=thresres), 3))"
   ]
  },
  {
   "cell_type": "markdown",
   "metadata": {},
   "source": [
    "<a class=\"list-group-item list-group-item-action\" data-toggle=\"list\" href=\"#Classification\" role=\"tab\" aria-controls=\"profile\">Go to top<span class=\"badge badge-primary badge-pill\"></span></a>"
   ]
  },
  {
   "cell_type": "markdown",
   "metadata": {},
   "source": [
    "## Label Powerset\n",
    "This approach does **take possible correlations between class labels into account**. More commonly this approach is called the label-powerset method, because it considers each member of the power set of labels in the training set as a single label.\n",
    "This method needs worst case (2^|C|) classifiers, and has a high computational complexity.<br><br>\n",
    "However **when the number of classes increases the number of distinct label combinations can grow exponentially**. This easily leads to combinatorial explosion and thus computational infeasibility. Furthermore, some label combinations will have very few positive examples."
   ]
  },
  {
   "cell_type": "code",
   "execution_count": 2,
   "metadata": {},
   "outputs": [],
   "source": [
    "library(utiml)\n",
    "\n",
    "# Create two partitions (train and test) of toyml multi-label dataset\n",
    "ds <- create_holdout_partition(toyml, c(train=0.65, test=0.35))\n",
    "# Create a label powerset  Model using e1071::svm method\n",
    "model <- lp(ds$train, \"RANDOM\")\n",
    "pred <- predict(model, ds$test)\n"
   ]
  },
  {
   "cell_type": "code",
   "execution_count": 85,
   "metadata": {},
   "outputs": [
    {
     "data": {
      "text/html": [
       "<table>\n",
       "<thead><tr><th></th><th scope=col>y1</th><th scope=col>y2</th><th scope=col>y3</th><th scope=col>y4</th><th scope=col>y5</th></tr></thead>\n",
       "<tbody>\n",
       "\t<tr><th scope=row>46</th><td>0</td><td>0</td><td>1</td><td>0</td><td>0</td></tr>\n",
       "\t<tr><th scope=row>88</th><td>0</td><td>1</td><td>1</td><td>1</td><td>1</td></tr>\n",
       "\t<tr><th scope=row>97</th><td>0</td><td>0</td><td>1</td><td>1</td><td>0</td></tr>\n",
       "\t<tr><th scope=row>81</th><td>1</td><td>1</td><td>0</td><td>1</td><td>0</td></tr>\n",
       "\t<tr><th scope=row>56</th><td>0</td><td>1</td><td>0</td><td>0</td><td>0</td></tr>\n",
       "\t<tr><th scope=row>14</th><td>0</td><td>1</td><td>0</td><td>1</td><td>0</td></tr>\n",
       "</tbody>\n",
       "</table>\n"
      ],
      "text/latex": [
       "\\begin{tabular}{r|lllll}\n",
       "  & y1 & y2 & y3 & y4 & y5\\\\\n",
       "\\hline\n",
       "\t46 & 0 & 0 & 1 & 0 & 0\\\\\n",
       "\t88 & 0 & 1 & 1 & 1 & 1\\\\\n",
       "\t97 & 0 & 0 & 1 & 1 & 0\\\\\n",
       "\t81 & 1 & 1 & 0 & 1 & 0\\\\\n",
       "\t56 & 0 & 1 & 0 & 0 & 0\\\\\n",
       "\t14 & 0 & 1 & 0 & 1 & 0\\\\\n",
       "\\end{tabular}\n"
      ],
      "text/markdown": [
       "\n",
       "| <!--/--> | y1 | y2 | y3 | y4 | y5 |\n",
       "|---|---|---|---|---|---|\n",
       "| 46 | 0 | 0 | 1 | 0 | 0 |\n",
       "| 88 | 0 | 1 | 1 | 1 | 1 |\n",
       "| 97 | 0 | 0 | 1 | 1 | 0 |\n",
       "| 81 | 1 | 1 | 0 | 1 | 0 |\n",
       "| 56 | 0 | 1 | 0 | 0 | 0 |\n",
       "| 14 | 0 | 1 | 0 | 1 | 0 |\n",
       "\n"
      ],
      "text/plain": [
       "   y1 y2 y3 y4 y5\n",
       "46 0  0  1  0  0 \n",
       "88 0  1  1  1  1 \n",
       "97 0  0  1  1  0 \n",
       "81 1  1  0  1  0 \n",
       "56 0  1  0  0  0 \n",
       "14 0  1  0  1  0 "
      ]
     },
     "metadata": {},
     "output_type": "display_data"
    },
    {
     "data": {
      "text/html": [
       "<table>\n",
       "<thead><tr><th></th><th scope=col>y1</th><th scope=col>y2</th><th scope=col>y3</th><th scope=col>y4</th><th scope=col>y5</th></tr></thead>\n",
       "<tbody>\n",
       "\t<tr><th scope=row>46</th><td>2</td><td>2</td><td>1</td><td>2</td><td>2</td></tr>\n",
       "\t<tr><th scope=row>88</th><td>5</td><td>1</td><td>1</td><td>1</td><td>1</td></tr>\n",
       "\t<tr><th scope=row>97</th><td>3</td><td>3</td><td>1</td><td>1</td><td>3</td></tr>\n",
       "\t<tr><th scope=row>81</th><td>1</td><td>1</td><td>4</td><td>1</td><td>4</td></tr>\n",
       "\t<tr><th scope=row>56</th><td>2</td><td>1</td><td>2</td><td>2</td><td>2</td></tr>\n",
       "\t<tr><th scope=row>14</th><td>3</td><td>1</td><td>3</td><td>1</td><td>3</td></tr>\n",
       "</tbody>\n",
       "</table>\n"
      ],
      "text/latex": [
       "\\begin{tabular}{r|lllll}\n",
       "  & y1 & y2 & y3 & y4 & y5\\\\\n",
       "\\hline\n",
       "\t46 & 2 & 2 & 1 & 2 & 2\\\\\n",
       "\t88 & 5 & 1 & 1 & 1 & 1\\\\\n",
       "\t97 & 3 & 3 & 1 & 1 & 3\\\\\n",
       "\t81 & 1 & 1 & 4 & 1 & 4\\\\\n",
       "\t56 & 2 & 1 & 2 & 2 & 2\\\\\n",
       "\t14 & 3 & 1 & 3 & 1 & 3\\\\\n",
       "\\end{tabular}\n"
      ],
      "text/markdown": [
       "\n",
       "| <!--/--> | y1 | y2 | y3 | y4 | y5 |\n",
       "|---|---|---|---|---|---|\n",
       "| 46 | 2 | 2 | 1 | 2 | 2 |\n",
       "| 88 | 5 | 1 | 1 | 1 | 1 |\n",
       "| 97 | 3 | 3 | 1 | 1 | 3 |\n",
       "| 81 | 1 | 1 | 4 | 1 | 4 |\n",
       "| 56 | 2 | 1 | 2 | 2 | 2 |\n",
       "| 14 | 3 | 1 | 3 | 1 | 3 |\n",
       "\n"
      ],
      "text/plain": [
       "   y1 y2 y3 y4 y5\n",
       "46 2  2  1  2  2 \n",
       "88 5  1  1  1  1 \n",
       "97 3  3  1  1  3 \n",
       "81 1  1  4  1  4 \n",
       "56 2  1  2  2  2 \n",
       "14 3  1  3  1  3 "
      ]
     },
     "metadata": {},
     "output_type": "display_data"
    },
    {
     "name": "stdout",
     "output_type": "stream",
     "text": [
      "                  Default  RCUT\n",
      "accuracy            0.390 0.390\n",
      "average-precision   0.662 0.662\n",
      "clp                 0.000 0.000\n",
      "coverage            2.286 2.286\n",
      "F1                  0.523 0.523\n",
      "hamming-loss        0.360 0.360\n",
      "macro-AUC           0.574 0.574\n",
      "macro-F1            0.496 0.496\n",
      "macro-precision     0.462 0.462\n",
      "macro-recall        0.600 0.600\n",
      "margin-loss         1.771 1.771\n",
      "micro-AUC           0.631 0.631\n",
      "micro-F1            0.571 0.571\n",
      "micro-precision     0.532 0.532\n",
      "micro-recall        0.618 0.618\n",
      "mlp                 0.000 0.000\n",
      "one-error           0.514 0.514\n",
      "precision           0.521 0.521\n",
      "ranking-loss        0.360 0.360\n",
      "recall              0.648 0.648\n",
      "subset-accuracy     0.029 0.029\n",
      "wlp                 0.000 0.000\n"
     ]
    }
   ],
   "source": [
    "# Show the predictions\n",
    "head(as.bipartition(pred))\n",
    "head(as.ranking(pred))\n",
    "\n",
    "# Apply a threshold\n",
    "newpred <- rcut_threshold(pred, 2)\n",
    "# Evaluate the models\n",
    "result <- multilabel_evaluate(ds$test, pred)\n",
    "thresres <- multilabel_evaluate(ds$test, pred)\n",
    "\n",
    "# Print the result\n",
    "print(round(cbind(Default=result, RCUT=thresres), 3))"
   ]
  },
  {
   "cell_type": "markdown",
   "metadata": {},
   "source": [
    "<a class=\"list-group-item list-group-item-action\" data-toggle=\"list\" href=\"#Classification\" role=\"tab\" aria-controls=\"profile\">Go to top<span class=\"badge badge-primary badge-pill\"></span></a>"
   ]
  },
  {
   "cell_type": "markdown",
   "metadata": {},
   "source": [
    "## Classifier Chains\n",
    "**A chain of binary classifiers C0, C1, . . . , Cn is constructed**, where a classifier Ci uses the predictions of all the classifier Cj , where j < i. This way the method, also called classifier chains (CC), can take into account label correlations.<br.<br>\n",
    "**The total number of classifiers needed for this approach is equal to the number of classes**, but the training of the classifiers is more involved.\n",
    "Following is an illustrated example with a classification problem of three categories {C1, C2, C3} chained in that order."
   ]
  },
  {
   "attachments": {
    "Classifier%20Chains.png": {
     "image/png": "[encoded data removed]"
    }
   },
   "cell_type": "markdown",
   "metadata": {},
   "source": [
    "![Classifier%20Chains.png](attachment:Classifier%20Chains.png)"
   ]
  },
  {
   "cell_type": "code",
   "execution_count": null,
   "metadata": {},
   "outputs": [],
   "source": [
    "# install.packages(c(\"mlr\", \"OpenML\"))\n",
    "# install.packages(\"farff\")\n",
    "# library(mlr)\n",
    "# library(OpenML)\n",
    "# library(farff)\n",
    "# other way wo installation\n",
    "# install.packages(\"mlr\", repos=c(\"http://rstudio.org/_packages\", \"http://cran.rstudio.com\",dependencies=TRUE)) "
   ]
  },
  {
   "cell_type": "code",
   "execution_count": 105,
   "metadata": {},
   "outputs": [
    {
     "data": {
      "text/plain": [
       "OpenML configuration:\n",
       "  server           : http://www.openml.org/api/v1\n",
       "  cachedir         : C:\\Users\\himanshu\\AppData\\Local\\Temp\\RtmpWAJrCY/cache\n",
       "  verbosity        : 1\n",
       "  arff.reader      : farff\n",
       "  confirm.upload   : TRUE\n",
       "  apikey           : ***************************47f1f"
      ]
     },
     "metadata": {},
     "output_type": "display_data"
    },
    {
     "name": "stderr",
     "output_type": "stream",
     "text": [
      "Data '40595' file 'description.xml' found in cache.\n",
      "Data '40595' file 'dataset.arff' found in cache.\n",
      "Loading required package: readr\n"
     ]
    },
    {
     "data": {
      "text/html": [
       "<table>\n",
       "<thead><tr><th></th><th scope=col>Att1</th><th scope=col>Att2</th><th scope=col>Beach</th><th scope=col>Sunset</th><th scope=col>FallFoliage</th><th scope=col>Field</th><th scope=col>Mountain</th><th scope=col>Urban</th></tr></thead>\n",
       "<tbody>\n",
       "\t<tr><th scope=row>0</th><td>0.646467</td><td>0.666435</td><td>TRUE    </td><td>FALSE   </td><td>FALSE   </td><td>FALSE   </td><td> TRUE   </td><td>FALSE   </td></tr>\n",
       "\t<tr><th scope=row>1</th><td>0.770156</td><td>0.767255</td><td>TRUE    </td><td>FALSE   </td><td>FALSE   </td><td>FALSE   </td><td>FALSE   </td><td> TRUE   </td></tr>\n",
       "\t<tr><th scope=row>2</th><td>0.793984</td><td>0.772096</td><td>TRUE    </td><td>FALSE   </td><td>FALSE   </td><td>FALSE   </td><td>FALSE   </td><td>FALSE   </td></tr>\n",
       "\t<tr><th scope=row>3</th><td>0.938563</td><td>0.949260</td><td>TRUE    </td><td>FALSE   </td><td>FALSE   </td><td>FALSE   </td><td>FALSE   </td><td>FALSE   </td></tr>\n",
       "\t<tr><th scope=row>4</th><td>0.512130</td><td>0.524684</td><td>TRUE    </td><td>FALSE   </td><td>FALSE   </td><td>FALSE   </td><td>FALSE   </td><td>FALSE   </td></tr>\n",
       "\t<tr><th scope=row>5</th><td>0.824623</td><td>0.886845</td><td>TRUE    </td><td>FALSE   </td><td>FALSE   </td><td>FALSE   </td><td>FALSE   </td><td>FALSE   </td></tr>\n",
       "</tbody>\n",
       "</table>\n"
      ],
      "text/latex": [
       "\\begin{tabular}{r|llllllll}\n",
       "  & Att1 & Att2 & Beach & Sunset & FallFoliage & Field & Mountain & Urban\\\\\n",
       "\\hline\n",
       "\t0 & 0.646467 & 0.666435 & TRUE     & FALSE    & FALSE    & FALSE    &  TRUE    & FALSE   \\\\\n",
       "\t1 & 0.770156 & 0.767255 & TRUE     & FALSE    & FALSE    & FALSE    & FALSE    &  TRUE   \\\\\n",
       "\t2 & 0.793984 & 0.772096 & TRUE     & FALSE    & FALSE    & FALSE    & FALSE    & FALSE   \\\\\n",
       "\t3 & 0.938563 & 0.949260 & TRUE     & FALSE    & FALSE    & FALSE    & FALSE    & FALSE   \\\\\n",
       "\t4 & 0.512130 & 0.524684 & TRUE     & FALSE    & FALSE    & FALSE    & FALSE    & FALSE   \\\\\n",
       "\t5 & 0.824623 & 0.886845 & TRUE     & FALSE    & FALSE    & FALSE    & FALSE    & FALSE   \\\\\n",
       "\\end{tabular}\n"
      ],
      "text/markdown": [
       "\n",
       "| <!--/--> | Att1 | Att2 | Beach | Sunset | FallFoliage | Field | Mountain | Urban |\n",
       "|---|---|---|---|---|---|---|---|---|\n",
       "| 0 | 0.646467 | 0.666435 | TRUE     | FALSE    | FALSE    | FALSE    |  TRUE    | FALSE    |\n",
       "| 1 | 0.770156 | 0.767255 | TRUE     | FALSE    | FALSE    | FALSE    | FALSE    |  TRUE    |\n",
       "| 2 | 0.793984 | 0.772096 | TRUE     | FALSE    | FALSE    | FALSE    | FALSE    | FALSE    |\n",
       "| 3 | 0.938563 | 0.949260 | TRUE     | FALSE    | FALSE    | FALSE    | FALSE    | FALSE    |\n",
       "| 4 | 0.512130 | 0.524684 | TRUE     | FALSE    | FALSE    | FALSE    | FALSE    | FALSE    |\n",
       "| 5 | 0.824623 | 0.886845 | TRUE     | FALSE    | FALSE    | FALSE    | FALSE    | FALSE    |\n",
       "\n"
      ],
      "text/plain": [
       "  Att1     Att2     Beach Sunset FallFoliage Field Mountain Urban\n",
       "0 0.646467 0.666435 TRUE  FALSE  FALSE       FALSE  TRUE    FALSE\n",
       "1 0.770156 0.767255 TRUE  FALSE  FALSE       FALSE FALSE     TRUE\n",
       "2 0.793984 0.772096 TRUE  FALSE  FALSE       FALSE FALSE    FALSE\n",
       "3 0.938563 0.949260 TRUE  FALSE  FALSE       FALSE FALSE    FALSE\n",
       "4 0.512130 0.524684 TRUE  FALSE  FALSE       FALSE FALSE    FALSE\n",
       "5 0.824623 0.886845 TRUE  FALSE  FALSE       FALSE FALSE    FALSE"
      ]
     },
     "metadata": {},
     "output_type": "display_data"
    }
   ],
   "source": [
    "setOMLConfig(apikey = \"c1994bdb7ecb3c6f3c8f3b35f4b47f1f\") #read only api key\n",
    "oml.id = listOMLDataSets(tag = \"2016_multilabel_r_benchmark_paper\")$data.id\n",
    "scene = getOMLDataSet(data.id = oml.id[8])\n",
    "target = scene$target.features\n",
    "feats = setdiff(colnames(scene$data), target)\n",
    "head(scene$data[, c(feats[1], feats[2], target)])"
   ]
  },
  {
   "cell_type": "markdown",
   "metadata": {},
   "source": [
    "As you can see above, one defining property of a multilabel dataset is, that the target variables (which are called labels) are binary. If you want to use your own data set, make sure to encode these variables in logical, where TRUE indicates the relevance of a label."
   ]
  },
  {
   "cell_type": "code",
   "execution_count": 107,
   "metadata": {},
   "outputs": [
    {
     "data": {
      "text/html": [
       "<ol class=list-inline>\n",
       "\t<li>'Beach'</li>\n",
       "\t<li>'Sunset'</li>\n",
       "\t<li>'FallFoliage'</li>\n",
       "\t<li>'Field'</li>\n",
       "\t<li>'Mountain'</li>\n",
       "\t<li>'Urban'</li>\n",
       "</ol>\n"
      ],
      "text/latex": [
       "\\begin{enumerate*}\n",
       "\\item 'Beach'\n",
       "\\item 'Sunset'\n",
       "\\item 'FallFoliage'\n",
       "\\item 'Field'\n",
       "\\item 'Mountain'\n",
       "\\item 'Urban'\n",
       "\\end{enumerate*}\n"
      ],
      "text/markdown": [
       "1. 'Beach'\n",
       "2. 'Sunset'\n",
       "3. 'FallFoliage'\n",
       "4. 'Field'\n",
       "5. 'Mountain'\n",
       "6. 'Urban'\n",
       "\n",
       "\n"
      ],
      "text/plain": [
       "[1] \"Beach\"       \"Sunset\"      \"FallFoliage\" \"Field\"       \"Mountain\"   \n",
       "[6] \"Urban\"      "
      ]
     },
     "metadata": {},
     "output_type": "display_data"
    }
   ],
   "source": [
    "set.seed(1729)\n",
    "target\n",
    "scene.task = makeMultilabelTask(data = scene$data, target = target)"
   ]
  },
  {
   "cell_type": "code",
   "execution_count": null,
   "metadata": {},
   "outputs": [],
   "source": [
    "binary.learner = makeLearner(\"classif.rpart\")\n",
    "lrncc = makeMultilabelClassifierChainsWrapper(binary.learner)"
   ]
  },
  {
   "cell_type": "code",
   "execution_count": null,
   "metadata": {},
   "outputs": [],
   "source": [
    "n = getTaskSize(scene.task)\n",
    "train.set = seq(1, n, by = 2)\n",
    "test.set = seq(2, n, by = 2)\n",
    "\n",
    "scene.mod.cc = train(lrncc, scene.task, subset = train.set)\n",
    "scene.pred.cc = predict(scene.mod.cc, task = scene.task, subset = test.set)"
   ]
  },
  {
   "cell_type": "code",
   "execution_count": 125,
   "metadata": {},
   "outputs": [
    {
     "data": {
      "text/html": [
       "<ol class=list-inline>\n",
       "\t<li>'featperc'</li>\n",
       "\t<li>'multilabel.tpr'</li>\n",
       "\t<li>'multilabel.hamloss'</li>\n",
       "\t<li>'multilabel.subset01'</li>\n",
       "\t<li>'timeboth'</li>\n",
       "\t<li>'timetrain'</li>\n",
       "\t<li>'timepredict'</li>\n",
       "\t<li>'multilabel.ppv'</li>\n",
       "\t<li>'multilabel.f1'</li>\n",
       "\t<li>'multilabel.acc'</li>\n",
       "</ol>\n"
      ],
      "text/latex": [
       "\\begin{enumerate*}\n",
       "\\item 'featperc'\n",
       "\\item 'multilabel.tpr'\n",
       "\\item 'multilabel.hamloss'\n",
       "\\item 'multilabel.subset01'\n",
       "\\item 'timeboth'\n",
       "\\item 'timetrain'\n",
       "\\item 'timepredict'\n",
       "\\item 'multilabel.ppv'\n",
       "\\item 'multilabel.f1'\n",
       "\\item 'multilabel.acc'\n",
       "\\end{enumerate*}\n"
      ],
      "text/markdown": [
       "1. 'featperc'\n",
       "2. 'multilabel.tpr'\n",
       "3. 'multilabel.hamloss'\n",
       "4. 'multilabel.subset01'\n",
       "5. 'timeboth'\n",
       "6. 'timetrain'\n",
       "7. 'timepredict'\n",
       "8. 'multilabel.ppv'\n",
       "9. 'multilabel.f1'\n",
       "10. 'multilabel.acc'\n",
       "\n",
       "\n"
      ],
      "text/plain": [
       " [1] \"featperc\"            \"multilabel.tpr\"      \"multilabel.hamloss\" \n",
       " [4] \"multilabel.subset01\" \"timeboth\"            \"timetrain\"          \n",
       " [7] \"timepredict\"         \"multilabel.ppv\"      \"multilabel.f1\"      \n",
       "[10] \"multilabel.acc\"     "
      ]
     },
     "metadata": {},
     "output_type": "display_data"
    }
   ],
   "source": [
    "listMeasures(\"multilabel\")"
   ]
  },
  {
   "cell_type": "code",
   "execution_count": 110,
   "metadata": {},
   "outputs": [
    {
     "data": {
      "text/html": [
       "<dl class=dl-horizontal>\n",
       "\t<dt>multilabel.hamloss</dt>\n",
       "\t\t<dd>0.131892490994735</dd>\n",
       "\t<dt>multilabel.subset01</dt>\n",
       "\t\t<dd>0.488778054862843</dd>\n",
       "\t<dt>multilabel.f1</dt>\n",
       "\t\t<dd>0.578525907453588</dd>\n",
       "\t<dt>multilabel.acc</dt>\n",
       "\t\t<dd>0.56137434192297</dd>\n",
       "</dl>\n"
      ],
      "text/latex": [
       "\\begin{description*}\n",
       "\\item[multilabel.hamloss] 0.131892490994735\n",
       "\\item[multilabel.subset01] 0.488778054862843\n",
       "\\item[multilabel.f1] 0.578525907453588\n",
       "\\item[multilabel.acc] 0.56137434192297\n",
       "\\end{description*}\n"
      ],
      "text/markdown": [
       "multilabel.hamloss\n",
       ":   0.131892490994735multilabel.subset01\n",
       ":   0.488778054862843multilabel.f1\n",
       ":   0.578525907453588multilabel.acc\n",
       ":   0.56137434192297\n",
       "\n"
      ],
      "text/plain": [
       " multilabel.hamloss multilabel.subset01       multilabel.f1      multilabel.acc \n",
       "          0.1318925           0.4887781           0.5785259           0.5613743 "
      ]
     },
     "metadata": {},
     "output_type": "display_data"
    }
   ],
   "source": [
    "performance(scene.pred.cc, measures = list(multilabel.hamloss, multilabel.subset01, multilabel.f1, multilabel.acc))"
   ]
  },
  {
   "cell_type": "code",
   "execution_count": 123,
   "metadata": {},
   "outputs": [
    {
     "data": {
      "text/plain": [
       "Prediction: 1203 observations\n",
       "predict.type: response\n",
       "threshold: \n",
       "time: 0.20\n",
       "   id truth.Beach truth.Sunset truth.FallFoliage truth.Field truth.Mountain\n",
       "1   2        TRUE        FALSE             FALSE       FALSE          FALSE\n",
       "3   4        TRUE        FALSE             FALSE       FALSE          FALSE\n",
       "5   6        TRUE        FALSE             FALSE       FALSE          FALSE\n",
       "7   8        TRUE        FALSE             FALSE       FALSE           TRUE\n",
       "9  10        TRUE        FALSE             FALSE       FALSE          FALSE\n",
       "11 12        TRUE        FALSE             FALSE       FALSE           TRUE\n",
       "   truth.Urban response.Beach response.Sunset response.FallFoliage\n",
       "1         TRUE          FALSE           FALSE                FALSE\n",
       "3        FALSE          FALSE           FALSE                FALSE\n",
       "5        FALSE          FALSE           FALSE                FALSE\n",
       "7        FALSE           TRUE           FALSE                FALSE\n",
       "9        FALSE          FALSE           FALSE                FALSE\n",
       "11       FALSE          FALSE           FALSE                FALSE\n",
       "   response.Field response.Mountain response.Urban\n",
       "1           FALSE             FALSE          FALSE\n",
       "3           FALSE             FALSE           TRUE\n",
       "5           FALSE             FALSE          FALSE\n",
       "7           FALSE             FALSE           TRUE\n",
       "9           FALSE              TRUE          FALSE\n",
       "11          FALSE             FALSE          FALSE\n",
       "... (#rows: 1203, #cols: 13)"
      ]
     },
     "metadata": {},
     "output_type": "display_data"
    }
   ],
   "source": [
    "scene.pred.cc"
   ]
  },
  {
   "cell_type": "markdown",
   "metadata": {},
   "source": [
    "<a class=\"list-group-item list-group-item-action\" data-toggle=\"list\" href=\"#Classification\" role=\"tab\" aria-controls=\"profile\">Go to top<span class=\"badge badge-primary badge-pill\"></span></a>"
   ]
  },
  {
   "cell_type": "markdown",
   "metadata": {},
   "source": [
    "# Hyperparameter Tuning"
   ]
  },
  {
   "cell_type": "markdown",
   "metadata": {},
   "source": [
    "<a id = \"1\"></a>"
   ]
  },
  {
   "cell_type": "markdown",
   "metadata": {},
   "source": [
    "# Grid Search\n",
    "Grid-searching is the process of scanning the data to configure optimal parameters for a given model. Depending on the type of model utilized, certain parameters are necessary. Grid-searching does NOT only apply to one model type. Grid-searching can be applied across machine learning to calculate the best parameters to use for any given model.\n",
    "\n",
    "It is important to note that Grid-searching can be extremely computationally expensive and may take your machine quite a long time to run. Grid-Search will build a model on each parameter combination possible. It iterates through every parameter combination and stores a model for each combination.\n",
    "\n",
    "**Note:** Here Grid search is demonstrated for only one model but it can be replicated across all the model with changing its respective hyperparametersm\n",
    "    \n",
    "\n",
    "\n",
    "**Cross Validation**<br>\n",
    "The technique of cross validation (CV) is best explained by example using the most common method, K-Fold CV. When we approach a machine learning problem, we make sure to split our data into a training and a testing set. In K-Fold CV, we further split our training set into K number of subsets, called folds. We then iteratively fit the model K times, each time training the data on K-1 of the folds and evaluating on the Kth fold (called the validation data). As an example, consider fitting a model with K = 5. The first iteration we train on the first four folds and evaluate on the fifth. The second time we train on the first, second, third, and fifth fold and evaluate on the fourth. We repeat this procedure 3 more times, each time evaluating on a different fold. At the very end of training, we average the performance on each of the folds to come up with final validation metrics for the model."
   ]
  },
  {
   "attachments": {
    "CV.PNG": {
     "image/png": "[encoded data removed]"
    }
   },
   "cell_type": "markdown",
   "metadata": {},
   "source": [
    "![CV.PNG](attachment:CV.PNG)\n",
    "\n",
    "For hyperparameter tuning, we perform many iterations of the entire K-Fold CV process, each time using different model settings. We then compare all of the models, select the best one, train it on the full training set, and then evaluate on the testing set. This sounds like an awfully tedious process! Each time we want to assess a different set of hyperparameters, we have to split our training data into K fold and train and evaluate K times. If we have 10 sets of hyperparameters and are using 5-Fold CV, that represents 50 training loops."
   ]
  },
  {
   "cell_type": "code",
   "execution_count": 101,
   "metadata": {
    "scrolled": true
   },
   "outputs": [
    {
     "data": {
      "text/plain": [
       "Random Forest \n",
       "\n",
       "47 samples\n",
       " 4 predictor\n",
       " 4 classes: '1', '2', '3', '4' \n",
       "\n",
       "No pre-processing\n",
       "Resampling: Cross-Validated (10 fold, repeated 3 times) \n",
       "Summary of sample sizes: 43, 42, 42, 44, 40, 43, ... \n",
       "Resampling results:\n",
       "\n",
       "  Accuracy   Kappa    \n",
       "  0.9494444  0.9179714\n",
       "\n",
       "Tuning parameter 'mtry' was held constant at a value of 2.236068"
      ]
     },
     "metadata": {},
     "output_type": "display_data"
    }
   ],
   "source": [
    "alpha=0.8\n",
    "d = sort(sample(nrow(fruit), nrow(fruit)*alpha))\n",
    "x = fruit[d,]\n",
    "y = fruit[-d,]\n",
    "\n",
    "#10 folds repeat 3 times\n",
    "control <- trainControl(method='repeatedcv', \n",
    "                        number=10, \n",
    "                        repeats=3,\n",
    "                        search = \"grid\")\n",
    "#Metric compare model is Accuracy\n",
    "metric <- \"Accuracy\"\n",
    "set.seed(0)\n",
    "#Number randomely variable selected is mtry\n",
    "mtry <- sqrt(ncol(x))\n",
    "tunegrid <- expand.grid(.mtry=mtry)\n",
    "rf_default <- train(fruit_label~., \n",
    "                      data=x, \n",
    "                      method='rf', \n",
    "                      metric='Accuracy', \n",
    "                      tuneGrid=tunegrid, \n",
    "                      trControl=control)\n",
    "rf_default"
   ]
  },
  {
   "cell_type": "markdown",
   "metadata": {},
   "source": [
    "<a class=\"list-group-item list-group-item-action\" data-toggle=\"list\" href=\"#Classification\" role=\"tab\" aria-controls=\"profile\">Go to top<span class=\"badge badge-primary badge-pill\"></span></a>"
   ]
  },
  {
   "cell_type": "markdown",
   "metadata": {},
   "source": [
    "<a id = \"2\"></a>"
   ]
  },
  {
   "cell_type": "markdown",
   "metadata": {},
   "source": [
    "## Random Search Cross Validation"
   ]
  },
  {
   "cell_type": "code",
   "execution_count": 102,
   "metadata": {},
   "outputs": [
    {
     "data": {
      "text/plain": [
       "Random Forest \n",
       "\n",
       "47 samples\n",
       " 4 predictor\n",
       " 4 classes: '1', '2', '3', '4' \n",
       "\n",
       "No pre-processing\n",
       "Resampling: Cross-Validated (10 fold, repeated 3 times) \n",
       "Summary of sample sizes: 43, 42, 42, 43, 43, 43, ... \n",
       "Resampling results:\n",
       "\n",
       "  Accuracy   Kappa    \n",
       "  0.9466667  0.9241236\n",
       "\n",
       "Tuning parameter 'mtry' was held constant at a value of 2.236068"
      ]
     },
     "metadata": {},
     "output_type": "display_data"
    }
   ],
   "source": [
    "alpha=0.8\n",
    "d = sort(sample(nrow(fruit), nrow(fruit)*alpha))\n",
    "x = fruit[d,]\n",
    "y = fruit[-d,]\n",
    "\n",
    "#10 folds repeat 3 times\n",
    "control <- trainControl(method='repeatedcv', \n",
    "                        number=10, \n",
    "                        repeats=3,\n",
    "                        search = \"random\")\n",
    "#Metric compare model is Accuracy\n",
    "metric <- \"Accuracy\"\n",
    "set.seed(0)\n",
    "#Number randomely variable selected is mtry\n",
    "mtry <- sqrt(ncol(x))\n",
    "tunegrid <- expand.grid(.mtry=mtry)\n",
    "rf_default <- train(fruit_label~., \n",
    "                      data=x, \n",
    "                      method='rf', \n",
    "                      metric='Accuracy', \n",
    "                      tuneGrid=tunegrid, \n",
    "                      trControl=control)\n",
    "rf_default"
   ]
  },
  {
   "cell_type": "markdown",
   "metadata": {},
   "source": [
    "<a class=\"list-group-item list-group-item-action\" data-toggle=\"list\" href=\"#Classification\" role=\"tab\" aria-controls=\"profile\">Go to top<span class=\"badge badge-primary badge-pill\"></span></a>"
   ]
  }
 ],
 "metadata": {
  "kernelspec": {
   "display_name": "Python 3",
   "language": "python",
   "name": "python3"
  },
  "language_info": {
   "codemirror_mode": {
    "name": "ipython",
    "version": 3
   },
   "file_extension": ".py",
   "mimetype": "text/x-python",
   "name": "python",
   "nbconvert_exporter": "python",
   "pygments_lexer": "ipython3",
   "version": "3.7.6"
  }
 },
 "nbformat": 4,
 "nbformat_minor": 4
}
